{
  "nbformat": 4,
  "nbformat_minor": 0,
  "metadata": {
    "colab": {
      "provenance": [],
      "mount_file_id": "1KYzfQxD6ECT56BTxhHEqa9dzkT-D9HE_",
      "authorship_tag": "ABX9TyO0lrXcTP4CKz5TGbnRJj7B",
      "include_colab_link": true
    },
    "kernelspec": {
      "name": "python3",
      "display_name": "Python 3"
    },
    "language_info": {
      "name": "python"
    }
  },
  "cells": [
    {
      "cell_type": "markdown",
      "metadata": {
        "id": "view-in-github",
        "colab_type": "text"
      },
      "source": [
        "<a href=\"https://colab.research.google.com/github/Eundis/bigdatamarketing2023/blob/main/20230816.ipynb\" target=\"_parent\"><img src=\"https://colab.research.google.com/assets/colab-badge.svg\" alt=\"Open In Colab\"/></a>"
      ]
    },
    {
      "cell_type": "code",
      "execution_count": 9,
      "metadata": {
        "colab": {
          "base_uri": "https://localhost:8080/"
        },
        "id": "RfjRmcRxxSCR",
        "outputId": "d403dca4-a2ad-492d-ea89-7f350277e7c9"
      },
      "outputs": [
        {
          "output_type": "stream",
          "name": "stdout",
          "text": [
            "hello world\n"
          ]
        }
      ],
      "source": [
        "print(\"hello world\")"
      ]
    },
    {
      "cell_type": "code",
      "source": [
        "a = 'python'\n"
      ],
      "metadata": {
        "id": "3cm-xc7x2DPy"
      },
      "execution_count": 10,
      "outputs": []
    },
    {
      "cell_type": "code",
      "source": [
        "a"
      ],
      "metadata": {
        "colab": {
          "base_uri": "https://localhost:8080/",
          "height": 35
        },
        "id": "kKYALqGw2txB",
        "outputId": "0eb463ba-2690-4564-cab6-ca8877560a52"
      },
      "execution_count": 11,
      "outputs": [
        {
          "output_type": "execute_result",
          "data": {
            "text/plain": [
              "'python'"
            ],
            "application/vnd.google.colaboratory.intrinsic+json": {
              "type": "string"
            }
          },
          "metadata": {},
          "execution_count": 11
        }
      ]
    },
    {
      "cell_type": "code",
      "source": [
        "a = 123"
      ],
      "metadata": {
        "id": "qAr0k55B2yF4"
      },
      "execution_count": 12,
      "outputs": []
    },
    {
      "cell_type": "code",
      "source": [
        "a"
      ],
      "metadata": {
        "colab": {
          "base_uri": "https://localhost:8080/"
        },
        "id": "UvFMfbaJ20tB",
        "outputId": "61a1250d-fca8-4b7e-c1e2-0134659f0693"
      },
      "execution_count": 13,
      "outputs": [
        {
          "output_type": "execute_result",
          "data": {
            "text/plain": [
              "123"
            ]
          },
          "metadata": {},
          "execution_count": 13
        }
      ]
    },
    {
      "cell_type": "code",
      "source": [
        "print(a)"
      ],
      "metadata": {
        "colab": {
          "base_uri": "https://localhost:8080/"
        },
        "id": "lZMBDOe121MZ",
        "outputId": "715c2cec-4c1b-4960-f04a-5d1a2769a38d"
      },
      "execution_count": 14,
      "outputs": [
        {
          "output_type": "stream",
          "name": "stdout",
          "text": [
            "123\n"
          ]
        }
      ]
    },
    {
      "cell_type": "code",
      "source": [
        "del a"
      ],
      "metadata": {
        "id": "RpU3QOrJ3BLf"
      },
      "execution_count": 15,
      "outputs": []
    },
    {
      "cell_type": "code",
      "source": [
        "a = 1\n",
        "b =4"
      ],
      "metadata": {
        "id": "XmC0-VW33Ovh"
      },
      "execution_count": 16,
      "outputs": []
    },
    {
      "cell_type": "code",
      "source": [
        "a+b"
      ],
      "metadata": {
        "colab": {
          "base_uri": "https://localhost:8080/"
        },
        "id": "qwF7LIEt3eBc",
        "outputId": "7caf81db-c7c1-4ddf-e0af-8e98e16cb40d"
      },
      "execution_count": 17,
      "outputs": [
        {
          "output_type": "execute_result",
          "data": {
            "text/plain": [
              "5"
            ]
          },
          "metadata": {},
          "execution_count": 17
        }
      ]
    },
    {
      "cell_type": "code",
      "source": [
        "a*b"
      ],
      "metadata": {
        "colab": {
          "base_uri": "https://localhost:8080/"
        },
        "id": "dl2SurqV3fLt",
        "outputId": "dc2e9c6c-1bdc-4441-f2d9-98ab5bd9eb14"
      },
      "execution_count": 18,
      "outputs": [
        {
          "output_type": "execute_result",
          "data": {
            "text/plain": [
              "4"
            ]
          },
          "metadata": {},
          "execution_count": 18
        }
      ]
    },
    {
      "cell_type": "code",
      "source": [
        "a-b"
      ],
      "metadata": {
        "colab": {
          "base_uri": "https://localhost:8080/"
        },
        "id": "sIm6OAqX3gjb",
        "outputId": "a0ebe5b1-1276-4dca-ddce-6d3901c2f9be"
      },
      "execution_count": 19,
      "outputs": [
        {
          "output_type": "execute_result",
          "data": {
            "text/plain": [
              "-3"
            ]
          },
          "metadata": {},
          "execution_count": 19
        }
      ]
    },
    {
      "cell_type": "code",
      "source": [
        "c = 'python'\n",
        "d = len(c)"
      ],
      "metadata": {
        "id": "0ZCnek5l3hli"
      },
      "execution_count": 20,
      "outputs": []
    },
    {
      "cell_type": "code",
      "source": [
        "a-d"
      ],
      "metadata": {
        "colab": {
          "base_uri": "https://localhost:8080/"
        },
        "id": "7oFs-ClZ37Co",
        "outputId": "9c6e4a83-4a52-4233-d69e-a5f2b62fa125"
      },
      "execution_count": 21,
      "outputs": [
        {
          "output_type": "execute_result",
          "data": {
            "text/plain": [
              "-5"
            ]
          },
          "metadata": {},
          "execution_count": 21
        }
      ]
    },
    {
      "cell_type": "code",
      "source": [
        "d"
      ],
      "metadata": {
        "colab": {
          "base_uri": "https://localhost:8080/"
        },
        "id": "_jpeS5Hr38lP",
        "outputId": "81f6d16a-4e66-4955-8ae2-ef2c16ecab92"
      },
      "execution_count": 22,
      "outputs": [
        {
          "output_type": "execute_result",
          "data": {
            "text/plain": [
              "6"
            ]
          },
          "metadata": {},
          "execution_count": 22
        }
      ]
    },
    {
      "cell_type": "code",
      "source": [
        "type(c)"
      ],
      "metadata": {
        "colab": {
          "base_uri": "https://localhost:8080/"
        },
        "id": "IoyPD3qZ3-Q7",
        "outputId": "c5da0a5b-75b7-4104-f441-4f465454ee08"
      },
      "execution_count": 23,
      "outputs": [
        {
          "output_type": "execute_result",
          "data": {
            "text/plain": [
              "str"
            ]
          },
          "metadata": {},
          "execution_count": 23
        }
      ]
    },
    {
      "cell_type": "code",
      "source": [
        "type(a)"
      ],
      "metadata": {
        "colab": {
          "base_uri": "https://localhost:8080/"
        },
        "id": "l1wbi7Qf4BgN",
        "outputId": "93588ff9-571f-41af-da43-3395344baf13"
      },
      "execution_count": 24,
      "outputs": [
        {
          "output_type": "execute_result",
          "data": {
            "text/plain": [
              "int"
            ]
          },
          "metadata": {},
          "execution_count": 24
        }
      ]
    },
    {
      "cell_type": "code",
      "source": [
        "a = 123.1"
      ],
      "metadata": {
        "id": "f--fuEz84yFr"
      },
      "execution_count": 25,
      "outputs": []
    },
    {
      "cell_type": "code",
      "source": [
        "type(a)"
      ],
      "metadata": {
        "colab": {
          "base_uri": "https://localhost:8080/"
        },
        "id": "6JRSWXH842mC",
        "outputId": "46a08de2-d0a9-493e-a7c5-90a23d61b827"
      },
      "execution_count": 26,
      "outputs": [
        {
          "output_type": "execute_result",
          "data": {
            "text/plain": [
              "float"
            ]
          },
          "metadata": {},
          "execution_count": 26
        }
      ]
    },
    {
      "cell_type": "code",
      "source": [
        "print(\"ubion is the best\")"
      ],
      "metadata": {
        "colab": {
          "base_uri": "https://localhost:8080/"
        },
        "id": "-Xsb9xwg43qU",
        "outputId": "eabb3996-89d7-4c46-892d-03f5b46cdcca"
      },
      "execution_count": 27,
      "outputs": [
        {
          "output_type": "stream",
          "name": "stdout",
          "text": [
            "ubion is the best\n"
          ]
        }
      ]
    },
    {
      "cell_type": "code",
      "source": [
        "print(\"ubion isn't the best.\")"
      ],
      "metadata": {
        "colab": {
          "base_uri": "https://localhost:8080/"
        },
        "id": "4ce5H6yf4-oO",
        "outputId": "d9762a54-7112-48c5-9a78-fbd63d70ec91"
      },
      "execution_count": 28,
      "outputs": [
        {
          "output_type": "stream",
          "name": "stdout",
          "text": [
            "ubion isn't the best.\n"
          ]
        }
      ]
    },
    {
      "cell_type": "code",
      "source": [
        "print(\"ubion is the best. \\n ubion isn't the best.\")"
      ],
      "metadata": {
        "colab": {
          "base_uri": "https://localhost:8080/"
        },
        "id": "jbtXW9eN6PfT",
        "outputId": "9dfd1561-24b3-4ba0-e0b3-bf1dcf9e30c5"
      },
      "execution_count": 29,
      "outputs": [
        {
          "output_type": "stream",
          "name": "stdout",
          "text": [
            "ubion is the best. \n",
            " ubion isn't the best.\n"
          ]
        }
      ]
    },
    {
      "cell_type": "code",
      "source": [
        "print(\"r2: .89 Wn rmse: 0.024\")"
      ],
      "metadata": {
        "colab": {
          "base_uri": "https://localhost:8080/"
        },
        "id": "cnQoCWAy6eCb",
        "outputId": "d0d767d1-5954-4151-f998-29827dd4ab3c"
      },
      "execution_count": 30,
      "outputs": [
        {
          "output_type": "stream",
          "name": "stdout",
          "text": [
            "r2: .89 Wn rmse: 0.024\n"
          ]
        }
      ]
    },
    {
      "cell_type": "code",
      "source": [
        "a = \"ubion is the best.\"\n",
        "b = \"ubion isn't the best.\"\n",
        "\n",
        "print(a+b)"
      ],
      "metadata": {
        "colab": {
          "base_uri": "https://localhost:8080/"
        },
        "id": "cW_FEj4g60mB",
        "outputId": "9990b8d5-e0e1-45d1-b2bb-3d74526fe140"
      },
      "execution_count": 31,
      "outputs": [
        {
          "output_type": "stream",
          "name": "stdout",
          "text": [
            "ubion is the best.ubion isn't the best.\n"
          ]
        }
      ]
    },
    {
      "cell_type": "code",
      "source": [
        "a*20"
      ],
      "metadata": {
        "colab": {
          "base_uri": "https://localhost:8080/",
          "height": 71
        },
        "id": "mTAoeyD26_kh",
        "outputId": "d8f67408-87f4-4ec8-c288-fce25024d8d4"
      },
      "execution_count": 32,
      "outputs": [
        {
          "output_type": "execute_result",
          "data": {
            "text/plain": [
              "'ubion is the best.ubion is the best.ubion is the best.ubion is the best.ubion is the best.ubion is the best.ubion is the best.ubion is the best.ubion is the best.ubion is the best.ubion is the best.ubion is the best.ubion is the best.ubion is the best.ubion is the best.ubion is the best.ubion is the best.ubion is the best.ubion is the best.ubion is the best.'"
            ],
            "application/vnd.google.colaboratory.intrinsic+json": {
              "type": "string"
            }
          },
          "metadata": {},
          "execution_count": 32
        }
      ]
    },
    {
      "cell_type": "code",
      "source": [
        "\"-\" * 20"
      ],
      "metadata": {
        "colab": {
          "base_uri": "https://localhost:8080/",
          "height": 35
        },
        "id": "BiFa6fQe7Btc",
        "outputId": "f894625b-8277-4b46-8be8-4c215893f691"
      },
      "execution_count": 33,
      "outputs": [
        {
          "output_type": "execute_result",
          "data": {
            "text/plain": [
              "'--------------------'"
            ],
            "application/vnd.google.colaboratory.intrinsic+json": {
              "type": "string"
            }
          },
          "metadata": {},
          "execution_count": 33
        }
      ]
    },
    {
      "cell_type": "code",
      "source": [
        "print(\"-\" * 40)\n",
        "print(a+b)\n",
        "print(\"-\" * 40)"
      ],
      "metadata": {
        "colab": {
          "base_uri": "https://localhost:8080/"
        },
        "id": "T8RGc7FW7Lrk",
        "outputId": "a78fa77b-ba03-49b0-8929-a1ac9e8a16c7"
      },
      "execution_count": 34,
      "outputs": [
        {
          "output_type": "stream",
          "name": "stdout",
          "text": [
            "----------------------------------------\n",
            "ubion is the best.ubion isn't the best.\n",
            "----------------------------------------\n"
          ]
        }
      ]
    },
    {
      "cell_type": "code",
      "source": [
        "a[0:3]"
      ],
      "metadata": {
        "colab": {
          "base_uri": "https://localhost:8080/",
          "height": 35
        },
        "id": "YXhNRMXV7V-9",
        "outputId": "61c74286-1d60-4d92-b6d8-c75e6f52dbae"
      },
      "execution_count": 35,
      "outputs": [
        {
          "output_type": "execute_result",
          "data": {
            "text/plain": [
              "'ubi'"
            ],
            "application/vnd.google.colaboratory.intrinsic+json": {
              "type": "string"
            }
          },
          "metadata": {},
          "execution_count": 35
        }
      ]
    },
    {
      "cell_type": "code",
      "source": [
        "a[0:6]"
      ],
      "metadata": {
        "colab": {
          "base_uri": "https://localhost:8080/",
          "height": 35
        },
        "id": "vmG3RkBh7ySf",
        "outputId": "b605803a-0622-48fe-c783-037afa30e381"
      },
      "execution_count": 36,
      "outputs": [
        {
          "output_type": "execute_result",
          "data": {
            "text/plain": [
              "'ubion '"
            ],
            "application/vnd.google.colaboratory.intrinsic+json": {
              "type": "string"
            }
          },
          "metadata": {},
          "execution_count": 36
        }
      ]
    },
    {
      "cell_type": "code",
      "source": [
        "a = \"EunDS LEE\"[0:6]"
      ],
      "metadata": {
        "id": "iMCythEm72o1"
      },
      "execution_count": 37,
      "outputs": []
    },
    {
      "cell_type": "code",
      "source": [
        "\"EunDS LEE\"[-0:-4]"
      ],
      "metadata": {
        "colab": {
          "base_uri": "https://localhost:8080/",
          "height": 35
        },
        "id": "gAt2C-lO8LWE",
        "outputId": "4d331fc8-eb16-4d12-e1cf-de1370de03e7"
      },
      "execution_count": 38,
      "outputs": [
        {
          "output_type": "execute_result",
          "data": {
            "text/plain": [
              "'EunDS'"
            ],
            "application/vnd.google.colaboratory.intrinsic+json": {
              "type": "string"
            }
          },
          "metadata": {},
          "execution_count": 38
        }
      ]
    },
    {
      "cell_type": "code",
      "source": [
        "b = \"EunDS LEE\"[-3:9] #앞자리 숫자는 1부터 뒤에는 0부터 시작"
      ],
      "metadata": {
        "id": "tGKCwKq98bvc"
      },
      "execution_count": 39,
      "outputs": []
    },
    {
      "cell_type": "code",
      "source": [
        "name = a+b"
      ],
      "metadata": {
        "id": "IL0aynnx851Y"
      },
      "execution_count": 40,
      "outputs": []
    },
    {
      "cell_type": "code",
      "source": [
        "c = \" \""
      ],
      "metadata": {
        "id": "tG1fd8bi-c42"
      },
      "execution_count": 41,
      "outputs": []
    },
    {
      "cell_type": "code",
      "source": [
        "c.join(name)"
      ],
      "metadata": {
        "colab": {
          "base_uri": "https://localhost:8080/",
          "height": 35
        },
        "id": "yVorLjUq-sMk",
        "outputId": "ad9a274f-b6d9-4311-8b1c-c28f91a01cce"
      },
      "execution_count": 42,
      "outputs": [
        {
          "output_type": "execute_result",
          "data": {
            "text/plain": [
              "'E u n D S   L E E'"
            ],
            "application/vnd.google.colaboratory.intrinsic+json": {
              "type": "string"
            }
          },
          "metadata": {},
          "execution_count": 42
        }
      ]
    },
    {
      "cell_type": "code",
      "source": [
        "name.upper()  #대문자"
      ],
      "metadata": {
        "colab": {
          "base_uri": "https://localhost:8080/",
          "height": 35
        },
        "id": "B9nQ-Fd1-uf0",
        "outputId": "084b1758-d22d-4283-b497-553e31b6ff49"
      },
      "execution_count": 43,
      "outputs": [
        {
          "output_type": "execute_result",
          "data": {
            "text/plain": [
              "'EUNDS LEE'"
            ],
            "application/vnd.google.colaboratory.intrinsic+json": {
              "type": "string"
            }
          },
          "metadata": {},
          "execution_count": 43
        }
      ]
    },
    {
      "cell_type": "code",
      "source": [
        "d = name.lower()  #소문자  #.은 이 다음에 뭘 넣어라?의 의미?"
      ],
      "metadata": {
        "id": "4XWCFrgf-zWs"
      },
      "execution_count": 44,
      "outputs": []
    },
    {
      "cell_type": "code",
      "source": [
        "d"
      ],
      "metadata": {
        "colab": {
          "base_uri": "https://localhost:8080/",
          "height": 35
        },
        "id": "apDbrjWG-2Xb",
        "outputId": "7977c344-af15-45be-fcea-e11009d1132d"
      },
      "execution_count": 45,
      "outputs": [
        {
          "output_type": "execute_result",
          "data": {
            "text/plain": [
              "'eunds lee'"
            ],
            "application/vnd.google.colaboratory.intrinsic+json": {
              "type": "string"
            }
          },
          "metadata": {},
          "execution_count": 45
        }
      ]
    },
    {
      "cell_type": "code",
      "source": [
        "d[0].upper()+d[1:6]+d[6].upper()+d[7:11]"
      ],
      "metadata": {
        "colab": {
          "base_uri": "https://localhost:8080/",
          "height": 35
        },
        "id": "wVjTKVy5_IuC",
        "outputId": "593ec8c8-e6f3-40cd-ec2f-a438189441e2"
      },
      "execution_count": 46,
      "outputs": [
        {
          "output_type": "execute_result",
          "data": {
            "text/plain": [
              "'Eunds Lee'"
            ],
            "application/vnd.google.colaboratory.intrinsic+json": {
              "type": "string"
            }
          },
          "metadata": {},
          "execution_count": 46
        }
      ]
    },
    {
      "cell_type": "code",
      "source": [
        "name"
      ],
      "metadata": {
        "colab": {
          "base_uri": "https://localhost:8080/",
          "height": 35
        },
        "id": "lhdlsoL7_SB1",
        "outputId": "5478ea15-ed75-4cb2-f6cc-4d5f17a5a901"
      },
      "execution_count": 47,
      "outputs": [
        {
          "output_type": "execute_result",
          "data": {
            "text/plain": [
              "'EunDS LEE'"
            ],
            "application/vnd.google.colaboratory.intrinsic+json": {
              "type": "string"
            }
          },
          "metadata": {},
          "execution_count": 47
        }
      ]
    },
    {
      "cell_type": "code",
      "source": [
        "name.split()"
      ],
      "metadata": {
        "colab": {
          "base_uri": "https://localhost:8080/"
        },
        "id": "BElYdwAEFjNw",
        "outputId": "9f139fdc-dafb-4250-ec35-4e94a193f08d"
      },
      "execution_count": 48,
      "outputs": [
        {
          "output_type": "execute_result",
          "data": {
            "text/plain": [
              "['EunDS', 'LEE']"
            ]
          },
          "metadata": {},
          "execution_count": 48
        }
      ]
    },
    {
      "cell_type": "code",
      "source": [
        "name.replace(\"LEE\", \"lee\")"
      ],
      "metadata": {
        "colab": {
          "base_uri": "https://localhost:8080/",
          "height": 35
        },
        "id": "PZmuosyOFmYX",
        "outputId": "8cb6f651-fdc7-4f8d-b1e0-e908e2456374"
      },
      "execution_count": 49,
      "outputs": [
        {
          "output_type": "execute_result",
          "data": {
            "text/plain": [
              "'EunDS lee'"
            ],
            "application/vnd.google.colaboratory.intrinsic+json": {
              "type": "string"
            }
          },
          "metadata": {},
          "execution_count": 49
        }
      ]
    },
    {
      "cell_type": "code",
      "source": [
        "ubion = \"ubion is the best.ubion is the best.ubion is the best.ubion is the best.ubion is the best.ubion is the best.ubion is the best.ubion is the best.ubion is the best.ubion is the best.ubion is the best.ubion is the best.ubion is the best.ubion is the best.ubion is the best.ubion is the best.ubion is the best.ubion is the best.ubion is the best.ubion is the best.\""
      ],
      "metadata": {
        "id": "0jI4hmDVFrUy"
      },
      "execution_count": 50,
      "outputs": []
    },
    {
      "cell_type": "code",
      "source": [
        "ubion"
      ],
      "metadata": {
        "colab": {
          "base_uri": "https://localhost:8080/",
          "height": 71
        },
        "id": "RmKBLerxF91_",
        "outputId": "f50aa48e-1282-478d-9bf7-3203a7771d27"
      },
      "execution_count": 51,
      "outputs": [
        {
          "output_type": "execute_result",
          "data": {
            "text/plain": [
              "'ubion is the best.ubion is the best.ubion is the best.ubion is the best.ubion is the best.ubion is the best.ubion is the best.ubion is the best.ubion is the best.ubion is the best.ubion is the best.ubion is the best.ubion is the best.ubion is the best.ubion is the best.ubion is the best.ubion is the best.ubion is the best.ubion is the best.ubion is the best.'"
            ],
            "application/vnd.google.colaboratory.intrinsic+json": {
              "type": "string"
            }
          },
          "metadata": {},
          "execution_count": 51
        }
      ]
    },
    {
      "cell_type": "code",
      "source": [
        "ubion.split(\".\")"
      ],
      "metadata": {
        "colab": {
          "base_uri": "https://localhost:8080/"
        },
        "id": "8IGiNMYaF_bS",
        "outputId": "1c90d108-ba29-4948-dff8-54fa259d3df4"
      },
      "execution_count": 52,
      "outputs": [
        {
          "output_type": "execute_result",
          "data": {
            "text/plain": [
              "['ubion is the best',\n",
              " 'ubion is the best',\n",
              " 'ubion is the best',\n",
              " 'ubion is the best',\n",
              " 'ubion is the best',\n",
              " 'ubion is the best',\n",
              " 'ubion is the best',\n",
              " 'ubion is the best',\n",
              " 'ubion is the best',\n",
              " 'ubion is the best',\n",
              " 'ubion is the best',\n",
              " 'ubion is the best',\n",
              " 'ubion is the best',\n",
              " 'ubion is the best',\n",
              " 'ubion is the best',\n",
              " 'ubion is the best',\n",
              " 'ubion is the best',\n",
              " 'ubion is the best',\n",
              " 'ubion is the best',\n",
              " 'ubion is the best',\n",
              " '']"
            ]
          },
          "metadata": {},
          "execution_count": 52
        }
      ]
    },
    {
      "cell_type": "code",
      "source": [
        "article = \"기차 시장에서 경쟁이 계속 치열해지는 가운데, 테슬라가 미국에서 가격을 낮춘 모델S와 모델X 차량을 출시했다. 15일(현지시각) CNBC 등 외신에 따르면 테슬라는 웹삿이트를 통해 모델S와 모델X 저가형 버전 '스탠다드 레인지' 출시를 알렸다. 두 차량 가격은 일반 모델보다 1만달러(한화 약 1300만원) 저렴하다.\"\n",
        "article.split()"
      ],
      "metadata": {
        "colab": {
          "base_uri": "https://localhost:8080/"
        },
        "id": "lggwOZpjGPE0",
        "outputId": "ef3bdbe2-8946-46f4-d0f0-4d444c68c4aa"
      },
      "execution_count": 53,
      "outputs": [
        {
          "output_type": "execute_result",
          "data": {
            "text/plain": [
              "['기차',\n",
              " '시장에서',\n",
              " '경쟁이',\n",
              " '계속',\n",
              " '치열해지는',\n",
              " '가운데,',\n",
              " '테슬라가',\n",
              " '미국에서',\n",
              " '가격을',\n",
              " '낮춘',\n",
              " '모델S와',\n",
              " '모델X',\n",
              " '차량을',\n",
              " '출시했다.',\n",
              " '15일(현지시각)',\n",
              " 'CNBC',\n",
              " '등',\n",
              " '외신에',\n",
              " '따르면',\n",
              " '테슬라는',\n",
              " '웹삿이트를',\n",
              " '통해',\n",
              " '모델S와',\n",
              " '모델X',\n",
              " '저가형',\n",
              " '버전',\n",
              " \"'스탠다드\",\n",
              " \"레인지'\",\n",
              " '출시를',\n",
              " '알렸다.',\n",
              " '두',\n",
              " '차량',\n",
              " '가격은',\n",
              " '일반',\n",
              " '모델보다',\n",
              " '1만달러(한화',\n",
              " '약',\n",
              " '1300만원)',\n",
              " '저렴하다.']"
            ]
          },
          "metadata": {},
          "execution_count": 53
        }
      ]
    },
    {
      "cell_type": "code",
      "source": [
        "a = [1,2,3,4,5]  #대괄호 안에 있으면 list /\n",
        "a"
      ],
      "metadata": {
        "colab": {
          "base_uri": "https://localhost:8080/"
        },
        "id": "Sf5dLePeHG5L",
        "outputId": "4d57ea0d-80ce-481a-f193-97c65c39256c"
      },
      "execution_count": 54,
      "outputs": [
        {
          "output_type": "execute_result",
          "data": {
            "text/plain": [
              "[1, 2, 3, 4, 5]"
            ]
          },
          "metadata": {},
          "execution_count": 54
        }
      ]
    },
    {
      "cell_type": "code",
      "source": [
        "type(a)"
      ],
      "metadata": {
        "colab": {
          "base_uri": "https://localhost:8080/"
        },
        "id": "3Nvja-eWHyHP",
        "outputId": "bcd855d8-539e-4bfe-d55b-a60f4357d83b"
      },
      "execution_count": 55,
      "outputs": [
        {
          "output_type": "execute_result",
          "data": {
            "text/plain": [
              "list"
            ]
          },
          "metadata": {},
          "execution_count": 55
        }
      ]
    },
    {
      "cell_type": "code",
      "source": [
        "b = (1,2,3,4,5)\n",
        "b"
      ],
      "metadata": {
        "colab": {
          "base_uri": "https://localhost:8080/"
        },
        "id": "RgyhPB4OIC07",
        "outputId": "7ba5dd42-680b-4d3f-e339-3ca4cc81aa36"
      },
      "execution_count": 56,
      "outputs": [
        {
          "output_type": "execute_result",
          "data": {
            "text/plain": [
              "(1, 2, 3, 4, 5)"
            ]
          },
          "metadata": {},
          "execution_count": 56
        }
      ]
    },
    {
      "cell_type": "code",
      "source": [
        "type(b)"
      ],
      "metadata": {
        "colab": {
          "base_uri": "https://localhost:8080/"
        },
        "id": "i8d_TnQMIFTc",
        "outputId": "6dbd7091-1323-4cc1-cbec-9586e3d2e8cd"
      },
      "execution_count": 57,
      "outputs": [
        {
          "output_type": "execute_result",
          "data": {
            "text/plain": [
              "tuple"
            ]
          },
          "metadata": {},
          "execution_count": 57
        }
      ]
    },
    {
      "cell_type": "code",
      "source": [
        "print(a)\n",
        "a[2]"
      ],
      "metadata": {
        "colab": {
          "base_uri": "https://localhost:8080/"
        },
        "id": "mivDBYqqIIsW",
        "outputId": "ab8e5404-8cd0-4408-ce98-553184670f2b"
      },
      "execution_count": 58,
      "outputs": [
        {
          "output_type": "stream",
          "name": "stdout",
          "text": [
            "[1, 2, 3, 4, 5]\n"
          ]
        },
        {
          "output_type": "execute_result",
          "data": {
            "text/plain": [
              "3"
            ]
          },
          "metadata": {},
          "execution_count": 58
        }
      ]
    },
    {
      "cell_type": "code",
      "source": [
        "a[2] = 10"
      ],
      "metadata": {
        "id": "xKUdgDbAIVvT"
      },
      "execution_count": 59,
      "outputs": []
    },
    {
      "cell_type": "code",
      "source": [
        "print(b)\n",
        "b[2]"
      ],
      "metadata": {
        "colab": {
          "base_uri": "https://localhost:8080/"
        },
        "id": "Y0DOqUODIg4f",
        "outputId": "a97ca480-97fa-4258-bf29-86e44cfc00a2"
      },
      "execution_count": 60,
      "outputs": [
        {
          "output_type": "stream",
          "name": "stdout",
          "text": [
            "(1, 2, 3, 4, 5)\n"
          ]
        },
        {
          "output_type": "execute_result",
          "data": {
            "text/plain": [
              "3"
            ]
          },
          "metadata": {},
          "execution_count": 60
        }
      ]
    },
    {
      "cell_type": "code",
      "source": [
        "b[2] = 10\n",
        "b"
      ],
      "metadata": {
        "colab": {
          "base_uri": "https://localhost:8080/",
          "height": 199
        },
        "id": "1Qjf9bydIqdY",
        "outputId": "bc363df2-fb27-46bd-bfdb-83902fbc9ed4"
      },
      "execution_count": 62,
      "outputs": [
        {
          "output_type": "error",
          "ename": "TypeError",
          "evalue": "ignored",
          "traceback": [
            "\u001b[0;31m---------------------------------------------------------------------------\u001b[0m",
            "\u001b[0;31mTypeError\u001b[0m                                 Traceback (most recent call last)",
            "\u001b[0;32m<ipython-input-62-5b90dfb7bbad>\u001b[0m in \u001b[0;36m<cell line: 1>\u001b[0;34m()\u001b[0m\n\u001b[0;32m----> 1\u001b[0;31m \u001b[0mb\u001b[0m\u001b[0;34m[\u001b[0m\u001b[0;36m2\u001b[0m\u001b[0;34m]\u001b[0m \u001b[0;34m=\u001b[0m \u001b[0;36m10\u001b[0m\u001b[0;34m\u001b[0m\u001b[0;34m\u001b[0m\u001b[0m\n\u001b[0m\u001b[1;32m      2\u001b[0m \u001b[0mb\u001b[0m\u001b[0;34m\u001b[0m\u001b[0;34m\u001b[0m\u001b[0m\n",
            "\u001b[0;31mTypeError\u001b[0m: 'tuple' object does not support item assignment"
          ]
        }
      ]
    },
    {
      "cell_type": "code",
      "source": [
        "a*5"
      ],
      "metadata": {
        "colab": {
          "base_uri": "https://localhost:8080/"
        },
        "id": "2_r9ncUHIua7",
        "outputId": "ea4afb74-4fc8-4b01-973c-0c0cd07dbb65"
      },
      "execution_count": 63,
      "outputs": [
        {
          "output_type": "execute_result",
          "data": {
            "text/plain": [
              "[1,\n",
              " 2,\n",
              " 10,\n",
              " 4,\n",
              " 5,\n",
              " 1,\n",
              " 2,\n",
              " 10,\n",
              " 4,\n",
              " 5,\n",
              " 1,\n",
              " 2,\n",
              " 10,\n",
              " 4,\n",
              " 5,\n",
              " 1,\n",
              " 2,\n",
              " 10,\n",
              " 4,\n",
              " 5,\n",
              " 1,\n",
              " 2,\n",
              " 10,\n",
              " 4,\n",
              " 5]"
            ]
          },
          "metadata": {},
          "execution_count": 63
        }
      ]
    },
    {
      "cell_type": "code",
      "source": [
        "a.append(1)  #붙여주는거\n",
        "a"
      ],
      "metadata": {
        "colab": {
          "base_uri": "https://localhost:8080/"
        },
        "id": "5uoGLVknJW_R",
        "outputId": "4e87dd98-aae6-44aa-81b0-7263c3732695"
      },
      "execution_count": 64,
      "outputs": [
        {
          "output_type": "execute_result",
          "data": {
            "text/plain": [
              "[1, 2, 10, 4, 5, 1]"
            ]
          },
          "metadata": {},
          "execution_count": 64
        }
      ]
    },
    {
      "cell_type": "code",
      "source": [
        "a.sort()  #오름차순으로 정리"
      ],
      "metadata": {
        "id": "Q3GSVCvzJbFI"
      },
      "execution_count": 65,
      "outputs": []
    },
    {
      "cell_type": "code",
      "source": [
        "a"
      ],
      "metadata": {
        "colab": {
          "base_uri": "https://localhost:8080/"
        },
        "id": "adXAW__7Jmek",
        "outputId": "28d3f79b-6267-4c9b-c4a0-12729707f9db"
      },
      "execution_count": 66,
      "outputs": [
        {
          "output_type": "execute_result",
          "data": {
            "text/plain": [
              "[1, 1, 2, 4, 5, 10]"
            ]
          },
          "metadata": {},
          "execution_count": 66
        }
      ]
    },
    {
      "cell_type": "code",
      "source": [
        "a.reverse() #내림차순으로 정리"
      ],
      "metadata": {
        "id": "WbF1PP4HJm0I"
      },
      "execution_count": 67,
      "outputs": []
    },
    {
      "cell_type": "code",
      "source": [
        "a"
      ],
      "metadata": {
        "colab": {
          "base_uri": "https://localhost:8080/"
        },
        "id": "B9dZQ9zuJrpo",
        "outputId": "908994c8-5f53-48d6-d89e-ddd841c5e477"
      },
      "execution_count": 68,
      "outputs": [
        {
          "output_type": "execute_result",
          "data": {
            "text/plain": [
              "[10, 5, 4, 2, 1, 1]"
            ]
          },
          "metadata": {},
          "execution_count": 68
        }
      ]
    },
    {
      "cell_type": "code",
      "source": [
        "a.remove(1)\n",
        "a"
      ],
      "metadata": {
        "colab": {
          "base_uri": "https://localhost:8080/"
        },
        "id": "_YvpZWMwJsCr",
        "outputId": "3d47d680-d3c5-459b-c7a6-b145e7249bbf"
      },
      "execution_count": 69,
      "outputs": [
        {
          "output_type": "execute_result",
          "data": {
            "text/plain": [
              "[10, 5, 4, 2, 1]"
            ]
          },
          "metadata": {},
          "execution_count": 69
        }
      ]
    },
    {
      "cell_type": "code",
      "source": [
        "a.count(1)"
      ],
      "metadata": {
        "colab": {
          "base_uri": "https://localhost:8080/"
        },
        "id": "if0VRf6mJ2dx",
        "outputId": "be5b8cae-99c5-43aa-d4bd-b5a8b9ba818f"
      },
      "execution_count": 70,
      "outputs": [
        {
          "output_type": "execute_result",
          "data": {
            "text/plain": [
              "1"
            ]
          },
          "metadata": {},
          "execution_count": 70
        }
      ]
    },
    {
      "cell_type": "code",
      "source": [
        "len(a)"
      ],
      "metadata": {
        "colab": {
          "base_uri": "https://localhost:8080/"
        },
        "id": "Z--6f0UnKtlq",
        "outputId": "c5d49af8-0a20-4284-d355-3fb2293dfe29"
      },
      "execution_count": 71,
      "outputs": [
        {
          "output_type": "execute_result",
          "data": {
            "text/plain": [
              "5"
            ]
          },
          "metadata": {},
          "execution_count": 71
        }
      ]
    },
    {
      "cell_type": "code",
      "source": [
        "import numpy as np"
      ],
      "metadata": {
        "id": "oPh2pTsCK_9Q"
      },
      "execution_count": 72,
      "outputs": []
    },
    {
      "cell_type": "code",
      "source": [
        "matrix = [[1,2,3,4],[5,6,7,8],[9,10,11,12]]\n",
        "matrix"
      ],
      "metadata": {
        "colab": {
          "base_uri": "https://localhost:8080/"
        },
        "id": "KAcP8cn4LIUa",
        "outputId": "62068f77-c530-426d-91ac-82bbbfb9f938"
      },
      "execution_count": 74,
      "outputs": [
        {
          "output_type": "execute_result",
          "data": {
            "text/plain": [
              "[[1, 2, 3, 4], [5, 6, 7, 8], [9, 10, 11, 12]]"
            ]
          },
          "metadata": {},
          "execution_count": 74
        }
      ]
    },
    {
      "cell_type": "code",
      "source": [
        "np.array(matrix, int).shape"
      ],
      "metadata": {
        "colab": {
          "base_uri": "https://localhost:8080/"
        },
        "id": "lL4DTjoHg2sF",
        "outputId": "d0d89fa7-9a64-4588-f542-a7bf4b42fa4b"
      },
      "execution_count": 75,
      "outputs": [
        {
          "output_type": "execute_result",
          "data": {
            "text/plain": [
              "(3, 4)"
            ]
          },
          "metadata": {},
          "execution_count": 75
        }
      ]
    },
    {
      "cell_type": "code",
      "source": [
        "a = {\"달러\":1500, \"엔화\":1000}\n",
        "a"
      ],
      "metadata": {
        "colab": {
          "base_uri": "https://localhost:8080/"
        },
        "id": "OUcUm8jph0WP",
        "outputId": "d70e085e-61fe-4462-fd0d-071fae683165"
      },
      "execution_count": 77,
      "outputs": [
        {
          "output_type": "execute_result",
          "data": {
            "text/plain": [
              "{'달러': 1500, '엔화': 1000}"
            ]
          },
          "metadata": {},
          "execution_count": 77
        }
      ]
    },
    {
      "cell_type": "code",
      "source": [
        "a[\"달러\"]"
      ],
      "metadata": {
        "colab": {
          "base_uri": "https://localhost:8080/"
        },
        "id": "w2KOgofJiFKR",
        "outputId": "78e1d225-5093-4ec7-91c4-d5484f4d8919"
      },
      "execution_count": 78,
      "outputs": [
        {
          "output_type": "execute_result",
          "data": {
            "text/plain": [
              "1500"
            ]
          },
          "metadata": {},
          "execution_count": 78
        }
      ]
    },
    {
      "cell_type": "code",
      "source": [
        "a[\"위안\"]"
      ],
      "metadata": {
        "colab": {
          "base_uri": "https://localhost:8080/",
          "height": 181
        },
        "id": "6glZ8DddiJk7",
        "outputId": "72ba201d-8660-446f-98bc-1a309a162a30"
      },
      "execution_count": 81,
      "outputs": [
        {
          "output_type": "error",
          "ename": "KeyError",
          "evalue": "ignored",
          "traceback": [
            "\u001b[0;31m---------------------------------------------------------------------------\u001b[0m",
            "\u001b[0;31mKeyError\u001b[0m                                  Traceback (most recent call last)",
            "\u001b[0;32m<ipython-input-81-80f034eb8a0a>\u001b[0m in \u001b[0;36m<cell line: 1>\u001b[0;34m()\u001b[0m\n\u001b[0;32m----> 1\u001b[0;31m \u001b[0ma\u001b[0m\u001b[0;34m[\u001b[0m\u001b[0;34m\"위안\"\u001b[0m\u001b[0;34m]\u001b[0m\u001b[0;34m\u001b[0m\u001b[0;34m\u001b[0m\u001b[0m\n\u001b[0m",
            "\u001b[0;31mKeyError\u001b[0m: '위안'"
          ]
        }
      ]
    },
    {
      "cell_type": "code",
      "source": [
        "a[1500]"
      ],
      "metadata": {
        "colab": {
          "base_uri": "https://localhost:8080/",
          "height": 181
        },
        "id": "oJ2B5igAiYJk",
        "outputId": "092f2aae-13fe-4e2b-9526-bbcf478f1c85"
      },
      "execution_count": 82,
      "outputs": [
        {
          "output_type": "error",
          "ename": "KeyError",
          "evalue": "ignored",
          "traceback": [
            "\u001b[0;31m---------------------------------------------------------------------------\u001b[0m",
            "\u001b[0;31mKeyError\u001b[0m                                  Traceback (most recent call last)",
            "\u001b[0;32m<ipython-input-82-2b6829e99e19>\u001b[0m in \u001b[0;36m<cell line: 1>\u001b[0;34m()\u001b[0m\n\u001b[0;32m----> 1\u001b[0;31m \u001b[0ma\u001b[0m\u001b[0;34m[\u001b[0m\u001b[0;36m1500\u001b[0m\u001b[0;34m]\u001b[0m\u001b[0;34m\u001b[0m\u001b[0;34m\u001b[0m\u001b[0m\n\u001b[0m",
            "\u001b[0;31mKeyError\u001b[0m: 1500"
          ]
        }
      ]
    },
    {
      "cell_type": "code",
      "source": [
        "a[\"위안\"] = 300"
      ],
      "metadata": {
        "id": "i6GhCm-GihOb"
      },
      "execution_count": 83,
      "outputs": []
    },
    {
      "cell_type": "code",
      "source": [
        "a"
      ],
      "metadata": {
        "colab": {
          "base_uri": "https://localhost:8080/"
        },
        "id": "Un8Lo3qyilRK",
        "outputId": "7ccfa3e1-425a-403d-f155-2ef24f89ded7"
      },
      "execution_count": 84,
      "outputs": [
        {
          "output_type": "execute_result",
          "data": {
            "text/plain": [
              "{'달러': 1500, '엔화': 1000, '위안': 300}"
            ]
          },
          "metadata": {},
          "execution_count": 84
        }
      ]
    },
    {
      "cell_type": "code",
      "source": [
        "a.keys()"
      ],
      "metadata": {
        "colab": {
          "base_uri": "https://localhost:8080/"
        },
        "id": "Jc7mN8aQivTK",
        "outputId": "68924c4f-73c1-4ad1-c2ce-1e0e34100939"
      },
      "execution_count": 85,
      "outputs": [
        {
          "output_type": "execute_result",
          "data": {
            "text/plain": [
              "dict_keys(['달러', '엔화', '위안'])"
            ]
          },
          "metadata": {},
          "execution_count": 85
        }
      ]
    },
    {
      "cell_type": "code",
      "source": [
        "a.values()"
      ],
      "metadata": {
        "colab": {
          "base_uri": "https://localhost:8080/"
        },
        "id": "IitwKp8Zix1J",
        "outputId": "e6f7bd26-31ad-4c8d-f902-1d9cc51bd834"
      },
      "execution_count": 86,
      "outputs": [
        {
          "output_type": "execute_result",
          "data": {
            "text/plain": [
              "dict_values([1500, 1000, 300])"
            ]
          },
          "metadata": {},
          "execution_count": 86
        }
      ]
    },
    {
      "cell_type": "code",
      "source": [
        "a = \"statistics\""
      ],
      "metadata": {
        "id": "RMVQqTUaizX-"
      },
      "execution_count": 87,
      "outputs": []
    },
    {
      "cell_type": "code",
      "source": [
        "set_a = set(a)\n",
        "set_a"
      ],
      "metadata": {
        "colab": {
          "base_uri": "https://localhost:8080/"
        },
        "id": "DwV9N7LDjKdP",
        "outputId": "f5a66865-1b3e-4247-a5f6-1ec7e309f068"
      },
      "execution_count": 89,
      "outputs": [
        {
          "output_type": "execute_result",
          "data": {
            "text/plain": [
              "{'a', 'c', 'i', 's', 't'}"
            ]
          },
          "metadata": {},
          "execution_count": 89
        }
      ]
    },
    {
      "cell_type": "code",
      "source": [
        "a = set([1,2,3,4])\n",
        "b = set([2,3,4,5])"
      ],
      "metadata": {
        "id": "bRqNDNtNjfPj"
      },
      "execution_count": 90,
      "outputs": []
    },
    {
      "cell_type": "code",
      "source": [
        "a&b"
      ],
      "metadata": {
        "colab": {
          "base_uri": "https://localhost:8080/"
        },
        "id": "LjkFsnXwjNKw",
        "outputId": "0bf327eb-74dd-440c-cf95-5b6d46fed10b"
      },
      "execution_count": 91,
      "outputs": [
        {
          "output_type": "execute_result",
          "data": {
            "text/plain": [
              "{2, 3, 4}"
            ]
          },
          "metadata": {},
          "execution_count": 91
        }
      ]
    },
    {
      "cell_type": "code",
      "source": [
        "a|b"
      ],
      "metadata": {
        "colab": {
          "base_uri": "https://localhost:8080/"
        },
        "id": "H7HTxhxujoZ7",
        "outputId": "0ba4a1db-8098-4d1e-93da-07c47f985910"
      },
      "execution_count": 92,
      "outputs": [
        {
          "output_type": "execute_result",
          "data": {
            "text/plain": [
              "{1, 2, 3, 4, 5}"
            ]
          },
          "metadata": {},
          "execution_count": 92
        }
      ]
    },
    {
      "cell_type": "code",
      "source": [
        "a-b"
      ],
      "metadata": {
        "colab": {
          "base_uri": "https://localhost:8080/"
        },
        "id": "5AocDxCxjpib",
        "outputId": "205f4496-8083-43b6-8733-86a038703b28"
      },
      "execution_count": 93,
      "outputs": [
        {
          "output_type": "execute_result",
          "data": {
            "text/plain": [
              "{1}"
            ]
          },
          "metadata": {},
          "execution_count": 93
        }
      ]
    },
    {
      "cell_type": "code",
      "source": [
        "b-a"
      ],
      "metadata": {
        "colab": {
          "base_uri": "https://localhost:8080/"
        },
        "id": "ShFf1jepjyKc",
        "outputId": "9cb8463d-ef28-4738-c460-36b74d5c256f"
      },
      "execution_count": 94,
      "outputs": [
        {
          "output_type": "execute_result",
          "data": {
            "text/plain": [
              "{5}"
            ]
          },
          "metadata": {},
          "execution_count": 94
        }
      ]
    },
    {
      "cell_type": "code",
      "source": [
        "a.update([5,6,7,8])\n",
        "a"
      ],
      "metadata": {
        "colab": {
          "base_uri": "https://localhost:8080/"
        },
        "id": "k1ermmiRjzxP",
        "outputId": "697eb2f9-6f25-43d6-b47e-c66ef7f36f33"
      },
      "execution_count": 95,
      "outputs": [
        {
          "output_type": "execute_result",
          "data": {
            "text/plain": [
              "{1, 2, 3, 4, 5, 6, 7, 8}"
            ]
          },
          "metadata": {},
          "execution_count": 95
        }
      ]
    },
    {
      "cell_type": "code",
      "source": [
        "a.remove(5)"
      ],
      "metadata": {
        "id": "3lHZmu_zj7wT"
      },
      "execution_count": 96,
      "outputs": []
    },
    {
      "cell_type": "code",
      "source": [
        "a"
      ],
      "metadata": {
        "colab": {
          "base_uri": "https://localhost:8080/"
        },
        "id": "O5YOvjsJj-0Y",
        "outputId": "564a976c-9075-45cf-848d-cea900fe6178"
      },
      "execution_count": 97,
      "outputs": [
        {
          "output_type": "execute_result",
          "data": {
            "text/plain": [
              "{1, 2, 3, 4, 6, 7, 8}"
            ]
          },
          "metadata": {},
          "execution_count": 97
        }
      ]
    },
    {
      "cell_type": "code",
      "source": [
        "a = 100.5\n",
        "b = 150.5\n",
        "c = 200\n",
        "\n",
        "# %d = integer\n",
        "# %f = float\n",
        "# %s = string"
      ],
      "metadata": {
        "id": "wdhESgJVj_Z5"
      },
      "execution_count": 98,
      "outputs": []
    },
    {
      "cell_type": "code",
      "source": [
        "print(\"사과 1개의 가격은 %d원 입니다.\"  %a)"
      ],
      "metadata": {
        "colab": {
          "base_uri": "https://localhost:8080/"
        },
        "id": "uvo3jfdtkq6C",
        "outputId": "03bfc03c-cd2b-487a-a616-f836c0ce179a"
      },
      "execution_count": 99,
      "outputs": [
        {
          "output_type": "stream",
          "name": "stdout",
          "text": [
            "사과 1개의 가격은 100원 입니다.\n"
          ]
        }
      ]
    },
    {
      "cell_type": "code",
      "source": [
        "print(\"사과 1개의 가격은 %f원 입니다.\"  %a)"
      ],
      "metadata": {
        "colab": {
          "base_uri": "https://localhost:8080/"
        },
        "id": "RZRFAterlGKu",
        "outputId": "3e90512d-5126-414b-e754-15a582c88ed7"
      },
      "execution_count": 100,
      "outputs": [
        {
          "output_type": "stream",
          "name": "stdout",
          "text": [
            "사과 1개의 가격은 100.500000원 입니다.\n"
          ]
        }
      ]
    },
    {
      "cell_type": "code",
      "source": [
        "print(\"사과 1개의 가격은 %s원 입니다.\"  %c)"
      ],
      "metadata": {
        "colab": {
          "base_uri": "https://localhost:8080/"
        },
        "id": "Y9GhNzaclLVy",
        "outputId": "8a8fc5cc-9ba6-42ec-b688-9c768179bef3"
      },
      "execution_count": 101,
      "outputs": [
        {
          "output_type": "stream",
          "name": "stdout",
          "text": [
            "사과 1개의 가격은 200원 입니다.\n"
          ]
        }
      ]
    },
    {
      "cell_type": "code",
      "source": [
        "rmse = .24\n",
        "print(\"rmse : %f\" %rmse)"
      ],
      "metadata": {
        "colab": {
          "base_uri": "https://localhost:8080/"
        },
        "id": "Ialva3hdlUnK",
        "outputId": "cb62af47-e400-41ee-e8df-30089b2b52fb"
      },
      "execution_count": 102,
      "outputs": [
        {
          "output_type": "stream",
          "name": "stdout",
          "text": [
            "rmse : 0.240000\n"
          ]
        }
      ]
    },
    {
      "cell_type": "code",
      "source": [
        "1>2"
      ],
      "metadata": {
        "colab": {
          "base_uri": "https://localhost:8080/"
        },
        "id": "aCf4OJ1kllmq",
        "outputId": "d8a1cf26-0dd2-4187-8542-53f1c9a0f24c"
      },
      "execution_count": 103,
      "outputs": [
        {
          "output_type": "execute_result",
          "data": {
            "text/plain": [
              "False"
            ]
          },
          "metadata": {},
          "execution_count": 103
        }
      ]
    },
    {
      "cell_type": "code",
      "source": [
        "1==1"
      ],
      "metadata": {
        "colab": {
          "base_uri": "https://localhost:8080/"
        },
        "id": "mDfcg869mGv8",
        "outputId": "0d02cb45-8ea6-4426-c372-2eba6a7e37f8"
      },
      "execution_count": 104,
      "outputs": [
        {
          "output_type": "execute_result",
          "data": {
            "text/plain": [
              "True"
            ]
          },
          "metadata": {},
          "execution_count": 104
        }
      ]
    },
    {
      "cell_type": "code",
      "source": [
        "1<2"
      ],
      "metadata": {
        "colab": {
          "base_uri": "https://localhost:8080/"
        },
        "id": "FZ8Jhlu-mKqH",
        "outputId": "c7340624-9b4d-45cf-8a21-c36d7863ea54"
      },
      "execution_count": 105,
      "outputs": [
        {
          "output_type": "execute_result",
          "data": {
            "text/plain": [
              "True"
            ]
          },
          "metadata": {},
          "execution_count": 105
        }
      ]
    },
    {
      "cell_type": "code",
      "source": [
        "a = [1,2,3,4]"
      ],
      "metadata": {
        "id": "cebz0dhHmVbg"
      },
      "execution_count": 106,
      "outputs": []
    },
    {
      "cell_type": "code",
      "source": [
        "1 in a"
      ],
      "metadata": {
        "colab": {
          "base_uri": "https://localhost:8080/"
        },
        "id": "iYoHslhumbca",
        "outputId": "b30f47c3-7cf8-4952-e8dc-ca6f3e4871a5"
      },
      "execution_count": 107,
      "outputs": [
        {
          "output_type": "execute_result",
          "data": {
            "text/plain": [
              "True"
            ]
          },
          "metadata": {},
          "execution_count": 107
        }
      ]
    },
    {
      "cell_type": "code",
      "source": [
        "1 not in a"
      ],
      "metadata": {
        "colab": {
          "base_uri": "https://localhost:8080/"
        },
        "id": "flo6HG-BmiGS",
        "outputId": "c2c9c499-61f3-4680-cc09-7f1bf92653c2"
      },
      "execution_count": 108,
      "outputs": [
        {
          "output_type": "execute_result",
          "data": {
            "text/plain": [
              "False"
            ]
          },
          "metadata": {},
          "execution_count": 108
        }
      ]
    },
    {
      "cell_type": "code",
      "source": [
        "score = 90\n",
        "\n",
        "if score >= 80:\n",
        "  print(\"pass\")\n",
        "else :\n",
        "  print(\"fail\")"
      ],
      "metadata": {
        "colab": {
          "base_uri": "https://localhost:8080/"
        },
        "id": "a6_bSJvMmo-T",
        "outputId": "e69f899e-8379-40c4-fe3c-8b94ed105172"
      },
      "execution_count": 112,
      "outputs": [
        {
          "output_type": "stream",
          "name": "stdout",
          "text": [
            "pass\n"
          ]
        }
      ]
    },
    {
      "cell_type": "code",
      "source": [
        "SCORE = 90  #조건문\n",
        "\n",
        "if score >= 90:\n",
        "    print(\"A\")\n",
        "elif score >= 80:\n",
        "    print(\"B\")\n",
        "elif score >= 70:\n",
        "    print(\"C\")\n",
        "elif score >= 60:\n",
        "    print(\"D\")\n",
        "else :\n",
        "    print(\"F\")"
      ],
      "metadata": {
        "colab": {
          "base_uri": "https://localhost:8080/"
        },
        "id": "XmQ27LvenBDz",
        "outputId": "f308cc23-c133-4b8e-aff0-f6accc6d3fb8"
      },
      "execution_count": 115,
      "outputs": [
        {
          "output_type": "stream",
          "name": "stdout",
          "text": [
            "A\n"
          ]
        }
      ]
    },
    {
      "cell_type": "code",
      "source": [
        "for i in range(20) :  #for문 :\n",
        "    print(i)"
      ],
      "metadata": {
        "colab": {
          "base_uri": "https://localhost:8080/"
        },
        "id": "c2f_dTBsrPuk",
        "outputId": "3589b507-0180-4d94-b322-237ef2915d6e"
      },
      "execution_count": 117,
      "outputs": [
        {
          "output_type": "stream",
          "name": "stdout",
          "text": [
            "0\n",
            "1\n",
            "2\n",
            "3\n",
            "4\n",
            "5\n",
            "6\n",
            "7\n",
            "8\n",
            "9\n",
            "10\n",
            "11\n",
            "12\n",
            "13\n",
            "14\n",
            "15\n",
            "16\n",
            "17\n",
            "18\n",
            "19\n"
          ]
        }
      ]
    },
    {
      "cell_type": "code",
      "source": [
        "i = 0\n",
        "while i <= 10 :  #while문: 내가 지정한 곳 까지 계속 실행\n",
        "    i+=1\n",
        "    print(i)"
      ],
      "metadata": {
        "colab": {
          "base_uri": "https://localhost:8080/"
        },
        "id": "xmcr9oTtshbz",
        "outputId": "3a723d5d-d820-4dbc-9818-df87452c92d5"
      },
      "execution_count": 120,
      "outputs": [
        {
          "output_type": "stream",
          "name": "stdout",
          "text": [
            "1\n",
            "2\n",
            "3\n",
            "4\n",
            "5\n",
            "6\n",
            "7\n",
            "8\n",
            "9\n",
            "10\n",
            "11\n"
          ]
        }
      ]
    },
    {
      "cell_type": "markdown",
      "source": [
        "NUMPY"
      ],
      "metadata": {
        "id": "wMeNBTWxu6AZ"
      }
    },
    {
      "cell_type": "code",
      "source": [
        "from matplotlib import pyplot as plt\n",
        "import pandas as pd\n",
        "from pandas import *\n",
        "import numpy as np"
      ],
      "metadata": {
        "id": "KOTzDLx6s4bi"
      },
      "execution_count": 122,
      "outputs": []
    },
    {
      "cell_type": "code",
      "source": [
        "data = [1.1,2,3,4,5,6]\n",
        "arr = np.array(data)\n",
        "arr"
      ],
      "metadata": {
        "colab": {
          "base_uri": "https://localhost:8080/"
        },
        "id": "jBQK8H3cvfE5",
        "outputId": "9bcb93d6-dc7d-48f9-9fca-b48bbd5e8b09"
      },
      "execution_count": 125,
      "outputs": [
        {
          "output_type": "execute_result",
          "data": {
            "text/plain": [
              "array([1.1, 2. , 3. , 4. , 5. , 6. ])"
            ]
          },
          "metadata": {},
          "execution_count": 125
        }
      ]
    },
    {
      "cell_type": "code",
      "source": [
        "arr.dtype"
      ],
      "metadata": {
        "colab": {
          "base_uri": "https://localhost:8080/"
        },
        "id": "HhyduYocvt52",
        "outputId": "a0f44860-6e20-4e78-e9b5-ed82ed025c49"
      },
      "execution_count": 126,
      "outputs": [
        {
          "output_type": "execute_result",
          "data": {
            "text/plain": [
              "dtype('float64')"
            ]
          },
          "metadata": {},
          "execution_count": 126
        }
      ]
    },
    {
      "cell_type": "code",
      "source": [
        "arr1 = np.arange(start = 1, stop = 20, step = 2)\n",
        "arr1"
      ],
      "metadata": {
        "colab": {
          "base_uri": "https://localhost:8080/"
        },
        "id": "Nu8NjanVvz-1",
        "outputId": "2be040eb-d8b2-45ed-a520-e0733a17b961"
      },
      "execution_count": 133,
      "outputs": [
        {
          "output_type": "execute_result",
          "data": {
            "text/plain": [
              "array([ 1,  3,  5,  7,  9, 11, 13, 15, 17, 19])"
            ]
          },
          "metadata": {},
          "execution_count": 133
        }
      ]
    },
    {
      "cell_type": "code",
      "source": [
        "arr2 = np.arange(start = 0, stop = 20, step = 2)\n",
        "arr2"
      ],
      "metadata": {
        "colab": {
          "base_uri": "https://localhost:8080/"
        },
        "id": "pWIYYkISwUzb",
        "outputId": "f1946af0-f8fc-408c-edf8-f50898d13b1b"
      },
      "execution_count": 142,
      "outputs": [
        {
          "output_type": "execute_result",
          "data": {
            "text/plain": [
              "array([ 0,  2,  4,  6,  8, 10, 12, 14, 16, 18])"
            ]
          },
          "metadata": {},
          "execution_count": 142
        }
      ]
    },
    {
      "cell_type": "code",
      "source": [
        "len(arr2)"
      ],
      "metadata": {
        "colab": {
          "base_uri": "https://localhost:8080/"
        },
        "id": "lfti11RawiZ6",
        "outputId": "d6311620-5ffa-4679-aff7-473c013dafde"
      },
      "execution_count": 143,
      "outputs": [
        {
          "output_type": "execute_result",
          "data": {
            "text/plain": [
              "10"
            ]
          },
          "metadata": {},
          "execution_count": 143
        }
      ]
    },
    {
      "cell_type": "code",
      "source": [
        "d = arr2/arr1"
      ],
      "metadata": {
        "id": "ii3JPe9Mwpcr"
      },
      "execution_count": 154,
      "outputs": []
    },
    {
      "cell_type": "code",
      "source": [
        "c = arr1*arr2"
      ],
      "metadata": {
        "id": "HoQK0HAJwtgD"
      },
      "execution_count": 155,
      "outputs": []
    },
    {
      "cell_type": "code",
      "source": [
        "b = arr1-arr2"
      ],
      "metadata": {
        "id": "wWLQxSTQwzkg"
      },
      "execution_count": 156,
      "outputs": []
    },
    {
      "cell_type": "code",
      "source": [
        "a = arr1+arr2"
      ],
      "metadata": {
        "id": "65apk9OEw1VD"
      },
      "execution_count": 157,
      "outputs": []
    },
    {
      "cell_type": "code",
      "source": [
        "print(\"더하기 :\" , a)\n",
        "print(\"뺴기 : \" , b)\n",
        "print(\"곱하기 :\" , c)\n",
        "print(\"나누기 :\" , d)"
      ],
      "metadata": {
        "colab": {
          "base_uri": "https://localhost:8080/"
        },
        "id": "JQBZQAMNxTmF",
        "outputId": "ccd0b12d-e16f-4728-d39f-eb3dd7cbf03d"
      },
      "execution_count": 158,
      "outputs": [
        {
          "output_type": "stream",
          "name": "stdout",
          "text": [
            "더하기 : [ 1  5  9 13 17 21 25 29 33 37]\n",
            "뺴기 :  [1 1 1 1 1 1 1 1 1 1]\n",
            "곱하기 : [  0   6  20  42  72 110 156 210 272 342]\n",
            "나누기 : [0.         0.66666667 0.8        0.85714286 0.88888889 0.90909091\n",
            " 0.92307692 0.93333333 0.94117647 0.94736842]\n"
          ]
        }
      ]
    },
    {
      "cell_type": "code",
      "source": [
        "print(\"-더하기-\")\n",
        "print(a)\n",
        "print(\"-빼기-\")\n",
        "print(b)\n",
        "print(\"-r곱하기-\")\n",
        "print(c)\n",
        "print(\"-나누기-\")\n",
        "print(d)"
      ],
      "metadata": {
        "colab": {
          "base_uri": "https://localhost:8080/"
        },
        "id": "n9a1CQvCxeFO",
        "outputId": "041eeddc-c1c6-4fb8-bdd7-ddb76f994077"
      },
      "execution_count": 159,
      "outputs": [
        {
          "output_type": "stream",
          "name": "stdout",
          "text": [
            "-더하기-\n",
            "[ 1  5  9 13 17 21 25 29 33 37]\n",
            "-빼기-\n",
            "[1 1 1 1 1 1 1 1 1 1]\n",
            "-r곱하기-\n",
            "[  0   6  20  42  72 110 156 210 272 342]\n",
            "-나누기-\n",
            "[0.         0.66666667 0.8        0.85714286 0.88888889 0.90909091\n",
            " 0.92307692 0.93333333 0.94117647 0.94736842]\n"
          ]
        }
      ]
    },
    {
      "cell_type": "code",
      "source": [
        "import pandas as pd"
      ],
      "metadata": {
        "id": "XDV_4iU-yl4q"
      },
      "execution_count": 160,
      "outputs": []
    },
    {
      "cell_type": "code",
      "source": [
        "pd.DataFrame(data)  #엑셀형태의 데이터"
      ],
      "metadata": {
        "colab": {
          "base_uri": "https://localhost:8080/",
          "height": 238
        },
        "id": "EWvmcH105NQy",
        "outputId": "edcb6ad6-28b5-45eb-f510-2d739ce7c2e7"
      },
      "execution_count": 161,
      "outputs": [
        {
          "output_type": "execute_result",
          "data": {
            "text/plain": [
              "     0\n",
              "0  1.1\n",
              "1  2.0\n",
              "2  3.0\n",
              "3  4.0\n",
              "4  5.0\n",
              "5  6.0"
            ],
            "text/html": [
              "\n",
              "\n",
              "  <div id=\"df-95e4c570-b450-4ee1-b151-de8867e17433\">\n",
              "    <div class=\"colab-df-container\">\n",
              "      <div>\n",
              "<style scoped>\n",
              "    .dataframe tbody tr th:only-of-type {\n",
              "        vertical-align: middle;\n",
              "    }\n",
              "\n",
              "    .dataframe tbody tr th {\n",
              "        vertical-align: top;\n",
              "    }\n",
              "\n",
              "    .dataframe thead th {\n",
              "        text-align: right;\n",
              "    }\n",
              "</style>\n",
              "<table border=\"1\" class=\"dataframe\">\n",
              "  <thead>\n",
              "    <tr style=\"text-align: right;\">\n",
              "      <th></th>\n",
              "      <th>0</th>\n",
              "    </tr>\n",
              "  </thead>\n",
              "  <tbody>\n",
              "    <tr>\n",
              "      <th>0</th>\n",
              "      <td>1.1</td>\n",
              "    </tr>\n",
              "    <tr>\n",
              "      <th>1</th>\n",
              "      <td>2.0</td>\n",
              "    </tr>\n",
              "    <tr>\n",
              "      <th>2</th>\n",
              "      <td>3.0</td>\n",
              "    </tr>\n",
              "    <tr>\n",
              "      <th>3</th>\n",
              "      <td>4.0</td>\n",
              "    </tr>\n",
              "    <tr>\n",
              "      <th>4</th>\n",
              "      <td>5.0</td>\n",
              "    </tr>\n",
              "    <tr>\n",
              "      <th>5</th>\n",
              "      <td>6.0</td>\n",
              "    </tr>\n",
              "  </tbody>\n",
              "</table>\n",
              "</div>\n",
              "      <button class=\"colab-df-convert\" onclick=\"convertToInteractive('df-95e4c570-b450-4ee1-b151-de8867e17433')\"\n",
              "              title=\"Convert this dataframe to an interactive table.\"\n",
              "              style=\"display:none;\">\n",
              "\n",
              "  <svg xmlns=\"http://www.w3.org/2000/svg\" height=\"24px\"viewBox=\"0 0 24 24\"\n",
              "       width=\"24px\">\n",
              "    <path d=\"M0 0h24v24H0V0z\" fill=\"none\"/>\n",
              "    <path d=\"M18.56 5.44l.94 2.06.94-2.06 2.06-.94-2.06-.94-.94-2.06-.94 2.06-2.06.94zm-11 1L8.5 8.5l.94-2.06 2.06-.94-2.06-.94L8.5 2.5l-.94 2.06-2.06.94zm10 10l.94 2.06.94-2.06 2.06-.94-2.06-.94-.94-2.06-.94 2.06-2.06.94z\"/><path d=\"M17.41 7.96l-1.37-1.37c-.4-.4-.92-.59-1.43-.59-.52 0-1.04.2-1.43.59L10.3 9.45l-7.72 7.72c-.78.78-.78 2.05 0 2.83L4 21.41c.39.39.9.59 1.41.59.51 0 1.02-.2 1.41-.59l7.78-7.78 2.81-2.81c.8-.78.8-2.07 0-2.86zM5.41 20L4 18.59l7.72-7.72 1.47 1.35L5.41 20z\"/>\n",
              "  </svg>\n",
              "      </button>\n",
              "\n",
              "\n",
              "\n",
              "    <div id=\"df-86bda60b-7f27-45a5-8ab1-588a8eab3dda\">\n",
              "      <button class=\"colab-df-quickchart\" onclick=\"quickchart('df-86bda60b-7f27-45a5-8ab1-588a8eab3dda')\"\n",
              "              title=\"Suggest charts.\"\n",
              "              style=\"display:none;\">\n",
              "\n",
              "<svg xmlns=\"http://www.w3.org/2000/svg\" height=\"24px\"viewBox=\"0 0 24 24\"\n",
              "     width=\"24px\">\n",
              "    <g>\n",
              "        <path d=\"M19 3H5c-1.1 0-2 .9-2 2v14c0 1.1.9 2 2 2h14c1.1 0 2-.9 2-2V5c0-1.1-.9-2-2-2zM9 17H7v-7h2v7zm4 0h-2V7h2v10zm4 0h-2v-4h2v4z\"/>\n",
              "    </g>\n",
              "</svg>\n",
              "      </button>\n",
              "    </div>\n",
              "\n",
              "<style>\n",
              "  .colab-df-quickchart {\n",
              "    background-color: #E8F0FE;\n",
              "    border: none;\n",
              "    border-radius: 50%;\n",
              "    cursor: pointer;\n",
              "    display: none;\n",
              "    fill: #1967D2;\n",
              "    height: 32px;\n",
              "    padding: 0 0 0 0;\n",
              "    width: 32px;\n",
              "  }\n",
              "\n",
              "  .colab-df-quickchart:hover {\n",
              "    background-color: #E2EBFA;\n",
              "    box-shadow: 0px 1px 2px rgba(60, 64, 67, 0.3), 0px 1px 3px 1px rgba(60, 64, 67, 0.15);\n",
              "    fill: #174EA6;\n",
              "  }\n",
              "\n",
              "  [theme=dark] .colab-df-quickchart {\n",
              "    background-color: #3B4455;\n",
              "    fill: #D2E3FC;\n",
              "  }\n",
              "\n",
              "  [theme=dark] .colab-df-quickchart:hover {\n",
              "    background-color: #434B5C;\n",
              "    box-shadow: 0px 1px 3px 1px rgba(0, 0, 0, 0.15);\n",
              "    filter: drop-shadow(0px 1px 2px rgba(0, 0, 0, 0.3));\n",
              "    fill: #FFFFFF;\n",
              "  }\n",
              "</style>\n",
              "\n",
              "    <script>\n",
              "      async function quickchart(key) {\n",
              "        const containerElement = document.querySelector('#' + key);\n",
              "        const charts = await google.colab.kernel.invokeFunction(\n",
              "            'suggestCharts', [key], {});\n",
              "      }\n",
              "    </script>\n",
              "\n",
              "      <script>\n",
              "\n",
              "function displayQuickchartButton(domScope) {\n",
              "  let quickchartButtonEl =\n",
              "    domScope.querySelector('#df-86bda60b-7f27-45a5-8ab1-588a8eab3dda button.colab-df-quickchart');\n",
              "  quickchartButtonEl.style.display =\n",
              "    google.colab.kernel.accessAllowed ? 'block' : 'none';\n",
              "}\n",
              "\n",
              "        displayQuickchartButton(document);\n",
              "      </script>\n",
              "      <style>\n",
              "    .colab-df-container {\n",
              "      display:flex;\n",
              "      flex-wrap:wrap;\n",
              "      gap: 12px;\n",
              "    }\n",
              "\n",
              "    .colab-df-convert {\n",
              "      background-color: #E8F0FE;\n",
              "      border: none;\n",
              "      border-radius: 50%;\n",
              "      cursor: pointer;\n",
              "      display: none;\n",
              "      fill: #1967D2;\n",
              "      height: 32px;\n",
              "      padding: 0 0 0 0;\n",
              "      width: 32px;\n",
              "    }\n",
              "\n",
              "    .colab-df-convert:hover {\n",
              "      background-color: #E2EBFA;\n",
              "      box-shadow: 0px 1px 2px rgba(60, 64, 67, 0.3), 0px 1px 3px 1px rgba(60, 64, 67, 0.15);\n",
              "      fill: #174EA6;\n",
              "    }\n",
              "\n",
              "    [theme=dark] .colab-df-convert {\n",
              "      background-color: #3B4455;\n",
              "      fill: #D2E3FC;\n",
              "    }\n",
              "\n",
              "    [theme=dark] .colab-df-convert:hover {\n",
              "      background-color: #434B5C;\n",
              "      box-shadow: 0px 1px 3px 1px rgba(0, 0, 0, 0.15);\n",
              "      filter: drop-shadow(0px 1px 2px rgba(0, 0, 0, 0.3));\n",
              "      fill: #FFFFFF;\n",
              "    }\n",
              "  </style>\n",
              "\n",
              "      <script>\n",
              "        const buttonEl =\n",
              "          document.querySelector('#df-95e4c570-b450-4ee1-b151-de8867e17433 button.colab-df-convert');\n",
              "        buttonEl.style.display =\n",
              "          google.colab.kernel.accessAllowed ? 'block' : 'none';\n",
              "\n",
              "        async function convertToInteractive(key) {\n",
              "          const element = document.querySelector('#df-95e4c570-b450-4ee1-b151-de8867e17433');\n",
              "          const dataTable =\n",
              "            await google.colab.kernel.invokeFunction('convertToInteractive',\n",
              "                                                     [key], {});\n",
              "          if (!dataTable) return;\n",
              "\n",
              "          const docLinkHtml = 'Like what you see? Visit the ' +\n",
              "            '<a target=\"_blank\" href=https://colab.research.google.com/notebooks/data_table.ipynb>data table notebook</a>'\n",
              "            + ' to learn more about interactive tables.';\n",
              "          element.innerHTML = '';\n",
              "          dataTable['output_type'] = 'display_data';\n",
              "          await google.colab.output.renderOutput(dataTable, element);\n",
              "          const docLink = document.createElement('div');\n",
              "          docLink.innerHTML = docLinkHtml;\n",
              "          element.appendChild(docLink);\n",
              "        }\n",
              "      </script>\n",
              "    </div>\n",
              "  </div>\n"
            ]
          },
          "metadata": {},
          "execution_count": 161
        }
      ]
    },
    {
      "cell_type": "code",
      "source": [
        "col_name = [\"이름\", \"나이\", \"mbti\"] #데이터프레임 만들기\n",
        "val = [[\"유한별\",\"20\",\"estj\"],[\"김은아\",\"20\",\"entp\"],[\"이은지\",\"20\",\"enfj\"],[\"하태민\",\"30\",\"isfj\"]]\n",
        "df = pd.DataFrame(data = val, columns = col_name)\n",
        "df"
      ],
      "metadata": {
        "colab": {
          "base_uri": "https://localhost:8080/",
          "height": 175
        },
        "id": "VAump8cL5Tns",
        "outputId": "491022f2-e024-4f64-8c62-b4c40df5b51e"
      },
      "execution_count": 163,
      "outputs": [
        {
          "output_type": "execute_result",
          "data": {
            "text/plain": [
              "    이름  나이  mbti\n",
              "0  유한별  20  estj\n",
              "1  김은아  20  entp\n",
              "2  이은지  20  enfj\n",
              "3  하태민  30  isfj"
            ],
            "text/html": [
              "\n",
              "\n",
              "  <div id=\"df-eb1dbe1a-cafb-4b9e-8eb7-5e8e94815c16\">\n",
              "    <div class=\"colab-df-container\">\n",
              "      <div>\n",
              "<style scoped>\n",
              "    .dataframe tbody tr th:only-of-type {\n",
              "        vertical-align: middle;\n",
              "    }\n",
              "\n",
              "    .dataframe tbody tr th {\n",
              "        vertical-align: top;\n",
              "    }\n",
              "\n",
              "    .dataframe thead th {\n",
              "        text-align: right;\n",
              "    }\n",
              "</style>\n",
              "<table border=\"1\" class=\"dataframe\">\n",
              "  <thead>\n",
              "    <tr style=\"text-align: right;\">\n",
              "      <th></th>\n",
              "      <th>이름</th>\n",
              "      <th>나이</th>\n",
              "      <th>mbti</th>\n",
              "    </tr>\n",
              "  </thead>\n",
              "  <tbody>\n",
              "    <tr>\n",
              "      <th>0</th>\n",
              "      <td>유한별</td>\n",
              "      <td>20</td>\n",
              "      <td>estj</td>\n",
              "    </tr>\n",
              "    <tr>\n",
              "      <th>1</th>\n",
              "      <td>김은아</td>\n",
              "      <td>20</td>\n",
              "      <td>entp</td>\n",
              "    </tr>\n",
              "    <tr>\n",
              "      <th>2</th>\n",
              "      <td>이은지</td>\n",
              "      <td>20</td>\n",
              "      <td>enfj</td>\n",
              "    </tr>\n",
              "    <tr>\n",
              "      <th>3</th>\n",
              "      <td>하태민</td>\n",
              "      <td>30</td>\n",
              "      <td>isfj</td>\n",
              "    </tr>\n",
              "  </tbody>\n",
              "</table>\n",
              "</div>\n",
              "      <button class=\"colab-df-convert\" onclick=\"convertToInteractive('df-eb1dbe1a-cafb-4b9e-8eb7-5e8e94815c16')\"\n",
              "              title=\"Convert this dataframe to an interactive table.\"\n",
              "              style=\"display:none;\">\n",
              "\n",
              "  <svg xmlns=\"http://www.w3.org/2000/svg\" height=\"24px\"viewBox=\"0 0 24 24\"\n",
              "       width=\"24px\">\n",
              "    <path d=\"M0 0h24v24H0V0z\" fill=\"none\"/>\n",
              "    <path d=\"M18.56 5.44l.94 2.06.94-2.06 2.06-.94-2.06-.94-.94-2.06-.94 2.06-2.06.94zm-11 1L8.5 8.5l.94-2.06 2.06-.94-2.06-.94L8.5 2.5l-.94 2.06-2.06.94zm10 10l.94 2.06.94-2.06 2.06-.94-2.06-.94-.94-2.06-.94 2.06-2.06.94z\"/><path d=\"M17.41 7.96l-1.37-1.37c-.4-.4-.92-.59-1.43-.59-.52 0-1.04.2-1.43.59L10.3 9.45l-7.72 7.72c-.78.78-.78 2.05 0 2.83L4 21.41c.39.39.9.59 1.41.59.51 0 1.02-.2 1.41-.59l7.78-7.78 2.81-2.81c.8-.78.8-2.07 0-2.86zM5.41 20L4 18.59l7.72-7.72 1.47 1.35L5.41 20z\"/>\n",
              "  </svg>\n",
              "      </button>\n",
              "\n",
              "\n",
              "\n",
              "    <div id=\"df-96bb1176-420a-4732-9a0a-f9cdffa614f7\">\n",
              "      <button class=\"colab-df-quickchart\" onclick=\"quickchart('df-96bb1176-420a-4732-9a0a-f9cdffa614f7')\"\n",
              "              title=\"Suggest charts.\"\n",
              "              style=\"display:none;\">\n",
              "\n",
              "<svg xmlns=\"http://www.w3.org/2000/svg\" height=\"24px\"viewBox=\"0 0 24 24\"\n",
              "     width=\"24px\">\n",
              "    <g>\n",
              "        <path d=\"M19 3H5c-1.1 0-2 .9-2 2v14c0 1.1.9 2 2 2h14c1.1 0 2-.9 2-2V5c0-1.1-.9-2-2-2zM9 17H7v-7h2v7zm4 0h-2V7h2v10zm4 0h-2v-4h2v4z\"/>\n",
              "    </g>\n",
              "</svg>\n",
              "      </button>\n",
              "    </div>\n",
              "\n",
              "<style>\n",
              "  .colab-df-quickchart {\n",
              "    background-color: #E8F0FE;\n",
              "    border: none;\n",
              "    border-radius: 50%;\n",
              "    cursor: pointer;\n",
              "    display: none;\n",
              "    fill: #1967D2;\n",
              "    height: 32px;\n",
              "    padding: 0 0 0 0;\n",
              "    width: 32px;\n",
              "  }\n",
              "\n",
              "  .colab-df-quickchart:hover {\n",
              "    background-color: #E2EBFA;\n",
              "    box-shadow: 0px 1px 2px rgba(60, 64, 67, 0.3), 0px 1px 3px 1px rgba(60, 64, 67, 0.15);\n",
              "    fill: #174EA6;\n",
              "  }\n",
              "\n",
              "  [theme=dark] .colab-df-quickchart {\n",
              "    background-color: #3B4455;\n",
              "    fill: #D2E3FC;\n",
              "  }\n",
              "\n",
              "  [theme=dark] .colab-df-quickchart:hover {\n",
              "    background-color: #434B5C;\n",
              "    box-shadow: 0px 1px 3px 1px rgba(0, 0, 0, 0.15);\n",
              "    filter: drop-shadow(0px 1px 2px rgba(0, 0, 0, 0.3));\n",
              "    fill: #FFFFFF;\n",
              "  }\n",
              "</style>\n",
              "\n",
              "    <script>\n",
              "      async function quickchart(key) {\n",
              "        const containerElement = document.querySelector('#' + key);\n",
              "        const charts = await google.colab.kernel.invokeFunction(\n",
              "            'suggestCharts', [key], {});\n",
              "      }\n",
              "    </script>\n",
              "\n",
              "      <script>\n",
              "\n",
              "function displayQuickchartButton(domScope) {\n",
              "  let quickchartButtonEl =\n",
              "    domScope.querySelector('#df-96bb1176-420a-4732-9a0a-f9cdffa614f7 button.colab-df-quickchart');\n",
              "  quickchartButtonEl.style.display =\n",
              "    google.colab.kernel.accessAllowed ? 'block' : 'none';\n",
              "}\n",
              "\n",
              "        displayQuickchartButton(document);\n",
              "      </script>\n",
              "      <style>\n",
              "    .colab-df-container {\n",
              "      display:flex;\n",
              "      flex-wrap:wrap;\n",
              "      gap: 12px;\n",
              "    }\n",
              "\n",
              "    .colab-df-convert {\n",
              "      background-color: #E8F0FE;\n",
              "      border: none;\n",
              "      border-radius: 50%;\n",
              "      cursor: pointer;\n",
              "      display: none;\n",
              "      fill: #1967D2;\n",
              "      height: 32px;\n",
              "      padding: 0 0 0 0;\n",
              "      width: 32px;\n",
              "    }\n",
              "\n",
              "    .colab-df-convert:hover {\n",
              "      background-color: #E2EBFA;\n",
              "      box-shadow: 0px 1px 2px rgba(60, 64, 67, 0.3), 0px 1px 3px 1px rgba(60, 64, 67, 0.15);\n",
              "      fill: #174EA6;\n",
              "    }\n",
              "\n",
              "    [theme=dark] .colab-df-convert {\n",
              "      background-color: #3B4455;\n",
              "      fill: #D2E3FC;\n",
              "    }\n",
              "\n",
              "    [theme=dark] .colab-df-convert:hover {\n",
              "      background-color: #434B5C;\n",
              "      box-shadow: 0px 1px 3px 1px rgba(0, 0, 0, 0.15);\n",
              "      filter: drop-shadow(0px 1px 2px rgba(0, 0, 0, 0.3));\n",
              "      fill: #FFFFFF;\n",
              "    }\n",
              "  </style>\n",
              "\n",
              "      <script>\n",
              "        const buttonEl =\n",
              "          document.querySelector('#df-eb1dbe1a-cafb-4b9e-8eb7-5e8e94815c16 button.colab-df-convert');\n",
              "        buttonEl.style.display =\n",
              "          google.colab.kernel.accessAllowed ? 'block' : 'none';\n",
              "\n",
              "        async function convertToInteractive(key) {\n",
              "          const element = document.querySelector('#df-eb1dbe1a-cafb-4b9e-8eb7-5e8e94815c16');\n",
              "          const dataTable =\n",
              "            await google.colab.kernel.invokeFunction('convertToInteractive',\n",
              "                                                     [key], {});\n",
              "          if (!dataTable) return;\n",
              "\n",
              "          const docLinkHtml = 'Like what you see? Visit the ' +\n",
              "            '<a target=\"_blank\" href=https://colab.research.google.com/notebooks/data_table.ipynb>data table notebook</a>'\n",
              "            + ' to learn more about interactive tables.';\n",
              "          element.innerHTML = '';\n",
              "          dataTable['output_type'] = 'display_data';\n",
              "          await google.colab.output.renderOutput(dataTable, element);\n",
              "          const docLink = document.createElement('div');\n",
              "          docLink.innerHTML = docLinkHtml;\n",
              "          element.appendChild(docLink);\n",
              "        }\n",
              "      </script>\n",
              "    </div>\n",
              "  </div>\n"
            ]
          },
          "metadata": {},
          "execution_count": 163
        }
      ]
    },
    {
      "cell_type": "markdown",
      "source": [
        ".과 ,차이\n",
        ".은 그 안에 들어갈 때\n",
        ",완전 구분 완전 남\n"
      ],
      "metadata": {
        "id": "PFLzCM079U_C"
      }
    },
    {
      "cell_type": "code",
      "source": [
        "dic = {\"이름\" : [\"유한별\", \"김은아\",\"이은지\",\"하태민\"], \"나이\" : [20,20,20,30], \"mbti\" : [\"estj\", \"entp\",\"enfj\",\"isfj\"]}\n",
        "df2 = pd.DataFrame(dic)\n",
        "df2"
      ],
      "metadata": {
        "colab": {
          "base_uri": "https://localhost:8080/",
          "height": 175
        },
        "id": "fEUHWUa16fga",
        "outputId": "26564289-ea1c-4064-a052-fee2a9091f83"
      },
      "execution_count": 165,
      "outputs": [
        {
          "output_type": "execute_result",
          "data": {
            "text/plain": [
              "    이름  나이  mbti\n",
              "0  유한별  20  estj\n",
              "1  김은아  20  entp\n",
              "2  이은지  20  enfj\n",
              "3  하태민  30  isfj"
            ],
            "text/html": [
              "\n",
              "\n",
              "  <div id=\"df-15d449ff-8f86-4137-bdd9-607b03528dee\">\n",
              "    <div class=\"colab-df-container\">\n",
              "      <div>\n",
              "<style scoped>\n",
              "    .dataframe tbody tr th:only-of-type {\n",
              "        vertical-align: middle;\n",
              "    }\n",
              "\n",
              "    .dataframe tbody tr th {\n",
              "        vertical-align: top;\n",
              "    }\n",
              "\n",
              "    .dataframe thead th {\n",
              "        text-align: right;\n",
              "    }\n",
              "</style>\n",
              "<table border=\"1\" class=\"dataframe\">\n",
              "  <thead>\n",
              "    <tr style=\"text-align: right;\">\n",
              "      <th></th>\n",
              "      <th>이름</th>\n",
              "      <th>나이</th>\n",
              "      <th>mbti</th>\n",
              "    </tr>\n",
              "  </thead>\n",
              "  <tbody>\n",
              "    <tr>\n",
              "      <th>0</th>\n",
              "      <td>유한별</td>\n",
              "      <td>20</td>\n",
              "      <td>estj</td>\n",
              "    </tr>\n",
              "    <tr>\n",
              "      <th>1</th>\n",
              "      <td>김은아</td>\n",
              "      <td>20</td>\n",
              "      <td>entp</td>\n",
              "    </tr>\n",
              "    <tr>\n",
              "      <th>2</th>\n",
              "      <td>이은지</td>\n",
              "      <td>20</td>\n",
              "      <td>enfj</td>\n",
              "    </tr>\n",
              "    <tr>\n",
              "      <th>3</th>\n",
              "      <td>하태민</td>\n",
              "      <td>30</td>\n",
              "      <td>isfj</td>\n",
              "    </tr>\n",
              "  </tbody>\n",
              "</table>\n",
              "</div>\n",
              "      <button class=\"colab-df-convert\" onclick=\"convertToInteractive('df-15d449ff-8f86-4137-bdd9-607b03528dee')\"\n",
              "              title=\"Convert this dataframe to an interactive table.\"\n",
              "              style=\"display:none;\">\n",
              "\n",
              "  <svg xmlns=\"http://www.w3.org/2000/svg\" height=\"24px\"viewBox=\"0 0 24 24\"\n",
              "       width=\"24px\">\n",
              "    <path d=\"M0 0h24v24H0V0z\" fill=\"none\"/>\n",
              "    <path d=\"M18.56 5.44l.94 2.06.94-2.06 2.06-.94-2.06-.94-.94-2.06-.94 2.06-2.06.94zm-11 1L8.5 8.5l.94-2.06 2.06-.94-2.06-.94L8.5 2.5l-.94 2.06-2.06.94zm10 10l.94 2.06.94-2.06 2.06-.94-2.06-.94-.94-2.06-.94 2.06-2.06.94z\"/><path d=\"M17.41 7.96l-1.37-1.37c-.4-.4-.92-.59-1.43-.59-.52 0-1.04.2-1.43.59L10.3 9.45l-7.72 7.72c-.78.78-.78 2.05 0 2.83L4 21.41c.39.39.9.59 1.41.59.51 0 1.02-.2 1.41-.59l7.78-7.78 2.81-2.81c.8-.78.8-2.07 0-2.86zM5.41 20L4 18.59l7.72-7.72 1.47 1.35L5.41 20z\"/>\n",
              "  </svg>\n",
              "      </button>\n",
              "\n",
              "\n",
              "\n",
              "    <div id=\"df-29765f7e-c3b2-40f7-a2f4-a5c9c5bbe46c\">\n",
              "      <button class=\"colab-df-quickchart\" onclick=\"quickchart('df-29765f7e-c3b2-40f7-a2f4-a5c9c5bbe46c')\"\n",
              "              title=\"Suggest charts.\"\n",
              "              style=\"display:none;\">\n",
              "\n",
              "<svg xmlns=\"http://www.w3.org/2000/svg\" height=\"24px\"viewBox=\"0 0 24 24\"\n",
              "     width=\"24px\">\n",
              "    <g>\n",
              "        <path d=\"M19 3H5c-1.1 0-2 .9-2 2v14c0 1.1.9 2 2 2h14c1.1 0 2-.9 2-2V5c0-1.1-.9-2-2-2zM9 17H7v-7h2v7zm4 0h-2V7h2v10zm4 0h-2v-4h2v4z\"/>\n",
              "    </g>\n",
              "</svg>\n",
              "      </button>\n",
              "    </div>\n",
              "\n",
              "<style>\n",
              "  .colab-df-quickchart {\n",
              "    background-color: #E8F0FE;\n",
              "    border: none;\n",
              "    border-radius: 50%;\n",
              "    cursor: pointer;\n",
              "    display: none;\n",
              "    fill: #1967D2;\n",
              "    height: 32px;\n",
              "    padding: 0 0 0 0;\n",
              "    width: 32px;\n",
              "  }\n",
              "\n",
              "  .colab-df-quickchart:hover {\n",
              "    background-color: #E2EBFA;\n",
              "    box-shadow: 0px 1px 2px rgba(60, 64, 67, 0.3), 0px 1px 3px 1px rgba(60, 64, 67, 0.15);\n",
              "    fill: #174EA6;\n",
              "  }\n",
              "\n",
              "  [theme=dark] .colab-df-quickchart {\n",
              "    background-color: #3B4455;\n",
              "    fill: #D2E3FC;\n",
              "  }\n",
              "\n",
              "  [theme=dark] .colab-df-quickchart:hover {\n",
              "    background-color: #434B5C;\n",
              "    box-shadow: 0px 1px 3px 1px rgba(0, 0, 0, 0.15);\n",
              "    filter: drop-shadow(0px 1px 2px rgba(0, 0, 0, 0.3));\n",
              "    fill: #FFFFFF;\n",
              "  }\n",
              "</style>\n",
              "\n",
              "    <script>\n",
              "      async function quickchart(key) {\n",
              "        const containerElement = document.querySelector('#' + key);\n",
              "        const charts = await google.colab.kernel.invokeFunction(\n",
              "            'suggestCharts', [key], {});\n",
              "      }\n",
              "    </script>\n",
              "\n",
              "      <script>\n",
              "\n",
              "function displayQuickchartButton(domScope) {\n",
              "  let quickchartButtonEl =\n",
              "    domScope.querySelector('#df-29765f7e-c3b2-40f7-a2f4-a5c9c5bbe46c button.colab-df-quickchart');\n",
              "  quickchartButtonEl.style.display =\n",
              "    google.colab.kernel.accessAllowed ? 'block' : 'none';\n",
              "}\n",
              "\n",
              "        displayQuickchartButton(document);\n",
              "      </script>\n",
              "      <style>\n",
              "    .colab-df-container {\n",
              "      display:flex;\n",
              "      flex-wrap:wrap;\n",
              "      gap: 12px;\n",
              "    }\n",
              "\n",
              "    .colab-df-convert {\n",
              "      background-color: #E8F0FE;\n",
              "      border: none;\n",
              "      border-radius: 50%;\n",
              "      cursor: pointer;\n",
              "      display: none;\n",
              "      fill: #1967D2;\n",
              "      height: 32px;\n",
              "      padding: 0 0 0 0;\n",
              "      width: 32px;\n",
              "    }\n",
              "\n",
              "    .colab-df-convert:hover {\n",
              "      background-color: #E2EBFA;\n",
              "      box-shadow: 0px 1px 2px rgba(60, 64, 67, 0.3), 0px 1px 3px 1px rgba(60, 64, 67, 0.15);\n",
              "      fill: #174EA6;\n",
              "    }\n",
              "\n",
              "    [theme=dark] .colab-df-convert {\n",
              "      background-color: #3B4455;\n",
              "      fill: #D2E3FC;\n",
              "    }\n",
              "\n",
              "    [theme=dark] .colab-df-convert:hover {\n",
              "      background-color: #434B5C;\n",
              "      box-shadow: 0px 1px 3px 1px rgba(0, 0, 0, 0.15);\n",
              "      filter: drop-shadow(0px 1px 2px rgba(0, 0, 0, 0.3));\n",
              "      fill: #FFFFFF;\n",
              "    }\n",
              "  </style>\n",
              "\n",
              "      <script>\n",
              "        const buttonEl =\n",
              "          document.querySelector('#df-15d449ff-8f86-4137-bdd9-607b03528dee button.colab-df-convert');\n",
              "        buttonEl.style.display =\n",
              "          google.colab.kernel.accessAllowed ? 'block' : 'none';\n",
              "\n",
              "        async function convertToInteractive(key) {\n",
              "          const element = document.querySelector('#df-15d449ff-8f86-4137-bdd9-607b03528dee');\n",
              "          const dataTable =\n",
              "            await google.colab.kernel.invokeFunction('convertToInteractive',\n",
              "                                                     [key], {});\n",
              "          if (!dataTable) return;\n",
              "\n",
              "          const docLinkHtml = 'Like what you see? Visit the ' +\n",
              "            '<a target=\"_blank\" href=https://colab.research.google.com/notebooks/data_table.ipynb>data table notebook</a>'\n",
              "            + ' to learn more about interactive tables.';\n",
              "          element.innerHTML = '';\n",
              "          dataTable['output_type'] = 'display_data';\n",
              "          await google.colab.output.renderOutput(dataTable, element);\n",
              "          const docLink = document.createElement('div');\n",
              "          docLink.innerHTML = docLinkHtml;\n",
              "          element.appendChild(docLink);\n",
              "        }\n",
              "      </script>\n",
              "    </div>\n",
              "  </div>\n"
            ]
          },
          "metadata": {},
          "execution_count": 165
        }
      ]
    },
    {
      "cell_type": "code",
      "source": [
        "#store\n",
        "\n",
        "sales = {\"화장품\" : [300, 250, 280, 320, 350] ,\n",
        "         \"가전제품\": [400, 500, 550, 600,680] ,\n",
        "         \"식료품\" : [150, 200, 300, 220, 280] ,\n",
        "         \"의류\" : [180, 230, 280, 330, 380]}\n",
        "\n",
        "col_name = [\"화장품\", \"가전제품\", \"식료품\", \"의류\"]\n",
        "obs_name = [\"2018\", \"2019\", \"2020\", \"2021\", \"2022\"]\n",
        "\n",
        "\n",
        "store_sales = pd.DataFrame(data=sales, columns=col_name, index=obs_name)\n",
        "store_sales"
      ],
      "metadata": {
        "colab": {
          "base_uri": "https://localhost:8080/",
          "height": 206
        },
        "id": "UX2KVZz17TlT",
        "outputId": "4be5d7a6-caa2-4907-bd4d-dfb521414919"
      },
      "execution_count": 172,
      "outputs": [
        {
          "output_type": "execute_result",
          "data": {
            "text/plain": [
              "      화장품  가전제품  식료품   의류\n",
              "2018  300   400  150  180\n",
              "2019  250   500  200  230\n",
              "2020  280   550  300  280\n",
              "2021  320   600  220  330\n",
              "2022  350   680  280  380"
            ],
            "text/html": [
              "\n",
              "\n",
              "  <div id=\"df-6bcf9a4b-1550-49c6-953a-39ac5b9081d1\">\n",
              "    <div class=\"colab-df-container\">\n",
              "      <div>\n",
              "<style scoped>\n",
              "    .dataframe tbody tr th:only-of-type {\n",
              "        vertical-align: middle;\n",
              "    }\n",
              "\n",
              "    .dataframe tbody tr th {\n",
              "        vertical-align: top;\n",
              "    }\n",
              "\n",
              "    .dataframe thead th {\n",
              "        text-align: right;\n",
              "    }\n",
              "</style>\n",
              "<table border=\"1\" class=\"dataframe\">\n",
              "  <thead>\n",
              "    <tr style=\"text-align: right;\">\n",
              "      <th></th>\n",
              "      <th>화장품</th>\n",
              "      <th>가전제품</th>\n",
              "      <th>식료품</th>\n",
              "      <th>의류</th>\n",
              "    </tr>\n",
              "  </thead>\n",
              "  <tbody>\n",
              "    <tr>\n",
              "      <th>2018</th>\n",
              "      <td>300</td>\n",
              "      <td>400</td>\n",
              "      <td>150</td>\n",
              "      <td>180</td>\n",
              "    </tr>\n",
              "    <tr>\n",
              "      <th>2019</th>\n",
              "      <td>250</td>\n",
              "      <td>500</td>\n",
              "      <td>200</td>\n",
              "      <td>230</td>\n",
              "    </tr>\n",
              "    <tr>\n",
              "      <th>2020</th>\n",
              "      <td>280</td>\n",
              "      <td>550</td>\n",
              "      <td>300</td>\n",
              "      <td>280</td>\n",
              "    </tr>\n",
              "    <tr>\n",
              "      <th>2021</th>\n",
              "      <td>320</td>\n",
              "      <td>600</td>\n",
              "      <td>220</td>\n",
              "      <td>330</td>\n",
              "    </tr>\n",
              "    <tr>\n",
              "      <th>2022</th>\n",
              "      <td>350</td>\n",
              "      <td>680</td>\n",
              "      <td>280</td>\n",
              "      <td>380</td>\n",
              "    </tr>\n",
              "  </tbody>\n",
              "</table>\n",
              "</div>\n",
              "      <button class=\"colab-df-convert\" onclick=\"convertToInteractive('df-6bcf9a4b-1550-49c6-953a-39ac5b9081d1')\"\n",
              "              title=\"Convert this dataframe to an interactive table.\"\n",
              "              style=\"display:none;\">\n",
              "\n",
              "  <svg xmlns=\"http://www.w3.org/2000/svg\" height=\"24px\"viewBox=\"0 0 24 24\"\n",
              "       width=\"24px\">\n",
              "    <path d=\"M0 0h24v24H0V0z\" fill=\"none\"/>\n",
              "    <path d=\"M18.56 5.44l.94 2.06.94-2.06 2.06-.94-2.06-.94-.94-2.06-.94 2.06-2.06.94zm-11 1L8.5 8.5l.94-2.06 2.06-.94-2.06-.94L8.5 2.5l-.94 2.06-2.06.94zm10 10l.94 2.06.94-2.06 2.06-.94-2.06-.94-.94-2.06-.94 2.06-2.06.94z\"/><path d=\"M17.41 7.96l-1.37-1.37c-.4-.4-.92-.59-1.43-.59-.52 0-1.04.2-1.43.59L10.3 9.45l-7.72 7.72c-.78.78-.78 2.05 0 2.83L4 21.41c.39.39.9.59 1.41.59.51 0 1.02-.2 1.41-.59l7.78-7.78 2.81-2.81c.8-.78.8-2.07 0-2.86zM5.41 20L4 18.59l7.72-7.72 1.47 1.35L5.41 20z\"/>\n",
              "  </svg>\n",
              "      </button>\n",
              "\n",
              "\n",
              "\n",
              "    <div id=\"df-edad02d1-5ccb-4d82-aa86-a9c4d4607a85\">\n",
              "      <button class=\"colab-df-quickchart\" onclick=\"quickchart('df-edad02d1-5ccb-4d82-aa86-a9c4d4607a85')\"\n",
              "              title=\"Suggest charts.\"\n",
              "              style=\"display:none;\">\n",
              "\n",
              "<svg xmlns=\"http://www.w3.org/2000/svg\" height=\"24px\"viewBox=\"0 0 24 24\"\n",
              "     width=\"24px\">\n",
              "    <g>\n",
              "        <path d=\"M19 3H5c-1.1 0-2 .9-2 2v14c0 1.1.9 2 2 2h14c1.1 0 2-.9 2-2V5c0-1.1-.9-2-2-2zM9 17H7v-7h2v7zm4 0h-2V7h2v10zm4 0h-2v-4h2v4z\"/>\n",
              "    </g>\n",
              "</svg>\n",
              "      </button>\n",
              "    </div>\n",
              "\n",
              "<style>\n",
              "  .colab-df-quickchart {\n",
              "    background-color: #E8F0FE;\n",
              "    border: none;\n",
              "    border-radius: 50%;\n",
              "    cursor: pointer;\n",
              "    display: none;\n",
              "    fill: #1967D2;\n",
              "    height: 32px;\n",
              "    padding: 0 0 0 0;\n",
              "    width: 32px;\n",
              "  }\n",
              "\n",
              "  .colab-df-quickchart:hover {\n",
              "    background-color: #E2EBFA;\n",
              "    box-shadow: 0px 1px 2px rgba(60, 64, 67, 0.3), 0px 1px 3px 1px rgba(60, 64, 67, 0.15);\n",
              "    fill: #174EA6;\n",
              "  }\n",
              "\n",
              "  [theme=dark] .colab-df-quickchart {\n",
              "    background-color: #3B4455;\n",
              "    fill: #D2E3FC;\n",
              "  }\n",
              "\n",
              "  [theme=dark] .colab-df-quickchart:hover {\n",
              "    background-color: #434B5C;\n",
              "    box-shadow: 0px 1px 3px 1px rgba(0, 0, 0, 0.15);\n",
              "    filter: drop-shadow(0px 1px 2px rgba(0, 0, 0, 0.3));\n",
              "    fill: #FFFFFF;\n",
              "  }\n",
              "</style>\n",
              "\n",
              "    <script>\n",
              "      async function quickchart(key) {\n",
              "        const containerElement = document.querySelector('#' + key);\n",
              "        const charts = await google.colab.kernel.invokeFunction(\n",
              "            'suggestCharts', [key], {});\n",
              "      }\n",
              "    </script>\n",
              "\n",
              "      <script>\n",
              "\n",
              "function displayQuickchartButton(domScope) {\n",
              "  let quickchartButtonEl =\n",
              "    domScope.querySelector('#df-edad02d1-5ccb-4d82-aa86-a9c4d4607a85 button.colab-df-quickchart');\n",
              "  quickchartButtonEl.style.display =\n",
              "    google.colab.kernel.accessAllowed ? 'block' : 'none';\n",
              "}\n",
              "\n",
              "        displayQuickchartButton(document);\n",
              "      </script>\n",
              "      <style>\n",
              "    .colab-df-container {\n",
              "      display:flex;\n",
              "      flex-wrap:wrap;\n",
              "      gap: 12px;\n",
              "    }\n",
              "\n",
              "    .colab-df-convert {\n",
              "      background-color: #E8F0FE;\n",
              "      border: none;\n",
              "      border-radius: 50%;\n",
              "      cursor: pointer;\n",
              "      display: none;\n",
              "      fill: #1967D2;\n",
              "      height: 32px;\n",
              "      padding: 0 0 0 0;\n",
              "      width: 32px;\n",
              "    }\n",
              "\n",
              "    .colab-df-convert:hover {\n",
              "      background-color: #E2EBFA;\n",
              "      box-shadow: 0px 1px 2px rgba(60, 64, 67, 0.3), 0px 1px 3px 1px rgba(60, 64, 67, 0.15);\n",
              "      fill: #174EA6;\n",
              "    }\n",
              "\n",
              "    [theme=dark] .colab-df-convert {\n",
              "      background-color: #3B4455;\n",
              "      fill: #D2E3FC;\n",
              "    }\n",
              "\n",
              "    [theme=dark] .colab-df-convert:hover {\n",
              "      background-color: #434B5C;\n",
              "      box-shadow: 0px 1px 3px 1px rgba(0, 0, 0, 0.15);\n",
              "      filter: drop-shadow(0px 1px 2px rgba(0, 0, 0, 0.3));\n",
              "      fill: #FFFFFF;\n",
              "    }\n",
              "  </style>\n",
              "\n",
              "      <script>\n",
              "        const buttonEl =\n",
              "          document.querySelector('#df-6bcf9a4b-1550-49c6-953a-39ac5b9081d1 button.colab-df-convert');\n",
              "        buttonEl.style.display =\n",
              "          google.colab.kernel.accessAllowed ? 'block' : 'none';\n",
              "\n",
              "        async function convertToInteractive(key) {\n",
              "          const element = document.querySelector('#df-6bcf9a4b-1550-49c6-953a-39ac5b9081d1');\n",
              "          const dataTable =\n",
              "            await google.colab.kernel.invokeFunction('convertToInteractive',\n",
              "                                                     [key], {});\n",
              "          if (!dataTable) return;\n",
              "\n",
              "          const docLinkHtml = 'Like what you see? Visit the ' +\n",
              "            '<a target=\"_blank\" href=https://colab.research.google.com/notebooks/data_table.ipynb>data table notebook</a>'\n",
              "            + ' to learn more about interactive tables.';\n",
              "          element.innerHTML = '';\n",
              "          dataTable['output_type'] = 'display_data';\n",
              "          await google.colab.output.renderOutput(dataTable, element);\n",
              "          const docLink = document.createElement('div');\n",
              "          docLink.innerHTML = docLinkHtml;\n",
              "          element.appendChild(docLink);\n",
              "        }\n",
              "      </script>\n",
              "    </div>\n",
              "  </div>\n"
            ]
          },
          "metadata": {},
          "execution_count": 172
        }
      ]
    },
    {
      "cell_type": "code",
      "source": [
        "store_sales[\"화장품\"]"
      ],
      "metadata": {
        "colab": {
          "base_uri": "https://localhost:8080/"
        },
        "id": "HFqDx6pgBVLW",
        "outputId": "6be76fbb-a81f-4e09-c548-6de3f7daae1b"
      },
      "execution_count": 173,
      "outputs": [
        {
          "output_type": "execute_result",
          "data": {
            "text/plain": [
              "2018    300\n",
              "2019    250\n",
              "2020    280\n",
              "2021    320\n",
              "2022    350\n",
              "Name: 화장품, dtype: int64"
            ]
          },
          "metadata": {},
          "execution_count": 173
        }
      ]
    },
    {
      "cell_type": "code",
      "source": [
        "store_sales[\"화장품\"].mean()"
      ],
      "metadata": {
        "colab": {
          "base_uri": "https://localhost:8080/"
        },
        "id": "BCI3YhkiCtzq",
        "outputId": "93fbb740-72d6-435f-dc76-11ee56e2047d"
      },
      "execution_count": 174,
      "outputs": [
        {
          "output_type": "execute_result",
          "data": {
            "text/plain": [
              "300.0"
            ]
          },
          "metadata": {},
          "execution_count": 174
        }
      ]
    },
    {
      "cell_type": "code",
      "source": [
        "a = store_sales.mean()"
      ],
      "metadata": {
        "id": "4J4FplIlCz7Q"
      },
      "execution_count": 178,
      "outputs": []
    },
    {
      "cell_type": "code",
      "source": [
        "b = store_sales.var()"
      ],
      "metadata": {
        "id": "QeXc-wCWDBEF"
      },
      "execution_count": 183,
      "outputs": []
    },
    {
      "cell_type": "code",
      "source": [
        "c = store_sales.std()"
      ],
      "metadata": {
        "id": "tSYTkqh1DsWd"
      },
      "execution_count": 184,
      "outputs": []
    },
    {
      "cell_type": "code",
      "source": [
        "print(\"-평균-\")\n",
        "print(a)\n",
        "print(\"-분산-\")\n",
        "print(b)\n",
        "print(\"-표준편차-\")\n",
        "print(c)"
      ],
      "metadata": {
        "colab": {
          "base_uri": "https://localhost:8080/"
        },
        "id": "9uholYHYDuuv",
        "outputId": "fdc29e29-e4da-4363-c10d-4ac239404f90"
      },
      "execution_count": 186,
      "outputs": [
        {
          "output_type": "stream",
          "name": "stdout",
          "text": [
            "-평균-\n",
            "화장품     300.0\n",
            "가전제품    546.0\n",
            "식료품     230.0\n",
            "의류      280.0\n",
            "dtype: float64\n",
            "-분산-\n",
            "화장품      1450.0\n",
            "가전제품    11080.0\n",
            "식료품      3700.0\n",
            "의류       6250.0\n",
            "dtype: float64\n",
            "-표준편차-\n",
            "화장품      38.078866\n",
            "가전제품    105.261579\n",
            "식료품      60.827625\n",
            "의류       79.056942\n",
            "dtype: float64\n"
          ]
        }
      ]
    },
    {
      "cell_type": "code",
      "source": [
        "store_sales.describe()"
      ],
      "metadata": {
        "colab": {
          "base_uri": "https://localhost:8080/",
          "height": 300
        },
        "id": "jfhKxrpmElAR",
        "outputId": "cc23f9e3-bcb4-4d07-b292-d438a51735a3"
      },
      "execution_count": 187,
      "outputs": [
        {
          "output_type": "execute_result",
          "data": {
            "text/plain": [
              "              화장품        가전제품         식료품          의류\n",
              "count    5.000000    5.000000    5.000000    5.000000\n",
              "mean   300.000000  546.000000  230.000000  280.000000\n",
              "std     38.078866  105.261579   60.827625   79.056942\n",
              "min    250.000000  400.000000  150.000000  180.000000\n",
              "25%    280.000000  500.000000  200.000000  230.000000\n",
              "50%    300.000000  550.000000  220.000000  280.000000\n",
              "75%    320.000000  600.000000  280.000000  330.000000\n",
              "max    350.000000  680.000000  300.000000  380.000000"
            ],
            "text/html": [
              "\n",
              "\n",
              "  <div id=\"df-808504a1-8d72-4e5b-a031-a586687fc867\">\n",
              "    <div class=\"colab-df-container\">\n",
              "      <div>\n",
              "<style scoped>\n",
              "    .dataframe tbody tr th:only-of-type {\n",
              "        vertical-align: middle;\n",
              "    }\n",
              "\n",
              "    .dataframe tbody tr th {\n",
              "        vertical-align: top;\n",
              "    }\n",
              "\n",
              "    .dataframe thead th {\n",
              "        text-align: right;\n",
              "    }\n",
              "</style>\n",
              "<table border=\"1\" class=\"dataframe\">\n",
              "  <thead>\n",
              "    <tr style=\"text-align: right;\">\n",
              "      <th></th>\n",
              "      <th>화장품</th>\n",
              "      <th>가전제품</th>\n",
              "      <th>식료품</th>\n",
              "      <th>의류</th>\n",
              "    </tr>\n",
              "  </thead>\n",
              "  <tbody>\n",
              "    <tr>\n",
              "      <th>count</th>\n",
              "      <td>5.000000</td>\n",
              "      <td>5.000000</td>\n",
              "      <td>5.000000</td>\n",
              "      <td>5.000000</td>\n",
              "    </tr>\n",
              "    <tr>\n",
              "      <th>mean</th>\n",
              "      <td>300.000000</td>\n",
              "      <td>546.000000</td>\n",
              "      <td>230.000000</td>\n",
              "      <td>280.000000</td>\n",
              "    </tr>\n",
              "    <tr>\n",
              "      <th>std</th>\n",
              "      <td>38.078866</td>\n",
              "      <td>105.261579</td>\n",
              "      <td>60.827625</td>\n",
              "      <td>79.056942</td>\n",
              "    </tr>\n",
              "    <tr>\n",
              "      <th>min</th>\n",
              "      <td>250.000000</td>\n",
              "      <td>400.000000</td>\n",
              "      <td>150.000000</td>\n",
              "      <td>180.000000</td>\n",
              "    </tr>\n",
              "    <tr>\n",
              "      <th>25%</th>\n",
              "      <td>280.000000</td>\n",
              "      <td>500.000000</td>\n",
              "      <td>200.000000</td>\n",
              "      <td>230.000000</td>\n",
              "    </tr>\n",
              "    <tr>\n",
              "      <th>50%</th>\n",
              "      <td>300.000000</td>\n",
              "      <td>550.000000</td>\n",
              "      <td>220.000000</td>\n",
              "      <td>280.000000</td>\n",
              "    </tr>\n",
              "    <tr>\n",
              "      <th>75%</th>\n",
              "      <td>320.000000</td>\n",
              "      <td>600.000000</td>\n",
              "      <td>280.000000</td>\n",
              "      <td>330.000000</td>\n",
              "    </tr>\n",
              "    <tr>\n",
              "      <th>max</th>\n",
              "      <td>350.000000</td>\n",
              "      <td>680.000000</td>\n",
              "      <td>300.000000</td>\n",
              "      <td>380.000000</td>\n",
              "    </tr>\n",
              "  </tbody>\n",
              "</table>\n",
              "</div>\n",
              "      <button class=\"colab-df-convert\" onclick=\"convertToInteractive('df-808504a1-8d72-4e5b-a031-a586687fc867')\"\n",
              "              title=\"Convert this dataframe to an interactive table.\"\n",
              "              style=\"display:none;\">\n",
              "\n",
              "  <svg xmlns=\"http://www.w3.org/2000/svg\" height=\"24px\"viewBox=\"0 0 24 24\"\n",
              "       width=\"24px\">\n",
              "    <path d=\"M0 0h24v24H0V0z\" fill=\"none\"/>\n",
              "    <path d=\"M18.56 5.44l.94 2.06.94-2.06 2.06-.94-2.06-.94-.94-2.06-.94 2.06-2.06.94zm-11 1L8.5 8.5l.94-2.06 2.06-.94-2.06-.94L8.5 2.5l-.94 2.06-2.06.94zm10 10l.94 2.06.94-2.06 2.06-.94-2.06-.94-.94-2.06-.94 2.06-2.06.94z\"/><path d=\"M17.41 7.96l-1.37-1.37c-.4-.4-.92-.59-1.43-.59-.52 0-1.04.2-1.43.59L10.3 9.45l-7.72 7.72c-.78.78-.78 2.05 0 2.83L4 21.41c.39.39.9.59 1.41.59.51 0 1.02-.2 1.41-.59l7.78-7.78 2.81-2.81c.8-.78.8-2.07 0-2.86zM5.41 20L4 18.59l7.72-7.72 1.47 1.35L5.41 20z\"/>\n",
              "  </svg>\n",
              "      </button>\n",
              "\n",
              "\n",
              "\n",
              "    <div id=\"df-fb0272b6-ecb6-4f99-8a4d-a68cc703202b\">\n",
              "      <button class=\"colab-df-quickchart\" onclick=\"quickchart('df-fb0272b6-ecb6-4f99-8a4d-a68cc703202b')\"\n",
              "              title=\"Suggest charts.\"\n",
              "              style=\"display:none;\">\n",
              "\n",
              "<svg xmlns=\"http://www.w3.org/2000/svg\" height=\"24px\"viewBox=\"0 0 24 24\"\n",
              "     width=\"24px\">\n",
              "    <g>\n",
              "        <path d=\"M19 3H5c-1.1 0-2 .9-2 2v14c0 1.1.9 2 2 2h14c1.1 0 2-.9 2-2V5c0-1.1-.9-2-2-2zM9 17H7v-7h2v7zm4 0h-2V7h2v10zm4 0h-2v-4h2v4z\"/>\n",
              "    </g>\n",
              "</svg>\n",
              "      </button>\n",
              "    </div>\n",
              "\n",
              "<style>\n",
              "  .colab-df-quickchart {\n",
              "    background-color: #E8F0FE;\n",
              "    border: none;\n",
              "    border-radius: 50%;\n",
              "    cursor: pointer;\n",
              "    display: none;\n",
              "    fill: #1967D2;\n",
              "    height: 32px;\n",
              "    padding: 0 0 0 0;\n",
              "    width: 32px;\n",
              "  }\n",
              "\n",
              "  .colab-df-quickchart:hover {\n",
              "    background-color: #E2EBFA;\n",
              "    box-shadow: 0px 1px 2px rgba(60, 64, 67, 0.3), 0px 1px 3px 1px rgba(60, 64, 67, 0.15);\n",
              "    fill: #174EA6;\n",
              "  }\n",
              "\n",
              "  [theme=dark] .colab-df-quickchart {\n",
              "    background-color: #3B4455;\n",
              "    fill: #D2E3FC;\n",
              "  }\n",
              "\n",
              "  [theme=dark] .colab-df-quickchart:hover {\n",
              "    background-color: #434B5C;\n",
              "    box-shadow: 0px 1px 3px 1px rgba(0, 0, 0, 0.15);\n",
              "    filter: drop-shadow(0px 1px 2px rgba(0, 0, 0, 0.3));\n",
              "    fill: #FFFFFF;\n",
              "  }\n",
              "</style>\n",
              "\n",
              "    <script>\n",
              "      async function quickchart(key) {\n",
              "        const containerElement = document.querySelector('#' + key);\n",
              "        const charts = await google.colab.kernel.invokeFunction(\n",
              "            'suggestCharts', [key], {});\n",
              "      }\n",
              "    </script>\n",
              "\n",
              "      <script>\n",
              "\n",
              "function displayQuickchartButton(domScope) {\n",
              "  let quickchartButtonEl =\n",
              "    domScope.querySelector('#df-fb0272b6-ecb6-4f99-8a4d-a68cc703202b button.colab-df-quickchart');\n",
              "  quickchartButtonEl.style.display =\n",
              "    google.colab.kernel.accessAllowed ? 'block' : 'none';\n",
              "}\n",
              "\n",
              "        displayQuickchartButton(document);\n",
              "      </script>\n",
              "      <style>\n",
              "    .colab-df-container {\n",
              "      display:flex;\n",
              "      flex-wrap:wrap;\n",
              "      gap: 12px;\n",
              "    }\n",
              "\n",
              "    .colab-df-convert {\n",
              "      background-color: #E8F0FE;\n",
              "      border: none;\n",
              "      border-radius: 50%;\n",
              "      cursor: pointer;\n",
              "      display: none;\n",
              "      fill: #1967D2;\n",
              "      height: 32px;\n",
              "      padding: 0 0 0 0;\n",
              "      width: 32px;\n",
              "    }\n",
              "\n",
              "    .colab-df-convert:hover {\n",
              "      background-color: #E2EBFA;\n",
              "      box-shadow: 0px 1px 2px rgba(60, 64, 67, 0.3), 0px 1px 3px 1px rgba(60, 64, 67, 0.15);\n",
              "      fill: #174EA6;\n",
              "    }\n",
              "\n",
              "    [theme=dark] .colab-df-convert {\n",
              "      background-color: #3B4455;\n",
              "      fill: #D2E3FC;\n",
              "    }\n",
              "\n",
              "    [theme=dark] .colab-df-convert:hover {\n",
              "      background-color: #434B5C;\n",
              "      box-shadow: 0px 1px 3px 1px rgba(0, 0, 0, 0.15);\n",
              "      filter: drop-shadow(0px 1px 2px rgba(0, 0, 0, 0.3));\n",
              "      fill: #FFFFFF;\n",
              "    }\n",
              "  </style>\n",
              "\n",
              "      <script>\n",
              "        const buttonEl =\n",
              "          document.querySelector('#df-808504a1-8d72-4e5b-a031-a586687fc867 button.colab-df-convert');\n",
              "        buttonEl.style.display =\n",
              "          google.colab.kernel.accessAllowed ? 'block' : 'none';\n",
              "\n",
              "        async function convertToInteractive(key) {\n",
              "          const element = document.querySelector('#df-808504a1-8d72-4e5b-a031-a586687fc867');\n",
              "          const dataTable =\n",
              "            await google.colab.kernel.invokeFunction('convertToInteractive',\n",
              "                                                     [key], {});\n",
              "          if (!dataTable) return;\n",
              "\n",
              "          const docLinkHtml = 'Like what you see? Visit the ' +\n",
              "            '<a target=\"_blank\" href=https://colab.research.google.com/notebooks/data_table.ipynb>data table notebook</a>'\n",
              "            + ' to learn more about interactive tables.';\n",
              "          element.innerHTML = '';\n",
              "          dataTable['output_type'] = 'display_data';\n",
              "          await google.colab.output.renderOutput(dataTable, element);\n",
              "          const docLink = document.createElement('div');\n",
              "          docLink.innerHTML = docLinkHtml;\n",
              "          element.appendChild(docLink);\n",
              "        }\n",
              "      </script>\n",
              "    </div>\n",
              "  </div>\n"
            ]
          },
          "metadata": {},
          "execution_count": 187
        }
      ]
    },
    {
      "cell_type": "code",
      "source": [
        "store_sales.loc[\"2022\"] #location약자 loc는 문자 i loc는 숫자(inteeger=i)"
      ],
      "metadata": {
        "colab": {
          "base_uri": "https://localhost:8080/"
        },
        "id": "bo4zS1VvEoU4",
        "outputId": "2e8832d2-db72-4e95-e768-4c26d045b70d"
      },
      "execution_count": 188,
      "outputs": [
        {
          "output_type": "execute_result",
          "data": {
            "text/plain": [
              "화장품     350\n",
              "가전제품    680\n",
              "식료품     280\n",
              "의류      380\n",
              "Name: 2022, dtype: int64"
            ]
          },
          "metadata": {},
          "execution_count": 188
        }
      ]
    },
    {
      "cell_type": "code",
      "source": [
        "store_sales"
      ],
      "metadata": {
        "colab": {
          "base_uri": "https://localhost:8080/",
          "height": 206
        },
        "id": "w090608vE6VI",
        "outputId": "4833453d-975a-4ce2-ee08-de83b9276d20"
      },
      "execution_count": 189,
      "outputs": [
        {
          "output_type": "execute_result",
          "data": {
            "text/plain": [
              "      화장품  가전제품  식료품   의류\n",
              "2018  300   400  150  180\n",
              "2019  250   500  200  230\n",
              "2020  280   550  300  280\n",
              "2021  320   600  220  330\n",
              "2022  350   680  280  380"
            ],
            "text/html": [
              "\n",
              "\n",
              "  <div id=\"df-26c41b38-d738-4398-ac7a-cd61d7916780\">\n",
              "    <div class=\"colab-df-container\">\n",
              "      <div>\n",
              "<style scoped>\n",
              "    .dataframe tbody tr th:only-of-type {\n",
              "        vertical-align: middle;\n",
              "    }\n",
              "\n",
              "    .dataframe tbody tr th {\n",
              "        vertical-align: top;\n",
              "    }\n",
              "\n",
              "    .dataframe thead th {\n",
              "        text-align: right;\n",
              "    }\n",
              "</style>\n",
              "<table border=\"1\" class=\"dataframe\">\n",
              "  <thead>\n",
              "    <tr style=\"text-align: right;\">\n",
              "      <th></th>\n",
              "      <th>화장품</th>\n",
              "      <th>가전제품</th>\n",
              "      <th>식료품</th>\n",
              "      <th>의류</th>\n",
              "    </tr>\n",
              "  </thead>\n",
              "  <tbody>\n",
              "    <tr>\n",
              "      <th>2018</th>\n",
              "      <td>300</td>\n",
              "      <td>400</td>\n",
              "      <td>150</td>\n",
              "      <td>180</td>\n",
              "    </tr>\n",
              "    <tr>\n",
              "      <th>2019</th>\n",
              "      <td>250</td>\n",
              "      <td>500</td>\n",
              "      <td>200</td>\n",
              "      <td>230</td>\n",
              "    </tr>\n",
              "    <tr>\n",
              "      <th>2020</th>\n",
              "      <td>280</td>\n",
              "      <td>550</td>\n",
              "      <td>300</td>\n",
              "      <td>280</td>\n",
              "    </tr>\n",
              "    <tr>\n",
              "      <th>2021</th>\n",
              "      <td>320</td>\n",
              "      <td>600</td>\n",
              "      <td>220</td>\n",
              "      <td>330</td>\n",
              "    </tr>\n",
              "    <tr>\n",
              "      <th>2022</th>\n",
              "      <td>350</td>\n",
              "      <td>680</td>\n",
              "      <td>280</td>\n",
              "      <td>380</td>\n",
              "    </tr>\n",
              "  </tbody>\n",
              "</table>\n",
              "</div>\n",
              "      <button class=\"colab-df-convert\" onclick=\"convertToInteractive('df-26c41b38-d738-4398-ac7a-cd61d7916780')\"\n",
              "              title=\"Convert this dataframe to an interactive table.\"\n",
              "              style=\"display:none;\">\n",
              "\n",
              "  <svg xmlns=\"http://www.w3.org/2000/svg\" height=\"24px\"viewBox=\"0 0 24 24\"\n",
              "       width=\"24px\">\n",
              "    <path d=\"M0 0h24v24H0V0z\" fill=\"none\"/>\n",
              "    <path d=\"M18.56 5.44l.94 2.06.94-2.06 2.06-.94-2.06-.94-.94-2.06-.94 2.06-2.06.94zm-11 1L8.5 8.5l.94-2.06 2.06-.94-2.06-.94L8.5 2.5l-.94 2.06-2.06.94zm10 10l.94 2.06.94-2.06 2.06-.94-2.06-.94-.94-2.06-.94 2.06-2.06.94z\"/><path d=\"M17.41 7.96l-1.37-1.37c-.4-.4-.92-.59-1.43-.59-.52 0-1.04.2-1.43.59L10.3 9.45l-7.72 7.72c-.78.78-.78 2.05 0 2.83L4 21.41c.39.39.9.59 1.41.59.51 0 1.02-.2 1.41-.59l7.78-7.78 2.81-2.81c.8-.78.8-2.07 0-2.86zM5.41 20L4 18.59l7.72-7.72 1.47 1.35L5.41 20z\"/>\n",
              "  </svg>\n",
              "      </button>\n",
              "\n",
              "\n",
              "\n",
              "    <div id=\"df-9a626b6c-c912-43ce-8c61-8fca76a8a2ec\">\n",
              "      <button class=\"colab-df-quickchart\" onclick=\"quickchart('df-9a626b6c-c912-43ce-8c61-8fca76a8a2ec')\"\n",
              "              title=\"Suggest charts.\"\n",
              "              style=\"display:none;\">\n",
              "\n",
              "<svg xmlns=\"http://www.w3.org/2000/svg\" height=\"24px\"viewBox=\"0 0 24 24\"\n",
              "     width=\"24px\">\n",
              "    <g>\n",
              "        <path d=\"M19 3H5c-1.1 0-2 .9-2 2v14c0 1.1.9 2 2 2h14c1.1 0 2-.9 2-2V5c0-1.1-.9-2-2-2zM9 17H7v-7h2v7zm4 0h-2V7h2v10zm4 0h-2v-4h2v4z\"/>\n",
              "    </g>\n",
              "</svg>\n",
              "      </button>\n",
              "    </div>\n",
              "\n",
              "<style>\n",
              "  .colab-df-quickchart {\n",
              "    background-color: #E8F0FE;\n",
              "    border: none;\n",
              "    border-radius: 50%;\n",
              "    cursor: pointer;\n",
              "    display: none;\n",
              "    fill: #1967D2;\n",
              "    height: 32px;\n",
              "    padding: 0 0 0 0;\n",
              "    width: 32px;\n",
              "  }\n",
              "\n",
              "  .colab-df-quickchart:hover {\n",
              "    background-color: #E2EBFA;\n",
              "    box-shadow: 0px 1px 2px rgba(60, 64, 67, 0.3), 0px 1px 3px 1px rgba(60, 64, 67, 0.15);\n",
              "    fill: #174EA6;\n",
              "  }\n",
              "\n",
              "  [theme=dark] .colab-df-quickchart {\n",
              "    background-color: #3B4455;\n",
              "    fill: #D2E3FC;\n",
              "  }\n",
              "\n",
              "  [theme=dark] .colab-df-quickchart:hover {\n",
              "    background-color: #434B5C;\n",
              "    box-shadow: 0px 1px 3px 1px rgba(0, 0, 0, 0.15);\n",
              "    filter: drop-shadow(0px 1px 2px rgba(0, 0, 0, 0.3));\n",
              "    fill: #FFFFFF;\n",
              "  }\n",
              "</style>\n",
              "\n",
              "    <script>\n",
              "      async function quickchart(key) {\n",
              "        const containerElement = document.querySelector('#' + key);\n",
              "        const charts = await google.colab.kernel.invokeFunction(\n",
              "            'suggestCharts', [key], {});\n",
              "      }\n",
              "    </script>\n",
              "\n",
              "      <script>\n",
              "\n",
              "function displayQuickchartButton(domScope) {\n",
              "  let quickchartButtonEl =\n",
              "    domScope.querySelector('#df-9a626b6c-c912-43ce-8c61-8fca76a8a2ec button.colab-df-quickchart');\n",
              "  quickchartButtonEl.style.display =\n",
              "    google.colab.kernel.accessAllowed ? 'block' : 'none';\n",
              "}\n",
              "\n",
              "        displayQuickchartButton(document);\n",
              "      </script>\n",
              "      <style>\n",
              "    .colab-df-container {\n",
              "      display:flex;\n",
              "      flex-wrap:wrap;\n",
              "      gap: 12px;\n",
              "    }\n",
              "\n",
              "    .colab-df-convert {\n",
              "      background-color: #E8F0FE;\n",
              "      border: none;\n",
              "      border-radius: 50%;\n",
              "      cursor: pointer;\n",
              "      display: none;\n",
              "      fill: #1967D2;\n",
              "      height: 32px;\n",
              "      padding: 0 0 0 0;\n",
              "      width: 32px;\n",
              "    }\n",
              "\n",
              "    .colab-df-convert:hover {\n",
              "      background-color: #E2EBFA;\n",
              "      box-shadow: 0px 1px 2px rgba(60, 64, 67, 0.3), 0px 1px 3px 1px rgba(60, 64, 67, 0.15);\n",
              "      fill: #174EA6;\n",
              "    }\n",
              "\n",
              "    [theme=dark] .colab-df-convert {\n",
              "      background-color: #3B4455;\n",
              "      fill: #D2E3FC;\n",
              "    }\n",
              "\n",
              "    [theme=dark] .colab-df-convert:hover {\n",
              "      background-color: #434B5C;\n",
              "      box-shadow: 0px 1px 3px 1px rgba(0, 0, 0, 0.15);\n",
              "      filter: drop-shadow(0px 1px 2px rgba(0, 0, 0, 0.3));\n",
              "      fill: #FFFFFF;\n",
              "    }\n",
              "  </style>\n",
              "\n",
              "      <script>\n",
              "        const buttonEl =\n",
              "          document.querySelector('#df-26c41b38-d738-4398-ac7a-cd61d7916780 button.colab-df-convert');\n",
              "        buttonEl.style.display =\n",
              "          google.colab.kernel.accessAllowed ? 'block' : 'none';\n",
              "\n",
              "        async function convertToInteractive(key) {\n",
              "          const element = document.querySelector('#df-26c41b38-d738-4398-ac7a-cd61d7916780');\n",
              "          const dataTable =\n",
              "            await google.colab.kernel.invokeFunction('convertToInteractive',\n",
              "                                                     [key], {});\n",
              "          if (!dataTable) return;\n",
              "\n",
              "          const docLinkHtml = 'Like what you see? Visit the ' +\n",
              "            '<a target=\"_blank\" href=https://colab.research.google.com/notebooks/data_table.ipynb>data table notebook</a>'\n",
              "            + ' to learn more about interactive tables.';\n",
              "          element.innerHTML = '';\n",
              "          dataTable['output_type'] = 'display_data';\n",
              "          await google.colab.output.renderOutput(dataTable, element);\n",
              "          const docLink = document.createElement('div');\n",
              "          docLink.innerHTML = docLinkHtml;\n",
              "          element.appendChild(docLink);\n",
              "        }\n",
              "      </script>\n",
              "    </div>\n",
              "  </div>\n"
            ]
          },
          "metadata": {},
          "execution_count": 189
        }
      ]
    },
    {
      "cell_type": "code",
      "source": [
        "store_sales[\"화장품\"][\"2021\":\"2022\"]"
      ],
      "metadata": {
        "colab": {
          "base_uri": "https://localhost:8080/"
        },
        "id": "v12v5C-ZE-Zu",
        "outputId": "94345720-fc8a-46d8-9ebb-33f50f65f528"
      },
      "execution_count": 195,
      "outputs": [
        {
          "output_type": "execute_result",
          "data": {
            "text/plain": [
              "2021    320\n",
              "2022    350\n",
              "Name: 화장품, dtype: int64"
            ]
          },
          "metadata": {},
          "execution_count": 195
        }
      ]
    },
    {
      "cell_type": "code",
      "source": [
        "store_sales.iloc[3:5,0] #복합적인건 iloc loc하면 멀티인덱스라고 오류뜨기떄문"
      ],
      "metadata": {
        "colab": {
          "base_uri": "https://localhost:8080/"
        },
        "id": "wrO23lhtFRov",
        "outputId": "306de287-353f-45bf-86c2-f106acc0c2df"
      },
      "execution_count": 198,
      "outputs": [
        {
          "output_type": "execute_result",
          "data": {
            "text/plain": [
              "2021    320\n",
              "2022    350\n",
              "Name: 화장품, dtype: int64"
            ]
          },
          "metadata": {},
          "execution_count": 198
        }
      ]
    },
    {
      "cell_type": "code",
      "source": [
        "store_sales"
      ],
      "metadata": {
        "colab": {
          "base_uri": "https://localhost:8080/",
          "height": 206
        },
        "id": "0ijhcV7WFrI2",
        "outputId": "db3dcf99-a986-408b-aba6-ba0d4202d121"
      },
      "execution_count": 199,
      "outputs": [
        {
          "output_type": "execute_result",
          "data": {
            "text/plain": [
              "      화장품  가전제품  식료품   의류\n",
              "2018  300   400  150  180\n",
              "2019  250   500  200  230\n",
              "2020  280   550  300  280\n",
              "2021  320   600  220  330\n",
              "2022  350   680  280  380"
            ],
            "text/html": [
              "\n",
              "\n",
              "  <div id=\"df-1b3c4bc0-310a-4783-9534-06417433c4f0\">\n",
              "    <div class=\"colab-df-container\">\n",
              "      <div>\n",
              "<style scoped>\n",
              "    .dataframe tbody tr th:only-of-type {\n",
              "        vertical-align: middle;\n",
              "    }\n",
              "\n",
              "    .dataframe tbody tr th {\n",
              "        vertical-align: top;\n",
              "    }\n",
              "\n",
              "    .dataframe thead th {\n",
              "        text-align: right;\n",
              "    }\n",
              "</style>\n",
              "<table border=\"1\" class=\"dataframe\">\n",
              "  <thead>\n",
              "    <tr style=\"text-align: right;\">\n",
              "      <th></th>\n",
              "      <th>화장품</th>\n",
              "      <th>가전제품</th>\n",
              "      <th>식료품</th>\n",
              "      <th>의류</th>\n",
              "    </tr>\n",
              "  </thead>\n",
              "  <tbody>\n",
              "    <tr>\n",
              "      <th>2018</th>\n",
              "      <td>300</td>\n",
              "      <td>400</td>\n",
              "      <td>150</td>\n",
              "      <td>180</td>\n",
              "    </tr>\n",
              "    <tr>\n",
              "      <th>2019</th>\n",
              "      <td>250</td>\n",
              "      <td>500</td>\n",
              "      <td>200</td>\n",
              "      <td>230</td>\n",
              "    </tr>\n",
              "    <tr>\n",
              "      <th>2020</th>\n",
              "      <td>280</td>\n",
              "      <td>550</td>\n",
              "      <td>300</td>\n",
              "      <td>280</td>\n",
              "    </tr>\n",
              "    <tr>\n",
              "      <th>2021</th>\n",
              "      <td>320</td>\n",
              "      <td>600</td>\n",
              "      <td>220</td>\n",
              "      <td>330</td>\n",
              "    </tr>\n",
              "    <tr>\n",
              "      <th>2022</th>\n",
              "      <td>350</td>\n",
              "      <td>680</td>\n",
              "      <td>280</td>\n",
              "      <td>380</td>\n",
              "    </tr>\n",
              "  </tbody>\n",
              "</table>\n",
              "</div>\n",
              "      <button class=\"colab-df-convert\" onclick=\"convertToInteractive('df-1b3c4bc0-310a-4783-9534-06417433c4f0')\"\n",
              "              title=\"Convert this dataframe to an interactive table.\"\n",
              "              style=\"display:none;\">\n",
              "\n",
              "  <svg xmlns=\"http://www.w3.org/2000/svg\" height=\"24px\"viewBox=\"0 0 24 24\"\n",
              "       width=\"24px\">\n",
              "    <path d=\"M0 0h24v24H0V0z\" fill=\"none\"/>\n",
              "    <path d=\"M18.56 5.44l.94 2.06.94-2.06 2.06-.94-2.06-.94-.94-2.06-.94 2.06-2.06.94zm-11 1L8.5 8.5l.94-2.06 2.06-.94-2.06-.94L8.5 2.5l-.94 2.06-2.06.94zm10 10l.94 2.06.94-2.06 2.06-.94-2.06-.94-.94-2.06-.94 2.06-2.06.94z\"/><path d=\"M17.41 7.96l-1.37-1.37c-.4-.4-.92-.59-1.43-.59-.52 0-1.04.2-1.43.59L10.3 9.45l-7.72 7.72c-.78.78-.78 2.05 0 2.83L4 21.41c.39.39.9.59 1.41.59.51 0 1.02-.2 1.41-.59l7.78-7.78 2.81-2.81c.8-.78.8-2.07 0-2.86zM5.41 20L4 18.59l7.72-7.72 1.47 1.35L5.41 20z\"/>\n",
              "  </svg>\n",
              "      </button>\n",
              "\n",
              "\n",
              "\n",
              "    <div id=\"df-6733897f-b022-4cee-a379-c8ed5a33735a\">\n",
              "      <button class=\"colab-df-quickchart\" onclick=\"quickchart('df-6733897f-b022-4cee-a379-c8ed5a33735a')\"\n",
              "              title=\"Suggest charts.\"\n",
              "              style=\"display:none;\">\n",
              "\n",
              "<svg xmlns=\"http://www.w3.org/2000/svg\" height=\"24px\"viewBox=\"0 0 24 24\"\n",
              "     width=\"24px\">\n",
              "    <g>\n",
              "        <path d=\"M19 3H5c-1.1 0-2 .9-2 2v14c0 1.1.9 2 2 2h14c1.1 0 2-.9 2-2V5c0-1.1-.9-2-2-2zM9 17H7v-7h2v7zm4 0h-2V7h2v10zm4 0h-2v-4h2v4z\"/>\n",
              "    </g>\n",
              "</svg>\n",
              "      </button>\n",
              "    </div>\n",
              "\n",
              "<style>\n",
              "  .colab-df-quickchart {\n",
              "    background-color: #E8F0FE;\n",
              "    border: none;\n",
              "    border-radius: 50%;\n",
              "    cursor: pointer;\n",
              "    display: none;\n",
              "    fill: #1967D2;\n",
              "    height: 32px;\n",
              "    padding: 0 0 0 0;\n",
              "    width: 32px;\n",
              "  }\n",
              "\n",
              "  .colab-df-quickchart:hover {\n",
              "    background-color: #E2EBFA;\n",
              "    box-shadow: 0px 1px 2px rgba(60, 64, 67, 0.3), 0px 1px 3px 1px rgba(60, 64, 67, 0.15);\n",
              "    fill: #174EA6;\n",
              "  }\n",
              "\n",
              "  [theme=dark] .colab-df-quickchart {\n",
              "    background-color: #3B4455;\n",
              "    fill: #D2E3FC;\n",
              "  }\n",
              "\n",
              "  [theme=dark] .colab-df-quickchart:hover {\n",
              "    background-color: #434B5C;\n",
              "    box-shadow: 0px 1px 3px 1px rgba(0, 0, 0, 0.15);\n",
              "    filter: drop-shadow(0px 1px 2px rgba(0, 0, 0, 0.3));\n",
              "    fill: #FFFFFF;\n",
              "  }\n",
              "</style>\n",
              "\n",
              "    <script>\n",
              "      async function quickchart(key) {\n",
              "        const containerElement = document.querySelector('#' + key);\n",
              "        const charts = await google.colab.kernel.invokeFunction(\n",
              "            'suggestCharts', [key], {});\n",
              "      }\n",
              "    </script>\n",
              "\n",
              "      <script>\n",
              "\n",
              "function displayQuickchartButton(domScope) {\n",
              "  let quickchartButtonEl =\n",
              "    domScope.querySelector('#df-6733897f-b022-4cee-a379-c8ed5a33735a button.colab-df-quickchart');\n",
              "  quickchartButtonEl.style.display =\n",
              "    google.colab.kernel.accessAllowed ? 'block' : 'none';\n",
              "}\n",
              "\n",
              "        displayQuickchartButton(document);\n",
              "      </script>\n",
              "      <style>\n",
              "    .colab-df-container {\n",
              "      display:flex;\n",
              "      flex-wrap:wrap;\n",
              "      gap: 12px;\n",
              "    }\n",
              "\n",
              "    .colab-df-convert {\n",
              "      background-color: #E8F0FE;\n",
              "      border: none;\n",
              "      border-radius: 50%;\n",
              "      cursor: pointer;\n",
              "      display: none;\n",
              "      fill: #1967D2;\n",
              "      height: 32px;\n",
              "      padding: 0 0 0 0;\n",
              "      width: 32px;\n",
              "    }\n",
              "\n",
              "    .colab-df-convert:hover {\n",
              "      background-color: #E2EBFA;\n",
              "      box-shadow: 0px 1px 2px rgba(60, 64, 67, 0.3), 0px 1px 3px 1px rgba(60, 64, 67, 0.15);\n",
              "      fill: #174EA6;\n",
              "    }\n",
              "\n",
              "    [theme=dark] .colab-df-convert {\n",
              "      background-color: #3B4455;\n",
              "      fill: #D2E3FC;\n",
              "    }\n",
              "\n",
              "    [theme=dark] .colab-df-convert:hover {\n",
              "      background-color: #434B5C;\n",
              "      box-shadow: 0px 1px 3px 1px rgba(0, 0, 0, 0.15);\n",
              "      filter: drop-shadow(0px 1px 2px rgba(0, 0, 0, 0.3));\n",
              "      fill: #FFFFFF;\n",
              "    }\n",
              "  </style>\n",
              "\n",
              "      <script>\n",
              "        const buttonEl =\n",
              "          document.querySelector('#df-1b3c4bc0-310a-4783-9534-06417433c4f0 button.colab-df-convert');\n",
              "        buttonEl.style.display =\n",
              "          google.colab.kernel.accessAllowed ? 'block' : 'none';\n",
              "\n",
              "        async function convertToInteractive(key) {\n",
              "          const element = document.querySelector('#df-1b3c4bc0-310a-4783-9534-06417433c4f0');\n",
              "          const dataTable =\n",
              "            await google.colab.kernel.invokeFunction('convertToInteractive',\n",
              "                                                     [key], {});\n",
              "          if (!dataTable) return;\n",
              "\n",
              "          const docLinkHtml = 'Like what you see? Visit the ' +\n",
              "            '<a target=\"_blank\" href=https://colab.research.google.com/notebooks/data_table.ipynb>data table notebook</a>'\n",
              "            + ' to learn more about interactive tables.';\n",
              "          element.innerHTML = '';\n",
              "          dataTable['output_type'] = 'display_data';\n",
              "          await google.colab.output.renderOutput(dataTable, element);\n",
              "          const docLink = document.createElement('div');\n",
              "          docLink.innerHTML = docLinkHtml;\n",
              "          element.appendChild(docLink);\n",
              "        }\n",
              "      </script>\n",
              "    </div>\n",
              "  </div>\n"
            ]
          },
          "metadata": {},
          "execution_count": 199
        }
      ]
    },
    {
      "cell_type": "code",
      "source": [
        "store_sales.columns = [\"향수\",\"가전제품\",\"식료품\",\"의류\"]  #화장품->향수로 이름바꾸기"
      ],
      "metadata": {
        "id": "rL4liiNnGQDt"
      },
      "execution_count": 204,
      "outputs": []
    },
    {
      "cell_type": "code",
      "source": [
        "store_sales"
      ],
      "metadata": {
        "colab": {
          "base_uri": "https://localhost:8080/",
          "height": 206
        },
        "id": "qPLjG9zYGdQ5",
        "outputId": "edeb48e3-38de-478f-c3d1-7dcd1ded3090"
      },
      "execution_count": 205,
      "outputs": [
        {
          "output_type": "execute_result",
          "data": {
            "text/plain": [
              "       향수  가전제품  식료품   의류\n",
              "2018  300   400  150  180\n",
              "2019  250   500  200  230\n",
              "2020  280   550  300  280\n",
              "2021  320   600  220  330\n",
              "2022  350   680  280  380"
            ],
            "text/html": [
              "\n",
              "\n",
              "  <div id=\"df-d564ad0a-d8d3-4e41-a1a0-9e0b3e39a0ad\">\n",
              "    <div class=\"colab-df-container\">\n",
              "      <div>\n",
              "<style scoped>\n",
              "    .dataframe tbody tr th:only-of-type {\n",
              "        vertical-align: middle;\n",
              "    }\n",
              "\n",
              "    .dataframe tbody tr th {\n",
              "        vertical-align: top;\n",
              "    }\n",
              "\n",
              "    .dataframe thead th {\n",
              "        text-align: right;\n",
              "    }\n",
              "</style>\n",
              "<table border=\"1\" class=\"dataframe\">\n",
              "  <thead>\n",
              "    <tr style=\"text-align: right;\">\n",
              "      <th></th>\n",
              "      <th>향수</th>\n",
              "      <th>가전제품</th>\n",
              "      <th>식료품</th>\n",
              "      <th>의류</th>\n",
              "    </tr>\n",
              "  </thead>\n",
              "  <tbody>\n",
              "    <tr>\n",
              "      <th>2018</th>\n",
              "      <td>300</td>\n",
              "      <td>400</td>\n",
              "      <td>150</td>\n",
              "      <td>180</td>\n",
              "    </tr>\n",
              "    <tr>\n",
              "      <th>2019</th>\n",
              "      <td>250</td>\n",
              "      <td>500</td>\n",
              "      <td>200</td>\n",
              "      <td>230</td>\n",
              "    </tr>\n",
              "    <tr>\n",
              "      <th>2020</th>\n",
              "      <td>280</td>\n",
              "      <td>550</td>\n",
              "      <td>300</td>\n",
              "      <td>280</td>\n",
              "    </tr>\n",
              "    <tr>\n",
              "      <th>2021</th>\n",
              "      <td>320</td>\n",
              "      <td>600</td>\n",
              "      <td>220</td>\n",
              "      <td>330</td>\n",
              "    </tr>\n",
              "    <tr>\n",
              "      <th>2022</th>\n",
              "      <td>350</td>\n",
              "      <td>680</td>\n",
              "      <td>280</td>\n",
              "      <td>380</td>\n",
              "    </tr>\n",
              "  </tbody>\n",
              "</table>\n",
              "</div>\n",
              "      <button class=\"colab-df-convert\" onclick=\"convertToInteractive('df-d564ad0a-d8d3-4e41-a1a0-9e0b3e39a0ad')\"\n",
              "              title=\"Convert this dataframe to an interactive table.\"\n",
              "              style=\"display:none;\">\n",
              "\n",
              "  <svg xmlns=\"http://www.w3.org/2000/svg\" height=\"24px\"viewBox=\"0 0 24 24\"\n",
              "       width=\"24px\">\n",
              "    <path d=\"M0 0h24v24H0V0z\" fill=\"none\"/>\n",
              "    <path d=\"M18.56 5.44l.94 2.06.94-2.06 2.06-.94-2.06-.94-.94-2.06-.94 2.06-2.06.94zm-11 1L8.5 8.5l.94-2.06 2.06-.94-2.06-.94L8.5 2.5l-.94 2.06-2.06.94zm10 10l.94 2.06.94-2.06 2.06-.94-2.06-.94-.94-2.06-.94 2.06-2.06.94z\"/><path d=\"M17.41 7.96l-1.37-1.37c-.4-.4-.92-.59-1.43-.59-.52 0-1.04.2-1.43.59L10.3 9.45l-7.72 7.72c-.78.78-.78 2.05 0 2.83L4 21.41c.39.39.9.59 1.41.59.51 0 1.02-.2 1.41-.59l7.78-7.78 2.81-2.81c.8-.78.8-2.07 0-2.86zM5.41 20L4 18.59l7.72-7.72 1.47 1.35L5.41 20z\"/>\n",
              "  </svg>\n",
              "      </button>\n",
              "\n",
              "\n",
              "\n",
              "    <div id=\"df-00eb616f-f71f-496b-90db-264266581d41\">\n",
              "      <button class=\"colab-df-quickchart\" onclick=\"quickchart('df-00eb616f-f71f-496b-90db-264266581d41')\"\n",
              "              title=\"Suggest charts.\"\n",
              "              style=\"display:none;\">\n",
              "\n",
              "<svg xmlns=\"http://www.w3.org/2000/svg\" height=\"24px\"viewBox=\"0 0 24 24\"\n",
              "     width=\"24px\">\n",
              "    <g>\n",
              "        <path d=\"M19 3H5c-1.1 0-2 .9-2 2v14c0 1.1.9 2 2 2h14c1.1 0 2-.9 2-2V5c0-1.1-.9-2-2-2zM9 17H7v-7h2v7zm4 0h-2V7h2v10zm4 0h-2v-4h2v4z\"/>\n",
              "    </g>\n",
              "</svg>\n",
              "      </button>\n",
              "    </div>\n",
              "\n",
              "<style>\n",
              "  .colab-df-quickchart {\n",
              "    background-color: #E8F0FE;\n",
              "    border: none;\n",
              "    border-radius: 50%;\n",
              "    cursor: pointer;\n",
              "    display: none;\n",
              "    fill: #1967D2;\n",
              "    height: 32px;\n",
              "    padding: 0 0 0 0;\n",
              "    width: 32px;\n",
              "  }\n",
              "\n",
              "  .colab-df-quickchart:hover {\n",
              "    background-color: #E2EBFA;\n",
              "    box-shadow: 0px 1px 2px rgba(60, 64, 67, 0.3), 0px 1px 3px 1px rgba(60, 64, 67, 0.15);\n",
              "    fill: #174EA6;\n",
              "  }\n",
              "\n",
              "  [theme=dark] .colab-df-quickchart {\n",
              "    background-color: #3B4455;\n",
              "    fill: #D2E3FC;\n",
              "  }\n",
              "\n",
              "  [theme=dark] .colab-df-quickchart:hover {\n",
              "    background-color: #434B5C;\n",
              "    box-shadow: 0px 1px 3px 1px rgba(0, 0, 0, 0.15);\n",
              "    filter: drop-shadow(0px 1px 2px rgba(0, 0, 0, 0.3));\n",
              "    fill: #FFFFFF;\n",
              "  }\n",
              "</style>\n",
              "\n",
              "    <script>\n",
              "      async function quickchart(key) {\n",
              "        const containerElement = document.querySelector('#' + key);\n",
              "        const charts = await google.colab.kernel.invokeFunction(\n",
              "            'suggestCharts', [key], {});\n",
              "      }\n",
              "    </script>\n",
              "\n",
              "      <script>\n",
              "\n",
              "function displayQuickchartButton(domScope) {\n",
              "  let quickchartButtonEl =\n",
              "    domScope.querySelector('#df-00eb616f-f71f-496b-90db-264266581d41 button.colab-df-quickchart');\n",
              "  quickchartButtonEl.style.display =\n",
              "    google.colab.kernel.accessAllowed ? 'block' : 'none';\n",
              "}\n",
              "\n",
              "        displayQuickchartButton(document);\n",
              "      </script>\n",
              "      <style>\n",
              "    .colab-df-container {\n",
              "      display:flex;\n",
              "      flex-wrap:wrap;\n",
              "      gap: 12px;\n",
              "    }\n",
              "\n",
              "    .colab-df-convert {\n",
              "      background-color: #E8F0FE;\n",
              "      border: none;\n",
              "      border-radius: 50%;\n",
              "      cursor: pointer;\n",
              "      display: none;\n",
              "      fill: #1967D2;\n",
              "      height: 32px;\n",
              "      padding: 0 0 0 0;\n",
              "      width: 32px;\n",
              "    }\n",
              "\n",
              "    .colab-df-convert:hover {\n",
              "      background-color: #E2EBFA;\n",
              "      box-shadow: 0px 1px 2px rgba(60, 64, 67, 0.3), 0px 1px 3px 1px rgba(60, 64, 67, 0.15);\n",
              "      fill: #174EA6;\n",
              "    }\n",
              "\n",
              "    [theme=dark] .colab-df-convert {\n",
              "      background-color: #3B4455;\n",
              "      fill: #D2E3FC;\n",
              "    }\n",
              "\n",
              "    [theme=dark] .colab-df-convert:hover {\n",
              "      background-color: #434B5C;\n",
              "      box-shadow: 0px 1px 3px 1px rgba(0, 0, 0, 0.15);\n",
              "      filter: drop-shadow(0px 1px 2px rgba(0, 0, 0, 0.3));\n",
              "      fill: #FFFFFF;\n",
              "    }\n",
              "  </style>\n",
              "\n",
              "      <script>\n",
              "        const buttonEl =\n",
              "          document.querySelector('#df-d564ad0a-d8d3-4e41-a1a0-9e0b3e39a0ad button.colab-df-convert');\n",
              "        buttonEl.style.display =\n",
              "          google.colab.kernel.accessAllowed ? 'block' : 'none';\n",
              "\n",
              "        async function convertToInteractive(key) {\n",
              "          const element = document.querySelector('#df-d564ad0a-d8d3-4e41-a1a0-9e0b3e39a0ad');\n",
              "          const dataTable =\n",
              "            await google.colab.kernel.invokeFunction('convertToInteractive',\n",
              "                                                     [key], {});\n",
              "          if (!dataTable) return;\n",
              "\n",
              "          const docLinkHtml = 'Like what you see? Visit the ' +\n",
              "            '<a target=\"_blank\" href=https://colab.research.google.com/notebooks/data_table.ipynb>data table notebook</a>'\n",
              "            + ' to learn more about interactive tables.';\n",
              "          element.innerHTML = '';\n",
              "          dataTable['output_type'] = 'display_data';\n",
              "          await google.colab.output.renderOutput(dataTable, element);\n",
              "          const docLink = document.createElement('div');\n",
              "          docLink.innerHTML = docLinkHtml;\n",
              "          element.appendChild(docLink);\n",
              "        }\n",
              "      </script>\n",
              "    </div>\n",
              "  </div>\n"
            ]
          },
          "metadata": {},
          "execution_count": 205
        }
      ]
    },
    {
      "cell_type": "code",
      "source": [
        "store_sales.isnull().sum()"
      ],
      "metadata": {
        "colab": {
          "base_uri": "https://localhost:8080/"
        },
        "id": "0MHHDlkkHMoJ",
        "outputId": "df177b5a-3e78-4e81-e280-a6243321ed84"
      },
      "execution_count": 208,
      "outputs": [
        {
          "output_type": "execute_result",
          "data": {
            "text/plain": [
              "향수      0\n",
              "가전제품    0\n",
              "식료품     0\n",
              "의류      0\n",
              "dtype: int64"
            ]
          },
          "metadata": {},
          "execution_count": 208
        }
      ]
    },
    {
      "cell_type": "code",
      "source": [
        "#store\n",
        "\n",
        "sales = {\"화장품\" : [300, 250, 280, 320, 350] ,\n",
        "         \"가전제품\": [400, 500, 550, 600,680] ,\n",
        "         \"식료품\" : [150, 200, 300, np.nan, np.nan] ,\n",
        "         \"의류\" : [180, 230, 280, 330, 380]}\n",
        "\n",
        "col_name = [\"화장품\", \"가전제품\", \"식료품\", \"의류\"]\n",
        "obs_name = [\"2018\", \"2019\", \"2020\", \"2021\", \"2022\"]\n",
        "\n",
        "\n",
        "store_sales = pd.DataFrame(data=sales, columns=col_name, index=obs_name)\n",
        "store_sales"
      ],
      "metadata": {
        "colab": {
          "base_uri": "https://localhost:8080/",
          "height": 206
        },
        "id": "1D5zR9lPHNkj",
        "outputId": "8489d2a9-7db4-4ec4-d957-ea89dbc4c3f2"
      },
      "execution_count": 209,
      "outputs": [
        {
          "output_type": "execute_result",
          "data": {
            "text/plain": [
              "      화장품  가전제품    식료품   의류\n",
              "2018  300   400  150.0  180\n",
              "2019  250   500  200.0  230\n",
              "2020  280   550  300.0  280\n",
              "2021  320   600    NaN  330\n",
              "2022  350   680    NaN  380"
            ],
            "text/html": [
              "\n",
              "\n",
              "  <div id=\"df-bf21d060-8c61-404a-96fc-2894a9dcd049\">\n",
              "    <div class=\"colab-df-container\">\n",
              "      <div>\n",
              "<style scoped>\n",
              "    .dataframe tbody tr th:only-of-type {\n",
              "        vertical-align: middle;\n",
              "    }\n",
              "\n",
              "    .dataframe tbody tr th {\n",
              "        vertical-align: top;\n",
              "    }\n",
              "\n",
              "    .dataframe thead th {\n",
              "        text-align: right;\n",
              "    }\n",
              "</style>\n",
              "<table border=\"1\" class=\"dataframe\">\n",
              "  <thead>\n",
              "    <tr style=\"text-align: right;\">\n",
              "      <th></th>\n",
              "      <th>화장품</th>\n",
              "      <th>가전제품</th>\n",
              "      <th>식료품</th>\n",
              "      <th>의류</th>\n",
              "    </tr>\n",
              "  </thead>\n",
              "  <tbody>\n",
              "    <tr>\n",
              "      <th>2018</th>\n",
              "      <td>300</td>\n",
              "      <td>400</td>\n",
              "      <td>150.0</td>\n",
              "      <td>180</td>\n",
              "    </tr>\n",
              "    <tr>\n",
              "      <th>2019</th>\n",
              "      <td>250</td>\n",
              "      <td>500</td>\n",
              "      <td>200.0</td>\n",
              "      <td>230</td>\n",
              "    </tr>\n",
              "    <tr>\n",
              "      <th>2020</th>\n",
              "      <td>280</td>\n",
              "      <td>550</td>\n",
              "      <td>300.0</td>\n",
              "      <td>280</td>\n",
              "    </tr>\n",
              "    <tr>\n",
              "      <th>2021</th>\n",
              "      <td>320</td>\n",
              "      <td>600</td>\n",
              "      <td>NaN</td>\n",
              "      <td>330</td>\n",
              "    </tr>\n",
              "    <tr>\n",
              "      <th>2022</th>\n",
              "      <td>350</td>\n",
              "      <td>680</td>\n",
              "      <td>NaN</td>\n",
              "      <td>380</td>\n",
              "    </tr>\n",
              "  </tbody>\n",
              "</table>\n",
              "</div>\n",
              "      <button class=\"colab-df-convert\" onclick=\"convertToInteractive('df-bf21d060-8c61-404a-96fc-2894a9dcd049')\"\n",
              "              title=\"Convert this dataframe to an interactive table.\"\n",
              "              style=\"display:none;\">\n",
              "\n",
              "  <svg xmlns=\"http://www.w3.org/2000/svg\" height=\"24px\"viewBox=\"0 0 24 24\"\n",
              "       width=\"24px\">\n",
              "    <path d=\"M0 0h24v24H0V0z\" fill=\"none\"/>\n",
              "    <path d=\"M18.56 5.44l.94 2.06.94-2.06 2.06-.94-2.06-.94-.94-2.06-.94 2.06-2.06.94zm-11 1L8.5 8.5l.94-2.06 2.06-.94-2.06-.94L8.5 2.5l-.94 2.06-2.06.94zm10 10l.94 2.06.94-2.06 2.06-.94-2.06-.94-.94-2.06-.94 2.06-2.06.94z\"/><path d=\"M17.41 7.96l-1.37-1.37c-.4-.4-.92-.59-1.43-.59-.52 0-1.04.2-1.43.59L10.3 9.45l-7.72 7.72c-.78.78-.78 2.05 0 2.83L4 21.41c.39.39.9.59 1.41.59.51 0 1.02-.2 1.41-.59l7.78-7.78 2.81-2.81c.8-.78.8-2.07 0-2.86zM5.41 20L4 18.59l7.72-7.72 1.47 1.35L5.41 20z\"/>\n",
              "  </svg>\n",
              "      </button>\n",
              "\n",
              "\n",
              "\n",
              "    <div id=\"df-3f14093a-d5b1-4dee-9863-d4609f3aae63\">\n",
              "      <button class=\"colab-df-quickchart\" onclick=\"quickchart('df-3f14093a-d5b1-4dee-9863-d4609f3aae63')\"\n",
              "              title=\"Suggest charts.\"\n",
              "              style=\"display:none;\">\n",
              "\n",
              "<svg xmlns=\"http://www.w3.org/2000/svg\" height=\"24px\"viewBox=\"0 0 24 24\"\n",
              "     width=\"24px\">\n",
              "    <g>\n",
              "        <path d=\"M19 3H5c-1.1 0-2 .9-2 2v14c0 1.1.9 2 2 2h14c1.1 0 2-.9 2-2V5c0-1.1-.9-2-2-2zM9 17H7v-7h2v7zm4 0h-2V7h2v10zm4 0h-2v-4h2v4z\"/>\n",
              "    </g>\n",
              "</svg>\n",
              "      </button>\n",
              "    </div>\n",
              "\n",
              "<style>\n",
              "  .colab-df-quickchart {\n",
              "    background-color: #E8F0FE;\n",
              "    border: none;\n",
              "    border-radius: 50%;\n",
              "    cursor: pointer;\n",
              "    display: none;\n",
              "    fill: #1967D2;\n",
              "    height: 32px;\n",
              "    padding: 0 0 0 0;\n",
              "    width: 32px;\n",
              "  }\n",
              "\n",
              "  .colab-df-quickchart:hover {\n",
              "    background-color: #E2EBFA;\n",
              "    box-shadow: 0px 1px 2px rgba(60, 64, 67, 0.3), 0px 1px 3px 1px rgba(60, 64, 67, 0.15);\n",
              "    fill: #174EA6;\n",
              "  }\n",
              "\n",
              "  [theme=dark] .colab-df-quickchart {\n",
              "    background-color: #3B4455;\n",
              "    fill: #D2E3FC;\n",
              "  }\n",
              "\n",
              "  [theme=dark] .colab-df-quickchart:hover {\n",
              "    background-color: #434B5C;\n",
              "    box-shadow: 0px 1px 3px 1px rgba(0, 0, 0, 0.15);\n",
              "    filter: drop-shadow(0px 1px 2px rgba(0, 0, 0, 0.3));\n",
              "    fill: #FFFFFF;\n",
              "  }\n",
              "</style>\n",
              "\n",
              "    <script>\n",
              "      async function quickchart(key) {\n",
              "        const containerElement = document.querySelector('#' + key);\n",
              "        const charts = await google.colab.kernel.invokeFunction(\n",
              "            'suggestCharts', [key], {});\n",
              "      }\n",
              "    </script>\n",
              "\n",
              "      <script>\n",
              "\n",
              "function displayQuickchartButton(domScope) {\n",
              "  let quickchartButtonEl =\n",
              "    domScope.querySelector('#df-3f14093a-d5b1-4dee-9863-d4609f3aae63 button.colab-df-quickchart');\n",
              "  quickchartButtonEl.style.display =\n",
              "    google.colab.kernel.accessAllowed ? 'block' : 'none';\n",
              "}\n",
              "\n",
              "        displayQuickchartButton(document);\n",
              "      </script>\n",
              "      <style>\n",
              "    .colab-df-container {\n",
              "      display:flex;\n",
              "      flex-wrap:wrap;\n",
              "      gap: 12px;\n",
              "    }\n",
              "\n",
              "    .colab-df-convert {\n",
              "      background-color: #E8F0FE;\n",
              "      border: none;\n",
              "      border-radius: 50%;\n",
              "      cursor: pointer;\n",
              "      display: none;\n",
              "      fill: #1967D2;\n",
              "      height: 32px;\n",
              "      padding: 0 0 0 0;\n",
              "      width: 32px;\n",
              "    }\n",
              "\n",
              "    .colab-df-convert:hover {\n",
              "      background-color: #E2EBFA;\n",
              "      box-shadow: 0px 1px 2px rgba(60, 64, 67, 0.3), 0px 1px 3px 1px rgba(60, 64, 67, 0.15);\n",
              "      fill: #174EA6;\n",
              "    }\n",
              "\n",
              "    [theme=dark] .colab-df-convert {\n",
              "      background-color: #3B4455;\n",
              "      fill: #D2E3FC;\n",
              "    }\n",
              "\n",
              "    [theme=dark] .colab-df-convert:hover {\n",
              "      background-color: #434B5C;\n",
              "      box-shadow: 0px 1px 3px 1px rgba(0, 0, 0, 0.15);\n",
              "      filter: drop-shadow(0px 1px 2px rgba(0, 0, 0, 0.3));\n",
              "      fill: #FFFFFF;\n",
              "    }\n",
              "  </style>\n",
              "\n",
              "      <script>\n",
              "        const buttonEl =\n",
              "          document.querySelector('#df-bf21d060-8c61-404a-96fc-2894a9dcd049 button.colab-df-convert');\n",
              "        buttonEl.style.display =\n",
              "          google.colab.kernel.accessAllowed ? 'block' : 'none';\n",
              "\n",
              "        async function convertToInteractive(key) {\n",
              "          const element = document.querySelector('#df-bf21d060-8c61-404a-96fc-2894a9dcd049');\n",
              "          const dataTable =\n",
              "            await google.colab.kernel.invokeFunction('convertToInteractive',\n",
              "                                                     [key], {});\n",
              "          if (!dataTable) return;\n",
              "\n",
              "          const docLinkHtml = 'Like what you see? Visit the ' +\n",
              "            '<a target=\"_blank\" href=https://colab.research.google.com/notebooks/data_table.ipynb>data table notebook</a>'\n",
              "            + ' to learn more about interactive tables.';\n",
              "          element.innerHTML = '';\n",
              "          dataTable['output_type'] = 'display_data';\n",
              "          await google.colab.output.renderOutput(dataTable, element);\n",
              "          const docLink = document.createElement('div');\n",
              "          docLink.innerHTML = docLinkHtml;\n",
              "          element.appendChild(docLink);\n",
              "        }\n",
              "      </script>\n",
              "    </div>\n",
              "  </div>\n"
            ]
          },
          "metadata": {},
          "execution_count": 209
        }
      ]
    },
    {
      "cell_type": "code",
      "source": [
        "store_sales.isnull().sum() #결측값"
      ],
      "metadata": {
        "colab": {
          "base_uri": "https://localhost:8080/"
        },
        "id": "ghecEWKuKuiN",
        "outputId": "80623ea2-ad77-4ba7-f328-37c53cce45eb"
      },
      "execution_count": 210,
      "outputs": [
        {
          "output_type": "execute_result",
          "data": {
            "text/plain": [
              "화장품     0\n",
              "가전제품    0\n",
              "식료품     2\n",
              "의류      0\n",
              "dtype: int64"
            ]
          },
          "metadata": {},
          "execution_count": 210
        }
      ]
    },
    {
      "cell_type": "code",
      "source": [
        "df2 = store_sales.dropna(axis=0)  #결측값 제거 --> 0은 행 1은변수제거(axis=1)"
      ],
      "metadata": {
        "id": "gxp6iYVSKvE0"
      },
      "execution_count": 213,
      "outputs": []
    },
    {
      "cell_type": "code",
      "source": [
        "store_sales.dropna(axis=1)"
      ],
      "metadata": {
        "colab": {
          "base_uri": "https://localhost:8080/",
          "height": 206
        },
        "id": "y0VdN6TpLQLP",
        "outputId": "e7568d74-80e1-440e-ada5-39c6ba3a6dae"
      },
      "execution_count": 217,
      "outputs": [
        {
          "output_type": "execute_result",
          "data": {
            "text/plain": [
              "      화장품  가전제품   의류\n",
              "2018  300   400  180\n",
              "2019  250   500  230\n",
              "2020  280   550  280\n",
              "2021  320   600  330\n",
              "2022  350   680  380"
            ],
            "text/html": [
              "\n",
              "\n",
              "  <div id=\"df-8bc9b79e-53f3-4999-b8ae-5943f132b45d\">\n",
              "    <div class=\"colab-df-container\">\n",
              "      <div>\n",
              "<style scoped>\n",
              "    .dataframe tbody tr th:only-of-type {\n",
              "        vertical-align: middle;\n",
              "    }\n",
              "\n",
              "    .dataframe tbody tr th {\n",
              "        vertical-align: top;\n",
              "    }\n",
              "\n",
              "    .dataframe thead th {\n",
              "        text-align: right;\n",
              "    }\n",
              "</style>\n",
              "<table border=\"1\" class=\"dataframe\">\n",
              "  <thead>\n",
              "    <tr style=\"text-align: right;\">\n",
              "      <th></th>\n",
              "      <th>화장품</th>\n",
              "      <th>가전제품</th>\n",
              "      <th>의류</th>\n",
              "    </tr>\n",
              "  </thead>\n",
              "  <tbody>\n",
              "    <tr>\n",
              "      <th>2018</th>\n",
              "      <td>300</td>\n",
              "      <td>400</td>\n",
              "      <td>180</td>\n",
              "    </tr>\n",
              "    <tr>\n",
              "      <th>2019</th>\n",
              "      <td>250</td>\n",
              "      <td>500</td>\n",
              "      <td>230</td>\n",
              "    </tr>\n",
              "    <tr>\n",
              "      <th>2020</th>\n",
              "      <td>280</td>\n",
              "      <td>550</td>\n",
              "      <td>280</td>\n",
              "    </tr>\n",
              "    <tr>\n",
              "      <th>2021</th>\n",
              "      <td>320</td>\n",
              "      <td>600</td>\n",
              "      <td>330</td>\n",
              "    </tr>\n",
              "    <tr>\n",
              "      <th>2022</th>\n",
              "      <td>350</td>\n",
              "      <td>680</td>\n",
              "      <td>380</td>\n",
              "    </tr>\n",
              "  </tbody>\n",
              "</table>\n",
              "</div>\n",
              "      <button class=\"colab-df-convert\" onclick=\"convertToInteractive('df-8bc9b79e-53f3-4999-b8ae-5943f132b45d')\"\n",
              "              title=\"Convert this dataframe to an interactive table.\"\n",
              "              style=\"display:none;\">\n",
              "\n",
              "  <svg xmlns=\"http://www.w3.org/2000/svg\" height=\"24px\"viewBox=\"0 0 24 24\"\n",
              "       width=\"24px\">\n",
              "    <path d=\"M0 0h24v24H0V0z\" fill=\"none\"/>\n",
              "    <path d=\"M18.56 5.44l.94 2.06.94-2.06 2.06-.94-2.06-.94-.94-2.06-.94 2.06-2.06.94zm-11 1L8.5 8.5l.94-2.06 2.06-.94-2.06-.94L8.5 2.5l-.94 2.06-2.06.94zm10 10l.94 2.06.94-2.06 2.06-.94-2.06-.94-.94-2.06-.94 2.06-2.06.94z\"/><path d=\"M17.41 7.96l-1.37-1.37c-.4-.4-.92-.59-1.43-.59-.52 0-1.04.2-1.43.59L10.3 9.45l-7.72 7.72c-.78.78-.78 2.05 0 2.83L4 21.41c.39.39.9.59 1.41.59.51 0 1.02-.2 1.41-.59l7.78-7.78 2.81-2.81c.8-.78.8-2.07 0-2.86zM5.41 20L4 18.59l7.72-7.72 1.47 1.35L5.41 20z\"/>\n",
              "  </svg>\n",
              "      </button>\n",
              "\n",
              "\n",
              "\n",
              "    <div id=\"df-a4929aad-c478-4878-86b0-7393734655dd\">\n",
              "      <button class=\"colab-df-quickchart\" onclick=\"quickchart('df-a4929aad-c478-4878-86b0-7393734655dd')\"\n",
              "              title=\"Suggest charts.\"\n",
              "              style=\"display:none;\">\n",
              "\n",
              "<svg xmlns=\"http://www.w3.org/2000/svg\" height=\"24px\"viewBox=\"0 0 24 24\"\n",
              "     width=\"24px\">\n",
              "    <g>\n",
              "        <path d=\"M19 3H5c-1.1 0-2 .9-2 2v14c0 1.1.9 2 2 2h14c1.1 0 2-.9 2-2V5c0-1.1-.9-2-2-2zM9 17H7v-7h2v7zm4 0h-2V7h2v10zm4 0h-2v-4h2v4z\"/>\n",
              "    </g>\n",
              "</svg>\n",
              "      </button>\n",
              "    </div>\n",
              "\n",
              "<style>\n",
              "  .colab-df-quickchart {\n",
              "    background-color: #E8F0FE;\n",
              "    border: none;\n",
              "    border-radius: 50%;\n",
              "    cursor: pointer;\n",
              "    display: none;\n",
              "    fill: #1967D2;\n",
              "    height: 32px;\n",
              "    padding: 0 0 0 0;\n",
              "    width: 32px;\n",
              "  }\n",
              "\n",
              "  .colab-df-quickchart:hover {\n",
              "    background-color: #E2EBFA;\n",
              "    box-shadow: 0px 1px 2px rgba(60, 64, 67, 0.3), 0px 1px 3px 1px rgba(60, 64, 67, 0.15);\n",
              "    fill: #174EA6;\n",
              "  }\n",
              "\n",
              "  [theme=dark] .colab-df-quickchart {\n",
              "    background-color: #3B4455;\n",
              "    fill: #D2E3FC;\n",
              "  }\n",
              "\n",
              "  [theme=dark] .colab-df-quickchart:hover {\n",
              "    background-color: #434B5C;\n",
              "    box-shadow: 0px 1px 3px 1px rgba(0, 0, 0, 0.15);\n",
              "    filter: drop-shadow(0px 1px 2px rgba(0, 0, 0, 0.3));\n",
              "    fill: #FFFFFF;\n",
              "  }\n",
              "</style>\n",
              "\n",
              "    <script>\n",
              "      async function quickchart(key) {\n",
              "        const containerElement = document.querySelector('#' + key);\n",
              "        const charts = await google.colab.kernel.invokeFunction(\n",
              "            'suggestCharts', [key], {});\n",
              "      }\n",
              "    </script>\n",
              "\n",
              "      <script>\n",
              "\n",
              "function displayQuickchartButton(domScope) {\n",
              "  let quickchartButtonEl =\n",
              "    domScope.querySelector('#df-a4929aad-c478-4878-86b0-7393734655dd button.colab-df-quickchart');\n",
              "  quickchartButtonEl.style.display =\n",
              "    google.colab.kernel.accessAllowed ? 'block' : 'none';\n",
              "}\n",
              "\n",
              "        displayQuickchartButton(document);\n",
              "      </script>\n",
              "      <style>\n",
              "    .colab-df-container {\n",
              "      display:flex;\n",
              "      flex-wrap:wrap;\n",
              "      gap: 12px;\n",
              "    }\n",
              "\n",
              "    .colab-df-convert {\n",
              "      background-color: #E8F0FE;\n",
              "      border: none;\n",
              "      border-radius: 50%;\n",
              "      cursor: pointer;\n",
              "      display: none;\n",
              "      fill: #1967D2;\n",
              "      height: 32px;\n",
              "      padding: 0 0 0 0;\n",
              "      width: 32px;\n",
              "    }\n",
              "\n",
              "    .colab-df-convert:hover {\n",
              "      background-color: #E2EBFA;\n",
              "      box-shadow: 0px 1px 2px rgba(60, 64, 67, 0.3), 0px 1px 3px 1px rgba(60, 64, 67, 0.15);\n",
              "      fill: #174EA6;\n",
              "    }\n",
              "\n",
              "    [theme=dark] .colab-df-convert {\n",
              "      background-color: #3B4455;\n",
              "      fill: #D2E3FC;\n",
              "    }\n",
              "\n",
              "    [theme=dark] .colab-df-convert:hover {\n",
              "      background-color: #434B5C;\n",
              "      box-shadow: 0px 1px 3px 1px rgba(0, 0, 0, 0.15);\n",
              "      filter: drop-shadow(0px 1px 2px rgba(0, 0, 0, 0.3));\n",
              "      fill: #FFFFFF;\n",
              "    }\n",
              "  </style>\n",
              "\n",
              "      <script>\n",
              "        const buttonEl =\n",
              "          document.querySelector('#df-8bc9b79e-53f3-4999-b8ae-5943f132b45d button.colab-df-convert');\n",
              "        buttonEl.style.display =\n",
              "          google.colab.kernel.accessAllowed ? 'block' : 'none';\n",
              "\n",
              "        async function convertToInteractive(key) {\n",
              "          const element = document.querySelector('#df-8bc9b79e-53f3-4999-b8ae-5943f132b45d');\n",
              "          const dataTable =\n",
              "            await google.colab.kernel.invokeFunction('convertToInteractive',\n",
              "                                                     [key], {});\n",
              "          if (!dataTable) return;\n",
              "\n",
              "          const docLinkHtml = 'Like what you see? Visit the ' +\n",
              "            '<a target=\"_blank\" href=https://colab.research.google.com/notebooks/data_table.ipynb>data table notebook</a>'\n",
              "            + ' to learn more about interactive tables.';\n",
              "          element.innerHTML = '';\n",
              "          dataTable['output_type'] = 'display_data';\n",
              "          await google.colab.output.renderOutput(dataTable, element);\n",
              "          const docLink = document.createElement('div');\n",
              "          docLink.innerHTML = docLinkHtml;\n",
              "          element.appendChild(docLink);\n",
              "        }\n",
              "      </script>\n",
              "    </div>\n",
              "  </div>\n"
            ]
          },
          "metadata": {},
          "execution_count": 217
        }
      ]
    },
    {
      "cell_type": "code",
      "source": [
        "store_sales"
      ],
      "metadata": {
        "colab": {
          "base_uri": "https://localhost:8080/",
          "height": 206
        },
        "id": "jnLN0o6oLtP9",
        "outputId": "65c5f202-e2cd-4803-fd7c-02c1589823de"
      },
      "execution_count": 219,
      "outputs": [
        {
          "output_type": "execute_result",
          "data": {
            "text/plain": [
              "      화장품  가전제품    식료품   의류\n",
              "2018  300   400  150.0  180\n",
              "2019  250   500  200.0  230\n",
              "2020  280   550  300.0  280\n",
              "2021  320   600    NaN  330\n",
              "2022  350   680    NaN  380"
            ],
            "text/html": [
              "\n",
              "\n",
              "  <div id=\"df-e33fe29b-3bd0-436f-8a08-e4bf678f1c72\">\n",
              "    <div class=\"colab-df-container\">\n",
              "      <div>\n",
              "<style scoped>\n",
              "    .dataframe tbody tr th:only-of-type {\n",
              "        vertical-align: middle;\n",
              "    }\n",
              "\n",
              "    .dataframe tbody tr th {\n",
              "        vertical-align: top;\n",
              "    }\n",
              "\n",
              "    .dataframe thead th {\n",
              "        text-align: right;\n",
              "    }\n",
              "</style>\n",
              "<table border=\"1\" class=\"dataframe\">\n",
              "  <thead>\n",
              "    <tr style=\"text-align: right;\">\n",
              "      <th></th>\n",
              "      <th>화장품</th>\n",
              "      <th>가전제품</th>\n",
              "      <th>식료품</th>\n",
              "      <th>의류</th>\n",
              "    </tr>\n",
              "  </thead>\n",
              "  <tbody>\n",
              "    <tr>\n",
              "      <th>2018</th>\n",
              "      <td>300</td>\n",
              "      <td>400</td>\n",
              "      <td>150.0</td>\n",
              "      <td>180</td>\n",
              "    </tr>\n",
              "    <tr>\n",
              "      <th>2019</th>\n",
              "      <td>250</td>\n",
              "      <td>500</td>\n",
              "      <td>200.0</td>\n",
              "      <td>230</td>\n",
              "    </tr>\n",
              "    <tr>\n",
              "      <th>2020</th>\n",
              "      <td>280</td>\n",
              "      <td>550</td>\n",
              "      <td>300.0</td>\n",
              "      <td>280</td>\n",
              "    </tr>\n",
              "    <tr>\n",
              "      <th>2021</th>\n",
              "      <td>320</td>\n",
              "      <td>600</td>\n",
              "      <td>NaN</td>\n",
              "      <td>330</td>\n",
              "    </tr>\n",
              "    <tr>\n",
              "      <th>2022</th>\n",
              "      <td>350</td>\n",
              "      <td>680</td>\n",
              "      <td>NaN</td>\n",
              "      <td>380</td>\n",
              "    </tr>\n",
              "  </tbody>\n",
              "</table>\n",
              "</div>\n",
              "      <button class=\"colab-df-convert\" onclick=\"convertToInteractive('df-e33fe29b-3bd0-436f-8a08-e4bf678f1c72')\"\n",
              "              title=\"Convert this dataframe to an interactive table.\"\n",
              "              style=\"display:none;\">\n",
              "\n",
              "  <svg xmlns=\"http://www.w3.org/2000/svg\" height=\"24px\"viewBox=\"0 0 24 24\"\n",
              "       width=\"24px\">\n",
              "    <path d=\"M0 0h24v24H0V0z\" fill=\"none\"/>\n",
              "    <path d=\"M18.56 5.44l.94 2.06.94-2.06 2.06-.94-2.06-.94-.94-2.06-.94 2.06-2.06.94zm-11 1L8.5 8.5l.94-2.06 2.06-.94-2.06-.94L8.5 2.5l-.94 2.06-2.06.94zm10 10l.94 2.06.94-2.06 2.06-.94-2.06-.94-.94-2.06-.94 2.06-2.06.94z\"/><path d=\"M17.41 7.96l-1.37-1.37c-.4-.4-.92-.59-1.43-.59-.52 0-1.04.2-1.43.59L10.3 9.45l-7.72 7.72c-.78.78-.78 2.05 0 2.83L4 21.41c.39.39.9.59 1.41.59.51 0 1.02-.2 1.41-.59l7.78-7.78 2.81-2.81c.8-.78.8-2.07 0-2.86zM5.41 20L4 18.59l7.72-7.72 1.47 1.35L5.41 20z\"/>\n",
              "  </svg>\n",
              "      </button>\n",
              "\n",
              "\n",
              "\n",
              "    <div id=\"df-176770c5-0648-4a4f-b24e-ad82f6cadeb8\">\n",
              "      <button class=\"colab-df-quickchart\" onclick=\"quickchart('df-176770c5-0648-4a4f-b24e-ad82f6cadeb8')\"\n",
              "              title=\"Suggest charts.\"\n",
              "              style=\"display:none;\">\n",
              "\n",
              "<svg xmlns=\"http://www.w3.org/2000/svg\" height=\"24px\"viewBox=\"0 0 24 24\"\n",
              "     width=\"24px\">\n",
              "    <g>\n",
              "        <path d=\"M19 3H5c-1.1 0-2 .9-2 2v14c0 1.1.9 2 2 2h14c1.1 0 2-.9 2-2V5c0-1.1-.9-2-2-2zM9 17H7v-7h2v7zm4 0h-2V7h2v10zm4 0h-2v-4h2v4z\"/>\n",
              "    </g>\n",
              "</svg>\n",
              "      </button>\n",
              "    </div>\n",
              "\n",
              "<style>\n",
              "  .colab-df-quickchart {\n",
              "    background-color: #E8F0FE;\n",
              "    border: none;\n",
              "    border-radius: 50%;\n",
              "    cursor: pointer;\n",
              "    display: none;\n",
              "    fill: #1967D2;\n",
              "    height: 32px;\n",
              "    padding: 0 0 0 0;\n",
              "    width: 32px;\n",
              "  }\n",
              "\n",
              "  .colab-df-quickchart:hover {\n",
              "    background-color: #E2EBFA;\n",
              "    box-shadow: 0px 1px 2px rgba(60, 64, 67, 0.3), 0px 1px 3px 1px rgba(60, 64, 67, 0.15);\n",
              "    fill: #174EA6;\n",
              "  }\n",
              "\n",
              "  [theme=dark] .colab-df-quickchart {\n",
              "    background-color: #3B4455;\n",
              "    fill: #D2E3FC;\n",
              "  }\n",
              "\n",
              "  [theme=dark] .colab-df-quickchart:hover {\n",
              "    background-color: #434B5C;\n",
              "    box-shadow: 0px 1px 3px 1px rgba(0, 0, 0, 0.15);\n",
              "    filter: drop-shadow(0px 1px 2px rgba(0, 0, 0, 0.3));\n",
              "    fill: #FFFFFF;\n",
              "  }\n",
              "</style>\n",
              "\n",
              "    <script>\n",
              "      async function quickchart(key) {\n",
              "        const containerElement = document.querySelector('#' + key);\n",
              "        const charts = await google.colab.kernel.invokeFunction(\n",
              "            'suggestCharts', [key], {});\n",
              "      }\n",
              "    </script>\n",
              "\n",
              "      <script>\n",
              "\n",
              "function displayQuickchartButton(domScope) {\n",
              "  let quickchartButtonEl =\n",
              "    domScope.querySelector('#df-176770c5-0648-4a4f-b24e-ad82f6cadeb8 button.colab-df-quickchart');\n",
              "  quickchartButtonEl.style.display =\n",
              "    google.colab.kernel.accessAllowed ? 'block' : 'none';\n",
              "}\n",
              "\n",
              "        displayQuickchartButton(document);\n",
              "      </script>\n",
              "      <style>\n",
              "    .colab-df-container {\n",
              "      display:flex;\n",
              "      flex-wrap:wrap;\n",
              "      gap: 12px;\n",
              "    }\n",
              "\n",
              "    .colab-df-convert {\n",
              "      background-color: #E8F0FE;\n",
              "      border: none;\n",
              "      border-radius: 50%;\n",
              "      cursor: pointer;\n",
              "      display: none;\n",
              "      fill: #1967D2;\n",
              "      height: 32px;\n",
              "      padding: 0 0 0 0;\n",
              "      width: 32px;\n",
              "    }\n",
              "\n",
              "    .colab-df-convert:hover {\n",
              "      background-color: #E2EBFA;\n",
              "      box-shadow: 0px 1px 2px rgba(60, 64, 67, 0.3), 0px 1px 3px 1px rgba(60, 64, 67, 0.15);\n",
              "      fill: #174EA6;\n",
              "    }\n",
              "\n",
              "    [theme=dark] .colab-df-convert {\n",
              "      background-color: #3B4455;\n",
              "      fill: #D2E3FC;\n",
              "    }\n",
              "\n",
              "    [theme=dark] .colab-df-convert:hover {\n",
              "      background-color: #434B5C;\n",
              "      box-shadow: 0px 1px 3px 1px rgba(0, 0, 0, 0.15);\n",
              "      filter: drop-shadow(0px 1px 2px rgba(0, 0, 0, 0.3));\n",
              "      fill: #FFFFFF;\n",
              "    }\n",
              "  </style>\n",
              "\n",
              "      <script>\n",
              "        const buttonEl =\n",
              "          document.querySelector('#df-e33fe29b-3bd0-436f-8a08-e4bf678f1c72 button.colab-df-convert');\n",
              "        buttonEl.style.display =\n",
              "          google.colab.kernel.accessAllowed ? 'block' : 'none';\n",
              "\n",
              "        async function convertToInteractive(key) {\n",
              "          const element = document.querySelector('#df-e33fe29b-3bd0-436f-8a08-e4bf678f1c72');\n",
              "          const dataTable =\n",
              "            await google.colab.kernel.invokeFunction('convertToInteractive',\n",
              "                                                     [key], {});\n",
              "          if (!dataTable) return;\n",
              "\n",
              "          const docLinkHtml = 'Like what you see? Visit the ' +\n",
              "            '<a target=\"_blank\" href=https://colab.research.google.com/notebooks/data_table.ipynb>data table notebook</a>'\n",
              "            + ' to learn more about interactive tables.';\n",
              "          element.innerHTML = '';\n",
              "          dataTable['output_type'] = 'display_data';\n",
              "          await google.colab.output.renderOutput(dataTable, element);\n",
              "          const docLink = document.createElement('div');\n",
              "          docLink.innerHTML = docLinkHtml;\n",
              "          element.appendChild(docLink);\n",
              "        }\n",
              "      </script>\n",
              "    </div>\n",
              "  </div>\n"
            ]
          },
          "metadata": {},
          "execution_count": 219
        }
      ]
    },
    {
      "cell_type": "code",
      "source": [
        "df2"
      ],
      "metadata": {
        "colab": {
          "base_uri": "https://localhost:8080/",
          "height": 143
        },
        "id": "elM4WsUoLujg",
        "outputId": "ff719ac3-07d2-464a-f301-3e07d26cca0b"
      },
      "execution_count": 220,
      "outputs": [
        {
          "output_type": "execute_result",
          "data": {
            "text/plain": [
              "      화장품  가전제품    식료품   의류\n",
              "2018  300   400  150.0  180\n",
              "2019  250   500  200.0  230\n",
              "2020  280   550  300.0  280"
            ],
            "text/html": [
              "\n",
              "\n",
              "  <div id=\"df-ddb171da-4372-42b7-9ca6-9019d45b0564\">\n",
              "    <div class=\"colab-df-container\">\n",
              "      <div>\n",
              "<style scoped>\n",
              "    .dataframe tbody tr th:only-of-type {\n",
              "        vertical-align: middle;\n",
              "    }\n",
              "\n",
              "    .dataframe tbody tr th {\n",
              "        vertical-align: top;\n",
              "    }\n",
              "\n",
              "    .dataframe thead th {\n",
              "        text-align: right;\n",
              "    }\n",
              "</style>\n",
              "<table border=\"1\" class=\"dataframe\">\n",
              "  <thead>\n",
              "    <tr style=\"text-align: right;\">\n",
              "      <th></th>\n",
              "      <th>화장품</th>\n",
              "      <th>가전제품</th>\n",
              "      <th>식료품</th>\n",
              "      <th>의류</th>\n",
              "    </tr>\n",
              "  </thead>\n",
              "  <tbody>\n",
              "    <tr>\n",
              "      <th>2018</th>\n",
              "      <td>300</td>\n",
              "      <td>400</td>\n",
              "      <td>150.0</td>\n",
              "      <td>180</td>\n",
              "    </tr>\n",
              "    <tr>\n",
              "      <th>2019</th>\n",
              "      <td>250</td>\n",
              "      <td>500</td>\n",
              "      <td>200.0</td>\n",
              "      <td>230</td>\n",
              "    </tr>\n",
              "    <tr>\n",
              "      <th>2020</th>\n",
              "      <td>280</td>\n",
              "      <td>550</td>\n",
              "      <td>300.0</td>\n",
              "      <td>280</td>\n",
              "    </tr>\n",
              "  </tbody>\n",
              "</table>\n",
              "</div>\n",
              "      <button class=\"colab-df-convert\" onclick=\"convertToInteractive('df-ddb171da-4372-42b7-9ca6-9019d45b0564')\"\n",
              "              title=\"Convert this dataframe to an interactive table.\"\n",
              "              style=\"display:none;\">\n",
              "\n",
              "  <svg xmlns=\"http://www.w3.org/2000/svg\" height=\"24px\"viewBox=\"0 0 24 24\"\n",
              "       width=\"24px\">\n",
              "    <path d=\"M0 0h24v24H0V0z\" fill=\"none\"/>\n",
              "    <path d=\"M18.56 5.44l.94 2.06.94-2.06 2.06-.94-2.06-.94-.94-2.06-.94 2.06-2.06.94zm-11 1L8.5 8.5l.94-2.06 2.06-.94-2.06-.94L8.5 2.5l-.94 2.06-2.06.94zm10 10l.94 2.06.94-2.06 2.06-.94-2.06-.94-.94-2.06-.94 2.06-2.06.94z\"/><path d=\"M17.41 7.96l-1.37-1.37c-.4-.4-.92-.59-1.43-.59-.52 0-1.04.2-1.43.59L10.3 9.45l-7.72 7.72c-.78.78-.78 2.05 0 2.83L4 21.41c.39.39.9.59 1.41.59.51 0 1.02-.2 1.41-.59l7.78-7.78 2.81-2.81c.8-.78.8-2.07 0-2.86zM5.41 20L4 18.59l7.72-7.72 1.47 1.35L5.41 20z\"/>\n",
              "  </svg>\n",
              "      </button>\n",
              "\n",
              "\n",
              "\n",
              "    <div id=\"df-b6626936-d806-4479-b310-ac7c5a186930\">\n",
              "      <button class=\"colab-df-quickchart\" onclick=\"quickchart('df-b6626936-d806-4479-b310-ac7c5a186930')\"\n",
              "              title=\"Suggest charts.\"\n",
              "              style=\"display:none;\">\n",
              "\n",
              "<svg xmlns=\"http://www.w3.org/2000/svg\" height=\"24px\"viewBox=\"0 0 24 24\"\n",
              "     width=\"24px\">\n",
              "    <g>\n",
              "        <path d=\"M19 3H5c-1.1 0-2 .9-2 2v14c0 1.1.9 2 2 2h14c1.1 0 2-.9 2-2V5c0-1.1-.9-2-2-2zM9 17H7v-7h2v7zm4 0h-2V7h2v10zm4 0h-2v-4h2v4z\"/>\n",
              "    </g>\n",
              "</svg>\n",
              "      </button>\n",
              "    </div>\n",
              "\n",
              "<style>\n",
              "  .colab-df-quickchart {\n",
              "    background-color: #E8F0FE;\n",
              "    border: none;\n",
              "    border-radius: 50%;\n",
              "    cursor: pointer;\n",
              "    display: none;\n",
              "    fill: #1967D2;\n",
              "    height: 32px;\n",
              "    padding: 0 0 0 0;\n",
              "    width: 32px;\n",
              "  }\n",
              "\n",
              "  .colab-df-quickchart:hover {\n",
              "    background-color: #E2EBFA;\n",
              "    box-shadow: 0px 1px 2px rgba(60, 64, 67, 0.3), 0px 1px 3px 1px rgba(60, 64, 67, 0.15);\n",
              "    fill: #174EA6;\n",
              "  }\n",
              "\n",
              "  [theme=dark] .colab-df-quickchart {\n",
              "    background-color: #3B4455;\n",
              "    fill: #D2E3FC;\n",
              "  }\n",
              "\n",
              "  [theme=dark] .colab-df-quickchart:hover {\n",
              "    background-color: #434B5C;\n",
              "    box-shadow: 0px 1px 3px 1px rgba(0, 0, 0, 0.15);\n",
              "    filter: drop-shadow(0px 1px 2px rgba(0, 0, 0, 0.3));\n",
              "    fill: #FFFFFF;\n",
              "  }\n",
              "</style>\n",
              "\n",
              "    <script>\n",
              "      async function quickchart(key) {\n",
              "        const containerElement = document.querySelector('#' + key);\n",
              "        const charts = await google.colab.kernel.invokeFunction(\n",
              "            'suggestCharts', [key], {});\n",
              "      }\n",
              "    </script>\n",
              "\n",
              "      <script>\n",
              "\n",
              "function displayQuickchartButton(domScope) {\n",
              "  let quickchartButtonEl =\n",
              "    domScope.querySelector('#df-b6626936-d806-4479-b310-ac7c5a186930 button.colab-df-quickchart');\n",
              "  quickchartButtonEl.style.display =\n",
              "    google.colab.kernel.accessAllowed ? 'block' : 'none';\n",
              "}\n",
              "\n",
              "        displayQuickchartButton(document);\n",
              "      </script>\n",
              "      <style>\n",
              "    .colab-df-container {\n",
              "      display:flex;\n",
              "      flex-wrap:wrap;\n",
              "      gap: 12px;\n",
              "    }\n",
              "\n",
              "    .colab-df-convert {\n",
              "      background-color: #E8F0FE;\n",
              "      border: none;\n",
              "      border-radius: 50%;\n",
              "      cursor: pointer;\n",
              "      display: none;\n",
              "      fill: #1967D2;\n",
              "      height: 32px;\n",
              "      padding: 0 0 0 0;\n",
              "      width: 32px;\n",
              "    }\n",
              "\n",
              "    .colab-df-convert:hover {\n",
              "      background-color: #E2EBFA;\n",
              "      box-shadow: 0px 1px 2px rgba(60, 64, 67, 0.3), 0px 1px 3px 1px rgba(60, 64, 67, 0.15);\n",
              "      fill: #174EA6;\n",
              "    }\n",
              "\n",
              "    [theme=dark] .colab-df-convert {\n",
              "      background-color: #3B4455;\n",
              "      fill: #D2E3FC;\n",
              "    }\n",
              "\n",
              "    [theme=dark] .colab-df-convert:hover {\n",
              "      background-color: #434B5C;\n",
              "      box-shadow: 0px 1px 3px 1px rgba(0, 0, 0, 0.15);\n",
              "      filter: drop-shadow(0px 1px 2px rgba(0, 0, 0, 0.3));\n",
              "      fill: #FFFFFF;\n",
              "    }\n",
              "  </style>\n",
              "\n",
              "      <script>\n",
              "        const buttonEl =\n",
              "          document.querySelector('#df-ddb171da-4372-42b7-9ca6-9019d45b0564 button.colab-df-convert');\n",
              "        buttonEl.style.display =\n",
              "          google.colab.kernel.accessAllowed ? 'block' : 'none';\n",
              "\n",
              "        async function convertToInteractive(key) {\n",
              "          const element = document.querySelector('#df-ddb171da-4372-42b7-9ca6-9019d45b0564');\n",
              "          const dataTable =\n",
              "            await google.colab.kernel.invokeFunction('convertToInteractive',\n",
              "                                                     [key], {});\n",
              "          if (!dataTable) return;\n",
              "\n",
              "          const docLinkHtml = 'Like what you see? Visit the ' +\n",
              "            '<a target=\"_blank\" href=https://colab.research.google.com/notebooks/data_table.ipynb>data table notebook</a>'\n",
              "            + ' to learn more about interactive tables.';\n",
              "          element.innerHTML = '';\n",
              "          dataTable['output_type'] = 'display_data';\n",
              "          await google.colab.output.renderOutput(dataTable, element);\n",
              "          const docLink = document.createElement('div');\n",
              "          docLink.innerHTML = docLinkHtml;\n",
              "          element.appendChild(docLink);\n",
              "        }\n",
              "      </script>\n",
              "    </div>\n",
              "  </div>\n"
            ]
          },
          "metadata": {},
          "execution_count": 220
        }
      ]
    },
    {
      "cell_type": "code",
      "source": [
        "store_sales.fillna(store_sales[\"식료품\"].mean())"
      ],
      "metadata": {
        "colab": {
          "base_uri": "https://localhost:8080/",
          "height": 206
        },
        "id": "UU7ZHKOQL55V",
        "outputId": "8096a641-d2fd-4695-bcea-b93f2b8ebd87"
      },
      "execution_count": 222,
      "outputs": [
        {
          "output_type": "execute_result",
          "data": {
            "text/plain": [
              "      화장품  가전제품         식료품   의류\n",
              "2018  300   400  150.000000  180\n",
              "2019  250   500  200.000000  230\n",
              "2020  280   550  300.000000  280\n",
              "2021  320   600  216.666667  330\n",
              "2022  350   680  216.666667  380"
            ],
            "text/html": [
              "\n",
              "\n",
              "  <div id=\"df-0c7f616d-98f2-4b7b-9c5f-43eb593a6d99\">\n",
              "    <div class=\"colab-df-container\">\n",
              "      <div>\n",
              "<style scoped>\n",
              "    .dataframe tbody tr th:only-of-type {\n",
              "        vertical-align: middle;\n",
              "    }\n",
              "\n",
              "    .dataframe tbody tr th {\n",
              "        vertical-align: top;\n",
              "    }\n",
              "\n",
              "    .dataframe thead th {\n",
              "        text-align: right;\n",
              "    }\n",
              "</style>\n",
              "<table border=\"1\" class=\"dataframe\">\n",
              "  <thead>\n",
              "    <tr style=\"text-align: right;\">\n",
              "      <th></th>\n",
              "      <th>화장품</th>\n",
              "      <th>가전제품</th>\n",
              "      <th>식료품</th>\n",
              "      <th>의류</th>\n",
              "    </tr>\n",
              "  </thead>\n",
              "  <tbody>\n",
              "    <tr>\n",
              "      <th>2018</th>\n",
              "      <td>300</td>\n",
              "      <td>400</td>\n",
              "      <td>150.000000</td>\n",
              "      <td>180</td>\n",
              "    </tr>\n",
              "    <tr>\n",
              "      <th>2019</th>\n",
              "      <td>250</td>\n",
              "      <td>500</td>\n",
              "      <td>200.000000</td>\n",
              "      <td>230</td>\n",
              "    </tr>\n",
              "    <tr>\n",
              "      <th>2020</th>\n",
              "      <td>280</td>\n",
              "      <td>550</td>\n",
              "      <td>300.000000</td>\n",
              "      <td>280</td>\n",
              "    </tr>\n",
              "    <tr>\n",
              "      <th>2021</th>\n",
              "      <td>320</td>\n",
              "      <td>600</td>\n",
              "      <td>216.666667</td>\n",
              "      <td>330</td>\n",
              "    </tr>\n",
              "    <tr>\n",
              "      <th>2022</th>\n",
              "      <td>350</td>\n",
              "      <td>680</td>\n",
              "      <td>216.666667</td>\n",
              "      <td>380</td>\n",
              "    </tr>\n",
              "  </tbody>\n",
              "</table>\n",
              "</div>\n",
              "      <button class=\"colab-df-convert\" onclick=\"convertToInteractive('df-0c7f616d-98f2-4b7b-9c5f-43eb593a6d99')\"\n",
              "              title=\"Convert this dataframe to an interactive table.\"\n",
              "              style=\"display:none;\">\n",
              "\n",
              "  <svg xmlns=\"http://www.w3.org/2000/svg\" height=\"24px\"viewBox=\"0 0 24 24\"\n",
              "       width=\"24px\">\n",
              "    <path d=\"M0 0h24v24H0V0z\" fill=\"none\"/>\n",
              "    <path d=\"M18.56 5.44l.94 2.06.94-2.06 2.06-.94-2.06-.94-.94-2.06-.94 2.06-2.06.94zm-11 1L8.5 8.5l.94-2.06 2.06-.94-2.06-.94L8.5 2.5l-.94 2.06-2.06.94zm10 10l.94 2.06.94-2.06 2.06-.94-2.06-.94-.94-2.06-.94 2.06-2.06.94z\"/><path d=\"M17.41 7.96l-1.37-1.37c-.4-.4-.92-.59-1.43-.59-.52 0-1.04.2-1.43.59L10.3 9.45l-7.72 7.72c-.78.78-.78 2.05 0 2.83L4 21.41c.39.39.9.59 1.41.59.51 0 1.02-.2 1.41-.59l7.78-7.78 2.81-2.81c.8-.78.8-2.07 0-2.86zM5.41 20L4 18.59l7.72-7.72 1.47 1.35L5.41 20z\"/>\n",
              "  </svg>\n",
              "      </button>\n",
              "\n",
              "\n",
              "\n",
              "    <div id=\"df-93daa862-ce4c-4f1a-9a72-e684e8bc2c21\">\n",
              "      <button class=\"colab-df-quickchart\" onclick=\"quickchart('df-93daa862-ce4c-4f1a-9a72-e684e8bc2c21')\"\n",
              "              title=\"Suggest charts.\"\n",
              "              style=\"display:none;\">\n",
              "\n",
              "<svg xmlns=\"http://www.w3.org/2000/svg\" height=\"24px\"viewBox=\"0 0 24 24\"\n",
              "     width=\"24px\">\n",
              "    <g>\n",
              "        <path d=\"M19 3H5c-1.1 0-2 .9-2 2v14c0 1.1.9 2 2 2h14c1.1 0 2-.9 2-2V5c0-1.1-.9-2-2-2zM9 17H7v-7h2v7zm4 0h-2V7h2v10zm4 0h-2v-4h2v4z\"/>\n",
              "    </g>\n",
              "</svg>\n",
              "      </button>\n",
              "    </div>\n",
              "\n",
              "<style>\n",
              "  .colab-df-quickchart {\n",
              "    background-color: #E8F0FE;\n",
              "    border: none;\n",
              "    border-radius: 50%;\n",
              "    cursor: pointer;\n",
              "    display: none;\n",
              "    fill: #1967D2;\n",
              "    height: 32px;\n",
              "    padding: 0 0 0 0;\n",
              "    width: 32px;\n",
              "  }\n",
              "\n",
              "  .colab-df-quickchart:hover {\n",
              "    background-color: #E2EBFA;\n",
              "    box-shadow: 0px 1px 2px rgba(60, 64, 67, 0.3), 0px 1px 3px 1px rgba(60, 64, 67, 0.15);\n",
              "    fill: #174EA6;\n",
              "  }\n",
              "\n",
              "  [theme=dark] .colab-df-quickchart {\n",
              "    background-color: #3B4455;\n",
              "    fill: #D2E3FC;\n",
              "  }\n",
              "\n",
              "  [theme=dark] .colab-df-quickchart:hover {\n",
              "    background-color: #434B5C;\n",
              "    box-shadow: 0px 1px 3px 1px rgba(0, 0, 0, 0.15);\n",
              "    filter: drop-shadow(0px 1px 2px rgba(0, 0, 0, 0.3));\n",
              "    fill: #FFFFFF;\n",
              "  }\n",
              "</style>\n",
              "\n",
              "    <script>\n",
              "      async function quickchart(key) {\n",
              "        const containerElement = document.querySelector('#' + key);\n",
              "        const charts = await google.colab.kernel.invokeFunction(\n",
              "            'suggestCharts', [key], {});\n",
              "      }\n",
              "    </script>\n",
              "\n",
              "      <script>\n",
              "\n",
              "function displayQuickchartButton(domScope) {\n",
              "  let quickchartButtonEl =\n",
              "    domScope.querySelector('#df-93daa862-ce4c-4f1a-9a72-e684e8bc2c21 button.colab-df-quickchart');\n",
              "  quickchartButtonEl.style.display =\n",
              "    google.colab.kernel.accessAllowed ? 'block' : 'none';\n",
              "}\n",
              "\n",
              "        displayQuickchartButton(document);\n",
              "      </script>\n",
              "      <style>\n",
              "    .colab-df-container {\n",
              "      display:flex;\n",
              "      flex-wrap:wrap;\n",
              "      gap: 12px;\n",
              "    }\n",
              "\n",
              "    .colab-df-convert {\n",
              "      background-color: #E8F0FE;\n",
              "      border: none;\n",
              "      border-radius: 50%;\n",
              "      cursor: pointer;\n",
              "      display: none;\n",
              "      fill: #1967D2;\n",
              "      height: 32px;\n",
              "      padding: 0 0 0 0;\n",
              "      width: 32px;\n",
              "    }\n",
              "\n",
              "    .colab-df-convert:hover {\n",
              "      background-color: #E2EBFA;\n",
              "      box-shadow: 0px 1px 2px rgba(60, 64, 67, 0.3), 0px 1px 3px 1px rgba(60, 64, 67, 0.15);\n",
              "      fill: #174EA6;\n",
              "    }\n",
              "\n",
              "    [theme=dark] .colab-df-convert {\n",
              "      background-color: #3B4455;\n",
              "      fill: #D2E3FC;\n",
              "    }\n",
              "\n",
              "    [theme=dark] .colab-df-convert:hover {\n",
              "      background-color: #434B5C;\n",
              "      box-shadow: 0px 1px 3px 1px rgba(0, 0, 0, 0.15);\n",
              "      filter: drop-shadow(0px 1px 2px rgba(0, 0, 0, 0.3));\n",
              "      fill: #FFFFFF;\n",
              "    }\n",
              "  </style>\n",
              "\n",
              "      <script>\n",
              "        const buttonEl =\n",
              "          document.querySelector('#df-0c7f616d-98f2-4b7b-9c5f-43eb593a6d99 button.colab-df-convert');\n",
              "        buttonEl.style.display =\n",
              "          google.colab.kernel.accessAllowed ? 'block' : 'none';\n",
              "\n",
              "        async function convertToInteractive(key) {\n",
              "          const element = document.querySelector('#df-0c7f616d-98f2-4b7b-9c5f-43eb593a6d99');\n",
              "          const dataTable =\n",
              "            await google.colab.kernel.invokeFunction('convertToInteractive',\n",
              "                                                     [key], {});\n",
              "          if (!dataTable) return;\n",
              "\n",
              "          const docLinkHtml = 'Like what you see? Visit the ' +\n",
              "            '<a target=\"_blank\" href=https://colab.research.google.com/notebooks/data_table.ipynb>data table notebook</a>'\n",
              "            + ' to learn more about interactive tables.';\n",
              "          element.innerHTML = '';\n",
              "          dataTable['output_type'] = 'display_data';\n",
              "          await google.colab.output.renderOutput(dataTable, element);\n",
              "          const docLink = document.createElement('div');\n",
              "          docLink.innerHTML = docLinkHtml;\n",
              "          element.appendChild(docLink);\n",
              "        }\n",
              "      </script>\n",
              "    </div>\n",
              "  </div>\n"
            ]
          },
          "metadata": {},
          "execution_count": 222
        }
      ]
    },
    {
      "cell_type": "code",
      "source": [
        "df = pd.read_csv(\"/content/drive/MyDrive/Ashopping.csv\", encoding = \"utf8\")\n",
        "df"
      ],
      "metadata": {
        "colab": {
          "base_uri": "https://localhost:8080/",
          "height": 572
        },
        "id": "8ISzWx5iMgWK",
        "outputId": "4d112264-fb37-4b5f-897c-ca5279b9494c"
      },
      "execution_count": 224,
      "outputs": [
        {
          "output_type": "execute_result",
          "data": {
            "text/plain": [
              "     고객ID  이탈여부      총매출액  구매금액대  방문빈도  1회 평균매출액  할인권 사용 횟수  총 할인 금액  고객등급  \\\n",
              "0       1     1   4963160      1    22    225598          1     5445     1   \n",
              "1       2     1   2271520      0    38     59777         22   350995     1   \n",
              "2       3     1   2484250      0     2   1242125          6   186045     1   \n",
              "3       4     1   2778850      0     9    308761          1     5195     2   \n",
              "4       5     1   4437610      1    10    443761          9   246350     2   \n",
              "..    ...   ...       ...    ...   ...       ...        ...      ...   ...   \n",
              "995   996     0  12731560      2    35    363759          3    44445     2   \n",
              "996   997     0   3419010      0     6    569835          6   186545     1   \n",
              "997   998     0   4612100      1    13    354777          8   260700     2   \n",
              "998   999     0   5165360      1    28    184477         20   347700     1   \n",
              "999  1000     0   4323050      1    16    270191         19   367045     2   \n",
              "\n",
              "     구매유형  ...  구매카테고리수  거주지역  성별  고객 나이대  거래기간  할인민감여부  Recency  Frequency  \\\n",
              "0       3  ...        7     6   1       6  3303       0        3          2   \n",
              "1       1  ...        5     4   0       2  3129       0        5          3   \n",
              "2       2  ...        4     6   0       3  3636       0        4          1   \n",
              "3       4  ...        4     5   0       4  3637       0        7          4   \n",
              "4       4  ...        6     6   0       4  3638       0        5          1   \n",
              "..    ...  ...      ...   ...  ..     ...   ...     ...      ...        ...   \n",
              "995     3  ...        8     6   0       4  4629       1        3          3   \n",
              "996     2  ...        9     6   0       4  4630       1        7          3   \n",
              "997     1  ...        1     4   1       6  4631       1        2          1   \n",
              "998     3  ...        7     5   1       6  3907       0        7          2   \n",
              "999     4  ...        6     5   1       6  2118       0        5          1   \n",
              "\n",
              "     Monetary      평균 구매주기  \n",
              "0           1   149.136364  \n",
              "1           4    81.342105  \n",
              "2           4  1817.000000  \n",
              "3           6   403.111111  \n",
              "4           4   362.800000  \n",
              "..        ...          ...  \n",
              "995         1   131.257143  \n",
              "996         6   770.666667  \n",
              "997         2   355.230769  \n",
              "998         6   138.535714  \n",
              "999         4   131.375000  \n",
              "\n",
              "[1000 rows x 21 columns]"
            ],
            "text/html": [
              "\n",
              "\n",
              "  <div id=\"df-94918f59-d1bc-400f-831e-b07e7cb78229\">\n",
              "    <div class=\"colab-df-container\">\n",
              "      <div>\n",
              "<style scoped>\n",
              "    .dataframe tbody tr th:only-of-type {\n",
              "        vertical-align: middle;\n",
              "    }\n",
              "\n",
              "    .dataframe tbody tr th {\n",
              "        vertical-align: top;\n",
              "    }\n",
              "\n",
              "    .dataframe thead th {\n",
              "        text-align: right;\n",
              "    }\n",
              "</style>\n",
              "<table border=\"1\" class=\"dataframe\">\n",
              "  <thead>\n",
              "    <tr style=\"text-align: right;\">\n",
              "      <th></th>\n",
              "      <th>고객ID</th>\n",
              "      <th>이탈여부</th>\n",
              "      <th>총매출액</th>\n",
              "      <th>구매금액대</th>\n",
              "      <th>방문빈도</th>\n",
              "      <th>1회 평균매출액</th>\n",
              "      <th>할인권 사용 횟수</th>\n",
              "      <th>총 할인 금액</th>\n",
              "      <th>고객등급</th>\n",
              "      <th>구매유형</th>\n",
              "      <th>...</th>\n",
              "      <th>구매카테고리수</th>\n",
              "      <th>거주지역</th>\n",
              "      <th>성별</th>\n",
              "      <th>고객 나이대</th>\n",
              "      <th>거래기간</th>\n",
              "      <th>할인민감여부</th>\n",
              "      <th>Recency</th>\n",
              "      <th>Frequency</th>\n",
              "      <th>Monetary</th>\n",
              "      <th>평균 구매주기</th>\n",
              "    </tr>\n",
              "  </thead>\n",
              "  <tbody>\n",
              "    <tr>\n",
              "      <th>0</th>\n",
              "      <td>1</td>\n",
              "      <td>1</td>\n",
              "      <td>4963160</td>\n",
              "      <td>1</td>\n",
              "      <td>22</td>\n",
              "      <td>225598</td>\n",
              "      <td>1</td>\n",
              "      <td>5445</td>\n",
              "      <td>1</td>\n",
              "      <td>3</td>\n",
              "      <td>...</td>\n",
              "      <td>7</td>\n",
              "      <td>6</td>\n",
              "      <td>1</td>\n",
              "      <td>6</td>\n",
              "      <td>3303</td>\n",
              "      <td>0</td>\n",
              "      <td>3</td>\n",
              "      <td>2</td>\n",
              "      <td>1</td>\n",
              "      <td>149.136364</td>\n",
              "    </tr>\n",
              "    <tr>\n",
              "      <th>1</th>\n",
              "      <td>2</td>\n",
              "      <td>1</td>\n",
              "      <td>2271520</td>\n",
              "      <td>0</td>\n",
              "      <td>38</td>\n",
              "      <td>59777</td>\n",
              "      <td>22</td>\n",
              "      <td>350995</td>\n",
              "      <td>1</td>\n",
              "      <td>1</td>\n",
              "      <td>...</td>\n",
              "      <td>5</td>\n",
              "      <td>4</td>\n",
              "      <td>0</td>\n",
              "      <td>2</td>\n",
              "      <td>3129</td>\n",
              "      <td>0</td>\n",
              "      <td>5</td>\n",
              "      <td>3</td>\n",
              "      <td>4</td>\n",
              "      <td>81.342105</td>\n",
              "    </tr>\n",
              "    <tr>\n",
              "      <th>2</th>\n",
              "      <td>3</td>\n",
              "      <td>1</td>\n",
              "      <td>2484250</td>\n",
              "      <td>0</td>\n",
              "      <td>2</td>\n",
              "      <td>1242125</td>\n",
              "      <td>6</td>\n",
              "      <td>186045</td>\n",
              "      <td>1</td>\n",
              "      <td>2</td>\n",
              "      <td>...</td>\n",
              "      <td>4</td>\n",
              "      <td>6</td>\n",
              "      <td>0</td>\n",
              "      <td>3</td>\n",
              "      <td>3636</td>\n",
              "      <td>0</td>\n",
              "      <td>4</td>\n",
              "      <td>1</td>\n",
              "      <td>4</td>\n",
              "      <td>1817.000000</td>\n",
              "    </tr>\n",
              "    <tr>\n",
              "      <th>3</th>\n",
              "      <td>4</td>\n",
              "      <td>1</td>\n",
              "      <td>2778850</td>\n",
              "      <td>0</td>\n",
              "      <td>9</td>\n",
              "      <td>308761</td>\n",
              "      <td>1</td>\n",
              "      <td>5195</td>\n",
              "      <td>2</td>\n",
              "      <td>4</td>\n",
              "      <td>...</td>\n",
              "      <td>4</td>\n",
              "      <td>5</td>\n",
              "      <td>0</td>\n",
              "      <td>4</td>\n",
              "      <td>3637</td>\n",
              "      <td>0</td>\n",
              "      <td>7</td>\n",
              "      <td>4</td>\n",
              "      <td>6</td>\n",
              "      <td>403.111111</td>\n",
              "    </tr>\n",
              "    <tr>\n",
              "      <th>4</th>\n",
              "      <td>5</td>\n",
              "      <td>1</td>\n",
              "      <td>4437610</td>\n",
              "      <td>1</td>\n",
              "      <td>10</td>\n",
              "      <td>443761</td>\n",
              "      <td>9</td>\n",
              "      <td>246350</td>\n",
              "      <td>2</td>\n",
              "      <td>4</td>\n",
              "      <td>...</td>\n",
              "      <td>6</td>\n",
              "      <td>6</td>\n",
              "      <td>0</td>\n",
              "      <td>4</td>\n",
              "      <td>3638</td>\n",
              "      <td>0</td>\n",
              "      <td>5</td>\n",
              "      <td>1</td>\n",
              "      <td>4</td>\n",
              "      <td>362.800000</td>\n",
              "    </tr>\n",
              "    <tr>\n",
              "      <th>...</th>\n",
              "      <td>...</td>\n",
              "      <td>...</td>\n",
              "      <td>...</td>\n",
              "      <td>...</td>\n",
              "      <td>...</td>\n",
              "      <td>...</td>\n",
              "      <td>...</td>\n",
              "      <td>...</td>\n",
              "      <td>...</td>\n",
              "      <td>...</td>\n",
              "      <td>...</td>\n",
              "      <td>...</td>\n",
              "      <td>...</td>\n",
              "      <td>...</td>\n",
              "      <td>...</td>\n",
              "      <td>...</td>\n",
              "      <td>...</td>\n",
              "      <td>...</td>\n",
              "      <td>...</td>\n",
              "      <td>...</td>\n",
              "      <td>...</td>\n",
              "    </tr>\n",
              "    <tr>\n",
              "      <th>995</th>\n",
              "      <td>996</td>\n",
              "      <td>0</td>\n",
              "      <td>12731560</td>\n",
              "      <td>2</td>\n",
              "      <td>35</td>\n",
              "      <td>363759</td>\n",
              "      <td>3</td>\n",
              "      <td>44445</td>\n",
              "      <td>2</td>\n",
              "      <td>3</td>\n",
              "      <td>...</td>\n",
              "      <td>8</td>\n",
              "      <td>6</td>\n",
              "      <td>0</td>\n",
              "      <td>4</td>\n",
              "      <td>4629</td>\n",
              "      <td>1</td>\n",
              "      <td>3</td>\n",
              "      <td>3</td>\n",
              "      <td>1</td>\n",
              "      <td>131.257143</td>\n",
              "    </tr>\n",
              "    <tr>\n",
              "      <th>996</th>\n",
              "      <td>997</td>\n",
              "      <td>0</td>\n",
              "      <td>3419010</td>\n",
              "      <td>0</td>\n",
              "      <td>6</td>\n",
              "      <td>569835</td>\n",
              "      <td>6</td>\n",
              "      <td>186545</td>\n",
              "      <td>1</td>\n",
              "      <td>2</td>\n",
              "      <td>...</td>\n",
              "      <td>9</td>\n",
              "      <td>6</td>\n",
              "      <td>0</td>\n",
              "      <td>4</td>\n",
              "      <td>4630</td>\n",
              "      <td>1</td>\n",
              "      <td>7</td>\n",
              "      <td>3</td>\n",
              "      <td>6</td>\n",
              "      <td>770.666667</td>\n",
              "    </tr>\n",
              "    <tr>\n",
              "      <th>997</th>\n",
              "      <td>998</td>\n",
              "      <td>0</td>\n",
              "      <td>4612100</td>\n",
              "      <td>1</td>\n",
              "      <td>13</td>\n",
              "      <td>354777</td>\n",
              "      <td>8</td>\n",
              "      <td>260700</td>\n",
              "      <td>2</td>\n",
              "      <td>1</td>\n",
              "      <td>...</td>\n",
              "      <td>1</td>\n",
              "      <td>4</td>\n",
              "      <td>1</td>\n",
              "      <td>6</td>\n",
              "      <td>4631</td>\n",
              "      <td>1</td>\n",
              "      <td>2</td>\n",
              "      <td>1</td>\n",
              "      <td>2</td>\n",
              "      <td>355.230769</td>\n",
              "    </tr>\n",
              "    <tr>\n",
              "      <th>998</th>\n",
              "      <td>999</td>\n",
              "      <td>0</td>\n",
              "      <td>5165360</td>\n",
              "      <td>1</td>\n",
              "      <td>28</td>\n",
              "      <td>184477</td>\n",
              "      <td>20</td>\n",
              "      <td>347700</td>\n",
              "      <td>1</td>\n",
              "      <td>3</td>\n",
              "      <td>...</td>\n",
              "      <td>7</td>\n",
              "      <td>5</td>\n",
              "      <td>1</td>\n",
              "      <td>6</td>\n",
              "      <td>3907</td>\n",
              "      <td>0</td>\n",
              "      <td>7</td>\n",
              "      <td>2</td>\n",
              "      <td>6</td>\n",
              "      <td>138.535714</td>\n",
              "    </tr>\n",
              "    <tr>\n",
              "      <th>999</th>\n",
              "      <td>1000</td>\n",
              "      <td>0</td>\n",
              "      <td>4323050</td>\n",
              "      <td>1</td>\n",
              "      <td>16</td>\n",
              "      <td>270191</td>\n",
              "      <td>19</td>\n",
              "      <td>367045</td>\n",
              "      <td>2</td>\n",
              "      <td>4</td>\n",
              "      <td>...</td>\n",
              "      <td>6</td>\n",
              "      <td>5</td>\n",
              "      <td>1</td>\n",
              "      <td>6</td>\n",
              "      <td>2118</td>\n",
              "      <td>0</td>\n",
              "      <td>5</td>\n",
              "      <td>1</td>\n",
              "      <td>4</td>\n",
              "      <td>131.375000</td>\n",
              "    </tr>\n",
              "  </tbody>\n",
              "</table>\n",
              "<p>1000 rows × 21 columns</p>\n",
              "</div>\n",
              "      <button class=\"colab-df-convert\" onclick=\"convertToInteractive('df-94918f59-d1bc-400f-831e-b07e7cb78229')\"\n",
              "              title=\"Convert this dataframe to an interactive table.\"\n",
              "              style=\"display:none;\">\n",
              "\n",
              "  <svg xmlns=\"http://www.w3.org/2000/svg\" height=\"24px\"viewBox=\"0 0 24 24\"\n",
              "       width=\"24px\">\n",
              "    <path d=\"M0 0h24v24H0V0z\" fill=\"none\"/>\n",
              "    <path d=\"M18.56 5.44l.94 2.06.94-2.06 2.06-.94-2.06-.94-.94-2.06-.94 2.06-2.06.94zm-11 1L8.5 8.5l.94-2.06 2.06-.94-2.06-.94L8.5 2.5l-.94 2.06-2.06.94zm10 10l.94 2.06.94-2.06 2.06-.94-2.06-.94-.94-2.06-.94 2.06-2.06.94z\"/><path d=\"M17.41 7.96l-1.37-1.37c-.4-.4-.92-.59-1.43-.59-.52 0-1.04.2-1.43.59L10.3 9.45l-7.72 7.72c-.78.78-.78 2.05 0 2.83L4 21.41c.39.39.9.59 1.41.59.51 0 1.02-.2 1.41-.59l7.78-7.78 2.81-2.81c.8-.78.8-2.07 0-2.86zM5.41 20L4 18.59l7.72-7.72 1.47 1.35L5.41 20z\"/>\n",
              "  </svg>\n",
              "      </button>\n",
              "\n",
              "\n",
              "\n",
              "    <div id=\"df-c91fede4-eb96-4543-8c16-8b74ebf435ba\">\n",
              "      <button class=\"colab-df-quickchart\" onclick=\"quickchart('df-c91fede4-eb96-4543-8c16-8b74ebf435ba')\"\n",
              "              title=\"Suggest charts.\"\n",
              "              style=\"display:none;\">\n",
              "\n",
              "<svg xmlns=\"http://www.w3.org/2000/svg\" height=\"24px\"viewBox=\"0 0 24 24\"\n",
              "     width=\"24px\">\n",
              "    <g>\n",
              "        <path d=\"M19 3H5c-1.1 0-2 .9-2 2v14c0 1.1.9 2 2 2h14c1.1 0 2-.9 2-2V5c0-1.1-.9-2-2-2zM9 17H7v-7h2v7zm4 0h-2V7h2v10zm4 0h-2v-4h2v4z\"/>\n",
              "    </g>\n",
              "</svg>\n",
              "      </button>\n",
              "    </div>\n",
              "\n",
              "<style>\n",
              "  .colab-df-quickchart {\n",
              "    background-color: #E8F0FE;\n",
              "    border: none;\n",
              "    border-radius: 50%;\n",
              "    cursor: pointer;\n",
              "    display: none;\n",
              "    fill: #1967D2;\n",
              "    height: 32px;\n",
              "    padding: 0 0 0 0;\n",
              "    width: 32px;\n",
              "  }\n",
              "\n",
              "  .colab-df-quickchart:hover {\n",
              "    background-color: #E2EBFA;\n",
              "    box-shadow: 0px 1px 2px rgba(60, 64, 67, 0.3), 0px 1px 3px 1px rgba(60, 64, 67, 0.15);\n",
              "    fill: #174EA6;\n",
              "  }\n",
              "\n",
              "  [theme=dark] .colab-df-quickchart {\n",
              "    background-color: #3B4455;\n",
              "    fill: #D2E3FC;\n",
              "  }\n",
              "\n",
              "  [theme=dark] .colab-df-quickchart:hover {\n",
              "    background-color: #434B5C;\n",
              "    box-shadow: 0px 1px 3px 1px rgba(0, 0, 0, 0.15);\n",
              "    filter: drop-shadow(0px 1px 2px rgba(0, 0, 0, 0.3));\n",
              "    fill: #FFFFFF;\n",
              "  }\n",
              "</style>\n",
              "\n",
              "    <script>\n",
              "      async function quickchart(key) {\n",
              "        const containerElement = document.querySelector('#' + key);\n",
              "        const charts = await google.colab.kernel.invokeFunction(\n",
              "            'suggestCharts', [key], {});\n",
              "      }\n",
              "    </script>\n",
              "\n",
              "      <script>\n",
              "\n",
              "function displayQuickchartButton(domScope) {\n",
              "  let quickchartButtonEl =\n",
              "    domScope.querySelector('#df-c91fede4-eb96-4543-8c16-8b74ebf435ba button.colab-df-quickchart');\n",
              "  quickchartButtonEl.style.display =\n",
              "    google.colab.kernel.accessAllowed ? 'block' : 'none';\n",
              "}\n",
              "\n",
              "        displayQuickchartButton(document);\n",
              "      </script>\n",
              "      <style>\n",
              "    .colab-df-container {\n",
              "      display:flex;\n",
              "      flex-wrap:wrap;\n",
              "      gap: 12px;\n",
              "    }\n",
              "\n",
              "    .colab-df-convert {\n",
              "      background-color: #E8F0FE;\n",
              "      border: none;\n",
              "      border-radius: 50%;\n",
              "      cursor: pointer;\n",
              "      display: none;\n",
              "      fill: #1967D2;\n",
              "      height: 32px;\n",
              "      padding: 0 0 0 0;\n",
              "      width: 32px;\n",
              "    }\n",
              "\n",
              "    .colab-df-convert:hover {\n",
              "      background-color: #E2EBFA;\n",
              "      box-shadow: 0px 1px 2px rgba(60, 64, 67, 0.3), 0px 1px 3px 1px rgba(60, 64, 67, 0.15);\n",
              "      fill: #174EA6;\n",
              "    }\n",
              "\n",
              "    [theme=dark] .colab-df-convert {\n",
              "      background-color: #3B4455;\n",
              "      fill: #D2E3FC;\n",
              "    }\n",
              "\n",
              "    [theme=dark] .colab-df-convert:hover {\n",
              "      background-color: #434B5C;\n",
              "      box-shadow: 0px 1px 3px 1px rgba(0, 0, 0, 0.15);\n",
              "      filter: drop-shadow(0px 1px 2px rgba(0, 0, 0, 0.3));\n",
              "      fill: #FFFFFF;\n",
              "    }\n",
              "  </style>\n",
              "\n",
              "      <script>\n",
              "        const buttonEl =\n",
              "          document.querySelector('#df-94918f59-d1bc-400f-831e-b07e7cb78229 button.colab-df-convert');\n",
              "        buttonEl.style.display =\n",
              "          google.colab.kernel.accessAllowed ? 'block' : 'none';\n",
              "\n",
              "        async function convertToInteractive(key) {\n",
              "          const element = document.querySelector('#df-94918f59-d1bc-400f-831e-b07e7cb78229');\n",
              "          const dataTable =\n",
              "            await google.colab.kernel.invokeFunction('convertToInteractive',\n",
              "                                                     [key], {});\n",
              "          if (!dataTable) return;\n",
              "\n",
              "          const docLinkHtml = 'Like what you see? Visit the ' +\n",
              "            '<a target=\"_blank\" href=https://colab.research.google.com/notebooks/data_table.ipynb>data table notebook</a>'\n",
              "            + ' to learn more about interactive tables.';\n",
              "          element.innerHTML = '';\n",
              "          dataTable['output_type'] = 'display_data';\n",
              "          await google.colab.output.renderOutput(dataTable, element);\n",
              "          const docLink = document.createElement('div');\n",
              "          docLink.innerHTML = docLinkHtml;\n",
              "          element.appendChild(docLink);\n",
              "        }\n",
              "      </script>\n",
              "    </div>\n",
              "  </div>\n"
            ]
          },
          "metadata": {},
          "execution_count": 224
        }
      ]
    },
    {
      "cell_type": "code",
      "source": [
        "df.describe() #기술통계"
      ],
      "metadata": {
        "colab": {
          "base_uri": "https://localhost:8080/",
          "height": 1000
        },
        "id": "zzRUOg0ZN8Fq",
        "outputId": "3402e448-aa9a-4771-c72a-d5c4c6924dff"
      },
      "execution_count": 227,
      "outputs": [
        {
          "output_type": "execute_result",
          "data": {
            "text/plain": [
              "              고객ID         이탈여부          총매출액        구매금액대        방문빈도  \\\n",
              "count  1000.000000  1000.000000  1.000000e+03  1000.000000  1000.00000   \n",
              "mean    500.500000     0.300000  5.858013e+06     0.700000    22.91100   \n",
              "std     288.819436     0.458487  5.812815e+06     0.781416    19.08217   \n",
              "min       1.000000     0.000000  1.886100e+06     0.000000     1.00000   \n",
              "25%     250.750000     0.000000  2.815905e+06     0.000000    10.75000   \n",
              "50%     500.500000     0.000000  4.092145e+06     0.500000    18.00000   \n",
              "75%     750.250000     1.000000  6.545392e+06     1.000000    28.00000   \n",
              "max    1000.000000     1.000000  6.759576e+07     2.000000   155.00000   \n",
              "\n",
              "           1회 평균매출액    할인권 사용 횟수        총 할인 금액         고객등급         구매유형  \\\n",
              "count  1.000000e+03  1000.000000    1000.000000  1000.000000  1000.000000   \n",
              "mean   3.521024e+05    16.027000  292371.670000     1.546000     2.656000   \n",
              "std    3.124636e+05     8.341334  111937.501042     0.498129     1.046307   \n",
              "min    2.708200e+04     1.000000    3750.000000     1.000000     1.000000   \n",
              "25%    1.631242e+05     9.000000  261686.250000     1.000000     2.000000   \n",
              "50%    2.582080e+05    17.000000  347500.000000     2.000000     2.000000   \n",
              "75%    4.268310e+05    23.000000  365400.000000     2.000000     4.000000   \n",
              "max    2.798500e+06    30.000000  400600.000000     2.000000     4.000000   \n",
              "\n",
              "       ...      구매카테고리수         거주지역           성별       고객 나이대         거래기간  \\\n",
              "count  ...  1000.000000  1000.000000  1000.000000  1000.000000  1000.000000   \n",
              "mean   ...     5.217000     5.147000     0.189000     3.964000  3495.891000   \n",
              "std    ...     2.224153     1.169084     0.391705     1.078827   965.966194   \n",
              "min    ...     1.000000     1.000000     0.000000     2.000000   827.000000   \n",
              "25%    ...     3.000000     4.000000     0.000000     3.000000  2871.000000   \n",
              "50%    ...     5.000000     5.000000     0.000000     4.000000  3836.000000   \n",
              "75%    ...     7.000000     6.000000     0.000000     5.000000  4207.250000   \n",
              "max    ...     9.000000     7.000000     1.000000     7.000000  5334.000000   \n",
              "\n",
              "            할인민감여부      Recency    Frequency     Monetary      평균 구매주기  \n",
              "count  1000.000000  1000.000000  1000.000000  1000.000000  1000.000000  \n",
              "mean      0.400000     4.925000     2.289000     4.129000   266.880824  \n",
              "std       0.490143     1.744253     1.669811     1.560383   254.077398  \n",
              "min       0.000000     1.000000     1.000000     1.000000    13.980645  \n",
              "25%       0.000000     4.000000     1.000000     3.000000   111.957671  \n",
              "50%       0.000000     5.000000     2.000000     4.000000   191.469697  \n",
              "75%       1.000000     7.000000     3.000000     6.000000   324.386218  \n",
              "max       1.000000     7.000000     7.000000     7.000000  1956.000000  \n",
              "\n",
              "[8 rows x 21 columns]"
            ],
            "text/html": [
              "\n",
              "\n",
              "  <div id=\"df-83447542-2597-4a99-a6df-92fb58de8dde\">\n",
              "    <div class=\"colab-df-container\">\n",
              "      <div>\n",
              "<style scoped>\n",
              "    .dataframe tbody tr th:only-of-type {\n",
              "        vertical-align: middle;\n",
              "    }\n",
              "\n",
              "    .dataframe tbody tr th {\n",
              "        vertical-align: top;\n",
              "    }\n",
              "\n",
              "    .dataframe thead th {\n",
              "        text-align: right;\n",
              "    }\n",
              "</style>\n",
              "<table border=\"1\" class=\"dataframe\">\n",
              "  <thead>\n",
              "    <tr style=\"text-align: right;\">\n",
              "      <th></th>\n",
              "      <th>고객ID</th>\n",
              "      <th>이탈여부</th>\n",
              "      <th>총매출액</th>\n",
              "      <th>구매금액대</th>\n",
              "      <th>방문빈도</th>\n",
              "      <th>1회 평균매출액</th>\n",
              "      <th>할인권 사용 횟수</th>\n",
              "      <th>총 할인 금액</th>\n",
              "      <th>고객등급</th>\n",
              "      <th>구매유형</th>\n",
              "      <th>...</th>\n",
              "      <th>구매카테고리수</th>\n",
              "      <th>거주지역</th>\n",
              "      <th>성별</th>\n",
              "      <th>고객 나이대</th>\n",
              "      <th>거래기간</th>\n",
              "      <th>할인민감여부</th>\n",
              "      <th>Recency</th>\n",
              "      <th>Frequency</th>\n",
              "      <th>Monetary</th>\n",
              "      <th>평균 구매주기</th>\n",
              "    </tr>\n",
              "  </thead>\n",
              "  <tbody>\n",
              "    <tr>\n",
              "      <th>count</th>\n",
              "      <td>1000.000000</td>\n",
              "      <td>1000.000000</td>\n",
              "      <td>1.000000e+03</td>\n",
              "      <td>1000.000000</td>\n",
              "      <td>1000.00000</td>\n",
              "      <td>1.000000e+03</td>\n",
              "      <td>1000.000000</td>\n",
              "      <td>1000.000000</td>\n",
              "      <td>1000.000000</td>\n",
              "      <td>1000.000000</td>\n",
              "      <td>...</td>\n",
              "      <td>1000.000000</td>\n",
              "      <td>1000.000000</td>\n",
              "      <td>1000.000000</td>\n",
              "      <td>1000.000000</td>\n",
              "      <td>1000.000000</td>\n",
              "      <td>1000.000000</td>\n",
              "      <td>1000.000000</td>\n",
              "      <td>1000.000000</td>\n",
              "      <td>1000.000000</td>\n",
              "      <td>1000.000000</td>\n",
              "    </tr>\n",
              "    <tr>\n",
              "      <th>mean</th>\n",
              "      <td>500.500000</td>\n",
              "      <td>0.300000</td>\n",
              "      <td>5.858013e+06</td>\n",
              "      <td>0.700000</td>\n",
              "      <td>22.91100</td>\n",
              "      <td>3.521024e+05</td>\n",
              "      <td>16.027000</td>\n",
              "      <td>292371.670000</td>\n",
              "      <td>1.546000</td>\n",
              "      <td>2.656000</td>\n",
              "      <td>...</td>\n",
              "      <td>5.217000</td>\n",
              "      <td>5.147000</td>\n",
              "      <td>0.189000</td>\n",
              "      <td>3.964000</td>\n",
              "      <td>3495.891000</td>\n",
              "      <td>0.400000</td>\n",
              "      <td>4.925000</td>\n",
              "      <td>2.289000</td>\n",
              "      <td>4.129000</td>\n",
              "      <td>266.880824</td>\n",
              "    </tr>\n",
              "    <tr>\n",
              "      <th>std</th>\n",
              "      <td>288.819436</td>\n",
              "      <td>0.458487</td>\n",
              "      <td>5.812815e+06</td>\n",
              "      <td>0.781416</td>\n",
              "      <td>19.08217</td>\n",
              "      <td>3.124636e+05</td>\n",
              "      <td>8.341334</td>\n",
              "      <td>111937.501042</td>\n",
              "      <td>0.498129</td>\n",
              "      <td>1.046307</td>\n",
              "      <td>...</td>\n",
              "      <td>2.224153</td>\n",
              "      <td>1.169084</td>\n",
              "      <td>0.391705</td>\n",
              "      <td>1.078827</td>\n",
              "      <td>965.966194</td>\n",
              "      <td>0.490143</td>\n",
              "      <td>1.744253</td>\n",
              "      <td>1.669811</td>\n",
              "      <td>1.560383</td>\n",
              "      <td>254.077398</td>\n",
              "    </tr>\n",
              "    <tr>\n",
              "      <th>min</th>\n",
              "      <td>1.000000</td>\n",
              "      <td>0.000000</td>\n",
              "      <td>1.886100e+06</td>\n",
              "      <td>0.000000</td>\n",
              "      <td>1.00000</td>\n",
              "      <td>2.708200e+04</td>\n",
              "      <td>1.000000</td>\n",
              "      <td>3750.000000</td>\n",
              "      <td>1.000000</td>\n",
              "      <td>1.000000</td>\n",
              "      <td>...</td>\n",
              "      <td>1.000000</td>\n",
              "      <td>1.000000</td>\n",
              "      <td>0.000000</td>\n",
              "      <td>2.000000</td>\n",
              "      <td>827.000000</td>\n",
              "      <td>0.000000</td>\n",
              "      <td>1.000000</td>\n",
              "      <td>1.000000</td>\n",
              "      <td>1.000000</td>\n",
              "      <td>13.980645</td>\n",
              "    </tr>\n",
              "    <tr>\n",
              "      <th>25%</th>\n",
              "      <td>250.750000</td>\n",
              "      <td>0.000000</td>\n",
              "      <td>2.815905e+06</td>\n",
              "      <td>0.000000</td>\n",
              "      <td>10.75000</td>\n",
              "      <td>1.631242e+05</td>\n",
              "      <td>9.000000</td>\n",
              "      <td>261686.250000</td>\n",
              "      <td>1.000000</td>\n",
              "      <td>2.000000</td>\n",
              "      <td>...</td>\n",
              "      <td>3.000000</td>\n",
              "      <td>4.000000</td>\n",
              "      <td>0.000000</td>\n",
              "      <td>3.000000</td>\n",
              "      <td>2871.000000</td>\n",
              "      <td>0.000000</td>\n",
              "      <td>4.000000</td>\n",
              "      <td>1.000000</td>\n",
              "      <td>3.000000</td>\n",
              "      <td>111.957671</td>\n",
              "    </tr>\n",
              "    <tr>\n",
              "      <th>50%</th>\n",
              "      <td>500.500000</td>\n",
              "      <td>0.000000</td>\n",
              "      <td>4.092145e+06</td>\n",
              "      <td>0.500000</td>\n",
              "      <td>18.00000</td>\n",
              "      <td>2.582080e+05</td>\n",
              "      <td>17.000000</td>\n",
              "      <td>347500.000000</td>\n",
              "      <td>2.000000</td>\n",
              "      <td>2.000000</td>\n",
              "      <td>...</td>\n",
              "      <td>5.000000</td>\n",
              "      <td>5.000000</td>\n",
              "      <td>0.000000</td>\n",
              "      <td>4.000000</td>\n",
              "      <td>3836.000000</td>\n",
              "      <td>0.000000</td>\n",
              "      <td>5.000000</td>\n",
              "      <td>2.000000</td>\n",
              "      <td>4.000000</td>\n",
              "      <td>191.469697</td>\n",
              "    </tr>\n",
              "    <tr>\n",
              "      <th>75%</th>\n",
              "      <td>750.250000</td>\n",
              "      <td>1.000000</td>\n",
              "      <td>6.545392e+06</td>\n",
              "      <td>1.000000</td>\n",
              "      <td>28.00000</td>\n",
              "      <td>4.268310e+05</td>\n",
              "      <td>23.000000</td>\n",
              "      <td>365400.000000</td>\n",
              "      <td>2.000000</td>\n",
              "      <td>4.000000</td>\n",
              "      <td>...</td>\n",
              "      <td>7.000000</td>\n",
              "      <td>6.000000</td>\n",
              "      <td>0.000000</td>\n",
              "      <td>5.000000</td>\n",
              "      <td>4207.250000</td>\n",
              "      <td>1.000000</td>\n",
              "      <td>7.000000</td>\n",
              "      <td>3.000000</td>\n",
              "      <td>6.000000</td>\n",
              "      <td>324.386218</td>\n",
              "    </tr>\n",
              "    <tr>\n",
              "      <th>max</th>\n",
              "      <td>1000.000000</td>\n",
              "      <td>1.000000</td>\n",
              "      <td>6.759576e+07</td>\n",
              "      <td>2.000000</td>\n",
              "      <td>155.00000</td>\n",
              "      <td>2.798500e+06</td>\n",
              "      <td>30.000000</td>\n",
              "      <td>400600.000000</td>\n",
              "      <td>2.000000</td>\n",
              "      <td>4.000000</td>\n",
              "      <td>...</td>\n",
              "      <td>9.000000</td>\n",
              "      <td>7.000000</td>\n",
              "      <td>1.000000</td>\n",
              "      <td>7.000000</td>\n",
              "      <td>5334.000000</td>\n",
              "      <td>1.000000</td>\n",
              "      <td>7.000000</td>\n",
              "      <td>7.000000</td>\n",
              "      <td>7.000000</td>\n",
              "      <td>1956.000000</td>\n",
              "    </tr>\n",
              "  </tbody>\n",
              "</table>\n",
              "<p>8 rows × 21 columns</p>\n",
              "</div>\n",
              "      <button class=\"colab-df-convert\" onclick=\"convertToInteractive('df-83447542-2597-4a99-a6df-92fb58de8dde')\"\n",
              "              title=\"Convert this dataframe to an interactive table.\"\n",
              "              style=\"display:none;\">\n",
              "\n",
              "  <svg xmlns=\"http://www.w3.org/2000/svg\" height=\"24px\"viewBox=\"0 0 24 24\"\n",
              "       width=\"24px\">\n",
              "    <path d=\"M0 0h24v24H0V0z\" fill=\"none\"/>\n",
              "    <path d=\"M18.56 5.44l.94 2.06.94-2.06 2.06-.94-2.06-.94-.94-2.06-.94 2.06-2.06.94zm-11 1L8.5 8.5l.94-2.06 2.06-.94-2.06-.94L8.5 2.5l-.94 2.06-2.06.94zm10 10l.94 2.06.94-2.06 2.06-.94-2.06-.94-.94-2.06-.94 2.06-2.06.94z\"/><path d=\"M17.41 7.96l-1.37-1.37c-.4-.4-.92-.59-1.43-.59-.52 0-1.04.2-1.43.59L10.3 9.45l-7.72 7.72c-.78.78-.78 2.05 0 2.83L4 21.41c.39.39.9.59 1.41.59.51 0 1.02-.2 1.41-.59l7.78-7.78 2.81-2.81c.8-.78.8-2.07 0-2.86zM5.41 20L4 18.59l7.72-7.72 1.47 1.35L5.41 20z\"/>\n",
              "  </svg>\n",
              "      </button>\n",
              "\n",
              "\n",
              "\n",
              "    <div id=\"df-251e4c62-6e81-4b7c-87f4-45bfb2db7fa6\">\n",
              "      <button class=\"colab-df-quickchart\" onclick=\"quickchart('df-251e4c62-6e81-4b7c-87f4-45bfb2db7fa6')\"\n",
              "              title=\"Suggest charts.\"\n",
              "              style=\"display:none;\">\n",
              "\n",
              "<svg xmlns=\"http://www.w3.org/2000/svg\" height=\"24px\"viewBox=\"0 0 24 24\"\n",
              "     width=\"24px\">\n",
              "    <g>\n",
              "        <path d=\"M19 3H5c-1.1 0-2 .9-2 2v14c0 1.1.9 2 2 2h14c1.1 0 2-.9 2-2V5c0-1.1-.9-2-2-2zM9 17H7v-7h2v7zm4 0h-2V7h2v10zm4 0h-2v-4h2v4z\"/>\n",
              "    </g>\n",
              "</svg>\n",
              "      </button>\n",
              "    </div>\n",
              "\n",
              "<style>\n",
              "  .colab-df-quickchart {\n",
              "    background-color: #E8F0FE;\n",
              "    border: none;\n",
              "    border-radius: 50%;\n",
              "    cursor: pointer;\n",
              "    display: none;\n",
              "    fill: #1967D2;\n",
              "    height: 32px;\n",
              "    padding: 0 0 0 0;\n",
              "    width: 32px;\n",
              "  }\n",
              "\n",
              "  .colab-df-quickchart:hover {\n",
              "    background-color: #E2EBFA;\n",
              "    box-shadow: 0px 1px 2px rgba(60, 64, 67, 0.3), 0px 1px 3px 1px rgba(60, 64, 67, 0.15);\n",
              "    fill: #174EA6;\n",
              "  }\n",
              "\n",
              "  [theme=dark] .colab-df-quickchart {\n",
              "    background-color: #3B4455;\n",
              "    fill: #D2E3FC;\n",
              "  }\n",
              "\n",
              "  [theme=dark] .colab-df-quickchart:hover {\n",
              "    background-color: #434B5C;\n",
              "    box-shadow: 0px 1px 3px 1px rgba(0, 0, 0, 0.15);\n",
              "    filter: drop-shadow(0px 1px 2px rgba(0, 0, 0, 0.3));\n",
              "    fill: #FFFFFF;\n",
              "  }\n",
              "</style>\n",
              "\n",
              "    <script>\n",
              "      async function quickchart(key) {\n",
              "        const containerElement = document.querySelector('#' + key);\n",
              "        const charts = await google.colab.kernel.invokeFunction(\n",
              "            'suggestCharts', [key], {});\n",
              "      }\n",
              "    </script>\n",
              "\n",
              "      <script>\n",
              "\n",
              "function displayQuickchartButton(domScope) {\n",
              "  let quickchartButtonEl =\n",
              "    domScope.querySelector('#df-251e4c62-6e81-4b7c-87f4-45bfb2db7fa6 button.colab-df-quickchart');\n",
              "  quickchartButtonEl.style.display =\n",
              "    google.colab.kernel.accessAllowed ? 'block' : 'none';\n",
              "}\n",
              "\n",
              "        displayQuickchartButton(document);\n",
              "      </script>\n",
              "      <style>\n",
              "    .colab-df-container {\n",
              "      display:flex;\n",
              "      flex-wrap:wrap;\n",
              "      gap: 12px;\n",
              "    }\n",
              "\n",
              "    .colab-df-convert {\n",
              "      background-color: #E8F0FE;\n",
              "      border: none;\n",
              "      border-radius: 50%;\n",
              "      cursor: pointer;\n",
              "      display: none;\n",
              "      fill: #1967D2;\n",
              "      height: 32px;\n",
              "      padding: 0 0 0 0;\n",
              "      width: 32px;\n",
              "    }\n",
              "\n",
              "    .colab-df-convert:hover {\n",
              "      background-color: #E2EBFA;\n",
              "      box-shadow: 0px 1px 2px rgba(60, 64, 67, 0.3), 0px 1px 3px 1px rgba(60, 64, 67, 0.15);\n",
              "      fill: #174EA6;\n",
              "    }\n",
              "\n",
              "    [theme=dark] .colab-df-convert {\n",
              "      background-color: #3B4455;\n",
              "      fill: #D2E3FC;\n",
              "    }\n",
              "\n",
              "    [theme=dark] .colab-df-convert:hover {\n",
              "      background-color: #434B5C;\n",
              "      box-shadow: 0px 1px 3px 1px rgba(0, 0, 0, 0.15);\n",
              "      filter: drop-shadow(0px 1px 2px rgba(0, 0, 0, 0.3));\n",
              "      fill: #FFFFFF;\n",
              "    }\n",
              "  </style>\n",
              "\n",
              "      <script>\n",
              "        const buttonEl =\n",
              "          document.querySelector('#df-83447542-2597-4a99-a6df-92fb58de8dde button.colab-df-convert');\n",
              "        buttonEl.style.display =\n",
              "          google.colab.kernel.accessAllowed ? 'block' : 'none';\n",
              "\n",
              "        async function convertToInteractive(key) {\n",
              "          const element = document.querySelector('#df-83447542-2597-4a99-a6df-92fb58de8dde');\n",
              "          const dataTable =\n",
              "            await google.colab.kernel.invokeFunction('convertToInteractive',\n",
              "                                                     [key], {});\n",
              "          if (!dataTable) return;\n",
              "\n",
              "          const docLinkHtml = 'Like what you see? Visit the ' +\n",
              "            '<a target=\"_blank\" href=https://colab.research.google.com/notebooks/data_table.ipynb>data table notebook</a>'\n",
              "            + ' to learn more about interactive tables.';\n",
              "          element.innerHTML = '';\n",
              "          dataTable['output_type'] = 'display_data';\n",
              "          await google.colab.output.renderOutput(dataTable, element);\n",
              "          const docLink = document.createElement('div');\n",
              "          docLink.innerHTML = docLinkHtml;\n",
              "          element.appendChild(docLink);\n",
              "        }\n",
              "      </script>\n",
              "    </div>\n",
              "  </div>\n"
            ]
          },
          "metadata": {},
          "execution_count": 227
        },
        {
          "output_type": "stream",
          "name": "stderr",
          "text": [
            "/usr/local/lib/python3.10/dist-packages/google/colab/_quickchart_lib.py:129: UserWarning: Glyph 44256 (\\N{HANGUL SYLLABLE GO}) missing from current font.\n",
            "  plt.tight_layout()\n",
            "/usr/local/lib/python3.10/dist-packages/google/colab/_quickchart_lib.py:129: UserWarning: Glyph 44061 (\\N{HANGUL SYLLABLE GAEG}) missing from current font.\n",
            "  plt.tight_layout()\n",
            "/usr/local/lib/python3.10/dist-packages/google/colab/_quickchart_lib.py:25: UserWarning: Glyph 44256 (\\N{HANGUL SYLLABLE GO}) missing from current font.\n",
            "  plt.savefig(f, bbox_inches='tight')\n",
            "/usr/local/lib/python3.10/dist-packages/google/colab/_quickchart_lib.py:25: UserWarning: Glyph 44061 (\\N{HANGUL SYLLABLE GAEG}) missing from current font.\n",
            "  plt.savefig(f, bbox_inches='tight')\n",
            "/usr/local/lib/python3.10/dist-packages/google/colab/_quickchart_lib.py:129: UserWarning: Glyph 51060 (\\N{HANGUL SYLLABLE I}) missing from current font.\n",
            "  plt.tight_layout()\n",
            "/usr/local/lib/python3.10/dist-packages/google/colab/_quickchart_lib.py:129: UserWarning: Glyph 53448 (\\N{HANGUL SYLLABLE TAL}) missing from current font.\n",
            "  plt.tight_layout()\n",
            "/usr/local/lib/python3.10/dist-packages/google/colab/_quickchart_lib.py:129: UserWarning: Glyph 50668 (\\N{HANGUL SYLLABLE YEO}) missing from current font.\n",
            "  plt.tight_layout()\n",
            "/usr/local/lib/python3.10/dist-packages/google/colab/_quickchart_lib.py:129: UserWarning: Glyph 48512 (\\N{HANGUL SYLLABLE BU}) missing from current font.\n",
            "  plt.tight_layout()\n",
            "/usr/local/lib/python3.10/dist-packages/google/colab/_quickchart_lib.py:25: UserWarning: Glyph 51060 (\\N{HANGUL SYLLABLE I}) missing from current font.\n",
            "  plt.savefig(f, bbox_inches='tight')\n",
            "/usr/local/lib/python3.10/dist-packages/google/colab/_quickchart_lib.py:25: UserWarning: Glyph 53448 (\\N{HANGUL SYLLABLE TAL}) missing from current font.\n",
            "  plt.savefig(f, bbox_inches='tight')\n",
            "/usr/local/lib/python3.10/dist-packages/google/colab/_quickchart_lib.py:25: UserWarning: Glyph 50668 (\\N{HANGUL SYLLABLE YEO}) missing from current font.\n",
            "  plt.savefig(f, bbox_inches='tight')\n",
            "/usr/local/lib/python3.10/dist-packages/google/colab/_quickchart_lib.py:25: UserWarning: Glyph 48512 (\\N{HANGUL SYLLABLE BU}) missing from current font.\n",
            "  plt.savefig(f, bbox_inches='tight')\n",
            "/usr/local/lib/python3.10/dist-packages/google/colab/_quickchart_lib.py:129: UserWarning: Glyph 52509 (\\N{HANGUL SYLLABLE CONG}) missing from current font.\n",
            "  plt.tight_layout()\n",
            "/usr/local/lib/python3.10/dist-packages/google/colab/_quickchart_lib.py:129: UserWarning: Glyph 47588 (\\N{HANGUL SYLLABLE MAE}) missing from current font.\n",
            "  plt.tight_layout()\n",
            "/usr/local/lib/python3.10/dist-packages/google/colab/_quickchart_lib.py:129: UserWarning: Glyph 52636 (\\N{HANGUL SYLLABLE CUL}) missing from current font.\n",
            "  plt.tight_layout()\n",
            "/usr/local/lib/python3.10/dist-packages/google/colab/_quickchart_lib.py:129: UserWarning: Glyph 50529 (\\N{HANGUL SYLLABLE AEG}) missing from current font.\n",
            "  plt.tight_layout()\n",
            "/usr/local/lib/python3.10/dist-packages/google/colab/_quickchart_lib.py:25: UserWarning: Glyph 52509 (\\N{HANGUL SYLLABLE CONG}) missing from current font.\n",
            "  plt.savefig(f, bbox_inches='tight')\n",
            "/usr/local/lib/python3.10/dist-packages/google/colab/_quickchart_lib.py:25: UserWarning: Glyph 47588 (\\N{HANGUL SYLLABLE MAE}) missing from current font.\n",
            "  plt.savefig(f, bbox_inches='tight')\n",
            "/usr/local/lib/python3.10/dist-packages/google/colab/_quickchart_lib.py:25: UserWarning: Glyph 52636 (\\N{HANGUL SYLLABLE CUL}) missing from current font.\n",
            "  plt.savefig(f, bbox_inches='tight')\n",
            "/usr/local/lib/python3.10/dist-packages/google/colab/_quickchart_lib.py:25: UserWarning: Glyph 50529 (\\N{HANGUL SYLLABLE AEG}) missing from current font.\n",
            "  plt.savefig(f, bbox_inches='tight')\n",
            "/usr/local/lib/python3.10/dist-packages/google/colab/_quickchart_lib.py:129: UserWarning: Glyph 44396 (\\N{HANGUL SYLLABLE GU}) missing from current font.\n",
            "  plt.tight_layout()\n",
            "/usr/local/lib/python3.10/dist-packages/google/colab/_quickchart_lib.py:129: UserWarning: Glyph 47588 (\\N{HANGUL SYLLABLE MAE}) missing from current font.\n",
            "  plt.tight_layout()\n",
            "/usr/local/lib/python3.10/dist-packages/google/colab/_quickchart_lib.py:129: UserWarning: Glyph 44552 (\\N{HANGUL SYLLABLE GEUM}) missing from current font.\n",
            "  plt.tight_layout()\n",
            "/usr/local/lib/python3.10/dist-packages/google/colab/_quickchart_lib.py:129: UserWarning: Glyph 50529 (\\N{HANGUL SYLLABLE AEG}) missing from current font.\n",
            "  plt.tight_layout()\n",
            "/usr/local/lib/python3.10/dist-packages/google/colab/_quickchart_lib.py:129: UserWarning: Glyph 45824 (\\N{HANGUL SYLLABLE DAE}) missing from current font.\n",
            "  plt.tight_layout()\n",
            "/usr/local/lib/python3.10/dist-packages/google/colab/_quickchart_lib.py:25: UserWarning: Glyph 44396 (\\N{HANGUL SYLLABLE GU}) missing from current font.\n",
            "  plt.savefig(f, bbox_inches='tight')\n",
            "/usr/local/lib/python3.10/dist-packages/google/colab/_quickchart_lib.py:25: UserWarning: Glyph 47588 (\\N{HANGUL SYLLABLE MAE}) missing from current font.\n",
            "  plt.savefig(f, bbox_inches='tight')\n",
            "/usr/local/lib/python3.10/dist-packages/google/colab/_quickchart_lib.py:25: UserWarning: Glyph 44552 (\\N{HANGUL SYLLABLE GEUM}) missing from current font.\n",
            "  plt.savefig(f, bbox_inches='tight')\n",
            "/usr/local/lib/python3.10/dist-packages/google/colab/_quickchart_lib.py:25: UserWarning: Glyph 50529 (\\N{HANGUL SYLLABLE AEG}) missing from current font.\n",
            "  plt.savefig(f, bbox_inches='tight')\n",
            "/usr/local/lib/python3.10/dist-packages/google/colab/_quickchart_lib.py:25: UserWarning: Glyph 45824 (\\N{HANGUL SYLLABLE DAE}) missing from current font.\n",
            "  plt.savefig(f, bbox_inches='tight')\n",
            "/usr/local/lib/python3.10/dist-packages/google/colab/_quickchart_lib.py:67: UserWarning: Glyph 44256 (\\N{HANGUL SYLLABLE GO}) missing from current font.\n",
            "  plt.tight_layout()\n",
            "/usr/local/lib/python3.10/dist-packages/google/colab/_quickchart_lib.py:67: UserWarning: Glyph 44061 (\\N{HANGUL SYLLABLE GAEG}) missing from current font.\n",
            "  plt.tight_layout()\n",
            "/usr/local/lib/python3.10/dist-packages/google/colab/_quickchart_lib.py:25: UserWarning: Glyph 44256 (\\N{HANGUL SYLLABLE GO}) missing from current font.\n",
            "  plt.savefig(f, bbox_inches='tight')\n",
            "/usr/local/lib/python3.10/dist-packages/google/colab/_quickchart_lib.py:25: UserWarning: Glyph 44061 (\\N{HANGUL SYLLABLE GAEG}) missing from current font.\n",
            "  plt.savefig(f, bbox_inches='tight')\n",
            "/usr/local/lib/python3.10/dist-packages/google/colab/_quickchart_lib.py:67: UserWarning: Glyph 51060 (\\N{HANGUL SYLLABLE I}) missing from current font.\n",
            "  plt.tight_layout()\n",
            "/usr/local/lib/python3.10/dist-packages/google/colab/_quickchart_lib.py:67: UserWarning: Glyph 53448 (\\N{HANGUL SYLLABLE TAL}) missing from current font.\n",
            "  plt.tight_layout()\n",
            "/usr/local/lib/python3.10/dist-packages/google/colab/_quickchart_lib.py:67: UserWarning: Glyph 50668 (\\N{HANGUL SYLLABLE YEO}) missing from current font.\n",
            "  plt.tight_layout()\n",
            "/usr/local/lib/python3.10/dist-packages/google/colab/_quickchart_lib.py:67: UserWarning: Glyph 48512 (\\N{HANGUL SYLLABLE BU}) missing from current font.\n",
            "  plt.tight_layout()\n",
            "/usr/local/lib/python3.10/dist-packages/google/colab/_quickchart_lib.py:25: UserWarning: Glyph 51060 (\\N{HANGUL SYLLABLE I}) missing from current font.\n",
            "  plt.savefig(f, bbox_inches='tight')\n",
            "/usr/local/lib/python3.10/dist-packages/google/colab/_quickchart_lib.py:25: UserWarning: Glyph 53448 (\\N{HANGUL SYLLABLE TAL}) missing from current font.\n",
            "  plt.savefig(f, bbox_inches='tight')\n",
            "/usr/local/lib/python3.10/dist-packages/google/colab/_quickchart_lib.py:25: UserWarning: Glyph 50668 (\\N{HANGUL SYLLABLE YEO}) missing from current font.\n",
            "  plt.savefig(f, bbox_inches='tight')\n",
            "/usr/local/lib/python3.10/dist-packages/google/colab/_quickchart_lib.py:25: UserWarning: Glyph 48512 (\\N{HANGUL SYLLABLE BU}) missing from current font.\n",
            "  plt.savefig(f, bbox_inches='tight')\n",
            "/usr/local/lib/python3.10/dist-packages/google/colab/_quickchart_lib.py:67: UserWarning: Glyph 52509 (\\N{HANGUL SYLLABLE CONG}) missing from current font.\n",
            "  plt.tight_layout()\n",
            "/usr/local/lib/python3.10/dist-packages/google/colab/_quickchart_lib.py:67: UserWarning: Glyph 47588 (\\N{HANGUL SYLLABLE MAE}) missing from current font.\n",
            "  plt.tight_layout()\n",
            "/usr/local/lib/python3.10/dist-packages/google/colab/_quickchart_lib.py:67: UserWarning: Glyph 52636 (\\N{HANGUL SYLLABLE CUL}) missing from current font.\n",
            "  plt.tight_layout()\n",
            "/usr/local/lib/python3.10/dist-packages/google/colab/_quickchart_lib.py:67: UserWarning: Glyph 50529 (\\N{HANGUL SYLLABLE AEG}) missing from current font.\n",
            "  plt.tight_layout()\n",
            "/usr/local/lib/python3.10/dist-packages/google/colab/_quickchart_lib.py:25: UserWarning: Glyph 52509 (\\N{HANGUL SYLLABLE CONG}) missing from current font.\n",
            "  plt.savefig(f, bbox_inches='tight')\n",
            "/usr/local/lib/python3.10/dist-packages/google/colab/_quickchart_lib.py:25: UserWarning: Glyph 47588 (\\N{HANGUL SYLLABLE MAE}) missing from current font.\n",
            "  plt.savefig(f, bbox_inches='tight')\n",
            "/usr/local/lib/python3.10/dist-packages/google/colab/_quickchart_lib.py:25: UserWarning: Glyph 52636 (\\N{HANGUL SYLLABLE CUL}) missing from current font.\n",
            "  plt.savefig(f, bbox_inches='tight')\n",
            "/usr/local/lib/python3.10/dist-packages/google/colab/_quickchart_lib.py:25: UserWarning: Glyph 50529 (\\N{HANGUL SYLLABLE AEG}) missing from current font.\n",
            "  plt.savefig(f, bbox_inches='tight')\n",
            "/usr/local/lib/python3.10/dist-packages/google/colab/_quickchart_lib.py:67: UserWarning: Glyph 44396 (\\N{HANGUL SYLLABLE GU}) missing from current font.\n",
            "  plt.tight_layout()\n",
            "/usr/local/lib/python3.10/dist-packages/google/colab/_quickchart_lib.py:67: UserWarning: Glyph 47588 (\\N{HANGUL SYLLABLE MAE}) missing from current font.\n",
            "  plt.tight_layout()\n",
            "/usr/local/lib/python3.10/dist-packages/google/colab/_quickchart_lib.py:67: UserWarning: Glyph 44552 (\\N{HANGUL SYLLABLE GEUM}) missing from current font.\n",
            "  plt.tight_layout()\n",
            "/usr/local/lib/python3.10/dist-packages/google/colab/_quickchart_lib.py:67: UserWarning: Glyph 50529 (\\N{HANGUL SYLLABLE AEG}) missing from current font.\n",
            "  plt.tight_layout()\n",
            "/usr/local/lib/python3.10/dist-packages/google/colab/_quickchart_lib.py:67: UserWarning: Glyph 45824 (\\N{HANGUL SYLLABLE DAE}) missing from current font.\n",
            "  plt.tight_layout()\n",
            "/usr/local/lib/python3.10/dist-packages/google/colab/_quickchart_lib.py:25: UserWarning: Glyph 44396 (\\N{HANGUL SYLLABLE GU}) missing from current font.\n",
            "  plt.savefig(f, bbox_inches='tight')\n",
            "/usr/local/lib/python3.10/dist-packages/google/colab/_quickchart_lib.py:25: UserWarning: Glyph 47588 (\\N{HANGUL SYLLABLE MAE}) missing from current font.\n",
            "  plt.savefig(f, bbox_inches='tight')\n",
            "/usr/local/lib/python3.10/dist-packages/google/colab/_quickchart_lib.py:25: UserWarning: Glyph 44552 (\\N{HANGUL SYLLABLE GEUM}) missing from current font.\n",
            "  plt.savefig(f, bbox_inches='tight')\n",
            "/usr/local/lib/python3.10/dist-packages/google/colab/_quickchart_lib.py:25: UserWarning: Glyph 50529 (\\N{HANGUL SYLLABLE AEG}) missing from current font.\n",
            "  plt.savefig(f, bbox_inches='tight')\n",
            "/usr/local/lib/python3.10/dist-packages/google/colab/_quickchart_lib.py:25: UserWarning: Glyph 45824 (\\N{HANGUL SYLLABLE DAE}) missing from current font.\n",
            "  plt.savefig(f, bbox_inches='tight')\n",
            "/usr/local/lib/python3.10/dist-packages/google/colab/_quickchart_lib.py:140: UserWarning: Glyph 44256 (\\N{HANGUL SYLLABLE GO}) missing from current font.\n",
            "  plt.tight_layout()\n",
            "/usr/local/lib/python3.10/dist-packages/google/colab/_quickchart_lib.py:140: UserWarning: Glyph 44061 (\\N{HANGUL SYLLABLE GAEG}) missing from current font.\n",
            "  plt.tight_layout()\n",
            "/usr/local/lib/python3.10/dist-packages/google/colab/_quickchart_lib.py:140: UserWarning: Glyph 51060 (\\N{HANGUL SYLLABLE I}) missing from current font.\n",
            "  plt.tight_layout()\n",
            "/usr/local/lib/python3.10/dist-packages/google/colab/_quickchart_lib.py:140: UserWarning: Glyph 53448 (\\N{HANGUL SYLLABLE TAL}) missing from current font.\n",
            "  plt.tight_layout()\n",
            "/usr/local/lib/python3.10/dist-packages/google/colab/_quickchart_lib.py:140: UserWarning: Glyph 50668 (\\N{HANGUL SYLLABLE YEO}) missing from current font.\n",
            "  plt.tight_layout()\n",
            "/usr/local/lib/python3.10/dist-packages/google/colab/_quickchart_lib.py:140: UserWarning: Glyph 48512 (\\N{HANGUL SYLLABLE BU}) missing from current font.\n",
            "  plt.tight_layout()\n",
            "/usr/local/lib/python3.10/dist-packages/google/colab/_quickchart_lib.py:140: UserWarning: Glyph 52509 (\\N{HANGUL SYLLABLE CONG}) missing from current font.\n",
            "  plt.tight_layout()\n",
            "/usr/local/lib/python3.10/dist-packages/google/colab/_quickchart_lib.py:140: UserWarning: Glyph 47588 (\\N{HANGUL SYLLABLE MAE}) missing from current font.\n",
            "  plt.tight_layout()\n",
            "/usr/local/lib/python3.10/dist-packages/google/colab/_quickchart_lib.py:140: UserWarning: Glyph 52636 (\\N{HANGUL SYLLABLE CUL}) missing from current font.\n",
            "  plt.tight_layout()\n",
            "/usr/local/lib/python3.10/dist-packages/google/colab/_quickchart_lib.py:140: UserWarning: Glyph 50529 (\\N{HANGUL SYLLABLE AEG}) missing from current font.\n",
            "  plt.tight_layout()\n",
            "/usr/local/lib/python3.10/dist-packages/google/colab/_quickchart_lib.py:140: UserWarning: Glyph 44396 (\\N{HANGUL SYLLABLE GU}) missing from current font.\n",
            "  plt.tight_layout()\n",
            "/usr/local/lib/python3.10/dist-packages/google/colab/_quickchart_lib.py:140: UserWarning: Glyph 44552 (\\N{HANGUL SYLLABLE GEUM}) missing from current font.\n",
            "  plt.tight_layout()\n",
            "/usr/local/lib/python3.10/dist-packages/google/colab/_quickchart_lib.py:140: UserWarning: Glyph 45824 (\\N{HANGUL SYLLABLE DAE}) missing from current font.\n",
            "  plt.tight_layout()\n",
            "/usr/local/lib/python3.10/dist-packages/google/colab/_quickchart_lib.py:140: UserWarning: Glyph 48169 (\\N{HANGUL SYLLABLE BANG}) missing from current font.\n",
            "  plt.tight_layout()\n",
            "/usr/local/lib/python3.10/dist-packages/google/colab/_quickchart_lib.py:140: UserWarning: Glyph 47928 (\\N{HANGUL SYLLABLE MUN}) missing from current font.\n",
            "  plt.tight_layout()\n",
            "/usr/local/lib/python3.10/dist-packages/google/colab/_quickchart_lib.py:140: UserWarning: Glyph 48712 (\\N{HANGUL SYLLABLE BIN}) missing from current font.\n",
            "  plt.tight_layout()\n",
            "/usr/local/lib/python3.10/dist-packages/google/colab/_quickchart_lib.py:140: UserWarning: Glyph 46020 (\\N{HANGUL SYLLABLE DO}) missing from current font.\n",
            "  plt.tight_layout()\n",
            "/usr/local/lib/python3.10/dist-packages/google/colab/_quickchart_lib.py:25: UserWarning: Glyph 44256 (\\N{HANGUL SYLLABLE GO}) missing from current font.\n",
            "  plt.savefig(f, bbox_inches='tight')\n",
            "/usr/local/lib/python3.10/dist-packages/google/colab/_quickchart_lib.py:25: UserWarning: Glyph 44061 (\\N{HANGUL SYLLABLE GAEG}) missing from current font.\n",
            "  plt.savefig(f, bbox_inches='tight')\n",
            "/usr/local/lib/python3.10/dist-packages/google/colab/_quickchart_lib.py:25: UserWarning: Glyph 51060 (\\N{HANGUL SYLLABLE I}) missing from current font.\n",
            "  plt.savefig(f, bbox_inches='tight')\n",
            "/usr/local/lib/python3.10/dist-packages/google/colab/_quickchart_lib.py:25: UserWarning: Glyph 53448 (\\N{HANGUL SYLLABLE TAL}) missing from current font.\n",
            "  plt.savefig(f, bbox_inches='tight')\n",
            "/usr/local/lib/python3.10/dist-packages/google/colab/_quickchart_lib.py:25: UserWarning: Glyph 50668 (\\N{HANGUL SYLLABLE YEO}) missing from current font.\n",
            "  plt.savefig(f, bbox_inches='tight')\n",
            "/usr/local/lib/python3.10/dist-packages/google/colab/_quickchart_lib.py:25: UserWarning: Glyph 48512 (\\N{HANGUL SYLLABLE BU}) missing from current font.\n",
            "  plt.savefig(f, bbox_inches='tight')\n",
            "/usr/local/lib/python3.10/dist-packages/google/colab/_quickchart_lib.py:25: UserWarning: Glyph 52509 (\\N{HANGUL SYLLABLE CONG}) missing from current font.\n",
            "  plt.savefig(f, bbox_inches='tight')\n",
            "/usr/local/lib/python3.10/dist-packages/google/colab/_quickchart_lib.py:25: UserWarning: Glyph 47588 (\\N{HANGUL SYLLABLE MAE}) missing from current font.\n",
            "  plt.savefig(f, bbox_inches='tight')\n",
            "/usr/local/lib/python3.10/dist-packages/google/colab/_quickchart_lib.py:25: UserWarning: Glyph 52636 (\\N{HANGUL SYLLABLE CUL}) missing from current font.\n",
            "  plt.savefig(f, bbox_inches='tight')\n",
            "/usr/local/lib/python3.10/dist-packages/google/colab/_quickchart_lib.py:25: UserWarning: Glyph 50529 (\\N{HANGUL SYLLABLE AEG}) missing from current font.\n",
            "  plt.savefig(f, bbox_inches='tight')\n",
            "/usr/local/lib/python3.10/dist-packages/google/colab/_quickchart_lib.py:25: UserWarning: Glyph 44396 (\\N{HANGUL SYLLABLE GU}) missing from current font.\n",
            "  plt.savefig(f, bbox_inches='tight')\n",
            "/usr/local/lib/python3.10/dist-packages/google/colab/_quickchart_lib.py:25: UserWarning: Glyph 44552 (\\N{HANGUL SYLLABLE GEUM}) missing from current font.\n",
            "  plt.savefig(f, bbox_inches='tight')\n",
            "/usr/local/lib/python3.10/dist-packages/google/colab/_quickchart_lib.py:25: UserWarning: Glyph 45824 (\\N{HANGUL SYLLABLE DAE}) missing from current font.\n",
            "  plt.savefig(f, bbox_inches='tight')\n",
            "/usr/local/lib/python3.10/dist-packages/google/colab/_quickchart_lib.py:25: UserWarning: Glyph 48169 (\\N{HANGUL SYLLABLE BANG}) missing from current font.\n",
            "  plt.savefig(f, bbox_inches='tight')\n",
            "/usr/local/lib/python3.10/dist-packages/google/colab/_quickchart_lib.py:25: UserWarning: Glyph 47928 (\\N{HANGUL SYLLABLE MUN}) missing from current font.\n",
            "  plt.savefig(f, bbox_inches='tight')\n",
            "/usr/local/lib/python3.10/dist-packages/google/colab/_quickchart_lib.py:25: UserWarning: Glyph 48712 (\\N{HANGUL SYLLABLE BIN}) missing from current font.\n",
            "  plt.savefig(f, bbox_inches='tight')\n",
            "/usr/local/lib/python3.10/dist-packages/google/colab/_quickchart_lib.py:25: UserWarning: Glyph 46020 (\\N{HANGUL SYLLABLE DO}) missing from current font.\n",
            "  plt.savefig(f, bbox_inches='tight')\n"
          ]
        },
        {
          "output_type": "display_data",
          "data": {
            "text/plain": [
              "<google.colab._quickchart_helpers.SectionTitle at 0x7d96187ea320>"
            ],
            "text/html": [
              "<h4 class=\"colab-quickchart-section-title\">Values</h4>\n",
              "<style>\n",
              "  .colab-quickchart-section-title {\n",
              "      clear: both;\n",
              "  }\n",
              "</style>"
            ]
          },
          "metadata": {}
        },
        {
          "output_type": "display_data",
          "data": {
            "text/plain": [
              "import numpy as np\n",
              "from google.colab import autoviz\n",
              "\n",
              "def value_plot(df, y, figscale=1):\n",
              "  from matplotlib import pyplot as plt\n",
              "  df[y].plot(kind='line', figsize=(8 * figscale, 4 * figscale), title=y)\n",
              "  plt.gca().spines[['top', 'right']].set_visible(False)\n",
              "  plt.tight_layout()\n",
              "  return autoviz.MplChart.from_current_mpl_state()\n",
              "\n",
              "chart = value_plot(_df_0, *['고객ID'], **{})\n",
              "chart"
            ],
            "text/html": [
              "      <div class=\"colab-quickchart-chart-with-code\" id=\"chart-f58f6f68-5d34-43ec-bd88-31c6307279fa\">\n",
              "        <img src=\"data:image/png;base64,iVBORw0KGgoAAAANSUhEUgAAAMQAAABgCAYAAABCK92TAAAAOXRFWHRTb2Z0d2FyZQBNYXRwbG90\n",
              "bGliIHZlcnNpb24zLjcuMSwgaHR0cHM6Ly9tYXRwbG90bGliLm9yZy/bCgiHAAAACXBIWXMAAA9h\n",
              "AAAPYQGoP6dpAAASOklEQVR4nO3deVRTZ/oH8G9YDMoSFQVR9gCCAjcViIAoyxyd1lpOx3bEWktR\n",
              "O7jWHm17plbb+WlPXapj7ait2gpW69JabW21o9UxKiCCtALWrYQtAdlR9i3J8/sjGhNXZEkCvJ9z\n",
              "8kfulifAN++9uQ/38oiIwDAMAMDE0AUwjDFhgWAYLSwQDKOFBYJhtLBAMIwWFgiG0cICwTBaWCAY\n",
              "RgsLBMNoYYFgGC0sEEZq165dEAqFCA4O1nkIhcInzgOAiIgIrFixQrM9V1dXWFhYwNraGgKBAO7u\n",
              "7pgxYwZSUlIM9A6Nk5mhC2Ae7YMPPkBcXJzOtLt/8I+b9yhbtmzBG2+8AQCQy+XYvXs3IiMjsWXL\n",
              "FsTHx3dR1T0bC0Qf5eTkhOXLl6O5uRlvv/02pk+fDhsbG0OXZXBsl6mPmzlzJurr65GammroUowC\n",
              "C0Qf5+zsDACoqqoycCXGgQWij5PJZAAAW1tbA1diHFgg+ri9e/fC0tISISEhhi7FKLCD6j6quLgY\n",
              "e/bswdq1a/HZZ5+xA+o72AjRhyxatAjW1tawsbHBuHHjkJmZiVOnTmH+/PmGLs1osBGilzpz5ozO\n",
              "84KCAoPU0dOwQBixjz76CNu2bdOZVlFRgQ8++OCx85iO47GrbjDMPewYgmG0sEAwjBYWCIbR8lSB\n",
              "WLx4MVxdXcHj8ZCZmamZnpOTg9DQUHh5eSEoKAhXrlzp9DyGMQh6CmfPniW5XE4uLi506dIlzfTI\n",
              "yEhKTEwkIqKDBw9SYGBgp+cxjCE8VSDu0g5EWVkZWVtbU1tbGxERqVQqsre3p5ycnA7PexqbNm16\n",
              "YFpZbRNV1jV35K0xPdjtxlaq6OTvvdPnIeRyORwcHGBmpt4Uj8eDs7MzZDIZBAJBh+Z5eHg89LVa\n",
              "WlrQ0tKiMy0vL0/neXVDK2Z+lQYiYO8bY2FnY9HZt8gYuar6FiSk5GP3+UJM4RywZqp/h7fVow6q\n",
              "16xZA4FAoPNIT0/XWaa2qQ11zQrklNdj2vZUFN9uMlC1THcrrWnGqp+vImydBFsluahrUSC7qAYK\n",
              "parD2+x0IJycnFBSUgKFQgEAICLIZDI4Ozt3eN6jLFu2DDU1NToPsViss4zrEEt8NzcEToP7o6Cq\n",
              "EdO2paKwqqGzb5MxIrKqRiw7fBkTPpEgISUfTW1K+I0QYNvMAPy8KAxmph3/s+50IOzs7DBmzBh8\n",
              "8803AIBDhw7B0dERHh4eHZ73KHw+HzY2NjoPU1PTB5ZzGjwA380NgfsQSxTfbsLft6VCWl7X2bfK\n",
              "GFhOWR2WfJuJyH+fwf50GVqVKohdB+Pr2WL8tGgcnvUdBhMTXude5GkOOOLj42nEiBFkampKdnZ2\n",
              "JBQKiYjo+vXrFBwcTJ6enhQQEEDZ2dmadTo6r72WLFnyyHnltc00aeNZcvnnURqz6le6Ulzz1Ntn\n",
              "DC9bfpvm7s4gl38e1Txid6ZRWl5Vl79Wj+9lWrp0KTZu3PjI+bcaWvFaQhr+KK6FoL85ds8Wg3Ma\n",
              "qL8CmQ5Lz6/GVokUZ/+s0Ex7dvQwLIz0gJ+joFtes9d3uw6y7Ie9bwRjVmI6fpfdxqtfpSFxVhCC\n",
              "XAcbujTmIYgI53IqsfW0FOkF1QAAUxMeornhWBAhhKe9dbe+fq8PBAAI+ptjz5yxmPP1RVzIq0bs\n",
              "znR8GRuIMM8hhi6NuUOlIvx6tQxbJVJcLq4BAPQzNcFLAY6YHy6Es+0AvdTRJwIBAJZ8M+yaJcbc\n",
              "Pb/h7J8VmP31RWybOQZR3vaGLq1PUyhVOJpdgs/PSPFnWT0AwMLcBDPELoif4I5hAv2eR+ozgQAA\n",
              "C3NT7IgNwJv7LuHXq2WYu+c3/Gf6M3jOz8HQpfU5LQolDv9ejC/O5EJW3QgAsOabITbUBbPHucHW\n",
              "im+QuvpUIACAb2aKra+OwdLvsvBz1k0s3Pc7/j2Nw9+ecTR0aX1CU6sS+9Nl2HEuD6W1zQCAQQPM\n",
              "MSfMDa+FuELQ39yg9fW5QACAuakJNsWIYGFmgoO/FWHpd1loblPhFfGjTwoynVPb3IY9qYXYmZyP\n",
              "6oZWAIC9DR//GO+OGWOdMaCfcfwpGkcVBmBqwsO6l/zRv58pdqcWYtnhy2hqVWJ2mJuhS+tVqhta\n",
              "kZCcj69TC1DXrO5KcBrcH/PChXg5wBF8swdPrBpSnw0EAJiY8LAyerT62OJcHlYdvYpmhRILIh59\n",
              "tpxpn7LaZuw4l4d9aTI0tSkBAB52VlgQIUQ0N7xT7RXdqU8HAlB32S57zhv9zU3x2f9y8MnxG2hu\n",
              "VWLJRC/weJ1sA+iD5NWN+OJsLr7PKELrnSa70cNtsCjSA38d3QWtFd2szwcCUIdiyUQvWJibYt3x\n",
              "6/jPaSkaW5VY/rwPC0U7Scvr8LkkF0eybkKpUjc/BLoMwsIoD0R4De0xP0cWCC3zI4Tob26C//v5\n",
              "Kr5KzkezQolV0b5G/6lmSH8U12CrRIrjV0pxtwlovOcQLIr0wFj3nncBZRaI+8SNc4OFuSmW/XAZ\n",
              "31yQoaKuBYsiPbutd6anyiioxhaJFGdu3OszmjTKHgsjPXp0rxgLxENMFzvDwtwUbx/MwokrZThx\n",
              "pQycowCvjnXBFM7BaL4i1DciQrK0EltOS5GWr+4zMuEBL3DDsSDCAyOHdW+fkT70zd9sO7z4zAi4\n",
              "DbFEQko+/nu5FFlFNcgqysZHx67ipTGOmDHWGV7d3GhmLFQqwqlr6j6jrCJ1n5G5KQ8vjXHEvHAh\n",
              "XIdYGrjCrtPr27+7QlV9Cw7+VoR9aTJNmwEAiF0H49VgZzzrO8zovk/vCkoV4Wj2TXwuycWNMvU/\n",
              "WFmYm2B6kDPiJ7hj+MD+Bq6w67ERoh1srfiYFy5E/Hh3JEsrsTetEKeulSO9oBrpBdUYbNkPfw90\n",
              "xAyxM1xse/6nZatChR8uFeGLM7koqFJ/AFjxzRAb4oLZYW4YYqA+I31ggXgKJiY8TPAaigleQ1Fa\n",
              "04wDF2U4kC5HaW0ztp/Nw/azeRjvOQQzg13wF287oz359ChNrUocuKjuMyqpuddnNHucG2JDDd9n\n",
              "pA9sl6mTFEoVTl8vx940Gc7lVGi+erS34WN6kDOmi53gIDDuXYu65jbsuVCIhOR8VNar+4zsrPmI\n",
              "n+COV8TOsOT3nc9NFoguJKtqxL50GQ5myFF1p4HNhAf8xcces8e5IURoXN/L32poRWJKPnadL0Dt\n",
              "nT4jx0H3+owszHvfcdGTsEB0gxaFEieulGHvhULN15MAEDlyKJZN9jH4t1Pltc34MikPe9NkaGxV\n",
              "9xkJh1piQYQHokXDYd7DdvW6Ut8ZC/WIb2aKaG44ornhkJbXYdf5AhxIl0NyowJn/6xATJAzlkz0\n",
              "hJ21fv8bTF7diO3ncvFdRhFaFff6jBZGeuDZHtBnpA9shNCTvIp6fHL8Bo5fKQUADOhnirkThPjH\n",
              "BLduP9GXW1Gv7jPKLIbiTp9RgMsgLIr0QMTIntNnpA9shNAT96FW2PZaAC4WVOPjY9eQKb+NT0/9\n",
              "ib1phXhn0ki8FOAI0y7+hL5yswafS3Lxyx8lOn1GCyM9MNZtMAvCQ7ARwgCICMcul2Dd8euQV6uv\n",
              "Pes9zBrLJvsg3Gtop7f/W+EtbJVIcfp6uWbaxDt9RqIe3GekD2yEMAAej4cp/sMxcZQ99qQWYvNp\n",
              "Ka6X1uH1hHSM9xyC9yf7wMfh6W6kTkRIkVZhiyQHF/Lu9RlN8R+OBZFCeA9jN2ZvDzZCGIHbja3Y\n",
              "clqKr1ML0KYk8HjAy2Mc8fakkU+8DAsR4dS1cmyRSJElvw1A3Wc09RlHzI/oXX1G+mAUgcjJycHr\n",
              "r7+OyspKCAQC7Nq1C6NHj27Xur0hEHfJqhrxyYnrOJpdAkDdNxQ/3h3x4UJY3XdyTKlS73Z9LlGP\n",
              "LgDANzPBK+Le22ekD0YRiKioKMTGxiIuLg7ff/891q1bh4sXL7Zr3d4UiLt+l93C6mPXkFF4CwAw\n",
              "xIqPJRM9ERPoBBUBP14qxhdnc5Ffqb7MvxXfDK+FuGBOL+8z0geDB6K8vBweHh6orq6GmZkZiAgO\n",
              "Dg5ITk5+7KXx7+qNgQDUu0InrpRi7X+vaxrsPOys0NiiwM07fUYD7/QZvR7iCsGA3t9npA8GP6h+\n",
              "3C257g/Ew26ppVQq9VarPvF4PDzr64Aob3vsSyvEZ//LgbRcfanHodZ8xN+5nlFf6jPShx7101yz\n",
              "Zg1WrlypMy04ONhA1ehHPzMTxI1zw9/GOOKbC4UYNKAfpo4Z0Sf7jPShR+0yPWyEiI2Nhbu7u840\n",
              "pVKJ9PR0iMXih95hSN9YPYavx8XFBW+99daTF+zyW7B0QHh4uM79qgMCAjq1vZqaGgJANTXGcccg\n",
              "Vs/jGVM9RrHLtH37dsTFxWH16tWwsbFBYmKioUti+iijCMTIkSORmppq6DIYpmfdp5phuluvDASf\n",
              "z8e//vUv8PnGcZKK1fN4xlSPwb9lYhhj0itHCIbpKBYIhtHCAsEwWlgg7ti0aRNKS0u7dJsFBQXY\n",
              "tm3bY5cJDAzEmTNnOv1azc3NePHFF+Hl5QWO4zBx4kRIpVIAQEREBNzc3CASiSASifDpp59q1ps7\n",
              "dy78/PwQFRWFmhr1dVuJCM899xxyc3M7XE9VVZXm9UQiEby8vGBmZobq6mqD1NNuhj0vaDxcXFzo\n",
              "0qVLXbpNiURCHMc9dpmAgACSSCSdfq2mpiY6duwYqVQqIiLavHkzhYeHE5G6E+CHH354YJ3Lly9T\n",
              "ZGQkERGtXLmSNm/eTEREO3bsoHXr1nW6Jm3r16+nKVOmGE09j2L0I0RqairCwsLAcRz8/f1x5MgR\n",
              "ZGRkIDQ0FP7+/hCLxUhJSQGg/kQeOHCgZt36+nqdf6Tn8XhYvXo1xGIx3NzcNGfEV61ahZs3byIm\n",
              "JgYikQiZmZlPXWdTUxNiYmIwatQocByHSZMmYd68ebhx4wZEIhGio6MBAOfPn4dIJIKvry9mzZoF\n",
              "hULR8R+OFgsLC0yePFnzfoODg1FQUPDYdczNzdHS0gKVSoWGhgb069cPJSUl2L9/P5YuXdoldd21\n",
              "c+dOzJkzx2jqeSS9xK6DqqqqyM7Ojs6dO0dEREqlksrKysjJyYmOHz9ORERJSUlkb29PdXV1lJ+f\n",
              "TwKBQLN+XV0dab9FALRhwwYiIrp27RpZWVlRW1sbEXV+hDh8+DBNmjRJp/b7R4iWlhZydHSkkydP\n",
              "EhHRiRMnCECXjBD3mzlzJi1evJiI1J/II0eOJF9fX5o2bRrl5uZqllu+fDlxHEcvv/wyNTQ0UExM\n",
              "DGVkZHRpLSkpKWRvb6/5WRu6nscx6kAcPXqUxo8frzMtOzubXFxcdKb5+/tTUlJSuwJRUlKieT5w\n",
              "4ECSy+VE1PlA5ObmkpOTE82fP58OHDhAtbW1DwQiKyuLXF1dddZzd3fv8kB8/PHHFBwcTA0NDURE\n",
              "JJPJiIhIpVLR5s2bycfH56Hr/fjjj/TOO+9QZWUlxcXF0dSpU+nAgQOdrmf27Nn07rvvap4bup7H\n",
              "6RWB4DiOkpKSSC6Xk5WVlWZ6RUXFA4G4deuW5rmtrS3l5+cTUdccQ9TV1dGRI0fozTffJGdnZzp8\n",
              "+PATAyEUCrs0EOvXr6eAgACd93k/Pp9PlZWVOtNqamooLCyMGhoaaMWKFZSYmEhtbW00atQoamxs\n",
              "7HA9dXV1ZGVlRdeuXTOKep7EqI8hQkNDkZOTg6SkJACASqWCvb09VCoVTp48CUC9T15aWgqRSIRh\n",
              "w4aBiHD16lUAwO7du9v9WjY2NppvNTqiqKgIPB4P0dHR2LBhA4gItra2Otv09vaGQqGARCIBAJw6\n",
              "dapLvznZuHEj9u/fj5MnT2qOpRQKBcrKyjTLHDp0CPb29rC11b3w8nvvvYcPP/wQAwYMQENDA3g8\n",
              "Hng8Htra2tDa2trhmr799ltwHAdvb2+jqOeJui1qXSQ1NZVCQ0PJz8+POI6jn376iS5evEghISHk\n",
              "5+dHQUFBlJSUpFk+ISGB3NzcKDAwkNauXdvuEeLLL78kT09P4jiuQyPFL7/8QhzHkb+/P40aNYre\n",
              "f/99amtro+eff55Gjx5NL7zwAhGp96c5jiNfX1+aNWsWcRzXJSOEXC4nAOTu7k4cxxHHcSQWi6m+\n",
              "vp4CAgLI19eX/P39KSoqijIzM3XWTU5Opri4OM1zqVRKQUFB5OPjQ6tWrepUXSEhIZSQkKB5buh6\n",
              "noT1MjGMFqPeZWIYfWOBYBgtLBAMo4UFgmG0sEAwjBYWCIbRwgLBMFpYIBhGCwsEw2hhgWAYLSwQ\n",
              "DKPl/wFNqh/7ei5ByQAAAABJRU5ErkJggg==\n",
              "\">\n",
              "        \n",
              "      </div>\n",
              "      <script></script>\n",
              "      <script type=\"text/javascript\">\n",
              "        (() => {\n",
              "          const chartElement = document.getElementById(\"chart-f58f6f68-5d34-43ec-bd88-31c6307279fa\");\n",
              "          async function getCodeForChartHandler(event) {\n",
              "            const chartCodeResponse =  await google.colab.kernel.invokeFunction(\n",
              "                'getCodeForChart', [\"chart-f58f6f68-5d34-43ec-bd88-31c6307279fa\"], {});\n",
              "            const responseJson = chartCodeResponse.data['application/json'];\n",
              "            await google.colab.notebook.addCell(responseJson.code, 'code');\n",
              "          }\n",
              "          chartElement.onclick = getCodeForChartHandler;\n",
              "        })();\n",
              "      </script>\n",
              "      <style>\n",
              "        .colab-quickchart-chart-with-code  {\n",
              "            display: block;\n",
              "            float: left;\n",
              "            border: 1px solid transparent;\n",
              "        }\n",
              "\n",
              "        .colab-quickchart-chart-with-code:hover {\n",
              "            cursor: pointer;\n",
              "            border: 1px solid #aaa;\n",
              "        }\n",
              "      </style>"
            ]
          },
          "metadata": {}
        },
        {
          "output_type": "display_data",
          "data": {
            "text/plain": [
              "import numpy as np\n",
              "from google.colab import autoviz\n",
              "\n",
              "def value_plot(df, y, figscale=1):\n",
              "  from matplotlib import pyplot as plt\n",
              "  df[y].plot(kind='line', figsize=(8 * figscale, 4 * figscale), title=y)\n",
              "  plt.gca().spines[['top', 'right']].set_visible(False)\n",
              "  plt.tight_layout()\n",
              "  return autoviz.MplChart.from_current_mpl_state()\n",
              "\n",
              "chart = value_plot(_df_1, *['이탈여부'], **{})\n",
              "chart"
            ],
            "text/html": [
              "      <div class=\"colab-quickchart-chart-with-code\" id=\"chart-9bd2d9a6-683f-44f6-9161-ec067e7c4c99\">\n",
              "        <img src=\"data:image/png;base64,iVBORw0KGgoAAAANSUhEUgAAAMQAAABgCAYAAABCK92TAAAAOXRFWHRTb2Z0d2FyZQBNYXRwbG90\n",
              "bGliIHZlcnNpb24zLjcuMSwgaHR0cHM6Ly9tYXRwbG90bGliLm9yZy/bCgiHAAAACXBIWXMAAA9h\n",
              "AAAPYQGoP6dpAAAMAUlEQVR4nO3dfVATZx4H8O8CiloEKpXIyfurIGRzBnJI9RRP6dRWp9Oz5ebG\n",
              "6UA7g3XuiifVse8d7VTbwapT7uZ8mYpnO6dOB1t72qnFFhWRHtoT6VlfAKHEE0HAiyFCSMjv/kBy\n",
              "G0AQkroL+X1m8sc++zyb3zJ882ySza5ARATGGADAQ+4CGFMSDgRjEhwIxiQ4EIxJcCAYk+BAMCbB\n",
              "gWBMggPBmAQHgjEJDgRjEl5yF8D627NnD9555x1MnTrVof3mzZt48803B10HwKn1WVlZLt6b0UXg\n",
              "c5mUZ8+ePQDQ75+zt32odc6sd/dA8CETYxIcCMYkOBCMSXAgGJPgQDAmwYFgTIIDwZgEB4IxCf5i\n",
              "ToH4m2r5cCAYk+BDJsYkOBCMSXAgGJMYViByc3MRHh4OQRBQWVlpb6+urkZaWhpiY2ORkpKCCxcu\n",
              "OL2OMVnQMJw4cYL0ej2FhYXRuXPn7O3p6elUWFhIRESffvopJScnO72OMTkMKxC9pIFoamqiyZMn\n",
              "k8ViISIim81GKpWKqqurR7xuOLZt29avzWLtpvqW9pHsGnNzTv9iTq/XIygoCF5ePZsSBAGhoaFo\n",
              "aGiAn5/fiNZFR0cP+Fxmsxlms9mh7erVqw7LNc1G5Hz8PbqsNnz78nyM9+K3Sez+jar/lk2bNsHP\n",
              "z8/hUVFR4dBnuv8kGDutuHarAwfO6mWqlI1WTgciJCQEjY2NsFqtAAAiQkNDA0JDQ0e87l5effVV\n",
              "GAwGh4dOp3PoM3G8J/6Y3jPDFHxTjU5Lt7O7yNyI04EIDAzErFmz8MknnwAAioqKEBwcjOjo6BGv\n",
              "uxdvb2/4+vo6PDw9Pfv1+50uBNP9J6LZaMbe8npnd5G5k+G84cjJyaHp06eTp6cnBQYGUlRUFBER\n",
              "Xbp0iVJTUykmJoa0Wi1VVVXZx4x03f1avXr1gO0HzjRQ2LrDpFl/lG53dA17u8w9jfpzmfLy8rBl\n",
              "y5Z+7dZuGzK2ncTVmyasXhiLVQtjZKiOjTaj6k31cHh5eiBvUSwAYFfpVdwydclcERsNxmwgAGBx\n",
              "YhDig3zRbrZi+8lauctho8CYDoSHh4A1GT2zxN9O16P5dqfMFTGlG9OBAIAFMwIxK9QfnRYb/lxS\n",
              "I3c5TOHGfCAEQcCax+IAAPsqGqBvuyNzRUzJxnwgACAt6hE8Gh0ASzfhw2+q5S6HKZhbBAIA1mT0\n",
              "zBJF/7qGmuZ2mathSuU2gfhl6MNYGK+CjYCtx67IXQ5TKLcJBAC8nBELQQCOVDXiwnWD3OUwBXKr\n",
              "QMQH+WKJ+hcAgA++5lmC9edWgQCA1Yti4ekh4NtLzfj+p1tyl8MUxu0CEfHIQ1g2KxgAkH/0Ekb5\n",
              "qVzMxdwuEACQuzAG4z098N3VNpTVtMpdDlMQtwzEdP+J+P2ven6IlP/1ZZ4lmJ1bBgIA/pAejYnj\n",
              "PHFe/18cu9gsdzlMIdw2EFMneyP70XAAwAdfX4bNxrMEc+NAAMCKX0dh8gQvXLphxD+qrstdDlMA\n",
              "tw6E36RxyJkbCQDYWnwFlm6bzBUxubl1IAAge04EAh4aj/rWOyj6/prc5TCZuX0gfLy9sHJ+FADg\n",
              "w2+qYbbyZWvcmdsHAgCWp4Zhmu8EXDd04u//bJC7HCYjDgSACeM8kfubnqty/KWkBne6rDJXxOTC\n",
              "gbjrmeRghAVMQkt7FwrL6uUuh8mEA3HXOE8P/OnutZt2nKiFocMic0VMDhwIiaXidMSqfHC704pd\n",
              "J68OPYCNORwICU8PAXmLen5qurusDi3t5iFGsLFGEYFQ0q21HpupgjrYD3e6uvHX43xxM3ejiECs\n",
              "WLECOTk5uHLlCtatWyfrzcMFQbBfkODj735Co6FDtlrYgyf7xY6bm5sRHR2NtrY2eHl5gYgQFBSE\n",
              "U6dODXpp/F73utixM4gImTu/Q0VdGx6NDoA2bIpLt99L6LvctwGA0KfXQH3k0vufQ6A+y44daIj+\n",
              "rhT88CT7qf0j4fQttZw12C25+gZioFtqdXe7/ptlQRCw9rE4PLO9HGU1rfwjolFEFz5ldAdiODZt\n",
              "2oT169c7tKWmpv4sz5USPgXv/zYJ//7P7SH7juRVu++rI6H/y2X/PsrTu+u9f4PeGe3/y73rB57p\n",
              "+s6AzgqdMtGp8aPqkGmgGeK5555DZGSkQ1t3dzcqKiqg0+kGvMPQg8b1yF9PWFgYVq1aNXRHmW7U\n",
              "4mDevHkO96vWarVObc9gMBAAMhgMLqjOeVzP4JRUjyIOmXbs2IGsrCxs3LgRvr6+KCwslLsk5qYU\n",
              "EYi4uDiUl5fLXQZjyvgegjGlGJOB8Pb2xttvvw1vb2+5SwHA9QxFSfXI/ikTY0oyJmcIxkaKA8GY\n",
              "BAeCMQkOxF3btm3DjRs3XLrN+vp6bN++fdA+ycnJOH78uNPP1dnZiaeeegqxsbEQRRGLFi1CTU3P\n",
              "XVfnz5+PiIgIaDQaaDQabN261T5uxYoVSEpKwoIFC2Aw9NxEhojw+OOPo7Z25Ke/t7a22p9Po9Eg\n",
              "NjYWXl5eaGtrk6We+ybv94LKERYWRufOnXPpNktKSkgUxUH7aLVaKikpcfq5Ojo66MiRI2Sz2YiI\n",
              "qKCggObNm0dEPWcCfPbZZ/3G/PDDD5Senk5EROvXr6eCggIiItq5cye9//77TtcklZ+fT08++aRi\n",
              "6rkXxc8Q5eXlmDNnDkRRhFqtxqFDh3D27FmkpaVBrVZDp9OhrKwMQM8rsr+/v31se3u7w0llgiBg\n",
              "48aN0Ol0iIiIsH8jvmHDBly/fh2ZmZnQaDSorKwcdp0dHR3IzMxEQkICRFFERkYGXnzxRVy+fBka\n",
              "jQZLly4FAJw+fRoajQaJiYnIzs6G1eqaK3xMmDABixcvtu9vamoq6uvrBx0zbtw4mM1m2Gw2mEwm\n",
              "jB8/Ho2Njdi3bx/y8vJcUlevjz76CC+88IJi6rmnBxK7EWptbaXAwEA6efIkERF1d3dTU1MThYSE\n",
              "0FdffUVERKWlpaRSqchoNFJdXR35+fnZxxuNRpLuIgDavHkzERFdvHiRfHx8yGKxEJHzM8TBgwcp\n",
              "IyPDofa+M4TZbKbg4GAqLi4mIqKjR48SAJfMEH0tX76ccnNziajnFTkuLo4SExPp2WefpdraWnu/\n",
              "119/nURRpGXLlpHJZKLMzEw6e/asS2spKysjlUpl/1vLXc9gFB2Iw4cP09y5cx3aqqqqKCwszKFN\n",
              "rVZTaWnpfQWisbHRvuzv7096vZ6InA9EbW0thYSE0MqVK2n//v10+/btfoE4f/48hYeHO4yLjIx0\n",
              "eSDeffddSk1NJZPJREREDQ0NRERks9mooKCA4uPjBxz3+eef05o1a6ilpYWysrLo6aefpv379ztd\n",
              "z/PPP09r1661L8tdz2DGRCBEUaTS0lLS6/Xk4+Njb79582a/QNy6dcu+HBAQQHV1dUTkmvcQRqOR\n",
              "Dh06RC+99BKFhobSwYMHhwxEVFSUSwORn59PWq3WYT/78vb2ppaWFoc2g8FAc+bMIZPJRG+88QYV\n",
              "FhaSxWKhhIQEunPnzojrMRqN5OPjQxcvXlREPUNR9HuItLQ0VFdXo7S0FABgs9mgUqlgs9lQXFwM\n",
              "oOeY/MaNG9BoNJg2bRqICD/++CMAYO/evff9XL6+vvZPNUbi2rVrEAQBS5cuxebNm0FECAgIcNjm\n",
              "jBkzYLVaUVJSAgA4duyYSz852bJlC/bt24fi4mL7eymr1YqmpiZ7n6KiIqhUKgQEBDiMfeWVV/DW\n",
              "W29h0qRJMJlMEAQBgiDAYrGgq6trxDUdOHAAoihixowZiqhnSD9b1FykvLyc0tLSKCkpiURRpC++\n",
              "+ILOnDlDs2fPpqSkJEpJSaHS0lJ7/927d1NERAQlJyfTe++9d98zxK5duygmJoZEURzRTPHll1+S\n",
              "KIqkVqspISGBXnvtNbJYLPTEE0/QzJkzacmSJUTUczwtiiIlJiZSdnY2iaLokhlCr9cTAIqMjCRR\n",
              "FEkURdLpdNTe3k5arZYSExNJrVbTggULqLKy0mHsqVOnKCsry75cU1NDKSkpFB8fTxs2bHCqrtmz\n",
              "Z9Pu3bvty3LXMxQ+l4kxCUUfMjH2oHEgGJPgQDAmwYFgTIIDwZgEB4IxCQ4EYxIcCMYkOBCMSXAg\n",
              "GJPgQDAm8T9hobx9gW4gkAAAAABJRU5ErkJggg==\n",
              "\">\n",
              "        \n",
              "      </div>\n",
              "      <script></script>\n",
              "      <script type=\"text/javascript\">\n",
              "        (() => {\n",
              "          const chartElement = document.getElementById(\"chart-9bd2d9a6-683f-44f6-9161-ec067e7c4c99\");\n",
              "          async function getCodeForChartHandler(event) {\n",
              "            const chartCodeResponse =  await google.colab.kernel.invokeFunction(\n",
              "                'getCodeForChart', [\"chart-9bd2d9a6-683f-44f6-9161-ec067e7c4c99\"], {});\n",
              "            const responseJson = chartCodeResponse.data['application/json'];\n",
              "            await google.colab.notebook.addCell(responseJson.code, 'code');\n",
              "          }\n",
              "          chartElement.onclick = getCodeForChartHandler;\n",
              "        })();\n",
              "      </script>\n",
              "      <style>\n",
              "        .colab-quickchart-chart-with-code  {\n",
              "            display: block;\n",
              "            float: left;\n",
              "            border: 1px solid transparent;\n",
              "        }\n",
              "\n",
              "        .colab-quickchart-chart-with-code:hover {\n",
              "            cursor: pointer;\n",
              "            border: 1px solid #aaa;\n",
              "        }\n",
              "      </style>"
            ]
          },
          "metadata": {}
        },
        {
          "output_type": "display_data",
          "data": {
            "text/plain": [
              "import numpy as np\n",
              "from google.colab import autoviz\n",
              "\n",
              "def value_plot(df, y, figscale=1):\n",
              "  from matplotlib import pyplot as plt\n",
              "  df[y].plot(kind='line', figsize=(8 * figscale, 4 * figscale), title=y)\n",
              "  plt.gca().spines[['top', 'right']].set_visible(False)\n",
              "  plt.tight_layout()\n",
              "  return autoviz.MplChart.from_current_mpl_state()\n",
              "\n",
              "chart = value_plot(_df_2, *['총매출액'], **{})\n",
              "chart"
            ],
            "text/html": [
              "      <div class=\"colab-quickchart-chart-with-code\" id=\"chart-373725ee-80af-4e2a-a655-fd3c23597b90\">\n",
              "        <img src=\"data:image/png;base64,iVBORw0KGgoAAAANSUhEUgAAALkAAABgCAYAAABBnNO7AAAAOXRFWHRTb2Z0d2FyZQBNYXRwbG90\n",
              "bGliIHZlcnNpb24zLjcuMSwgaHR0cHM6Ly9tYXRwbG90bGliLm9yZy/bCgiHAAAACXBIWXMAAA9h\n",
              "AAAPYQGoP6dpAAAOpElEQVR4nO3dfXBTdboH8O/JS5PSNkFb+qLQl1AKlLYnWOiFWuXlXthFFFll\n",
              "ZHZ1oMgO4L2Kcxl0HQG9wLXgwEWdztxBXF6GGQYY3r2AeutuXQrUBaRIV5FLX4CytqUtkKahSZOc\n",
              "5/6RNjaWWtKcpOHs85npNOd33p7qNz9Ozjm/E4GICIwpmGqgC2As2DjkTPE45EzxOORM8TjkTPE4\n",
              "5EzxOORM8TjkTPE45EzxOORM8TQDXYBS7dixA2vXrsWQIUN82puamrBq1apfnAcgoPmFhYUy/zUP\n",
              "NoHvXQmOHTt2AECPwHW19zUvkPkccl98uMIUj0POFI9DzhQv5CFfunQpUlNTIQgCLly40OfylZWV\n",
              "MJvN3p/U1FQ8/PDDwS+UKUbIz67MmTMHb775JgoKCu5r+ezsbJ83w6uvvgpBEIJUHVOikPfkTz75\n",
              "JIYOHdqj/ezZs5g6dSrGjRuHsWPHYt++fT2Wsdvt2LVrFxYuXBiKUplChMV58jt37mDRokU4fvw4\n",
              "kpKS0NzcjMceewz5+fl49NFHvcsdPHgQJpMJZrN54IplD5ywCPnp06dRU1ODGTNm+LRfvnzZJ+Rb\n",
              "t27lXpz5LSxCTkQYM2YMTp8+3esytbW1+Prrr3HgwIEQVhaYtWvXYvPmzT5t3a949javr3XvZz7r\n",
              "hgZISkoKVVRUEBHRrVu3KDExkUpKSrzzKyoqyOFweKdXrlxJL774YqjLZAoQ8sv6ixcvxrFjx9DQ\n",
              "0IDY2FjExMSgqqoK58+fx/Lly9HS0gKn04nk5GQcPnwYer0ekiQhJSUFO3fuxJQpU0JZLlMAvneF\n",
              "KR5f8WSKxyFnischZ4oX0pB/9NFHodwde8BJEqHqZlvA2wlpyK9duxbK3bEH3P5vbuBXH57Apv+9\n",
              "HNB2+HCFhaWWNgeKPrsEt0SI1gd2zZJDzsLSus9+wJ27ToxKjMGCx9MC2haHnIWdr2tasP+bGxAE\n",
              "oOi5bGjVgcWUQ87CSodLwopDlQCA3+Yl47HkhwLeJoechZUtJ6pR3WRDXHQE/vCrUbJs0++Qp6am\n",
              "YuTIkd7haHv37pWlEMautdhQ/OcqAMDKmZkwDtLKst1+fWzdu3cvD1xgsiIirDryHRwuCY+nx+JZ\n",
              "8yOybZsPV1hYOHqxHif+rwkRahXWPpsl6zjefvXk8+bNAxEhLy8P69ev7/G4MgBwOBxwOBw+bW63\n",
              "u39VMkVrtTux5uj3AIB/nTIcpiHRsm7f7578xIkTuHjxIs6fP4+4uDjMnz//nsutW7cORqPR5+fM\n",
              "mTMBF8yUZ+MXl9FkdSAtLgpLJg2XffsB3U9eX1+PjIwMWK3WHvPu1ZOvWrWK719hPr6tu4PZ/30K\n",
              "RMCu3/8THk+Pk30ffh2u2Gw2OJ1ODB48GACwe/dujB079p7L6nQ66HQ6nza1Wt2/KpkiudwS3j5U\n",
              "CSJgtvmRoAQc8DPkjY2NeP755+F2u0FEMJlM2LlzZ1AKY8q3s/wavvuxFQa9BitmZgZtP36F3GQy\n",
              "oaKiIli1sH8g9ZZ2/Ffn3YV/mDEKQ2J0fazRf3wKkQ2INf/zPWwdboxNHozfjk8O6r445Czk/vxD\n",
              "Iz77WwPUKgFFv8mGShXcZ1tyyFlItXe4serwdwCAhQVpGJ1kCPo+OeQspD760xX8/U47HjHq8fo/\n",
              "jwjJPjnkLGQuN1jxx7IaAMDqZ7MQpQvNUwo55CwkJImw4lAlXBJhWmYCpmUmhGzfHHIWEvu+qcO5\n",
              "a7cxKEKN/5g1JqT75pCzoGtpc2DdZz8AAP79XzLw6ODIkO6fQ86Crui4Z1Dy6CQDFjyeGvL9c8hZ\n",
              "UJVXt+DA+c5Byb/JgibAQcn9wSFnQeNwubHisGdQ8u/ykjFWhkHJ/cEhZ0Gz5S81qOkclPzmr+UZ\n",
              "lNwfHHIWFFebbSgu9QxKXvV0JoyR8gxK7g8OOZOdZ1Dy39DhklCQHodZonyDkvuDQ85kd/RiPcqu\n",
              "NCNCo8La2fIOSu4PDjmTlaX9p0HJ/zY5HWlxUQNcUZh8xWGgXG4JN263o7qpDbXNNjhcUq/Ldu9U\n",
              "BAi9tP9kUIQa8QY9Egx6JBr0iIuOGJDTYAPFLRFa252wtDvRavf8trQ70druukebEzdut6PJ6oAp\n",
              "LgpLJpsGunwA/Qj5lStXMH/+fDQ3N8NoNGLHjh0YMyY0l2lb7U7UNNlQfbMN1U1tntdNbbjaYoPT\n",
              "HZrv91IJQFy0DolGPeJj9Eg06pBo0CO+803Q9WYwRGpC8s80EaHDLcHhkmB3uuFwSnC43LB3+213\n",
              "ur3z7b3MtzlcP4XV7vIGu83h8rsmQQD+c3YWdJrwGNPrd8gXL16MRYsWobCwEPv370dhYSHOnj0r\n",
              "W0GSRPj7HU+vXN0Z4prO101WR6/r6TQqmIZEwzQkCjHd7m7r/iwCAvXSjl6XtzlcaGh1oNFiR1Ob\n",
              "A26JcNPqwE2rA4Cl13r0WhUSOkPvCb4OD0VFwO0mON0SOtyEDpcEp1vqnJa6TXvmdXTN66W9K7yh\n",
              "+P6+qAg1DJFaGCO1MOi1MERqYYjUwNitzRjpaU+NHYQRCTHBL+o++fVIips3byI9PR23bt2CRqMB\n",
              "ESEpKQknT55Eenp6n+svW7YMmzZt8mk7VdWMv9a0eAPd1+FGfIwOw4dEY3h8FExx0RgeH43hQ6Lw\n",
              "iDEy6CNM3BKhpc2BxlYHGlrtaGi142arHQ0WOxqtnjdCQ6sdlnZnUOvojSAAeo0aOq0Keo0aeq0K\n",
              "uq7fWjV0GhX0WjX03tc/zY/SaXqE1TOtgSFSG/DjkweSXz15XV0dkpKSoNF4VhMEAcnJybh+/XqP\n",
              "kN/vE7SOV9Zj11+v+7RFqFVIjRvkCXNn79z1O0Y/cOdb1SoB8Z2HJtkw9rqc3elGY6vd+2ZotNjR\n",
              "2GrH7btORGgEaNUq70+ERoUIteB9rVWrENHttVYtdC6jgrbrt1qFCI0AXVegO0MboVYN+JmMcBS0\n",
              "D57r1q3D6tWrfdomTJjQY7mC9DhIRD5hHvrQIKiD3CsHk16rRkpsFFJiB/7MAgvi4cq9evJ58+bB\n",
              "ZPL9xO12u3HmzBnk5eWF3cOHuDb/hbKulJQUvP76630vSH6aNGkSbd++nYiI9u3bR7m5uf5uwofF\n",
              "YiEAZLFYAtpOMHBt/gvHuvw+XPn4449RWFiIoqIiGAwGbN++3d9NMBZSfod85MiRKC8vD0YtjAXF\n",
              "g3teiLH7NOAh1+l0ePfdd3s8ATcccG3+C8e6Ano+OWMPggHvyRkLNg45UzwOOVO8BzLkH374IRoa\n",
              "GoK2/atXr2Lz5s2/uMy4cePw1Vdfybpfu92O2bNnIyMjA6IoYtq0aaiq8oyTnDx5MtLS0rxfEvzB\n",
              "Bx9411u8eDGys7MxdepUWCyeOyOJCDNmzEB1dbUstbW0tHj3bTabkZGRAY1Gg1u3bg14bX0a2GtR\n",
              "/ZOSkkIVFRVB235paSmJoviLy+Tm5lJpaams+21vb6djx46RJElERFRcXEyTJk0iIs+V5kOHDvVY\n",
              "p7KykqZMmUJERKtXr6bi4mIiItqyZQu9//77stbX3YYNG+jpp58Oy9p+TtaevLy8HAUFBRBFETk5\n",
              "OThy5AjOnTuH/Px85OTkIC8vD6dOnQLg6S27vmALANra2nzuoBMEAUVFRcjLy0NaWpr3yuqaNWvw\n",
              "448/Yu7cuTCbzbhw4UJANbe3t2Pu3LnIzMyEKIqYPn06lixZgsuXL8NsNmPWrFkAgNOnT8NsNiMr\n",
              "KwsLFiyAy+X/YIK+6PV6PPXUU97/DhMmTMDVq1d/cR2tVguHwwFJkmCz2RAREYH6+nrs3r0by5Yt\n",
              "k73GLlu3bsXChQvDsrYe5Hq3tLS0UHx8PJ04cYKIiNxuNzU2NtKwYcPo888/JyKisrIySkhIIKvV\n",
              "SrW1tWQ0Gr3rW61W6l4OANq4cSMREV26dImio6PJ6XQSkbw9+cGDB2n69Ok+f8fPe3KHw0FDhw6l\n",
              "kpISIiL64osvCIDsPfnPvfTSS7R06VIi8vSWI0eOpKysLHrhhReourrau9yKFStIFEWaM2cO2Ww2\n",
              "mjt3Lp07dy5odZ06dYoSEhK8/z/CqbZ7kS3kR48epSeeeMKn7eLFi5SSkuLTlpOTQ2VlZfcV8vr6\n",
              "eu/04MGDqa6ujojkDXl1dTUNGzaMXnnlFdqzZw+1trb2CPm3335LqampPuuZTKaghvy9996jCRMm\n",
              "kM1mIyKi69evExGRJElUXFxMo0ePvud6hw8fpuXLl1NzczMVFhbSc889R3v27JG1tpdffpneeOMN\n",
              "73Q41XYvIQ+5KIpUVlZGdXV1FB0d7W1vamrqEfLbt297p2NjY6m2tpaI5D8mt1qtdOTIEXrttdco\n",
              "OTmZDh482GfIhw8fHrSQb9iwgXJzc33+/p/T6XTU3Nzs02axWKigoIBsNhutXLmStm/fTk6nkzIz\n",
              "M+nu3buy1Ga1Wik6OpouXboUdrX1RrZj8vz8fFy5cgVlZWUAAEmSkJCQAEmSUFJSAsBzXNvQ0ACz\n",
              "2YzExEQQEb7/3vP4An++D9RgMHg/qQfqxo0bEAQBs2bNwsaNG0FEiI2N9dn+qFGj4HK5UFpaCgD4\n",
              "8ssvg3ZmYNOmTdi9ezdKSkq8n1lcLhcaGxu9yxw4cAAJCQmIjY31Wfett97CO++8g0GDBsFms0EQ\n",
              "BAiCAKfTiY6ODlnq27t3L0RRxKhRo8Kutl7J+Y4pLy+n/Px8ys7OJlEU6dNPP6WzZ8/SxIkTKTs7\n",
              "m8aPH09lZWXe5bdt20ZpaWk0btw4Wr9+/X335J988gmNGDGCRFEMuEc/fvw4iaJIOTk5lJmZSW+/\n",
              "/TY5nU6aOXMmjRkzhp555hki8hyHiqJIWVlZtGDBAhJFUfaevK6ujgCQyWQiURRJFEXKy8ujtrY2\n",
              "ys3NpaysLMrJyaGpU6fShQsXfNY9efIkFRYWeqerqqpo/PjxNHr0aFqzZo1sNU6cOJG2bdvmnQ6n\n",
              "2nrD964wxXsgLwYx5g8OOVM8DjlTPA45UzwOOVM8DjlTPA45UzwOOVM8DjlTPA45UzwOOVO8/wdU\n",
              "ezpvRwoEBQAAAABJRU5ErkJggg==\n",
              "\">\n",
              "        \n",
              "      </div>\n",
              "      <script></script>\n",
              "      <script type=\"text/javascript\">\n",
              "        (() => {\n",
              "          const chartElement = document.getElementById(\"chart-373725ee-80af-4e2a-a655-fd3c23597b90\");\n",
              "          async function getCodeForChartHandler(event) {\n",
              "            const chartCodeResponse =  await google.colab.kernel.invokeFunction(\n",
              "                'getCodeForChart', [\"chart-373725ee-80af-4e2a-a655-fd3c23597b90\"], {});\n",
              "            const responseJson = chartCodeResponse.data['application/json'];\n",
              "            await google.colab.notebook.addCell(responseJson.code, 'code');\n",
              "          }\n",
              "          chartElement.onclick = getCodeForChartHandler;\n",
              "        })();\n",
              "      </script>\n",
              "      <style>\n",
              "        .colab-quickchart-chart-with-code  {\n",
              "            display: block;\n",
              "            float: left;\n",
              "            border: 1px solid transparent;\n",
              "        }\n",
              "\n",
              "        .colab-quickchart-chart-with-code:hover {\n",
              "            cursor: pointer;\n",
              "            border: 1px solid #aaa;\n",
              "        }\n",
              "      </style>"
            ]
          },
          "metadata": {}
        },
        {
          "output_type": "display_data",
          "data": {
            "text/plain": [
              "import numpy as np\n",
              "from google.colab import autoviz\n",
              "\n",
              "def value_plot(df, y, figscale=1):\n",
              "  from matplotlib import pyplot as plt\n",
              "  df[y].plot(kind='line', figsize=(8 * figscale, 4 * figscale), title=y)\n",
              "  plt.gca().spines[['top', 'right']].set_visible(False)\n",
              "  plt.tight_layout()\n",
              "  return autoviz.MplChart.from_current_mpl_state()\n",
              "\n",
              "chart = value_plot(_df_3, *['구매금액대'], **{})\n",
              "chart"
            ],
            "text/html": [
              "      <div class=\"colab-quickchart-chart-with-code\" id=\"chart-b2ba3854-ba42-4df7-8067-c20b2eb43a26\">\n",
              "        <img src=\"data:image/png;base64,iVBORw0KGgoAAAANSUhEUgAAAMQAAABgCAYAAABCK92TAAAAOXRFWHRTb2Z0d2FyZQBNYXRwbG90\n",
              "bGliIHZlcnNpb24zLjcuMSwgaHR0cHM6Ly9tYXRwbG90bGliLm9yZy/bCgiHAAAACXBIWXMAAA9h\n",
              "AAAPYQGoP6dpAAAMGElEQVR4nO3dfVATZx4H8O8CilIEWiqRCoR3lEI2YyCHHD3FVjq11en0bLmb\n",
              "dnpoZ7DtnLZSHfve0U61HTz1jnuxehWv7Z06PW3taKcebVEj4qk9Ua++8SJHPBEQvBgihIT87g80\n",
              "3fAOie5Cfp8ZRvd59tn8ovnm2bCbXYGICIwxAICP3AUwpiQcCMYkOBCMSXAgGJPgQDAmwYFgTIID\n",
              "wZgEB4IxCQ4EYxIcCMYk/OQugAFbt27Fu+++i4kTJ7q0NzU14a233uq3D8Bt7c/Ly3P7+Y0kAp/L\n",
              "JL+tW7cCQI8X3632gfpuZ7+3BYJ3mRiT4EAwJsGBYEyCA8GYBAeCMQkOBGMSHAjGJDgQjEnwgTkF\n",
              "4CPVysGBYEyCd5kYk+BAMCbBgWBMYkiBWLJkCaKjoyEIAioqKpztlZWVyMzMRGJiItLT0/HDDz+4\n",
              "3ceYLGgIDhw4QEajkdRqNZ04ccLZnp2dTcXFxURE9Nlnn1FaWprbfYzJYUiBuEUaiIaGBpowYQLZ\n",
              "bDYiInI4HKRSqaiysnLYfUOxYcOGHm02eyfVXm0dzlNjXs7tb8wZjUaEh4fDz69rU4IgICoqCnV1\n",
              "dQgODh5WX3x8fK+PZbVaYbVaXdpqampclqsazcj/5Ht02B347pWZGOvHH5PY4I2oV8uaNWsQHBzs\n",
              "8nP06FGXdSaHBMDcbsela23YcdwoU6VspHI7EJGRkaivr4fdbgcAEBHq6uoQFRU17L6+vPbaazCZ\n",
              "TC4/er3eZZ3xY33x6+yuGabo20q0dXS6+xSZF3E7EGFhYZg2bRo+/fRTAMDOnTsRERGB+Pj4Yff1\n",
              "xd/fH0FBQS4/vr6+Pdb7hT4Sk0PGo9FsxSdHat19isybDOUDR35+Pk2ePJl8fX0pLCyM4uLiiIjo\n",
              "3LlzlJGRQQkJCaTT6ejUqVPOMcPtG6ylS5f22r7jWB2pV+wh7cp9dL2tY8jbZd5pxJ/LVFBQgHXr\n",
              "1vVot3c6kLPhIGqaLHj5oQS8/FCiDNWxkWZEfageCj9fHxTM7grBnw0Xcc3SIXNFbCQYtYEAgDkp\n",
              "4ZgaHoRWqx0bD1bLXQ4bAUZ1IHx8BCx/uGuW+MvhWjReb5e5IqZ0ozoQAJCdFIZpUSFotznw+9Iq\n",
              "ucthCjfqAyEIApY9nAQA2Ha0DsaWGzJXxJRs1AcCADLj7kVW/L2wdRJ++22l3OUwBfOKQABwzhK7\n",
              "/nUJVY2tMlfDlMprAqGNDMHsZBUcBKwvuSB3OUyhvCYQAPBKTiIEAdh7uh7//q9J7nKYAnlVIKZM\n",
              "CsJczX0AgHU8S7BeeFUgAGDp7ET4+gj47lwjvv9Pi9zlMIXxukDE3HsXntRFAAAK953HCD+Vi3mY\n",
              "1wUCABY/mICxvj44UtOCsqpmucthCuKVgZgcMh5PZ3R9Ealw3zmeJZiTVwYCAF6cGY/xY3xx8pIJ\n",
              "JWca5C6HKYTXBmLiBH8szIoGAPzmHxfQ6eBZgnlxIAAg/4E4TBjnh/MNZuw5dVnucpgCeHUgggPG\n",
              "YNHPYgF0Hb22dTpkrojJzasDAQALfhqD0LvGorb5Bv7+/SW5y2Ey8/pA3OXvhxdvXrbmd99Wot3G\n",
              "l63xZl4fCAB4+idRCA8eh3pTO/72zzq5y2Ey4kAAGDfGF0seTAAA/KG0CharXeaKmFw4EDfN10VA\n",
              "HRqAZksHth6ulbscJhMOxE1jJJet2XigGqYbNpkrYnLgQEjM1dyHJNUEmNvt2GTgy9Z4Iw6EhI+P\n",
              "gIKcrlmiuKwWTWbrACPYaKOIQCjp1lo5ySqIEcG40dGJP+7ny9Z4G0UEYtGiRcjPz8eFCxewYsUK\n",
              "WW8WLr1szV+P1OHy/9pkq4XdebJf7LixsRHx8fFoaWmBn58fiAjh4eE4dOhQv5fGv6Wvix27g4jw\n",
              "y81HcKSmBdNjQ6FT3+3R7QuC5O+9NAq9rif0aBuu7v/jBOqzv8eLQ9LZ2wtnoG33vo5ru8sY6r4O\n",
              "dVvXdaw6NAC/yozupbLBcfuWWu7q75Zc3QPR2y21Ojs9f2RZEAQsfzgJP/9TOcprmlFew18iGin0\n",
              "MfeM7EAMxZo1a7By5UqXtoyMjNvyWDr1PVj7pHhbr87hfLdzabv5p6S1+7uhJ/Q20XSffYRe1uq5\n",
              "Tvf+vqew/rZ/q6/X2fHmwo+zqet46diIuwP6fPzBGFG7TL3NEM8++yxiY2Nd2jo7O3H06FHo9fpe\n",
              "7zB0p3E98tejVqvx0ksvDbyiLLdp6WbGjBku96vW6XRubc9kMhEAMplMHqjOfVxP/5RUjyJ2mT78\n",
              "8EPk5eVh9erVCAoKQnFxsdwlMS+liEAkJSWhvLxc7jIYU8ZxCMaUYlQGwt/fH++88w78/f3lLgUA\n",
              "1zMQJdUj+2+ZGFOSUTlDMDZcHAjGJDgQjElwIG7asGEDrly54tFt1tbWYuPGjf2uk5aWhv3797v9\n",
              "WO3t7Xj88ceRmJgIURQxe/ZsVFV1nb4+c+ZMxMTEQKvVQqvVYv369c5xixYtQmpqKmbNmgWTqes0\n",
              "FSLCI488gurq4X9Jqrm52fl4Wq0WiYmJ8PPzQ0tLiyz1DJq8xwWVQ61W04kTJzy6zdLSUhJFsd91\n",
              "dDodlZaWuv1YbW1ttHfvXnI4HEREVFRURDNmzCCirjMBPv/88x5jTp8+TdnZ2UREtHLlSioqKiIi\n",
              "ok2bNtEHH3zgdk1ShYWF9Nhjjymmnr4ofoYoLy9HVlYWRFGERqPB7t27cfz4cWRmZkKj0UCv16Os\n",
              "rAxA1ztySEiIc2xra6vLyWaCIGD16tXQ6/WIiYlxHhFftWoVLl++jNzcXGi1WlRUVAy5zra2NuTm\n",
              "5iI5ORmiKCInJwfPP/88zp8/D61Wi3nz5gEADh8+DK1Wi5SUFCxYsAB2u2eu8DFu3DjMmTPH+Xwz\n",
              "MjJQW1vb75gxY8bAarXC4XDAYrFg7NixqK+vx7Zt21BQUOCRum756KOP8Nxzzymmnj7dkdgNU3Nz\n",
              "M4WFhdHBgweJiKizs5MaGhooMjKSvv76ayIiMhgMpFKpyGw208WLFyk4ONg53mw2k/QpAqC1a9cS\n",
              "EdHZs2cpMDCQbDYbEbk/Q+zatYtycnJcau8+Q1itVoqIiKCSkhIiItq3bx8B8MgM0d0zzzxDS5Ys\n",
              "IaKud+SkpCRKSUmhp556iqqrq53rvfHGGySKIs2fP58sFgvl5ubS8ePHPVpLWVkZqVQq57+13PX0\n",
              "R9GB2LNnDz3wwAMubadOnSK1Wu3SptFoyGAwDCoQ9fX1zuWQkBAyGo1E5H4gqqurKTIykl544QXa\n",
              "vn07Xb9+vUcgTp48SdHR0S7jYmNjPR6I9957jzIyMshisRARUV1dHRERORwOKioqoqlTp/Y67osv\n",
              "vqBly5bR1atXKS8vj5544gnavn272/UsXLiQli9f7lyWu57+jIpAiKJIBoOBjEYjBQYGOtubmpp6\n",
              "BOLatWvO5dDQULp48SIReeYzhNlspt27d9PixYspKiqKdu3aNWAg4uLiPBqIwsJC0ul0Ls+zO39/\n",
              "f7p69apLm8lkoqysLLJYLPTmm29ScXEx2Ww2Sk5Ophs3bgy7HrPZTIGBgXT27FlF1DMQRX+GyMzM\n",
              "RGVlJQwGAwDA4XBApVLB4XCgpKQEQNc++ZUrV6DVajFp0iQQEc6cOQMA+Pjjjwf9WEFBQc7fagzH\n",
              "pUuXIAgC5s2bh7Vr14KIEBoa6rLNKVOmwG63o7S0FADwzTffePQ3J+vWrcO2bdtQUlLi/Cxlt9vR\n",
              "0PDjDWF27twJlUqF0NBQl7Gvvvoq3n77bQQEBMBisUAQBAiCAJvNho6OjmHXtGPHDoiiiClTpiii\n",
              "ngHdtqh5SHl5OWVmZlJqaiqJokhffvklHTt2jKZPn06pqamUnp5OBoPBuf6WLVsoJiaG0tLS6P33\n",
              "3x/0DLF582ZKSEggURSHNVN89dVXJIoiaTQaSk5Optdff51sNhs9+uijdP/999PcuXOJqGt/WhRF\n",
              "SklJoQULFpAoih6ZIYxGIwGg2NhYEkWRRFEkvV5Pra2tpNPpKCUlhTQaDc2aNYsqKipcxh46dIjy\n",
              "8vKcy1VVVZSenk5Tp06lVatWuVXX9OnTacuWLc5luesZCJ/LxJiEoneZGLvTOBCMSXAgGJPgQDAm\n",
              "wYFgTIIDwZgEB4IxCQ4EYxIcCMYkOBCMSXAgGJP4P92q3phtBVCzAAAAAElFTkSuQmCC\n",
              "\">\n",
              "        \n",
              "      </div>\n",
              "      <script></script>\n",
              "      <script type=\"text/javascript\">\n",
              "        (() => {\n",
              "          const chartElement = document.getElementById(\"chart-b2ba3854-ba42-4df7-8067-c20b2eb43a26\");\n",
              "          async function getCodeForChartHandler(event) {\n",
              "            const chartCodeResponse =  await google.colab.kernel.invokeFunction(\n",
              "                'getCodeForChart', [\"chart-b2ba3854-ba42-4df7-8067-c20b2eb43a26\"], {});\n",
              "            const responseJson = chartCodeResponse.data['application/json'];\n",
              "            await google.colab.notebook.addCell(responseJson.code, 'code');\n",
              "          }\n",
              "          chartElement.onclick = getCodeForChartHandler;\n",
              "        })();\n",
              "      </script>\n",
              "      <style>\n",
              "        .colab-quickchart-chart-with-code  {\n",
              "            display: block;\n",
              "            float: left;\n",
              "            border: 1px solid transparent;\n",
              "        }\n",
              "\n",
              "        .colab-quickchart-chart-with-code:hover {\n",
              "            cursor: pointer;\n",
              "            border: 1px solid #aaa;\n",
              "        }\n",
              "      </style>"
            ]
          },
          "metadata": {}
        },
        {
          "output_type": "display_data",
          "data": {
            "text/plain": [
              "<google.colab._quickchart_helpers.SectionTitle at 0x7d9617b63010>"
            ],
            "text/html": [
              "<h4 class=\"colab-quickchart-section-title\">Distributions</h4>\n",
              "<style>\n",
              "  .colab-quickchart-section-title {\n",
              "      clear: both;\n",
              "  }\n",
              "</style>"
            ]
          },
          "metadata": {}
        },
        {
          "output_type": "display_data",
          "data": {
            "text/plain": [
              "import numpy as np\n",
              "from google.colab import autoviz\n",
              "\n",
              "def histogram(df, colname, num_bins=20, figscale=1):\n",
              "  from matplotlib import pyplot as plt\n",
              "  df[colname].plot(kind='hist', bins=num_bins, title=colname, figsize=(8*figscale, 4*figscale))\n",
              "  plt.gca().spines[['top', 'right',]].set_visible(False)\n",
              "  plt.tight_layout()\n",
              "  return autoviz.MplChart.from_current_mpl_state()\n",
              "\n",
              "chart = histogram(_df_4, *['고객ID'], **{})\n",
              "chart"
            ],
            "text/html": [
              "      <div class=\"colab-quickchart-chart-with-code\" id=\"chart-d2a82b67-e4a8-4591-b35b-5a316cbef506\">\n",
              "        <img src=\"data:image/png;base64,iVBORw0KGgoAAAANSUhEUgAAAMQAAABgCAYAAABCK92TAAAAOXRFWHRTb2Z0d2FyZQBNYXRwbG90\n",
              "bGliIHZlcnNpb24zLjcuMSwgaHR0cHM6Ly9tYXRwbG90bGliLm9yZy/bCgiHAAAACXBIWXMAAA9h\n",
              "AAAPYQGoP6dpAAAKN0lEQVR4nO3dbVBM7xsH8O8qeqAtNpmQTenBsDbCbPVGrwz/mUre0BgKUyPE\n",
              "1Ax/E+Nx8MIYmQbDC3kaIRkzTMxEmEn6pSQ0lTyVUCltedhou/8vTPs/+9st3ds+OKfrM7Mz7Tmn\n",
              "9rru2avzcN/n3DLGGAMhBAAwwtEBEPI3oYIgRIAKghABKghCBKggCBGggiBEgAqCEAEqCEIEqCAI\n",
              "EaCCIESACsJBcnJyEBgYCI1GY/QKDAz84zoAWLBgAbZv3274e/7+/nB1dYWHhwc8PT0REBCAhIQE\n",
              "FBcXOyhDcXJ2dADD2Y4dO5CYmGi0rO8LP9C6/mRnZ2Pt2rUAgMbGRpw9exbR0dHIzs5GcnKylaKW\n",
              "NioIifLz80NmZiZ0Oh0yMjKwbNkyyOVyR4f116NDJolbsWIFvn79ipKSEkeHIgpUEBI3ZcoUAEBb\n",
              "W5uDIxEHKgiJa2hoAAAoFAoHRyIOVBASd+HCBYwePRoRERGODkUU6KRaopqamnDu3DkcPHgQWVlZ\n",
              "dEI9SLSHkJANGzbAw8MDcrkcUVFRqKysRGFhIdatW+fo0ESD9hAide/ePaP3b9++dUgcUsNdELdv\n",
              "38bChQttEcuws3fvXpw4ccJoWWtrK3bs2DHgOmI7Mt6nbkRFReHz589ITU1FUlISHZsSSeE+hygu\n",
              "LkZubi6eP3+O4OBgpKamorq62haxEWJ33HsIocrKSsTExODDhw+Ijo7G4cOHoVKprBkfIXZl0VWm\n",
              "wsJCxMbGIj4+HuvXr8enT5+QkpKCJUuWWDs+QuyKew8xffp0eHt7Iy0tDfHx8XBycjKsW7RoEQoK\n",
              "CgAAOp0Oy5YtQ3V1Ndzc3ODj44Pjx49j2rRp1s2AECviLojy8nKEh4f/cTudToe7d+9i0aJFkMlk\n",
              "yM7ORl5ensnlQkL+JtyHTOXl5Whvbze8b2trw6lTp0y2c3V1xeLFiyGTyQAAGo2G61p5VlYWb2iE\n",
              "DBl3QRw7dgzjxo0zvFcoFDh27Ngffy8rKwuxsbFm13V3d6Ozs9Po9fr1a97QCBky7o45c0dYer1+\n",
              "wN/Zv38/6uvrcefOHbPrDxw4gN27dxst02g0vKHZjf9/b5pd/vbgf4bF59tDfzkCts2Tew/h6+uL\n",
              "y5cvG95funQJvr6+/W5/6NAh5Ofno6CgAO7u7ma32bZtG7RardFr/vz5vKERMmTce4gjR44gNjYW\n",
              "W7ZsAQC4u7vj+vXrZrc9fPgwLl68iMLCQnh5efX7N11cXODi4mK0THj1ihB74S6I0NBQVFdXo7a2\n",
              "FgAQEhJi9sv7/v17ZGRkICAgANHR0QB+f/FLS0uHGDIhtmPRaFeZTAYvLy/09PSgqakJwP9vVewz\n",
              "efJks+cbhPzNuAsiJycHaWlpGDlyJEaM+H0KIpPJ0NLSYvXgCLE37oLYu3cvysrKEBISYot4CHEo\n",
              "7qtM3t7eVAxEsrgLIi4uDkeOHEFLS4tRRxohUsB9yJSZmQkASE9Ph0wmA2MMMpnsj51zhIgBd0H0\n",
              "9vbaIg5C/goW3Q9RXl6Oc+fOAQA6Ojrw8eNHqwZFiKNYNLhv9erV2LVrF4Dfo10TEhKsHRchDsFd\n",
              "ECdPnsSjR48MDxcIDAxEa2ur1QMjxBG4C8LFxQVubm5Gy5yd6fFORBq4C2L8+PGoq6sz3PiTk5Nj\n",
              "MmyDELGyaLTr8uXLUVNTAz8/P8jlcty4ccMWsRFid9wFMW3aNJSWlqK2thaMsX5HuxIiRtwF0Tff\n",
              "wOjRowGg39GutjQc7hj7m0m5/bkLIjw83NBDrdPp8P37dygUChrtSiSBuyD+fYk1Pz8fT58+tVpA\n",
              "hDjSkOeHiI+Px82b/d8QToiYcO8hhCNb9Xo9SktLabQrkQzugvDy8jKcQzg5OSEoKAhHjx61RWyE\n",
              "2B2NdiVEgOaYI0SAew8xYsQIw7ANIbpRiEgBd0Hs2bMHP378MMxseeLECbi5uWHz5s3Wjo0Qu+Mu\n",
              "iGvXrqG8vNzwft++fQgPDzfcWkqImHGfQ3R1dRn1Sre0tKCrq8uqQRHiKNx7iIyMDKjVaixevBgA\n",
              "cOvWLcPdc4SIHXdBpKSkICoqCkVFRQB+P31jxowZVg+MEEew6LKrQqGASqXCxo0bERISgp8/f5rd\n",
              "7uXLl4iMjERwcDDmzZuHFy9eDClYQmyNuyDy8vKg0WiQlJQEAHjx4gXi4uLMbpuSkoLk5GTU1dVh\n",
              "69atSExMHEqshNgcd0EcOHAAFRUVhvke1Go13r17Z7JdS0sLHj9+jBUrVgAAli5disbGRtTX1w8t\n",
              "YkJsiPscwsnJCQqFwmjZqFGjTLZrbGyEr6+v4QEEMpkMU6ZMQUNDg8nUvN3d3eju7jZaRh18xBG4\n",
              "C8LDwwPNzc2G3uo7d+4YTcJoCXNzzIWGhiI9Pd1kW71eD99//sH8+fNNbl1NTzc/h521xfez3B6f\n",
              "P1zy7+8z9Ho9IiL2mc1fqVRi06ZNQ/tgxqmsrIzNnj2beXp6sqioKDZx4kT25MkTk+2am5uZh4cH\n",
              "+/XrF2OMsd7eXjZhwgT28uVLk211Oh3TarVGL51OZ/bztVotA8C0Wi1v6JJA+ds2f649RG9vL/R6\n",
              "PYqKivDw4UMwxhAZGWl2/jgfHx/MmTMH58+fR2JiIq5evYrJkyebHC4B5ueYI8QRZIzxzXulVqsH\n",
              "fctobW0tEhMT0dbWBrlcjtOnT0OlUlkUaJ/Ozk54enpCq9Uanh44nFD+ts2f+xwiKCgI9fX1Zv/T\n",
              "/1tISAhKSkosCowQR+AuiPb2doSFhSEyMhJjxowxLM/Pz7dqYP1xcXHBzp07h+0hFuVv2/wHfciU\n",
              "nJyMkydP4syZM/jy5QvGjh1rtH7VqlU2CZAQexp0QcyZMwcVFRUmPxMiJRaNZeI8DydENAZ9DvHj\n",
              "xw88e/bM8MS+vp/7zJo1yyYBEmJXg+2wUCqVzN/f3+xr6tSp1u8hMaOuro5FRESwoKAgNnfuXPb8\n",
              "+XO7fK49KZVKFhwczNRqNVOr1Sw3N5cxNnDuYm6XjRs3MqVSyQAYdfBamu9Q24K7p9qRoqOj2enT\n",
              "pxljjF25coXNnTvXsQHZgFKpNNvzP1DuYm6X+/fvs8bGRpO8Lc13qG0hmoLgGQoiZuYKYqDcpdIu\n",
              "wrwtzdcabSGa5zINNHpWalauXAmVSoU1a9agtbV1wNyl2C6W5muNthBNQQwXDx48QFVVFSoqKuDt\n",
              "7U39O3YmmtkS/fz88PHjR/T09MDZ2RmMMTQ0NEhufru+fEaOHInNmzcjODh4wNzlcrnk2sXSfK3R\n",
              "FqLZQwhHzwIYcPSsWH379g0dHR2G9xcvXsTs2bMHzF2K7WJpvlZpC2udFNlDTU0N02g0LCgoiIWH\n",
              "h7OqqipHh2RVr169YmFhYUylUrGZM2eymJgY9ubNG8bYwLmLuV2Sk5PZpEmTmJOTE/Px8WGBgYGM\n",
              "McvzHWpbcA//JkTKRHPIRIg9UEEQIkAFQYgAFQQhAlQQhAhQQRAiQAVBiAAVBCECVBCECFBBECJA\n",
              "BUGIwP8AZAGVy3ApikoAAAAASUVORK5CYII=\n",
              "\">\n",
              "        \n",
              "      </div>\n",
              "      <script></script>\n",
              "      <script type=\"text/javascript\">\n",
              "        (() => {\n",
              "          const chartElement = document.getElementById(\"chart-d2a82b67-e4a8-4591-b35b-5a316cbef506\");\n",
              "          async function getCodeForChartHandler(event) {\n",
              "            const chartCodeResponse =  await google.colab.kernel.invokeFunction(\n",
              "                'getCodeForChart', [\"chart-d2a82b67-e4a8-4591-b35b-5a316cbef506\"], {});\n",
              "            const responseJson = chartCodeResponse.data['application/json'];\n",
              "            await google.colab.notebook.addCell(responseJson.code, 'code');\n",
              "          }\n",
              "          chartElement.onclick = getCodeForChartHandler;\n",
              "        })();\n",
              "      </script>\n",
              "      <style>\n",
              "        .colab-quickchart-chart-with-code  {\n",
              "            display: block;\n",
              "            float: left;\n",
              "            border: 1px solid transparent;\n",
              "        }\n",
              "\n",
              "        .colab-quickchart-chart-with-code:hover {\n",
              "            cursor: pointer;\n",
              "            border: 1px solid #aaa;\n",
              "        }\n",
              "      </style>"
            ]
          },
          "metadata": {}
        },
        {
          "output_type": "display_data",
          "data": {
            "text/plain": [
              "import numpy as np\n",
              "from google.colab import autoviz\n",
              "\n",
              "def histogram(df, colname, num_bins=20, figscale=1):\n",
              "  from matplotlib import pyplot as plt\n",
              "  df[colname].plot(kind='hist', bins=num_bins, title=colname, figsize=(8*figscale, 4*figscale))\n",
              "  plt.gca().spines[['top', 'right',]].set_visible(False)\n",
              "  plt.tight_layout()\n",
              "  return autoviz.MplChart.from_current_mpl_state()\n",
              "\n",
              "chart = histogram(_df_5, *['이탈여부'], **{})\n",
              "chart"
            ],
            "text/html": [
              "      <div class=\"colab-quickchart-chart-with-code\" id=\"chart-48b09654-d7c6-4638-9a48-1b3ac7e722a4\">\n",
              "        <img src=\"data:image/png;base64,iVBORw0KGgoAAAANSUhEUgAAALoAAABgCAYAAACqq2i4AAAAOXRFWHRTb2Z0d2FyZQBNYXRwbG90\n",
              "bGliIHZlcnNpb24zLjcuMSwgaHR0cHM6Ly9tYXRwbG90bGliLm9yZy/bCgiHAAAACXBIWXMAAA9h\n",
              "AAAPYQGoP6dpAAAJLUlEQVR4nO3dW0gUbx8H8O+2+V+sXK1Vw0rXPOwata2nxPTKq6gX1PQiijAt\n",
              "UDI0MahXIjoY2FVYFxJ2oR0g7WAERQWFVHRQWy1T8RT9U8pc09yk1HJ93gtxX7fdzGd3Nh3n94Eh\n",
              "d3ZYf7/l2/A488yMjDHGQMg8t2C2CyDkb6CgE0mgoBNJoKATSaCgE0mgoBNJoKATSaCgE0mgoBNJ\n",
              "oKATSVg42wXMd+Xl5SgsLISPj4/V+r6+Phw5cmTa9wA49X56errA3YiXjOa6uFZ5eTkA2IRucv2f\n",
              "3nPmfQr6/9HQhUgCBZ1IAgWdSAIFnUgCBZ1IAgWdSAIFnUgCBZ1IAvcJo/v372PTpk2uqmfeoTOj\n",
              "cwN30OPj4/H582dkZ2cjIyMDSqXSVbURIhjuocvTp09RUVGBpqYmaDQaZGdno6WlxRW1ESIYp+a6\n",
              "vHr1ComJifj48SMSEhJw+vRp6HQ6IesjRBAO/TH64MEDJCUlISUlBfv27cOnT5+QlZWFrVu3Cl0f\n",
              "IYLg3qOvWbMG3t7eyM3NRUpKCuRyueW9zZs34+7du4IXSYizuINuMBgQFRXlqnoIcQnuoYvBYMDA\n",
              "wIDldX9/P86fPy9oUQBw5swZwT+TSBd30EtKSrBs2TLLa5VKhZKSEkGLAoD3798L/plEurgvpbM3\n",
              "0jGbzYIUMxOB/71jd/2/p/7z12og4sO9R/fz88PVq1ctrysrK+Hn5ydoUYQIjXuPXlxcjKSkJBw8\n",
              "eBAAsGjRIty6dUvwwggREnfQw8LC0NLSgra2NgCAVqu1OsRIyFzk0O0uZDIZvLy8MDY2hg8fPgAA\n",
              "AgICBC2MECFxB728vBy5ublwc3PDggUTQ3yZTAaj0Sh4cYQIhTvohYWFqKurg1ar/eO2gYGBUCgU\n",
              "cHd3BwAUFBRg27Zt/FUS4iTuoHt7e88o5JMqKysRHh7O+2sIERT34cXk5GQUFxfDaDTi69evloWQ\n",
              "uYx7j3748GEAQH5+PmQyGRhjkMlkvz1plJaWBsYYYmJicOrUKZurYQBgdHQUo6OjVuv+5kkoMv9x\n",
              "79HHx8cti9lstvxrz+PHj9HY2Ij6+np4e3tj165ddrcrKiqCp6en1VJbW8tbGiG/5dB8dIPBgEuX\n",
              "LgEABgcH0dPTY3e7yUOObm5uyMvLw5MnT+xuV1BQAJPJZLXExMQ4Uhohdjk0qWv37t04duwYgInZ\n",
              "izt27LDZ7tu3bxgcHLS8vnLlCiIiIux+pkKhgFKptFroJBQREvcYvbS0FC9evEBcXBwAIDg4GH19\n",
              "fTbb9fb2IjU1FWazGYwxBAUF4eLFi85XTIgDuIM+9bi45UMW2n5MUFAQGhoaHK+MEAFxD118fHzQ\n",
              "3t4OmUwGYOJMKZ3+J3OdQ7MXt2/fjtbWVvj7+0OpVOL27duuqI0QwXAHPSQkBDU1NWhrawNjjGYv\n",
              "ElHgDnpXVxcAYPHixQBAsxeJKHAHPSoqynJGdGRkBN+/f4dKpaLZi2RO4w76r4cSq6qq8Pr1a8EK\n",
              "IsQVnL5tdEpKCu7csX/BMiFzBfcefepMRbPZjJqaGpq9SOY87qB7eXlZxuhyuRyhoaE4e/asK2oj\n",
              "RDDcQR8fH3dFHYS4FD3ahUgC9x59wYIFltP/U/3pAgxCZhN30E+cOIHh4WHs3bsXAHDu3Dm4u7sj\n",
              "Ly9P6NoIEQx30G/evAmDwWB5ffLkSURFRVkusSNkLuIeow8NDVmdBTUajRgaGhK0KEKExr1HP3Dg\n",
              "APR6PbZs2QIAuHfvnuVqI0LmKu6gZ2VlIT4+HtXV1QAm7gawdu1awQsj89Ns3fbbocOLKpUKOp0O\n",
              "OTk50Gq1+PHjh93tOjo6EBcXB41Ggw0bNqC5udmpYglxFHfQr1+/jtjYWGRkZAAAmpubkZycbHfb\n",
              "rKwsZGZmor29HYcOHaInGZNZwx30oqIi1NfXw8vLCwCg1+vtPobFaDTi5cuX2LlzJwAgNTUV3d3d\n",
              "6OzsdK5iQhzAPUaXy+VQqVRW6/755x+b7bq7u+Hn52e5cFomkyEgIABdXV0ICQmx2pbu1EVcjTvo\n",
              "Hh4e6O3ttZwdffjwodXDuxxRVFSE48ePW60LCwtDfn6+1Tqz2Qy/2lrExMTYXL6Xn//QqRrmGrPZ\n",
              "jNrf9CpmKXbWmc1mbNx40m6varUa+/fvd/4XM051dXUsIiKCeXp6svj4eLZixQrW0NBgs11vby/z\n",
              "8PBgP3/+ZIwxNj4+zpYvX846Ojpsth0ZGWEmk8lqGRkZsdnOZDIxAMxkMvGWLTrUq7C49uiT91ms\n",
              "rq7Gs2fPwBhDXFycZbw+la+vLyIjI3H58mWkp6fjxo0bWLVqlc2wBZi4V4xCoXDsfyohM8D95Gi9\n",
              "Xj/jS+fa2tqQnp6O/v5+KJVKlJWVQafTOVQoMHHRh6enJ0wmE5RKpcOfIwbUq7C4x+ihoaHo7Oy0\n",
              "u2f+lVarxfPnzx0qjBAhcQd9YGAA4eHhiIuLw5IlSyzrq6qqBC3MHoVCgaNHj0pimEO9CmvGQ5fM\n",
              "zEyUlpbiwoUL+PLlC5YuXWr1/u/ufU7IXDDjoEdGRqK+vt7mZ0LEwKG5Lpx/vxIy62Y8Rh8eHsab\n",
              "N28sd+ia/HnS+vXrXVIgIYKY6QF3tVrNAgMD7S6rV68W/gj/L9rb29nGjRtZaGgoi46OZk1NTS7/\n",
              "na6mVquZRqNher2e6fV6VlFRwRibvlexfA85OTlMrVYzAFYnFB3tzdm+uc+MzpaEhARWVlbGGGPs\n",
              "2rVrLDo6enYLEoBarbZ7Vnm6XsXyPTx69Ih1d3fb9Ohob872LYqg80wnEBN7QZ+uVzF+D1N7dLQ3\n",
              "IfoWxX1dppsJKXZpaWnQ6XTYs2cP+vr6pu1V7N+Do70J0bcogj5fzfQ5rMR53GdGZ4O/vz96enow\n",
              "NjaGhQsXgjGGrq4u0T984NfnsGo0mml7VSqVov4eHO1NiL5FsUefOhMSwLQzIcXid89hna5XsX8P\n",
              "jvYmSN9C/dHhaq2trSw2NpaFhoayqKgo1tjYONslOeXt27csPDyc6XQ6tm7dOpaYmMjevXvHGJu+\n",
              "V7F8D5mZmWzlypVMLpczX19fFhwczBhzvDdn++aepkuIGIli6EKIsyjoRBIo6EQSKOhEEijoRBIo\n",
              "6EQSKOhEEijoRBIo6EQSKOhEEijoRBL+B9mbrcpdxjtZAAAAAElFTkSuQmCC\n",
              "\">\n",
              "        \n",
              "      </div>\n",
              "      <script></script>\n",
              "      <script type=\"text/javascript\">\n",
              "        (() => {\n",
              "          const chartElement = document.getElementById(\"chart-48b09654-d7c6-4638-9a48-1b3ac7e722a4\");\n",
              "          async function getCodeForChartHandler(event) {\n",
              "            const chartCodeResponse =  await google.colab.kernel.invokeFunction(\n",
              "                'getCodeForChart', [\"chart-48b09654-d7c6-4638-9a48-1b3ac7e722a4\"], {});\n",
              "            const responseJson = chartCodeResponse.data['application/json'];\n",
              "            await google.colab.notebook.addCell(responseJson.code, 'code');\n",
              "          }\n",
              "          chartElement.onclick = getCodeForChartHandler;\n",
              "        })();\n",
              "      </script>\n",
              "      <style>\n",
              "        .colab-quickchart-chart-with-code  {\n",
              "            display: block;\n",
              "            float: left;\n",
              "            border: 1px solid transparent;\n",
              "        }\n",
              "\n",
              "        .colab-quickchart-chart-with-code:hover {\n",
              "            cursor: pointer;\n",
              "            border: 1px solid #aaa;\n",
              "        }\n",
              "      </style>"
            ]
          },
          "metadata": {}
        },
        {
          "output_type": "display_data",
          "data": {
            "text/plain": [
              "import numpy as np\n",
              "from google.colab import autoviz\n",
              "\n",
              "def histogram(df, colname, num_bins=20, figscale=1):\n",
              "  from matplotlib import pyplot as plt\n",
              "  df[colname].plot(kind='hist', bins=num_bins, title=colname, figsize=(8*figscale, 4*figscale))\n",
              "  plt.gca().spines[['top', 'right',]].set_visible(False)\n",
              "  plt.tight_layout()\n",
              "  return autoviz.MplChart.from_current_mpl_state()\n",
              "\n",
              "chart = histogram(_df_6, *['총매출액'], **{})\n",
              "chart"
            ],
            "text/html": [
              "      <div class=\"colab-quickchart-chart-with-code\" id=\"chart-49c1c203-cb21-474d-8f5f-6000ab469a64\">\n",
              "        <img src=\"data:image/png;base64,iVBORw0KGgoAAAANSUhEUgAAAM4AAABgCAYAAABVCU1aAAAAOXRFWHRTb2Z0d2FyZQBNYXRwbG90\n",
              "bGliIHZlcnNpb24zLjcuMSwgaHR0cHM6Ly9tYXRwbG90bGliLm9yZy/bCgiHAAAACXBIWXMAAA9h\n",
              "AAAPYQGoP6dpAAAMdUlEQVR4nO3de0xT5xsH8G+pS72kiOCtjtuqBXdhAkXCcBlD0z/wlwgU/lji\n",
              "Fg1o6zbiDFs2jZFtuojZppFtWVwXBtlc3OaouqxzlxqWsRG5iCi6gGILqKNUWUTc1grt+/uDcLZa\n",
              "bueUtgd5PslJ7Dmv7bfI47k9fSthjDEQQngJCXYAQqYiKhxCBKDCIUQAKhxCBKDCIUQAKhxCBKDC\n",
              "IUQAKhxCBKDCIUQAKhxCBJgR7ABk4iorK7Fnzx4sWLDAY/2NGzewa9euMbcB8Gn7xo0bJ/ndTG0S\n",
              "6lWbOiorKwHA65d4eP1423zZToXjiQ7VCBGAd+H88MMP/shByJTCu3B2796N+Ph4lJWV4fbt2/7I\n",
              "RIjo8S6c3377DV988QUuXLiAuLg4vPDCC/j999/9kY0Q0RJ0jpOUlISPP/4Y33//Pb799ls8/vjj\n",
              "0Gg0aGlpmex8hIiSoMIxm83Izs6GVqvFiy++CJvNBr1ej9zc3MnOR4go8b6P8/DDD2P+/PnYunUr\n",
              "tFotpFIpACA/Px/l5eWTHpAQMeJdOIcPH4ZarR5x28mTJ30ORMhUwPsGqMFgQH5+PsLDwwEAvb29\n",
              "MBqN2Lx5s18Ckn9R54B48C6cxMRENDc3e6xLSkrC2bNnJzMXIaLG++LASHXmcrkmJQwhUwXvwlEo\n",
              "FPjqq6+4x19++SUUCsWkhiJE7HgfqrW2tiI7OxtOpxMAMHv2bJw4cQIqlcovAQkRI0Hd0S6XC21t\n",
              "bQCA+Ph47pI0IdOFoMJxu92w2WwYHBzk1kVHR09qMELEjPc5TmVlJcLCwpCQkAC1Wg21Wo2UlBR/\n",
              "ZJuwsrKyoL4+mX543wDds2cPGhoaEB8f7488gnR2dvL+O7HbTaNu69j3P1/ikGmA9x5n/vz5oioa\n",
              "QoKBd+Hk5OTg4MGDsNvtuH37NrcQMp3wPlTbuXMnAKC4uBgSiQSMMUgkEroJSqYV3oXjdrv9kYOQ\n",
              "KUXQ53HOnDmDzz77DABw69YtdHd3e41xOBzIyclBXFwcVqxYAY1Gg/b2dq9xHR0dkEqlSExM5JYr\n",
              "V64IiUVIwPDe43z44Yf46KOPcOfOHTz33HPo7e3Fpk2bUF1d7TVWp9MhKysLEokEH3zwATZt2oSf\n",
              "f/7Za5xcLvdqHJ0sY109I0Qo3nscg8GA06dPIzQ0FACwdOlS3Lhxw2vczJkzsXbtWkgkEgBAWloa\n",
              "Ojo6fEtLiEjw3uPIZDLMmjXL80lmjP80ZWVlyM7OHnHbX3/9hZUrV8LlciEnJwc7d+4ctY3H6XRy\n",
              "fXLD6MIECTTee5wFCxbg0qVL3J6ksrJy3HabvXv3or29HaWlpV7bFAoFrl+/joaGBpjNZtTU1GD/\n",
              "/v2jPldpaSnmzp3rsdTX1/N9G4T4hHfhHDx4EOvXr0drayuioqLwzjvvjNny8u6778JoNOLkyZOY\n",
              "PXu213aZTIaFCxcCAMLDw1FQUICamppRn2/Hjh3o6+vzWFJTU/m+DUJ8wvtQbdmyZairq0NbWxsY\n",
              "Y2N2Rx84cABHjhyB2WxGWFjYiGPsdjvmzZuHBx54AE6nE0ajEUlJSaO+vkwmg0wm81hH3dkk0HgX\n",
              "TldXFwBgzpw5AIDr168D8O6OvnbtGl5++WUolUpkZmYCGPqlr6urQ0lJCZYsWYItW7bg119/RUlJ\n",
              "CaRSKQYHB7F69WruJishYsW7cNRqNdcx4HA48PfffyMiIgJ2u91jXGRk5IgfswaGptEdptVqodVq\n",
              "+cYgJKh4F869l56NRiPOnTs3aYEImQp8/poPrVYLk4luMpLphfce57+d0C6XC3V1ddQdTaYd3oUT\n",
              "FhbGneNIpVKoVCq89957/shGiE/8+WFF6o4mRAC/fpXh5cuXkZ6ejri4OKxcuRIXL14ccVx5eTlU\n",
              "KhWWLl2KzZs3Y2BgwJ+xCPEZ78IJCQmBVCr1WobX/5der4dOp8OlS5fw2muvjTj/sNVqxa5du1BT\n",
              "U4P29nb09PTAYDAIfkOEBIKgrzLcvn07Ojs70dnZiR07dmD37t3o7+/3uEhgt9vR2NiIZ599FgCQ\n",
              "l5eHq1even0m5+uvv8a6deuwePFiSCQSbNmyBUeOHPHxbRHiX7zPcY4dO4YzZ85wj9966y2o1Wqv\n",
              "u/1Xr16FQqHgOqclEgmio6PR1dWFZcuWceO6uroQExPDPY6NjeW6E0ZC3dFEDHgXTn9/P+x2O9eY\n",
              "abfb0d/fP+nBRlNaWoo333zTY93y5ctRXFzsNdblckFRX4/U1FRe/WzFxad8zjkel8uFegHZAuV+\n",
              "yDdWP8pY/8YxMTF46aWXxg7AeDp06BBbvHgxKygoYAUFBWzJkiXMYDB4jevp6WFyuZwNDAwwxhhz\n",
              "u91s0aJF7PLlyx7j3n77babX67nHJpOJrVq1atTXdzgcrK+vz2NxOBwjju3r62MAWF9fH9+36Xdi\n",
              "zsYY5RsP73McvV6Pn376iZsf4McffxzxS6UWLlyI5ORkHD58GABQVVWFyMhIj8M0YOjc55tvvoHN\n",
              "ZgNjDIcOHcIzzzwz6uvLZDKEhoZ6LPd2SxPid0Kq7Y8//mDV1dWMMcYGBgaY0+kccVxraytLS0tj\n",
              "KpWKqdVqdv78ecYYY4WFhezEiRPcOIPBwJRKJVMqlaygoIDdvXtXSCwvwf5faSxizsYY5RsP78I5\n",
              "evQoi46OZrGxsYwxxpqbm1lWVtakB5sMwf7hjkXM2RijfOPhfahWWlqKpqYm7oNpK1asEDR3cyDI\n",
              "ZDK8/vrrojyUE3M2gPKNh/fXfKSmpqK+vt7jez/pO0DJdMN7jyOXy9HT08NN1nHq1CnuG6gJmS54\n",
              "73EaGxuh0+lgsVjw2GOPwWq1wmQyITEx0U8RCREfXjdA3W43XC4XqqurUVtbC8YY0tPTR52Ig5D7\n",
              "Fa9DtZCQEOh0OsydOxdZWVlYu3ataItmop3ZwTDRebWDraKiAhKJBMePHw92FA9OpxNFRUVQqVRI\n",
              "SEjg+iEDiu9luLy8PK+7/2KUmZnJKioqGGNDl9BTUlKCG+g//vnnH2YymZjb7WaMMfb++++zjIyM\n",
              "4Ia6h9VqZU888QRLS0tjx44dC3YcD9u2bWNFRUXcz6+7uzvgGXgXTmZmJpszZw7TaDQsNzeXW8Rk\n",
              "ou0+YtHQ0MBiYmKCHYPjcrnYmjVrWGNjI8vIyBBV4dy5c4fJ5fKg31+a8DmOTqeDwWDAhg0bsG7d\n",
              "OsybN8+fO0KfTLQzWyzGmlc7GA4cOIBVq1ZBrVYHO4qXK1euIDw8HHv37oXZbMasWbPwxhtvYM2a\n",
              "NQHNMeHCaWxsBABs2LABycnJaGpq8luo6WR4Xu1Tp/zfkT0RFy5cQFVVFX755ZdgRxnR4OAgOjs7\n",
              "8cgjj2Dfvn04e/YsNBoNLl68iEWLFgUsB++PFQAYdaJBsYiKikJ3dzcGBwcxY8YMMMbQ1dU17uTw\n",
              "gTY8r7bZbB5xXu1gqKmpQUdHB1QqFQDAZrNBp9Ohu7sbzz//fJDTDc0YGxISgvXr1wMYuvn+0EMP\n",
              "oaWlJaCFM+FznOXLl7Pz58+zc+fOefx5eBGbjIwMj4sDarU6uIHusX//fpacnMz+/PPPYEcZk9jO\n",
              "cRhjTKPRMJPJxBhjzGKxsIiICHbt2rWAZpjwDdDY2FiuW+BeEokEFotlUgvaV21tbdi4cSN6e3sR\n",
              "GhqKiooKJCQkBDsWgKF5taOioqBUKiGXywH8O6+22Dz99NPYtm0bcnJygh2FY7FYUFhYiJs3byIk\n",
              "JAQlJSXIy8sLaAbenQOEED9PD0XI/YoKhxABqHAIEYAKhxABqHAIEYAKh0x5W7du5W6XNDc3jzu+\n",
              "paWFm6UpMTERsbGxvD+MKahzgBAxyc/Px6uvvoonn3xyQuMTEhI8CqyoqGjUe5SjoT0OmfKeeuop\n",
              "REZGeq1vaGjA6tWrkZKSgqSkJBw9etRrjMPhwOeff47CwkJer0l7HHJfunXrFnQ6Hb777jsoFArc\n",
              "vHkTycnJSE9Px4MPPsiNMxqNUCqVvD/6T4VD7ku1tbWwWCzIysryWN/W1uZROOXl5bz3NgAVDrlP\n",
              "Mcbw6KOPora2dtQxVqsVp0+fRlVVFe/np3Mccl9KT0+H1WqF2Wzm1jU3N+Pu3bvc408++QS5ubmC\n",
              "5s2gJk8y5en1ephMJthsNkREREAul6O9vR1NTU145ZVX0Nvbi4GBAURHR+P48eOYOXMm3G43YmJi\n",
              "8OmnnyIzM5P3a1LhECIAHaoRIgAVDiECUOEQIgAVDiECUOEQIgAVDiECUOEQIgAVDiECUOEQIgAV\n",
              "DiECUOEQIsD/ATzLcXKL3hq4AAAAAElFTkSuQmCC\n",
              "\">\n",
              "        \n",
              "      </div>\n",
              "      <script></script>\n",
              "      <script type=\"text/javascript\">\n",
              "        (() => {\n",
              "          const chartElement = document.getElementById(\"chart-49c1c203-cb21-474d-8f5f-6000ab469a64\");\n",
              "          async function getCodeForChartHandler(event) {\n",
              "            const chartCodeResponse =  await google.colab.kernel.invokeFunction(\n",
              "                'getCodeForChart', [\"chart-49c1c203-cb21-474d-8f5f-6000ab469a64\"], {});\n",
              "            const responseJson = chartCodeResponse.data['application/json'];\n",
              "            await google.colab.notebook.addCell(responseJson.code, 'code');\n",
              "          }\n",
              "          chartElement.onclick = getCodeForChartHandler;\n",
              "        })();\n",
              "      </script>\n",
              "      <style>\n",
              "        .colab-quickchart-chart-with-code  {\n",
              "            display: block;\n",
              "            float: left;\n",
              "            border: 1px solid transparent;\n",
              "        }\n",
              "\n",
              "        .colab-quickchart-chart-with-code:hover {\n",
              "            cursor: pointer;\n",
              "            border: 1px solid #aaa;\n",
              "        }\n",
              "      </style>"
            ]
          },
          "metadata": {}
        },
        {
          "output_type": "display_data",
          "data": {
            "text/plain": [
              "import numpy as np\n",
              "from google.colab import autoviz\n",
              "\n",
              "def histogram(df, colname, num_bins=20, figscale=1):\n",
              "  from matplotlib import pyplot as plt\n",
              "  df[colname].plot(kind='hist', bins=num_bins, title=colname, figsize=(8*figscale, 4*figscale))\n",
              "  plt.gca().spines[['top', 'right',]].set_visible(False)\n",
              "  plt.tight_layout()\n",
              "  return autoviz.MplChart.from_current_mpl_state()\n",
              "\n",
              "chart = histogram(_df_7, *['구매금액대'], **{})\n",
              "chart"
            ],
            "text/html": [
              "      <div class=\"colab-quickchart-chart-with-code\" id=\"chart-1f866fa8-1b80-4789-ae02-12e23b6e1d8f\">\n",
              "        <img src=\"data:image/png;base64,iVBORw0KGgoAAAANSUhEUgAAALoAAABgCAYAAACqq2i4AAAAOXRFWHRTb2Z0d2FyZQBNYXRwbG90\n",
              "bGliIHZlcnNpb24zLjcuMSwgaHR0cHM6Ly9tYXRwbG90bGliLm9yZy/bCgiHAAAACXBIWXMAAA9h\n",
              "AAAPYQGoP6dpAAAJK0lEQVR4nO3dXUhTcR8H8O9cNqyc1tSw0pm6zag13xLTK6+iHlDTiyjCtEDJ\n",
              "0MSgHonoxcCuwrqQsAvtBdJejKCooJCKXtSmZSq+RU9KmZrmklLL+X8uxOHaMv/bWXo6vw8ccmeH\n",
              "+fuNb4e/5/zPOTLGGAMh/zi3uS6AkL+Bgk4kgYJOJIGCTiSBgk4kgYJOJIGCTiSBgk4kgYJOJIGC\n",
              "TiRhwVwX8K8pLy9HYWEhfH19rdb39/fjyJEjM74HwKXvp6enO92fWMlorouwysvLAcAmVFPr//Se\n",
              "K9+XctBp6EIkgYJOJIGCTiSBgk4kgYJOJIGCTiSBgk4kgYJOJIH7hNH9+/exadMmV9UjenRmdH7i\n",
              "Dnp8fDw+f/6M7OxsZGRkQKlUuqo2QgTDPXR5+vQpKioq0NTUBK1Wi+zsbLS0tLiiNkIE49Rcl1ev\n",
              "XiExMREfP35EQkICTp8+Db1eL2R9hAjCoT9GHzx4gKSkJKSkpGDfvn349OkTsrKysHXrVqHrI0QQ\n",
              "3Hv0NWvWwMfHB7m5uUhJSYFcLre8t3nzZty9e1fwIglxFnfQjUYjoqKiXFUPIS7BPXQxGo0YHBy0\n",
              "vB4YGMD58+cFLQoAzpw5I/hnEuniDnpJSQmWLVtmea1SqVBSUiJoUQDw/v17wT+TSBf3pXT2Rjpm\n",
              "s1mQYmYj6L937K7/36n//LUaiPhw79H9/f1x9epVy+vKykr4+/sLWhQhQuPeoxcXFyMpKQkHDx4E\n",
              "ACxatAi3bt0SvDBChMQd9LCwMLS0tKCtrQ0AoNPprA4xEjIfOXS7C5lMBm9vb4yPj+PDhw8AgMDA\n",
              "QEELI0RI3EEvLy9Hbm4u3N3d4eY2OcSXyWTo6+sTvDhChMId9MLCQtTV1UGn0/1x26CgICgUCnh4\n",
              "eAAACgoKsG3bNv4qCXESd9B9fHxmFfIplZWVCA8P5/01hAiK+/BicnIyiouL0dfXh69fv1oWQuYz\n",
              "7j364cOHAQD5+fmQyWRgjEEmk/32pFFaWhoYY4iJicGpU6dsrn4BgLGxMYyNjVmt+5snoci/j3uP\n",
              "PjExYVnMZrPlX3seP36MxsZG1NfXw8fHB7t27bK7XVFREby8vKyW2tpa3tII+S2H5qMbjUZcunQJ\n",
              "ADA0NISenh67200dcnR3d0deXh6ePHlid7uCggKYTCarJSYmxpHSCLHLoUldu3fvxrFjxwBMzl7c\n",
              "sWOHzXbfvn3D0NCQ5fWVK1cQERFh9zMVCgWUSqXVQiehiJC4x+ilpaV48eIF4uLiAAAhISHo7++3\n",
              "2a63txepqakwm81gjCE4OBgXL150vmJCHMAd9OnHxS0fssD2Y4KDg9HQ0OB4ZYQIiHvo4uvri/b2\n",
              "dshkMgCTZ0rp9D+Z7xyavbh9+3a0trYiICAASqUSt2/fdkVthAiGO+ihoaGoqalBW1sbGGM0e5GI\n",
              "AnfQu7q6AACLFy8GAJq9SESBO+hRUVGWM6Kjo6P4/v07VCoVzV4k8xp30H89lFhVVYXXr18LVhAh\n",
              "ruD0baNTUlJw5479C5YJmS+49+jTZyqazWbU1NTQ7EUy73EH3dvb2zJGl8vl0Gg0OHv2rCtqI0Qw\n",
              "3EGfmJhwRR2EuBQ92oVIAvce3c3NzXL6f7o/XYBByFziDvqJEycwMjKCvXv3AgDOnTsHDw8P5OXl\n",
              "CV0bIYLhDvrNmzdhNBotr0+ePImoqCjLJXaEzEfcY/Th4WGrs6B9fX0YHh4WtChChMa9Rz9w4AAM\n",
              "BgO2bNkCALh3757laiNC5ivuoGdlZSE+Ph7V1dUAJu8GsHbtWsELI/+mubrtt0OHF1UqFfR6PXJy\n",
              "cqDT6fDjxw+723V0dCAuLg5arRYbNmxAc3OzU8US4ijuoF+/fh2xsbHIyMgAADQ3NyM5OdnutllZ\n",
              "WcjMzER7ezsOHTok6ScXk7nFHfSioiLU19fD29sbAGAwGOw+hqWvrw8vX77Ezp07AQCpqano7u5G\n",
              "Z2encxUT4gDuMbpcLodKpbJat3DhQpvturu74e/vb7lwWiaTITAwEF1dXQgNDbXalu7URVyNO+ie\n",
              "np7o7e21nB19+PCh1cO7HFFUVITjx49brQsLC0N+fr7VOrPZDP/aWsTExNhcvpef/9CpGuYbs9mM\n",
              "2t/0KmYpdtaZzWZs3HjSbq9qtRr79+93/hczTnV1dSwiIoJ5eXmx+Ph4tmLFCtbQ0GCzXW9vL/P0\n",
              "9GQ/f/5kjDE2MTHBli9fzjo6Omy2HR0dZSaTyWoZHR212c5kMjEAzGQy8ZYtOtSrsLj26FP3Wayu\n",
              "rsazZ8/AGENcXJxlvD6dn58fIiMjcfnyZaSnp+PGjRtYtWqVzbAFmLxXjEKhcOx/KiGzwP3kaIPB\n",
              "MOtL59ra2pCeno6BgQEolUqUlZVBr9c7VCgwedGHl5cXTCYTlEqlw58jBtSrsLjH6BqNBp2dnXb3\n",
              "zL/S6XR4/vy5Q4URIiTuoA8ODiI8PBxxcXFYsmSJZX1VVZWghdmjUChw9OhRSQxzqFdhzXrokpmZ\n",
              "idLSUly4cAFfvnzB0qVLrd7/3b3PCZkPZh30yMhI1NfX2/xMiBg4NNeF8+9XQubcrMfoIyMjePPm\n",
              "jeUOXVM/T1m/fr1LCiREELM94K5Wq1lQUJDdZfXq1cIf4f9Fe3s727hxI9NoNCw6Opo1NTW5/He6\n",
              "mlqtZlqtlhkMBmYwGFhFRQVjbOZexfI95OTkMLVazQBYnVB0tDdn++Y+MzpXEhISWFlZGWOMsWvX\n",
              "rrHo6Oi5LUgAarXa7lnlmXoVy/fw6NEj1t3dbdOjo70527cogs4znUBM7AV9pl7F+D1M79HR3oTo\n",
              "WxT3dZlpJqTYpaWlQa/XY8+ePejv75+xV7F/D472JkTfogj6v2q2z2ElzuM+MzoXAgIC0NPTg/Hx\n",
              "cSxYsACMMXR1dYn+4QO/PodVq9XO2KtSqRT19+Bob0L0LYo9+vSZkABmnAkpFr97DutMvYr9e3C0\n",
              "N0H6FuqPDldrbW1lsbGxTKPRsKioKNbY2DjXJTnl7du3LDw8nOn1erZu3TqWmJjI3r17xxibuVex\n",
              "fA+ZmZls5cqVTC6XMz8/PxYSEsIYc7w3Z/vmnqZLiBiJYuhCiLMo6EQSKOhEEijoRBIo6EQSKOhE\n",
              "EijoRBIo6EQSKOhEEijoRBIo6EQS/g94e7zKHHsPogAAAABJRU5ErkJggg==\n",
              "\">\n",
              "        \n",
              "      </div>\n",
              "      <script></script>\n",
              "      <script type=\"text/javascript\">\n",
              "        (() => {\n",
              "          const chartElement = document.getElementById(\"chart-1f866fa8-1b80-4789-ae02-12e23b6e1d8f\");\n",
              "          async function getCodeForChartHandler(event) {\n",
              "            const chartCodeResponse =  await google.colab.kernel.invokeFunction(\n",
              "                'getCodeForChart', [\"chart-1f866fa8-1b80-4789-ae02-12e23b6e1d8f\"], {});\n",
              "            const responseJson = chartCodeResponse.data['application/json'];\n",
              "            await google.colab.notebook.addCell(responseJson.code, 'code');\n",
              "          }\n",
              "          chartElement.onclick = getCodeForChartHandler;\n",
              "        })();\n",
              "      </script>\n",
              "      <style>\n",
              "        .colab-quickchart-chart-with-code  {\n",
              "            display: block;\n",
              "            float: left;\n",
              "            border: 1px solid transparent;\n",
              "        }\n",
              "\n",
              "        .colab-quickchart-chart-with-code:hover {\n",
              "            cursor: pointer;\n",
              "            border: 1px solid #aaa;\n",
              "        }\n",
              "      </style>"
            ]
          },
          "metadata": {}
        },
        {
          "output_type": "display_data",
          "data": {
            "text/plain": [
              "<google.colab._quickchart_helpers.SectionTitle at 0x7d9617a9cc40>"
            ],
            "text/html": [
              "<h4 class=\"colab-quickchart-section-title\">2-d distributions</h4>\n",
              "<style>\n",
              "  .colab-quickchart-section-title {\n",
              "      clear: both;\n",
              "  }\n",
              "</style>"
            ]
          },
          "metadata": {}
        },
        {
          "output_type": "display_data",
          "data": {
            "text/plain": [
              "import numpy as np\n",
              "from google.colab import autoviz\n",
              "\n",
              "def scatter_plots(df, colname_pairs, figscale=1, alpha=.8):\n",
              "  from matplotlib import pyplot as plt\n",
              "  plt.figure(figsize=(len(colname_pairs) * 10 * figscale, 10 * figscale))\n",
              "  for plot_i, (x_colname, y_colname) in enumerate(colname_pairs, start=1):\n",
              "    ax = plt.subplot(1, len(colname_pairs), plot_i)\n",
              "    df.plot(kind='scatter', x=x_colname, y=y_colname, s=(32 * figscale), alpha=alpha, ax=ax)\n",
              "    ax.spines[['top', 'right',]].set_visible(False)\n",
              "  plt.tight_layout()\n",
              "  return autoviz.MplChart.from_current_mpl_state()\n",
              "\n",
              "chart = scatter_plots(_df_8, *[[['고객ID', '이탈여부'], ['이탈여부', '총매출액'], ['총매출액', '구매금액대'], ['구매금액대', '방문빈도']]], **{})\n",
              "chart"
            ],
            "text/html": [
              "      <div class=\"colab-quickchart-chart-with-code\" id=\"chart-28850bf1-4e0c-4857-aa09-fc29b14cbbda\">\n",
              "        <img src=\"data:image/png;base64,iVBORw0KGgoAAAANSUhEUgAAA+MAAAD2CAYAAAC9d1ZlAAAAOXRFWHRTb2Z0d2FyZQBNYXRwbG90\n",
              "bGliIHZlcnNpb24zLjcuMSwgaHR0cHM6Ly9tYXRwbG90bGliLm9yZy/bCgiHAAAACXBIWXMAAA9h\n",
              "AAAPYQGoP6dpAAArrUlEQVR4nO3dfXBUVZ7/8U+nO+lAIIkJ8hiSmEnA4UHCUyqigojugmUJODBU\n",
              "zSBmgAnyW4pRtIRUaYm7W2StsTKrblnoFDC6TLGgIEuNjs8gUqiBdSKaHYFAQoIQkQDBBNJJd87v\n",
              "DyRLSxICdN97u/N+Vd1S7jmdfO/pfO/p731qlzHGCAAAAAAAWCbG7gAAAAAAAOhuKMYBAAAAALAY\n",
              "xTgAAAAAABajGAcAAAAAwGIU4wAAAAAAWIxiHAAAAAAAi1GMAwAAAABgMYpxAAAAAAAsRjEOAAAA\n",
              "AIDFKMYBRIWlS5cqMzNTLpdLZWVlV+z/1VdfKTc3t23JzMxUSkpK+AMFAAAAJHnsDgAAQmHWrFl6\n",
              "4okndPvtt3ep/8iRI4OK9iVLlsjlcoUpOgAAACAYZ8YBRIWJEycqLS3tsvV79uzRXXfdpXHjxmn0\n",
              "6NF6/fXXL+vT1NSkP//5z1qwYIEVoQIAAACcGQcQvc6cOaPCwkK9/fbbGjBggE6ePKkxY8ZowoQJ\n",
              "GjRoUFu/LVu2KCsrS7m5ufYFCwAAgG6FYhxA1Nq9e7cOHz6sadOmBa3fv39/UDG+Zs0azooDAADA\n",
              "UhTjAKKWMUbDhw/X7t27O+xTWVmpzz77TJs3b7YwMgAAAHR33DMOIGpNmDBBlZWV+uCDD9rWlZWV\n",
              "qbm5ue3fa9eu1cyZM5WcnGxDhAAAAOiuXMYYY3cQAHC9Fi1apLfeeku1tbVKTU1V7969VVFRoS++\n",
              "+EKPP/646urq1NLSovT0dG3dulXx8fFqbW1VRkaGXnvtNU2ePNnuTQAAAEA3QjEOAAAAAIDFuEwd\n",
              "AAAAAACLUYwDAAAAAGAxnqYOwHZ1dXWaMmVK27/PnTunw4cP68SJE0pJSbExMgAAACA8utWZ8eef\n",
              "f97uEAC0IzU1VWVlZW1LYWGhpk2b1uVCnNwGohO5DUQnchu4oFsV40eOHLE7BABdsGbNGi1YsKDL\n",
              "/cltIDqR20B0IreBC7hMHYCj7N69W6dPn9Z9993XbrvP55PP5wtaFwgErAgNAAAACJludWYcgPOt\n",
              "WbNG8+bNk8fT/rHC4uJiJSUlBS2lpaUWRwkAAABcn7AW40uXLlVmZqZcLpfKysra1h88eFATJkzQ\n",
              "kCFDNH78eJWXl193G4DI19DQoE2bNmn+/Pkd9ikqKlJ9fX3QkpeXZ2GUQPRi3gaiE7kNOFNYi/FZ\n",
              "s2Zp165dysjICFq/aNEiFRYW6sCBA1q+fLkKCgquuw2IFs3+VtXWN6nZ32p3KJbbuHGjRo0apZtv\n",
              "vrnDPl6vV4mJiUGL2+3usH93Hk/gakXSvE1uA10XSbkNOIUV84zLGGPC9tN/lJmZqa1btyo3N1cn\n",
              "TpxQdna2Tp06JY/HI2OMBgwYoF27dikxMfGa2rKzs7sUx7Jly1RSUhLmrQWuXVnNGa3cVq66Rp9S\n",
              "E7xaef9w5Q5Otjssy0yYMEG//e1v9Zvf/OaqXtdRbnf38QSuldPnbXIbuDZOz23AKayaZyy/Z7ym\n",
              "pkYDBgxoux/U5XIpPT1d1dXV19zWHp/Pp7NnzwYtPOQJTtbsb9XKbeU6evqc4twxOnr6nFZuK+9W\n",
              "Z31279591YV4RxhPIDScNm+T20BoOC23Aaewcp6J2ge48ZAnRJpTjc2qa/QpqUesesZ5lNQjVnWN\n",
              "Pp1qbLY7tIjEeAKRpavzNrkNRBY+kyPSWDnPWF6MDx48WMePH5ff75ckGWNUXV2t9PT0a25rDw95\n",
              "QqRJSYhTaoJX9edbdK7Zr/rzLUpN8ColIc7u0CIS4wmEhtPmbXIbCA2n5TbgFFbOM5YX43379tWY\n",
              "MWO0fv16SdLmzZuVlpam7Ozsa25rz9U+5AmwW5wnRivvH660G3qqOdCqtBt6auX9wxXnidoLWMKK\n",
              "8QRCw2nzNrkNhIbTchtwCkvnGRNGhYWFZtCgQcbtdpu+ffuan/3sZ8YYY7755huTn59vcnJyzNix\n",
              "Y82+ffvaXnOtbV3x6KOPhmbDgDDytQTM8TPnja8lYHcoEaOz3GY8ga6LpHmb3Aa6LpJyG3AKK+YZ\n",
              "S56m7hQ8uRGITuQ2EJ3IbSA6kdvABVzTBQAAAACAxSjGAQAAAACwGMU4AAAAAAAWoxgHAAAAAMBi\n",
              "FOMAAAAAAFiMYhwAAAAAAItRjAMAAAAAYDGKcQAAAAAALEYxDgAAAACAxSjGAQAAAACwGMU4AEfw\n",
              "+XxasmSJcnJyNHLkSM2dO9fukAAAAICw8dgdAABI0ooVK+RyuXTgwAG5XC7V1tbaHRIAAAAQNhTj\n",
              "AGzX2NioNWvW6OjRo3K5XJKk/v372xwVAAAAED5cpg7AdocOHVJKSopWrVqlcePG6Y477tCHH37Y\n",
              "bl+fz6ezZ88GLYFAwOKIAQAAgOtDMQ7Adn6/X0eOHNGwYcO0d+9evfDCC5ozZ46+++67y/oWFxcr\n",
              "KSkpaCktLbUhagAAAODaUYwDsF16erpiYmL061//WpI0evRo3XTTTfrqq68u61tUVKT6+vqgJS8v\n",
              "z+qQAQAAgOtCMQ7Adn369NGUKVP07rvvSpIqKytVWVmpn//855f19Xq9SkxMDFrcbrfVIQMAAADX\n",
              "hQe4AXCE1atXa8GCBVq+fLliYmL08ssva9CgQXaHBQAAAIQFxTgAR8jKytL27dvtDgMAAACwBJep\n",
              "AwAAAABgMYpxAAAAAAAsRjEOAAAAAIDFKMYBAAAAALAYxTgAAAAAABazrRh/++23NWbMGOXm5mrE\n",
              "iBF69dVXJUknTpzQ1KlTlZOToxEjRmjnzp1tr+msDQAAhA/zNhCdyG3APrZ8tZkxRnPnztWOHTt0\n",
              "yy23qKqqSjfffLMeeOABrVixQvn5+XrnnXe0Z88ezZw5U5WVlYqNje20DQAAhAfzNhCdyG3AXrad\n",
              "GXe5XDpz5owk6ezZs0pNTZXX69WmTZv08MMPS5LGjx+vgQMH6uOPP5akTtsAAED4MG8D0YncBuxj\n",
              "y5lxl8uljRs36oEHHlBCQoJOnz6tLVu26IcfflBLS4v69+/f1jczM1PV1dWqq6vrsK09Pp9PPp8v\n",
              "aF0gEAjPBgEAEMWYt4HoRG4D9rLlzLjf79e//uu/asuWLTpy5Ig+/PBDPfjgg/L7/SH7HcXFxUpK\n",
              "SgpaSktLQ/bzAQDoLpi3gehEbgP2sqUYLysr07FjxzRx4kRJFy5vSUtL0759++TxeFRbW9vWt6qq\n",
              "Sunp6UpNTe2wrT1FRUWqr68PWvLy8sK7YQAARCHmbSA6kduAvWwpxgcPHqzjx4/r73//uySpoqJC\n",
              "hw4d0tChQzV79mytXr1akrRnzx59++23mjRpkiR12vZTXq9XiYmJQYvb7bZg6wAAiC7M20B0IrcB\n",
              "e9lyz3i/fv30yiuv6Je//KViYmLU2tqq//iP/1B6erqeffZZPfjgg8rJyVFcXJzWr1/f9mTGztoA\n",
              "AEB4MG8D0YncBuzlMsYYu4OwyrJly1RSUmJ3GABCjNwGohO5DUQnchu4wLavNgMAAAAAoLuiGAfg\n",
              "CJmZmRo6dKhyc3OVm5urjRs32h0SAAAAEDa23DMOAO3ZuHGjcnNz7Q4DAAAACDvOjAMAAAAAYDHO\n",
              "jANwjHnz5skYo7y8PP3bv/2bbrzxxsv6+Hw++Xy+oHWBQMCqEAEAAICQ4Mw4AEfYuXOn9u3bpy++\n",
              "+EJ9+vTRQw891G6/4uJiJSUlBS2lpaUWRwsAAABcH4pxAI6Qnp4uSYqNjdUjjzyiTz75pN1+RUVF\n",
              "qq+vD1ry8vKsDBUAAAC4blymDsB2jY2NamlpUXJysiRpw4YNGj16dLt9vV6vvF5v0Dq32x3uEAEA\n",
              "AICQohgHYLvvvvtOv/jFLxQIBGSMUVZWll577TW7wwIAAADChmIcgO2ysrL0t7/9ze4wAAAAAMtw\n",
              "zzgAAAAAABajGAcAAAAAwGIU4wAAAAAAWIxiHAAAAAAAi1GMAwAAAABgMYpxAAAAAAAsRjEOAAAA\n",
              "AIDFKMYBAAAAALAYxTgAAAAAABajGAcAAAAAwGIU4wAAAAAAWIxiHAAAAAAAi1GMAwAAAABgMYpx\n",
              "AAAAAAAsZlsx7vP5tGTJEuXk5GjkyJGaO3euJOngwYOaMGGChgwZovHjx6u8vLztNZ21AQCA8GHe\n",
              "BqITuQ3Yx7ZifMWKFXK5XDpw4IC++uorPffcc5KkRYsWqbCwUAcOHNDy5ctVUFDQ9prO2gBEh3Xr\n",
              "1snlcmnr1q12hwLgEszbQHQitwH7uIwxxupf2tjYqAEDBujo0aNKTExsW3/ixAllZ2fr1KlT8ng8\n",
              "MsZowIAB2rVrlxITEztsy87O7tLvXbZsmUpKSsK1WQCuU1VVlX71q1/JGKPly5drxowZXXoduQ2E\n",
              "F/M2EJ3IbcBetpwZP3TokFJSUrRq1SqNGzdOd9xxhz788EPV1NRowIAB8ng8kiSXy6X09HRVV1d3\n",
              "2tYen8+ns2fPBi2BQMCybQRwdVpbW7Vw4UK9+OKL8nq9docD4BLM20B0IrcBe9lSjPv9fh05ckTD\n",
              "hg3T3r179cILL2jOnDny+/0h+x3FxcVKSkoKWkpLS0P28wGEVklJiW677TaNHTu2035M6oD1mLeB\n",
              "6ERuA/aypRhPT09XTEyMfv3rX0uSRo8erZtuuklHjhzR8ePH23YAxhhVV1crPT1dgwcP7rCtPUVF\n",
              "Raqvrw9a8vLyrNlAAFfl66+/1ubNm/Xkk09esS+TOmA95m0gOpHbgL08dvzSPn36aMqUKXr33Xd1\n",
              "7733qrKyUpWVlbrttts0ZswYrV+/XgUFBdq8ebPS0tLa7j/prO2nvF7vZZe6ut3usG8bgKv3ySef\n",
              "qKqqSjk5OZKk2tpaFRYW6vjx41q8eHFQ36KiIi1btixo3VNPPWVZrEAk+Jd/+RdVVlZ22G6Mkcfj\n",
              "0R//+Mcu/TzmbSA6kduAzYxNDh06ZO68804zYsQIc8stt5g33njDGGPMN998Y/Lz801OTo4ZO3as\n",
              "2bdvX9trOmvrikcffTSk2wAgPCZNmmTefPPNLvcnt4Fg06ZNu2KfqVOnXtXPZN4GohO5DdjHljPj\n",
              "kpSVlaXt27dftn7o0KH69NNP231NZ20AAOAC04UvSnG5XFf1M5m3gehEbgP26VIxPnHixE6/qsAY\n",
              "o+3bt6uqqipUcQGIUKHYX+zYsSP0gQHdyNUW2gAiA5/JgejSpWI8ISFBa9eu7bTPtGnTQhIQgMjG\n",
              "/gIAgPBgjgWiS5eK8a4cYecoPACJ/QXgBD/88IPmz5/f7uXqLpdLxhiVl5fbEBmA68EcC0QX2+4Z\n",
              "BwAA4fHJJ5/YHQIAALiCLhXjXXkQTFf6AIh+7C8A+3XlvtIdO3Z0+vVnAJyHORaILl0qxm+99VbN\n",
              "nz+/0z5paWkhCQhAZGN/AdiP+0qB6MQcC0SXLhXjY8eOVUZGRqd93G53SAICENnYXwD2475SIDox\n",
              "xwLRpUvF+L//+7/rqaee6vSylxUrVmju3LkhCwxAZGJ/AQBAeDDHAtGlS8W4x+PRxIkTO+2TnJwc\n",
              "ingARDj2F4D9uK8UiE7MsUB04avNAIQU+wvAftxXCkQn5lgguvDVZgAARBnuKwUAwPm6VIw3NTXp\n",
              "tdde67DdGKNjx46FLCgAkYv9BWA/7isFohNzLBBdulSMP/fcc2poaOi0z4svvhiSgABENvYXgP24\n",
              "rxSITsyxQHTpUjG+du1aNTY2dtqnrq5Od9xxR0iCAhC52F8A9uO+UiA6MccC0aVLxfjhw4f19ttv\n",
              "d9pn2rRpIQkIQGRjfwEAQHgwxwLRJWQPcOMIO4CuYn8BhBf3lQLdF3MsEDl4mjoAR/iHf/gH1dbW\n",
              "KiYmRr1799YLL7yg0aNH2x0WEJG4rxQAAOejGAfgCJs2bWp7oNSbb76pgoICffnll/YGBUQo7isF\n",
              "AMD5ulSMNzc3a/78+Z322b9/f0gCAhDZrnV/cemTnevr67nMDrgO3FcKRCc+kwPRpUvFeEtLizIy\n",
              "MjrtExsbG5KAAES269lfzJs3T9u3b5ekDgsJn88nn88XtC4QCFxDpED3xgEvIPLwmRyILl0qxnv2\n",
              "7Kmnn3660z6fffZZSAICENmuZ39x8YFTr776qpYvX95uQV5cXKxnnnkmaF1+fv41RgsAQOTgMzkQ\n",
              "XWK60onvKwXQVaHYXzz00EPavn276urqLmsrKipSfX190JKXl3fN8QIAECn4TA5EFx7gBsB2Z86c\n",
              "0blz5zRw4EBJ0tatW5WamqqUlJTL+nq9Xnm93qB1brfbkjiBSMF9pQAAOF+XivFAIKDq6uoO240x\n",
              "ampquqYA1q1bp/nz5+vNN9/UjBkzdOLECc2bN0+HDh2S1+vVSy+9pIkTJ0pSp20AnOFa9hf19fWa\n",
              "PXu2zp8/r5iYGN144436y1/+wtF94BqF875S5m3APuH8TA7Ael0qxmfNmqV169Z12mfy5MlX/cur\n",
              "qqr0xz/+Meh+zxUrVig/P1/vvPOO9uzZo5kzZ6qyslKxsbGdtgFwhmvZX2RkZKi0tDScYQHdSrju\n",
              "K2XeBuwVrs/kEgfaADt0qRj/7W9/G/Jf3NraqoULF+rFF1/UY4891rZ+06ZNqqiokCSNHz9eAwcO\n",
              "1Mcff6y777670zYAzhCO/QWAqxOO+0qZtwH7hWuO5UAbYI8uPcAtHEpKSnTbbbdp7Nixbevq6urU\n",
              "0tKi/v37t63LzMxUdXV1p23t8fl8Onv2bNDC1x8BAHBtmLeB6HTpgbZLn8myadMmPfzww5KCD6Zd\n",
              "qQ1A19nyALevv/5amzdv1s6dO8P2O/j6IwBAdxXq+0qZt4HoZcWBNp/PF7SOA23ABbYU45988omq\n",
              "qqqUk5MjSaqtrVVhYaGeeeYZeTwe1dbWtiV4VVWV0tPTlZqa2mFbe4qKirRs2bKgdU899VQYtwoA\n",
              "AGcI9X2lzNtAdOJAG2AvW4rxxYsXa/HixW3/vvPOO/XII49oxowZ+vzzz7V69WqtXLlSe/bs0bff\n",
              "fqtJkyZJkmbPnt1h20/x9UcAgO4q1PeVMm8D0YkDbYC9HPc9488++6wefPBB5eTkKC4uTuvXr297\n",
              "GERnbQAAwHrM20Dk4kAbYC9HFOM7duxo+/9+/frpvffea7dfZ20AAMAazNtA9ONAGxB+jijGAQAA\n",
              "ANiLA22AtWz7ajMAAAAAALorinEAAAAAACxGMQ4AAAAAgMUoxgEAAAAAsBjFOAAAAAAAFqMYBwAA\n",
              "AADAYhTjAAAAAABYjGIcAAAAAACLUYwDsF1TU5NmzJihIUOGaNSoUbrnnntUUVFhd1gAAABA2FCM\n",
              "A3CEwsJC7d+/X19++aWmT5+uhQsX2h0SAAAAEDYU4wBsFx8fr3vvvVcul0uSlJ+fr6qqKnuDAgAA\n",
              "AMLIY3cAAPBTzz//vKZPn95um8/nk8/nC1oXCASsCAsAAAAIGc6MA3CUVatWqaKiQsXFxe22FxcX\n",
              "KykpKWgpLS21OEoAAADg+lCMA3CM5557Tlu2bNFf//pX9ezZs90+RUVFqq+vD1ry8vIsjhQAAAC4\n",
              "PlymDsARSkpKtGHDBn3wwQdKTk7usJ/X65XX6w1a53a7wxwdAAAAEFoU4wBsd/ToUT322GPKysrS\n",
              "5MmTJV0ouj///HObIwMAAADCg2IcgO3S0tJkjLE7DAAAAMAy3DMOAAAAAIDFKMYBAAAAALAYxTgA\n",
              "AAAAABajGAcAAAAAwGIU4wAAAAAAWIxiHAAAAAAAi9lSjDc1NWnGjBkaMmSIRo0apXvuuUcVFRWS\n",
              "pBMnTmjq1KnKycnRiBEjtHPnzrbXddYGAADCg3kbiE7kNmAv286MFxYWav/+/fryyy81ffp0LVy4\n",
              "UJK0YsUK5efn6+DBg1q3bp1+9atfqaWl5YptAAAgfJi3gehEbgP2saUYj4+P17333iuXyyVJys/P\n",
              "V1VVlSRp06ZNevjhhyVJ48eP18CBA/Xxxx9fsQ0AAIQH8zYQnchtwF4euwOQpOeff17Tp09XXV2d\n",
              "Wlpa1L9//7a2zMxMVVdXd9rWHp/PJ5/PF7QuEAiEZwMAAOhGmLeB6ERuA9ay/QFuq1atUkVFhYqL\n",
              "i0P6c4uLi5WUlBS0lJaWhvR3AADQ3TBvA9GJ3AasZ2sx/txzz2nLli3661//qp49eyo1NVUej0e1\n",
              "tbVtfaqqqpSent5pW3uKiopUX18ftOTl5YV9mwAAiFbM20B0IrcBe9hWjJeUlGjDhg16//33lZyc\n",
              "3LZ+9uzZWr16tSRpz549+vbbbzVp0qQrtv2U1+tVYmJi0OJ2u8O7UQAARCnmbSA6kduAfWy5Z/zo\n",
              "0aN67LHHlJWVpcmTJ0u6kKiff/65nn32WT344IPKyclRXFyc1q9fr9jYWEnqtA0AAIQH8zYQncht\n",
              "wF62FONpaWkyxrTb1q9fP7333ntX3QYAAMKDeRuITuQ2YC/bH+AGAJK0dOlSZWZmyuVyqayszO5w\n",
              "AACATZr9raqtb1Kzv9XuUICwohgH4AizZs3Srl27lJGRYXcoAADAJmU1Z/TLlz/V7Jd365cvf6qy\n",
              "mjN2hwSEDcU4AEeYOHGi0tLS7A4DAADYpNnfqpXbynX09DnFuWN09PQ5rdxWzhlyRC1b7hkHgGvl\n",
              "8/nk8/mC1gUCAZuiAQAAoXKqsVl1jT4l9YhVz7gLZUpdo0+nGpvVPyne5uiA0OPMOICIUlxcrKSk\n",
              "pKCltLTU7rAAAMB1SkmIU2qCV/XnW3Su2a/68y1KTfAqJSHO7tCAsKAYBxBRioqKVF9fH7Tk5eXZ\n",
              "HRYAALhOcZ4Yrbx/uNJu6KnmQKvSbuiplfcPV5yHkgXRicvUAUQUr9crr9cbtM7tdtsUDQAACKXc\n",
              "wcnatOhWnWpsVkpCHIU4ohp/3QAcYdGiRUpLS9PRo0f1j//4j8rOzrY7JAAAYIM4T4z6J8VTiCPq\n",
              "cWYcgCO8/PLLdocAAAAAWIbDTQCiWrO/VbX1TXwtCgAAAByFM+MAolZZzRmt3FauukafUhO8Wnn/\n",
              "cOUOTrY7LAAAAIAz4wCiU7O/VSu3lavm1DmZVqOaU+e0cls5Z8gBAADgCJwZBxCVTjU2q/rUOZ1u\n",
              "bJaR5JJkflzfPyne5ugAAADQ3XFmHEBU8rpjdObchUJculCInznXLK+b3R4AAADsx6dSAFGp5sw5\n",
              "SRfOiF9cLl0PAAAA2IliHEBUyurTS/GxbhlJMa4LZ8bjY93K6tPL7tAAAAAAinEA0alXvEfzb79J\n",
              "MS4pYC4U5PNvv0m94nlUBgAAAOxHMQ4gKjX7W7Xr4End0DNOacnxuqFnnHYdPMnT1AEAAOAIFOMA\n",
              "otKpxmbVNfqU1MOjXvGxSurhUV2jT6cam+0ODQAAAOCrzQBEp5SEOPWIdevw940yMnLJpawbE5SS\n",
              "EGd3aAAAAABnxgFEL/Pj95q5fnyW+sV/AwAAAHajGAcQlU41NutsU8uPOzmjGElnm1q4TB0AAAdr\n",
              "aPJr39Ezamjy2x0KEHZcpg4gKvXyevRDk18trUYet0stAaMfmvzq5WW3BwCAE23aW6On//tr+fyt\n",
              "8npi9Mz0EfrluMF2hwWEDWfGAUSlBp9fveI9ivNc2M3FeWLUK96jBh9H2gEAcJqGJr+efPMrnW9p\n",
              "VauRzre06sk3v+IMOaJaxBXjBw8e1IQJEzRkyBCNHz9e5eXldocEIARCndspCXEamNRDvbxuDUyK\n",
              "//G/PXiAG2Ax5m0gOoU6t8uP1as5EPxwl+aAUfmx+uv6uYCTRVwxvmjRIhUWFurAgQNavny5CgoK\n",
              "QvJzm/2tqq1vcvR3EHcUo5Nij4T7fJw0Xu1xenzhEurcjvPEaOX9wzU4JUGtkganJGjl/cPbzpQD\n",
              "ViO3Qztvt+fiGDc0+dvG+qfjfnGeOt3Q3C3fD4QeuR2a3G4JtD9+Ha0HokFE3Tx54sQJ7d27V++9\n",
              "954k6Re/+IWWLFmiiooKZWdnX/PPLas5o5XbylXX6FNqglcr7x+u3MHJIYo6NDqK0Umxb9pbo5Xb\n",
              "ytvu81l5/3DH3efjpPFqj9PjC5dw5Xbu4GRtWnSrTjU2KyUhjkIctiG3Q5vb7bk4xsfqz6uhya/e\n",
              "8R4lxsfK5ZLOtwSUmuDV7Tl9tHZXpZpaApKk5J5xSk/p2W3eD4QeuR263B6Q3OOq1gPRIKI+mdbU\n",
              "1GjAgAHyeC4cQ3C5XEpPT1d1dfVlfX0+n86ePRu0BAKBy/o1+1u1clu5jp4+pzh3jI6ePqeV28od\n",
              "dXSzoxgbmvyOif1iLOebA4pxSeebA20xOoXT32unxxdO4cjti+I8MeqfFE8hDtuQ2+HJ7UtdHOOa\n",
              "U42qP9ei880BnW5oVuXJRh3+vlGxMS7VnDqnl7ZX6FxzQMZIrUY63dismlPd5/1AaJHboc3tfr3j\n",
              "Fed2Ba2Lc7vUr3d8eDYCcICo/XRaXFyspKSkoKW0tPSyfqcam1XX6FNSj1j1jPMoqUes6hp9jvr6\n",
              "o45iPHyywTGxHz7ZIJ+/VR63S56YGHncLvn8rTp8ssHyWDri9Pfa6fE5RVdzG3AKcrtrrie3L45x\n",
              "L69HrebCNyi06sK9p0ZGcR63esTGqNVIl37WN5J6xMbwfuCakNtd09XcbvD5lZwQpzi3S56YC4V4\n",
              "ckIcD15FVIuoYnzw4ME6fvy4/P4LSWmMUXV1tdLT0y/rW1RUpPr6+qAlLy/vsn4pCXFKTfCq/nyL\n",
              "zjX7VX++RakJXkc95KmjGLP69HJM7Fl9esnriZE/YORvbZU/YOT1xCirTy/LY+mI099rp8cXTuHI\n",
              "bcApyO3w5/bFMW7w+RXjcskfMIrRharbJZea/QGdb2lVjEu69PlQLl14YnN3eT8QWuR26D+TD0zq\n",
              "od7xHg1KvvBfHryKaBdRxXjfvn01ZswYrV+/XpK0efNmpaWltXtvitfrVWJiYtDidrsv63fxIU9p\n",
              "N/RUc6BVaTf0dNxDnjqKsVe8xzGxX4ylR5xbrUbqEedui9EpnP5eOz2+cApHbgNOQW6HP7cvfWBj\n",
              "Us9Y9Yhz64ZecbqpT4KybkxQS6vR4JSe+n+Ts9Uzzi2XS4pxSTckxGlwSvd5PxBa5HZ4PpPz4FV0\n",
              "Jy5jjLlyN+fYv3+/CgoKVFdXp8TERK1bt04jR47s0muXLVumkpKSdtua/a2Of8hTRzE6KfaGJr8O\n",
              "n2xQVp9ejirEL+Wk8WqP0+MLl3DlNuAU5Hb4c/viGPfyetTg87edUbt03C/OU4OTe8oXaO127wdC\n",
              "j9zufp/JgVBxZrXUiaFDh+rTTz8N+c+9+JAnJ+soRifF3iveo1vSku0Oo1NOGq/2OD2+cAlXbgNO\n",
              "QW6H36VjfOkB4UvHPRLmKUQWcju0uut4onvicBMAAAAAABajGAcAAAAAwGIU4wAAAAAAWCziHuB2\n",
              "PR544AFlZma22xYIBFRaWqq8vDzHPpmZGEPD6TF2Nb6MjAz97ne/szAy5yK3w48Yrx+5ffUiPbev\n",
              "JNK3gfivDrn9fyI9t4kxNJweoxXzdrcqxjtz9uxZJSUlqb6+XomJiXaH0y5iDA2nx+j0+CJNJIwn\n",
              "MYaG02N0enyRJhrGM9K3gfgRDpHwvhBjaDg9Rivi4zJ1AAAAAAAsRjEOAAAAAIDFKMYBAAAAALAY\n",
              "xfiPvF6vnn76aXm9XrtD6RAxhobTY3R6fJEmEsaTGEPD6TE6Pb5IEw3jGenbQPwIh0h4X4gxNJwe\n",
              "oxXx8QA3AAAAAAAsxplxAAAAAAAsRjEOAAAAAIDFKMYBAAAAALAYxbikgwcPasKECRoyZIjGjx+v\n",
              "8vJyy2NoamrSjBkzNGTIEI0aNUr33HOPKioqJEl33nmnbrrpJuXm5io3N1d/+MMf2l534sQJTZ06\n",
              "VTk5ORoxYoR27twZ1jgzMzM1dOjQtlg2btwoqfMxtHJ86+rq2mLLzc3VkCFD5PF4dOrUKVvHcenS\n",
              "pcrMzJTL5VJZWVnb+msdNyf8zUYKu8eK3A4Nchs/Fclj1dl+IdKsW7dOLpdLW7dutTuUq+Lz+bRk\n",
              "yRLl5ORo5MiRmjt3rt0h4Ud25zbzdmgwb3eRgZk8ebJZt26dMcaY119/3YwbN87yGM6fP2/eeust\n",
              "09raaowx5sUXXzSTJk0yxhgzadIk8+abb7b7ut/85jfm6aefNsYYU1paagYNGmSam5vDFmdGRob5\n",
              "29/+dtn6zsbQzvH9/e9/b+677z5jjL3j+PHHH5uamprLxu9ax80Jf7ORwu6xIrfDg9xGJI9VZ/uF\n",
              "SFJZWWluvfVWk5+f32EOOtUjjzxilixZ0vYeHD9+3OaIcJHduc28HR7M2+3r9sX4d999Z3r37m1a\n",
              "WlqMMca0traafv36mYMHD9oa1549e0xGRoYxpvM/2ISEhKAJZPz48eb9998PW1ztJX5nY2j3+N58\n",
              "881tY+eEcbx0/K513Owe00jixLEit0OD3O7eom2sLt0vRIpAIGCmTJli9u7d22kOOlFDQ4Pp3bu3\n",
              "qa+vtzsU/IQTc5t5OzSYt9vX7S9Tr6mp0YABA+TxeCRJLpdL6enpqq6utjWu559/XtOnT2/794oV\n",
              "KzRy5EjNmTNHhw8flnTh8o+Wlhb179+/rV9mZmbYY583b55GjhypBQsW6Pvvv+90DO0c3927d+v0\n",
              "6dO677772tY5aRyvddyc+jfrRE4cK3L7+pHbiLax+ul+IRKUlJTotttu09ixY+0O5aodOnRIKSkp\n",
              "WrVqlcaNG6c77rhDH374od1hQc7Mbebt68e83bFuX4w70apVq1RRUaHi4mJJ0n/+53/qm2++0b59\n",
              "+3THHXcE/SFbbefOndq3b5+++OIL9enTRw899JBtsVzJmjVrNG/evLYEcdI4onsit0OD3EY0+el+\n",
              "IRJ8/fXX2rx5s5588km7Q7kmfr9fR44c0bBhw7R371698MILmjNnjr777ju7Q4PDMG+HBvN2J0J7\n",
              "wj/y2H3Jxk/9/ve/N2PHjjWnT5/usI/X6zUnT540xhjTs2dPSy+JudSxY8dMr169HHlJzA8//GB6\n",
              "9epl/v73v3fYx45xdMolMd2Fk8aK3A4NchvGOCu3r0dX9gtO9NJLL5n+/fubjIwMk5GRYbxer7nx\n",
              "xhvNSy+9ZHdoXfL999+bmJgY4/f729aNGzfOsn0sOuak3GbeDg3m7c51+zPjffv21ZgxY7R+/XpJ\n",
              "0ubNm5WWlqbs7GzLYykpKdGGDRv0/vvvKzk5WdKFo7eXHqndvHmz+vXrp9TUVEnS7NmztXr1aknS\n",
              "nj179O2332rSpElhia+xsVFnzpxp+/eGDRs0evToTsfQrvHduHGjRo0apZtvvlmSs8bxomsdNyf9\n",
              "zTqdU8aK3A4dchuSc3L7erS3X4gUixcv1vHjx1VVVaWqqirl5+frlVde0eLFi+0OrUv69OmjKVOm\n",
              "6N1335UkVVZWqrKyUj//+c9tjgxOyW3m7dBh3r6C0B5jiEzffPONyc/PNzk5OWbs2LFm3759lsdQ\n",
              "U1NjJJmsrCwzatQoM2rUKJOXl2caGhrM2LFjzYgRI8wtt9xi7rrrLlNWVtb2utraWnPPPfeY7Oxs\n",
              "M2zYMPPRRx+FLcZDhw6Z3NxcM3LkSDNixAhz//33m8rKSmNM52Nox/jeeuutZu3atW3/tnscCwsL\n",
              "zaBBg4zb7TZ9+/Y1P/vZz4wx1z5uTvibjRR2jxW5HVrkNi6K5LHqaL8QqSLtAW7GXNjv3XnnnW37\n",
              "jjfeeMPukPAju3ObeTu0mLc75zLGmJAeWgAAAAAAAJ3q9pepAwAAAABgNYpxAAAAAAAs5rE7AACA\n",
              "9V555RW98cYbion5v2Oy586dU2xsrGJjY4P6ZmVlacGCBXr88cfl9Xrb1re0tOjRRx/V//zP/+jT\n",
              "Tz8Nek1DQ4N27doV3o0AcBlyG4geVuXz7bffrl69egW13XrrrXr66afDsFW4FMU4ruhqdwQvvfSS\n",
              "CgoKlJubq0ceeUR/+tOf9Lvf/U5ZWVlqampSXFycHnjgAT3xxBPq0aOH1ZsDQNKxY8f0yiuvKDMz\n",
              "s23dypUrVVVVpT/96U9BfQsKCvTDDz/ooYceUkFBQdv6HTt2qKqqSpWVlXrnnXcuew0A65HbQPSw\n",
              "Kp+zs7Pb/XkIP4pxXNHV7gjaM3nyZG3dulWSdOLECS1cuFBz5szRtm3bwhM0AAAAADgY94zDcn37\n",
              "9tWrr76qDz74QOXl5XaHAwAAcJmlS5cqMzNTLpdLZWVlV+z/1VdfKTc3t23JzMxUSkpK+AMFELE4\n",
              "Mw5b3HDDDcrJyVF5ebmGDx9udzgAAABBZs2apSeeeEK33357l/qPHDkyqGhfsmSJXC5XmKIDEA04\n",
              "Mw7b8BX3AADAqSZOnKi0tLTL1u/Zs0d33XWXxo0bp9GjR+v111+/rE9TU5P+/Oc/a8GCBVaECiBC\n",
              "cWYctjh9+rQqKio0YsQIu0MBAADokjNnzqiwsFBvv/22BgwYoJMnT2rMmDGaMGGCBg0a1NZvy5Yt\n",
              "ysrKUm5urn3BAnA8inFY7vvvv1dhYaHuvvtuDRs2zO5wAAAAumT37t06fPiwpk2bFrR+//79QcX4\n",
              "mjVrOCsO4IooxmGJ7du3a/To0Tp//ry8Xq9mzpyp5cuX2x0WAABAlxljNHz4cO3evbvDPpWVlfrs\n",
              "s8+0efNmCyMDEIkoxhEWl37lWUFBAd9VCDhMTEyMCgoKFB8f37bu8OHDamlp0dSpU4P6ejweuVwu\n",
              "/eEPf9B//dd/ta0/ffq0/umf/klut/uy1/zv//5veDcAQLvI7fCaMGGCKisr9cEHH+juu++WJJWV\n",
              "lWnYsGGKi4uTJK1du1YzZ85UcnKyjZEiGliVzx999NFlbZde6YHwcRmeooUr+Od//md99NFH7e4I\n",
              "hg4dGtTX4/HoL3/5i9UhAgAAhNSiRYv01ltvqba2Vqmpqerdu7cqKir0xRdf6PHHH1ddXZ1aWlqU\n",
              "np6urVu3Kj4+Xq2trcrIyNBrr72myZMn270JAByOYhwAAAAAAIvx1WYAAAAAAFiMYhwAAAAAAItR\n",
              "jAMAAAAAYDGKcQAAAAAALEYxDgAAAACAxSjGAQAAAACwGMU4AAAAAAAWoxgHAAAAAMBiFOMAAAAA\n",
              "AFiMYhwAAAAAAItRjAMAAAAAYLH/D31/X6CwfEghAAAAAElFTkSuQmCC\n",
              "\">\n",
              "        \n",
              "      </div>\n",
              "      <script></script>\n",
              "      <script type=\"text/javascript\">\n",
              "        (() => {\n",
              "          const chartElement = document.getElementById(\"chart-28850bf1-4e0c-4857-aa09-fc29b14cbbda\");\n",
              "          async function getCodeForChartHandler(event) {\n",
              "            const chartCodeResponse =  await google.colab.kernel.invokeFunction(\n",
              "                'getCodeForChart', [\"chart-28850bf1-4e0c-4857-aa09-fc29b14cbbda\"], {});\n",
              "            const responseJson = chartCodeResponse.data['application/json'];\n",
              "            await google.colab.notebook.addCell(responseJson.code, 'code');\n",
              "          }\n",
              "          chartElement.onclick = getCodeForChartHandler;\n",
              "        })();\n",
              "      </script>\n",
              "      <style>\n",
              "        .colab-quickchart-chart-with-code  {\n",
              "            display: block;\n",
              "            float: left;\n",
              "            border: 1px solid transparent;\n",
              "        }\n",
              "\n",
              "        .colab-quickchart-chart-with-code:hover {\n",
              "            cursor: pointer;\n",
              "            border: 1px solid #aaa;\n",
              "        }\n",
              "      </style>"
            ]
          },
          "metadata": {}
        },
        {
          "output_type": "stream",
          "name": "stderr",
          "text": [
            "/usr/local/lib/python3.10/dist-packages/google/colab/_quickchart_lib.py:129: UserWarning: Glyph 44256 (\\N{HANGUL SYLLABLE GO}) missing from current font.\n",
            "  plt.tight_layout()\n",
            "/usr/local/lib/python3.10/dist-packages/google/colab/_quickchart_lib.py:129: UserWarning: Glyph 44061 (\\N{HANGUL SYLLABLE GAEG}) missing from current font.\n",
            "  plt.tight_layout()\n",
            "/usr/local/lib/python3.10/dist-packages/google/colab/_quickchart_lib.py:25: UserWarning: Glyph 44256 (\\N{HANGUL SYLLABLE GO}) missing from current font.\n",
            "  plt.savefig(f, bbox_inches='tight')\n",
            "/usr/local/lib/python3.10/dist-packages/google/colab/_quickchart_lib.py:25: UserWarning: Glyph 44061 (\\N{HANGUL SYLLABLE GAEG}) missing from current font.\n",
            "  plt.savefig(f, bbox_inches='tight')\n",
            "/usr/local/lib/python3.10/dist-packages/google/colab/_quickchart_lib.py:129: UserWarning: Glyph 51060 (\\N{HANGUL SYLLABLE I}) missing from current font.\n",
            "  plt.tight_layout()\n",
            "/usr/local/lib/python3.10/dist-packages/google/colab/_quickchart_lib.py:129: UserWarning: Glyph 53448 (\\N{HANGUL SYLLABLE TAL}) missing from current font.\n",
            "  plt.tight_layout()\n",
            "/usr/local/lib/python3.10/dist-packages/google/colab/_quickchart_lib.py:129: UserWarning: Glyph 50668 (\\N{HANGUL SYLLABLE YEO}) missing from current font.\n",
            "  plt.tight_layout()\n",
            "/usr/local/lib/python3.10/dist-packages/google/colab/_quickchart_lib.py:129: UserWarning: Glyph 48512 (\\N{HANGUL SYLLABLE BU}) missing from current font.\n",
            "  plt.tight_layout()\n",
            "/usr/local/lib/python3.10/dist-packages/google/colab/_quickchart_lib.py:25: UserWarning: Glyph 51060 (\\N{HANGUL SYLLABLE I}) missing from current font.\n",
            "  plt.savefig(f, bbox_inches='tight')\n",
            "/usr/local/lib/python3.10/dist-packages/google/colab/_quickchart_lib.py:25: UserWarning: Glyph 53448 (\\N{HANGUL SYLLABLE TAL}) missing from current font.\n",
            "  plt.savefig(f, bbox_inches='tight')\n",
            "/usr/local/lib/python3.10/dist-packages/google/colab/_quickchart_lib.py:25: UserWarning: Glyph 50668 (\\N{HANGUL SYLLABLE YEO}) missing from current font.\n",
            "  plt.savefig(f, bbox_inches='tight')\n",
            "/usr/local/lib/python3.10/dist-packages/google/colab/_quickchart_lib.py:25: UserWarning: Glyph 48512 (\\N{HANGUL SYLLABLE BU}) missing from current font.\n",
            "  plt.savefig(f, bbox_inches='tight')\n",
            "/usr/local/lib/python3.10/dist-packages/google/colab/_quickchart_lib.py:129: UserWarning: Glyph 52509 (\\N{HANGUL SYLLABLE CONG}) missing from current font.\n",
            "  plt.tight_layout()\n",
            "/usr/local/lib/python3.10/dist-packages/google/colab/_quickchart_lib.py:129: UserWarning: Glyph 47588 (\\N{HANGUL SYLLABLE MAE}) missing from current font.\n",
            "  plt.tight_layout()\n",
            "/usr/local/lib/python3.10/dist-packages/google/colab/_quickchart_lib.py:129: UserWarning: Glyph 52636 (\\N{HANGUL SYLLABLE CUL}) missing from current font.\n",
            "  plt.tight_layout()\n",
            "/usr/local/lib/python3.10/dist-packages/google/colab/_quickchart_lib.py:129: UserWarning: Glyph 50529 (\\N{HANGUL SYLLABLE AEG}) missing from current font.\n",
            "  plt.tight_layout()\n",
            "/usr/local/lib/python3.10/dist-packages/google/colab/_quickchart_lib.py:25: UserWarning: Glyph 52509 (\\N{HANGUL SYLLABLE CONG}) missing from current font.\n",
            "  plt.savefig(f, bbox_inches='tight')\n",
            "/usr/local/lib/python3.10/dist-packages/google/colab/_quickchart_lib.py:25: UserWarning: Glyph 47588 (\\N{HANGUL SYLLABLE MAE}) missing from current font.\n",
            "  plt.savefig(f, bbox_inches='tight')\n",
            "/usr/local/lib/python3.10/dist-packages/google/colab/_quickchart_lib.py:25: UserWarning: Glyph 52636 (\\N{HANGUL SYLLABLE CUL}) missing from current font.\n",
            "  plt.savefig(f, bbox_inches='tight')\n",
            "/usr/local/lib/python3.10/dist-packages/google/colab/_quickchart_lib.py:25: UserWarning: Glyph 50529 (\\N{HANGUL SYLLABLE AEG}) missing from current font.\n",
            "  plt.savefig(f, bbox_inches='tight')\n",
            "/usr/local/lib/python3.10/dist-packages/google/colab/_quickchart_lib.py:129: UserWarning: Glyph 44396 (\\N{HANGUL SYLLABLE GU}) missing from current font.\n",
            "  plt.tight_layout()\n",
            "/usr/local/lib/python3.10/dist-packages/google/colab/_quickchart_lib.py:129: UserWarning: Glyph 47588 (\\N{HANGUL SYLLABLE MAE}) missing from current font.\n",
            "  plt.tight_layout()\n",
            "/usr/local/lib/python3.10/dist-packages/google/colab/_quickchart_lib.py:129: UserWarning: Glyph 44552 (\\N{HANGUL SYLLABLE GEUM}) missing from current font.\n",
            "  plt.tight_layout()\n",
            "/usr/local/lib/python3.10/dist-packages/google/colab/_quickchart_lib.py:129: UserWarning: Glyph 50529 (\\N{HANGUL SYLLABLE AEG}) missing from current font.\n",
            "  plt.tight_layout()\n",
            "/usr/local/lib/python3.10/dist-packages/google/colab/_quickchart_lib.py:129: UserWarning: Glyph 45824 (\\N{HANGUL SYLLABLE DAE}) missing from current font.\n",
            "  plt.tight_layout()\n",
            "/usr/local/lib/python3.10/dist-packages/google/colab/_quickchart_lib.py:25: UserWarning: Glyph 44396 (\\N{HANGUL SYLLABLE GU}) missing from current font.\n",
            "  plt.savefig(f, bbox_inches='tight')\n",
            "/usr/local/lib/python3.10/dist-packages/google/colab/_quickchart_lib.py:25: UserWarning: Glyph 47588 (\\N{HANGUL SYLLABLE MAE}) missing from current font.\n",
            "  plt.savefig(f, bbox_inches='tight')\n",
            "/usr/local/lib/python3.10/dist-packages/google/colab/_quickchart_lib.py:25: UserWarning: Glyph 44552 (\\N{HANGUL SYLLABLE GEUM}) missing from current font.\n",
            "  plt.savefig(f, bbox_inches='tight')\n",
            "/usr/local/lib/python3.10/dist-packages/google/colab/_quickchart_lib.py:25: UserWarning: Glyph 50529 (\\N{HANGUL SYLLABLE AEG}) missing from current font.\n",
            "  plt.savefig(f, bbox_inches='tight')\n",
            "/usr/local/lib/python3.10/dist-packages/google/colab/_quickchart_lib.py:25: UserWarning: Glyph 45824 (\\N{HANGUL SYLLABLE DAE}) missing from current font.\n",
            "  plt.savefig(f, bbox_inches='tight')\n",
            "/usr/local/lib/python3.10/dist-packages/google/colab/_quickchart_lib.py:67: UserWarning: Glyph 44256 (\\N{HANGUL SYLLABLE GO}) missing from current font.\n",
            "  plt.tight_layout()\n",
            "/usr/local/lib/python3.10/dist-packages/google/colab/_quickchart_lib.py:67: UserWarning: Glyph 44061 (\\N{HANGUL SYLLABLE GAEG}) missing from current font.\n",
            "  plt.tight_layout()\n",
            "/usr/local/lib/python3.10/dist-packages/google/colab/_quickchart_lib.py:25: UserWarning: Glyph 44256 (\\N{HANGUL SYLLABLE GO}) missing from current font.\n",
            "  plt.savefig(f, bbox_inches='tight')\n",
            "/usr/local/lib/python3.10/dist-packages/google/colab/_quickchart_lib.py:25: UserWarning: Glyph 44061 (\\N{HANGUL SYLLABLE GAEG}) missing from current font.\n",
            "  plt.savefig(f, bbox_inches='tight')\n",
            "/usr/local/lib/python3.10/dist-packages/google/colab/_quickchart_lib.py:67: UserWarning: Glyph 51060 (\\N{HANGUL SYLLABLE I}) missing from current font.\n",
            "  plt.tight_layout()\n",
            "/usr/local/lib/python3.10/dist-packages/google/colab/_quickchart_lib.py:67: UserWarning: Glyph 53448 (\\N{HANGUL SYLLABLE TAL}) missing from current font.\n",
            "  plt.tight_layout()\n",
            "/usr/local/lib/python3.10/dist-packages/google/colab/_quickchart_lib.py:67: UserWarning: Glyph 50668 (\\N{HANGUL SYLLABLE YEO}) missing from current font.\n",
            "  plt.tight_layout()\n",
            "/usr/local/lib/python3.10/dist-packages/google/colab/_quickchart_lib.py:67: UserWarning: Glyph 48512 (\\N{HANGUL SYLLABLE BU}) missing from current font.\n",
            "  plt.tight_layout()\n",
            "/usr/local/lib/python3.10/dist-packages/google/colab/_quickchart_lib.py:25: UserWarning: Glyph 51060 (\\N{HANGUL SYLLABLE I}) missing from current font.\n",
            "  plt.savefig(f, bbox_inches='tight')\n",
            "/usr/local/lib/python3.10/dist-packages/google/colab/_quickchart_lib.py:25: UserWarning: Glyph 53448 (\\N{HANGUL SYLLABLE TAL}) missing from current font.\n",
            "  plt.savefig(f, bbox_inches='tight')\n",
            "/usr/local/lib/python3.10/dist-packages/google/colab/_quickchart_lib.py:25: UserWarning: Glyph 50668 (\\N{HANGUL SYLLABLE YEO}) missing from current font.\n",
            "  plt.savefig(f, bbox_inches='tight')\n",
            "/usr/local/lib/python3.10/dist-packages/google/colab/_quickchart_lib.py:25: UserWarning: Glyph 48512 (\\N{HANGUL SYLLABLE BU}) missing from current font.\n",
            "  plt.savefig(f, bbox_inches='tight')\n",
            "/usr/local/lib/python3.10/dist-packages/google/colab/_quickchart_lib.py:67: UserWarning: Glyph 52509 (\\N{HANGUL SYLLABLE CONG}) missing from current font.\n",
            "  plt.tight_layout()\n",
            "/usr/local/lib/python3.10/dist-packages/google/colab/_quickchart_lib.py:67: UserWarning: Glyph 47588 (\\N{HANGUL SYLLABLE MAE}) missing from current font.\n",
            "  plt.tight_layout()\n",
            "/usr/local/lib/python3.10/dist-packages/google/colab/_quickchart_lib.py:67: UserWarning: Glyph 52636 (\\N{HANGUL SYLLABLE CUL}) missing from current font.\n",
            "  plt.tight_layout()\n",
            "/usr/local/lib/python3.10/dist-packages/google/colab/_quickchart_lib.py:67: UserWarning: Glyph 50529 (\\N{HANGUL SYLLABLE AEG}) missing from current font.\n",
            "  plt.tight_layout()\n",
            "/usr/local/lib/python3.10/dist-packages/google/colab/_quickchart_lib.py:25: UserWarning: Glyph 52509 (\\N{HANGUL SYLLABLE CONG}) missing from current font.\n",
            "  plt.savefig(f, bbox_inches='tight')\n",
            "/usr/local/lib/python3.10/dist-packages/google/colab/_quickchart_lib.py:25: UserWarning: Glyph 47588 (\\N{HANGUL SYLLABLE MAE}) missing from current font.\n",
            "  plt.savefig(f, bbox_inches='tight')\n",
            "/usr/local/lib/python3.10/dist-packages/google/colab/_quickchart_lib.py:25: UserWarning: Glyph 52636 (\\N{HANGUL SYLLABLE CUL}) missing from current font.\n",
            "  plt.savefig(f, bbox_inches='tight')\n",
            "/usr/local/lib/python3.10/dist-packages/google/colab/_quickchart_lib.py:25: UserWarning: Glyph 50529 (\\N{HANGUL SYLLABLE AEG}) missing from current font.\n",
            "  plt.savefig(f, bbox_inches='tight')\n",
            "/usr/local/lib/python3.10/dist-packages/google/colab/_quickchart_lib.py:67: UserWarning: Glyph 44396 (\\N{HANGUL SYLLABLE GU}) missing from current font.\n",
            "  plt.tight_layout()\n",
            "/usr/local/lib/python3.10/dist-packages/google/colab/_quickchart_lib.py:67: UserWarning: Glyph 47588 (\\N{HANGUL SYLLABLE MAE}) missing from current font.\n",
            "  plt.tight_layout()\n",
            "/usr/local/lib/python3.10/dist-packages/google/colab/_quickchart_lib.py:67: UserWarning: Glyph 44552 (\\N{HANGUL SYLLABLE GEUM}) missing from current font.\n",
            "  plt.tight_layout()\n",
            "/usr/local/lib/python3.10/dist-packages/google/colab/_quickchart_lib.py:67: UserWarning: Glyph 50529 (\\N{HANGUL SYLLABLE AEG}) missing from current font.\n",
            "  plt.tight_layout()\n",
            "/usr/local/lib/python3.10/dist-packages/google/colab/_quickchart_lib.py:67: UserWarning: Glyph 45824 (\\N{HANGUL SYLLABLE DAE}) missing from current font.\n",
            "  plt.tight_layout()\n",
            "/usr/local/lib/python3.10/dist-packages/google/colab/_quickchart_lib.py:25: UserWarning: Glyph 44396 (\\N{HANGUL SYLLABLE GU}) missing from current font.\n",
            "  plt.savefig(f, bbox_inches='tight')\n",
            "/usr/local/lib/python3.10/dist-packages/google/colab/_quickchart_lib.py:25: UserWarning: Glyph 47588 (\\N{HANGUL SYLLABLE MAE}) missing from current font.\n",
            "  plt.savefig(f, bbox_inches='tight')\n",
            "/usr/local/lib/python3.10/dist-packages/google/colab/_quickchart_lib.py:25: UserWarning: Glyph 44552 (\\N{HANGUL SYLLABLE GEUM}) missing from current font.\n",
            "  plt.savefig(f, bbox_inches='tight')\n",
            "/usr/local/lib/python3.10/dist-packages/google/colab/_quickchart_lib.py:25: UserWarning: Glyph 50529 (\\N{HANGUL SYLLABLE AEG}) missing from current font.\n",
            "  plt.savefig(f, bbox_inches='tight')\n",
            "/usr/local/lib/python3.10/dist-packages/google/colab/_quickchart_lib.py:25: UserWarning: Glyph 45824 (\\N{HANGUL SYLLABLE DAE}) missing from current font.\n",
            "  plt.savefig(f, bbox_inches='tight')\n",
            "/usr/local/lib/python3.10/dist-packages/google/colab/_quickchart_lib.py:140: UserWarning: Glyph 44256 (\\N{HANGUL SYLLABLE GO}) missing from current font.\n",
            "  plt.tight_layout()\n",
            "/usr/local/lib/python3.10/dist-packages/google/colab/_quickchart_lib.py:140: UserWarning: Glyph 44061 (\\N{HANGUL SYLLABLE GAEG}) missing from current font.\n",
            "  plt.tight_layout()\n",
            "/usr/local/lib/python3.10/dist-packages/google/colab/_quickchart_lib.py:140: UserWarning: Glyph 51060 (\\N{HANGUL SYLLABLE I}) missing from current font.\n",
            "  plt.tight_layout()\n",
            "/usr/local/lib/python3.10/dist-packages/google/colab/_quickchart_lib.py:140: UserWarning: Glyph 53448 (\\N{HANGUL SYLLABLE TAL}) missing from current font.\n",
            "  plt.tight_layout()\n",
            "/usr/local/lib/python3.10/dist-packages/google/colab/_quickchart_lib.py:140: UserWarning: Glyph 50668 (\\N{HANGUL SYLLABLE YEO}) missing from current font.\n",
            "  plt.tight_layout()\n",
            "/usr/local/lib/python3.10/dist-packages/google/colab/_quickchart_lib.py:140: UserWarning: Glyph 48512 (\\N{HANGUL SYLLABLE BU}) missing from current font.\n",
            "  plt.tight_layout()\n",
            "/usr/local/lib/python3.10/dist-packages/google/colab/_quickchart_lib.py:140: UserWarning: Glyph 52509 (\\N{HANGUL SYLLABLE CONG}) missing from current font.\n",
            "  plt.tight_layout()\n",
            "/usr/local/lib/python3.10/dist-packages/google/colab/_quickchart_lib.py:140: UserWarning: Glyph 47588 (\\N{HANGUL SYLLABLE MAE}) missing from current font.\n",
            "  plt.tight_layout()\n",
            "/usr/local/lib/python3.10/dist-packages/google/colab/_quickchart_lib.py:140: UserWarning: Glyph 52636 (\\N{HANGUL SYLLABLE CUL}) missing from current font.\n",
            "  plt.tight_layout()\n",
            "/usr/local/lib/python3.10/dist-packages/google/colab/_quickchart_lib.py:140: UserWarning: Glyph 50529 (\\N{HANGUL SYLLABLE AEG}) missing from current font.\n",
            "  plt.tight_layout()\n",
            "/usr/local/lib/python3.10/dist-packages/google/colab/_quickchart_lib.py:140: UserWarning: Glyph 44396 (\\N{HANGUL SYLLABLE GU}) missing from current font.\n",
            "  plt.tight_layout()\n",
            "/usr/local/lib/python3.10/dist-packages/google/colab/_quickchart_lib.py:140: UserWarning: Glyph 44552 (\\N{HANGUL SYLLABLE GEUM}) missing from current font.\n",
            "  plt.tight_layout()\n",
            "/usr/local/lib/python3.10/dist-packages/google/colab/_quickchart_lib.py:140: UserWarning: Glyph 45824 (\\N{HANGUL SYLLABLE DAE}) missing from current font.\n",
            "  plt.tight_layout()\n",
            "/usr/local/lib/python3.10/dist-packages/google/colab/_quickchart_lib.py:140: UserWarning: Glyph 48169 (\\N{HANGUL SYLLABLE BANG}) missing from current font.\n",
            "  plt.tight_layout()\n",
            "/usr/local/lib/python3.10/dist-packages/google/colab/_quickchart_lib.py:140: UserWarning: Glyph 47928 (\\N{HANGUL SYLLABLE MUN}) missing from current font.\n",
            "  plt.tight_layout()\n",
            "/usr/local/lib/python3.10/dist-packages/google/colab/_quickchart_lib.py:140: UserWarning: Glyph 48712 (\\N{HANGUL SYLLABLE BIN}) missing from current font.\n",
            "  plt.tight_layout()\n",
            "/usr/local/lib/python3.10/dist-packages/google/colab/_quickchart_lib.py:140: UserWarning: Glyph 46020 (\\N{HANGUL SYLLABLE DO}) missing from current font.\n",
            "  plt.tight_layout()\n",
            "/usr/local/lib/python3.10/dist-packages/google/colab/_quickchart_lib.py:25: UserWarning: Glyph 44256 (\\N{HANGUL SYLLABLE GO}) missing from current font.\n",
            "  plt.savefig(f, bbox_inches='tight')\n",
            "/usr/local/lib/python3.10/dist-packages/google/colab/_quickchart_lib.py:25: UserWarning: Glyph 44061 (\\N{HANGUL SYLLABLE GAEG}) missing from current font.\n",
            "  plt.savefig(f, bbox_inches='tight')\n",
            "/usr/local/lib/python3.10/dist-packages/google/colab/_quickchart_lib.py:25: UserWarning: Glyph 51060 (\\N{HANGUL SYLLABLE I}) missing from current font.\n",
            "  plt.savefig(f, bbox_inches='tight')\n",
            "/usr/local/lib/python3.10/dist-packages/google/colab/_quickchart_lib.py:25: UserWarning: Glyph 53448 (\\N{HANGUL SYLLABLE TAL}) missing from current font.\n",
            "  plt.savefig(f, bbox_inches='tight')\n",
            "/usr/local/lib/python3.10/dist-packages/google/colab/_quickchart_lib.py:25: UserWarning: Glyph 50668 (\\N{HANGUL SYLLABLE YEO}) missing from current font.\n",
            "  plt.savefig(f, bbox_inches='tight')\n",
            "/usr/local/lib/python3.10/dist-packages/google/colab/_quickchart_lib.py:25: UserWarning: Glyph 48512 (\\N{HANGUL SYLLABLE BU}) missing from current font.\n",
            "  plt.savefig(f, bbox_inches='tight')\n",
            "/usr/local/lib/python3.10/dist-packages/google/colab/_quickchart_lib.py:25: UserWarning: Glyph 52509 (\\N{HANGUL SYLLABLE CONG}) missing from current font.\n",
            "  plt.savefig(f, bbox_inches='tight')\n",
            "/usr/local/lib/python3.10/dist-packages/google/colab/_quickchart_lib.py:25: UserWarning: Glyph 47588 (\\N{HANGUL SYLLABLE MAE}) missing from current font.\n",
            "  plt.savefig(f, bbox_inches='tight')\n",
            "/usr/local/lib/python3.10/dist-packages/google/colab/_quickchart_lib.py:25: UserWarning: Glyph 52636 (\\N{HANGUL SYLLABLE CUL}) missing from current font.\n",
            "  plt.savefig(f, bbox_inches='tight')\n",
            "/usr/local/lib/python3.10/dist-packages/google/colab/_quickchart_lib.py:25: UserWarning: Glyph 50529 (\\N{HANGUL SYLLABLE AEG}) missing from current font.\n",
            "  plt.savefig(f, bbox_inches='tight')\n",
            "/usr/local/lib/python3.10/dist-packages/google/colab/_quickchart_lib.py:25: UserWarning: Glyph 44396 (\\N{HANGUL SYLLABLE GU}) missing from current font.\n",
            "  plt.savefig(f, bbox_inches='tight')\n",
            "/usr/local/lib/python3.10/dist-packages/google/colab/_quickchart_lib.py:25: UserWarning: Glyph 44552 (\\N{HANGUL SYLLABLE GEUM}) missing from current font.\n",
            "  plt.savefig(f, bbox_inches='tight')\n",
            "/usr/local/lib/python3.10/dist-packages/google/colab/_quickchart_lib.py:25: UserWarning: Glyph 45824 (\\N{HANGUL SYLLABLE DAE}) missing from current font.\n",
            "  plt.savefig(f, bbox_inches='tight')\n",
            "/usr/local/lib/python3.10/dist-packages/google/colab/_quickchart_lib.py:25: UserWarning: Glyph 48169 (\\N{HANGUL SYLLABLE BANG}) missing from current font.\n",
            "  plt.savefig(f, bbox_inches='tight')\n",
            "/usr/local/lib/python3.10/dist-packages/google/colab/_quickchart_lib.py:25: UserWarning: Glyph 47928 (\\N{HANGUL SYLLABLE MUN}) missing from current font.\n",
            "  plt.savefig(f, bbox_inches='tight')\n",
            "/usr/local/lib/python3.10/dist-packages/google/colab/_quickchart_lib.py:25: UserWarning: Glyph 48712 (\\N{HANGUL SYLLABLE BIN}) missing from current font.\n",
            "  plt.savefig(f, bbox_inches='tight')\n",
            "/usr/local/lib/python3.10/dist-packages/google/colab/_quickchart_lib.py:25: UserWarning: Glyph 46020 (\\N{HANGUL SYLLABLE DO}) missing from current font.\n",
            "  plt.savefig(f, bbox_inches='tight')\n"
          ]
        },
        {
          "output_type": "display_data",
          "data": {
            "text/plain": [
              "<google.colab._quickchart_helpers.SectionTitle at 0x7d9617762200>"
            ],
            "text/html": [
              "<h4 class=\"colab-quickchart-section-title\">Values</h4>\n",
              "<style>\n",
              "  .colab-quickchart-section-title {\n",
              "      clear: both;\n",
              "  }\n",
              "</style>"
            ]
          },
          "metadata": {}
        },
        {
          "output_type": "display_data",
          "data": {
            "text/plain": [
              "import numpy as np\n",
              "from google.colab import autoviz\n",
              "\n",
              "def value_plot(df, y, figscale=1):\n",
              "  from matplotlib import pyplot as plt\n",
              "  df[y].plot(kind='line', figsize=(8 * figscale, 4 * figscale), title=y)\n",
              "  plt.gca().spines[['top', 'right']].set_visible(False)\n",
              "  plt.tight_layout()\n",
              "  return autoviz.MplChart.from_current_mpl_state()\n",
              "\n",
              "chart = value_plot(_df_9, *['고객ID'], **{})\n",
              "chart"
            ],
            "text/html": [
              "      <div class=\"colab-quickchart-chart-with-code\" id=\"chart-bc0b8233-af40-47b8-8e7f-173417a8bc9b\">\n",
              "        <img src=\"data:image/png;base64,iVBORw0KGgoAAAANSUhEUgAAAMQAAABgCAYAAABCK92TAAAAOXRFWHRTb2Z0d2FyZQBNYXRwbG90\n",
              "bGliIHZlcnNpb24zLjcuMSwgaHR0cHM6Ly9tYXRwbG90bGliLm9yZy/bCgiHAAAACXBIWXMAAA9h\n",
              "AAAPYQGoP6dpAAASOklEQVR4nO3deVRTZ/oH8G9YDMoSFQVR9gCCAjcViIAoyxyd1lpOx3bEWktR\n",
              "O7jWHm17plbb+WlPXapj7ait2gpW69JabW21o9UxKiCCtALWrYQtAdlR9i3J8/sjGhNXZEkCvJ9z\n",
              "8kfulifAN++9uQ/38oiIwDAMAMDE0AUwjDFhgWAYLSwQDKOFBYJhtLBAMIwWFgiG0cICwTBaWCAY\n",
              "RgsLBMNoYYFgGC0sEEZq165dEAqFCA4O1nkIhcInzgOAiIgIrFixQrM9V1dXWFhYwNraGgKBAO7u\n",
              "7pgxYwZSUlIM9A6Nk5mhC2Ae7YMPPkBcXJzOtLt/8I+b9yhbtmzBG2+8AQCQy+XYvXs3IiMjsWXL\n",
              "FsTHx3dR1T0bC0Qf5eTkhOXLl6O5uRlvv/02pk+fDhsbG0OXZXBsl6mPmzlzJurr65GammroUowC\n",
              "C0Qf5+zsDACoqqoycCXGgQWij5PJZAAAW1tbA1diHFgg+ri9e/fC0tISISEhhi7FKLCD6j6quLgY\n",
              "e/bswdq1a/HZZ5+xA+o72AjRhyxatAjW1tawsbHBuHHjkJmZiVOnTmH+/PmGLs1osBGilzpz5ozO\n",
              "84KCAoPU0dOwQBixjz76CNu2bdOZVlFRgQ8++OCx85iO47GrbjDMPewYgmG0sEAwjBYWCIbR8lSB\n",
              "WLx4MVxdXcHj8ZCZmamZnpOTg9DQUHh5eSEoKAhXrlzp9DyGMQh6CmfPniW5XE4uLi506dIlzfTI\n",
              "yEhKTEwkIqKDBw9SYGBgp+cxjCE8VSDu0g5EWVkZWVtbU1tbGxERqVQqsre3p5ycnA7PexqbNm16\n",
              "YFpZbRNV1jV35K0xPdjtxlaq6OTvvdPnIeRyORwcHGBmpt4Uj8eDs7MzZDIZBAJBh+Z5eHg89LVa\n",
              "WlrQ0tKiMy0vL0/neXVDK2Z+lQYiYO8bY2FnY9HZt8gYuar6FiSk5GP3+UJM4RywZqp/h7fVow6q\n",
              "16xZA4FAoPNIT0/XWaa2qQ11zQrklNdj2vZUFN9uMlC1THcrrWnGqp+vImydBFsluahrUSC7qAYK\n",
              "parD2+x0IJycnFBSUgKFQgEAICLIZDI4Ozt3eN6jLFu2DDU1NToPsViss4zrEEt8NzcEToP7o6Cq\n",
              "EdO2paKwqqGzb5MxIrKqRiw7fBkTPpEgISUfTW1K+I0QYNvMAPy8KAxmph3/s+50IOzs7DBmzBh8\n",
              "8803AIBDhw7B0dERHh4eHZ73KHw+HzY2NjoPU1PTB5ZzGjwA380NgfsQSxTfbsLft6VCWl7X2bfK\n",
              "GFhOWR2WfJuJyH+fwf50GVqVKohdB+Pr2WL8tGgcnvUdBhMTXude5GkOOOLj42nEiBFkampKdnZ2\n",
              "JBQKiYjo+vXrFBwcTJ6enhQQEEDZ2dmadTo6r72WLFnyyHnltc00aeNZcvnnURqz6le6Ulzz1Ntn\n",
              "DC9bfpvm7s4gl38e1Txid6ZRWl5Vl79Wj+9lWrp0KTZu3PjI+bcaWvFaQhr+KK6FoL85ds8Wg3Ma\n",
              "qL8CmQ5Lz6/GVokUZ/+s0Ex7dvQwLIz0gJ+joFtes9d3uw6y7Ie9bwRjVmI6fpfdxqtfpSFxVhCC\n",
              "XAcbujTmIYgI53IqsfW0FOkF1QAAUxMeornhWBAhhKe9dbe+fq8PBAAI+ptjz5yxmPP1RVzIq0bs\n",
              "znR8GRuIMM8hhi6NuUOlIvx6tQxbJVJcLq4BAPQzNcFLAY6YHy6Es+0AvdTRJwIBAJZ8M+yaJcbc\n",
              "Pb/h7J8VmP31RWybOQZR3vaGLq1PUyhVOJpdgs/PSPFnWT0AwMLcBDPELoif4I5hAv2eR+ozgQAA\n",
              "C3NT7IgNwJv7LuHXq2WYu+c3/Gf6M3jOz8HQpfU5LQolDv9ejC/O5EJW3QgAsOabITbUBbPHucHW\n",
              "im+QuvpUIACAb2aKra+OwdLvsvBz1k0s3Pc7/j2Nw9+ecTR0aX1CU6sS+9Nl2HEuD6W1zQCAQQPM\n",
              "MSfMDa+FuELQ39yg9fW5QACAuakJNsWIYGFmgoO/FWHpd1loblPhFfGjTwoynVPb3IY9qYXYmZyP\n",
              "6oZWAIC9DR//GO+OGWOdMaCfcfwpGkcVBmBqwsO6l/zRv58pdqcWYtnhy2hqVWJ2mJuhS+tVqhta\n",
              "kZCcj69TC1DXrO5KcBrcH/PChXg5wBF8swdPrBpSnw0EAJiY8LAyerT62OJcHlYdvYpmhRILIh59\n",
              "tpxpn7LaZuw4l4d9aTI0tSkBAB52VlgQIUQ0N7xT7RXdqU8HAlB32S57zhv9zU3x2f9y8MnxG2hu\n",
              "VWLJRC/weJ1sA+iD5NWN+OJsLr7PKELrnSa70cNtsCjSA38d3QWtFd2szwcCUIdiyUQvWJibYt3x\n",
              "6/jPaSkaW5VY/rwPC0U7Scvr8LkkF0eybkKpUjc/BLoMwsIoD0R4De0xP0cWCC3zI4Tob26C//v5\n",
              "Kr5KzkezQolV0b5G/6lmSH8U12CrRIrjV0pxtwlovOcQLIr0wFj3nncBZRaI+8SNc4OFuSmW/XAZ\n",
              "31yQoaKuBYsiPbutd6anyiioxhaJFGdu3OszmjTKHgsjPXp0rxgLxENMFzvDwtwUbx/MwokrZThx\n",
              "pQycowCvjnXBFM7BaL4i1DciQrK0EltOS5GWr+4zMuEBL3DDsSDCAyOHdW+fkT70zd9sO7z4zAi4\n",
              "DbFEQko+/nu5FFlFNcgqysZHx67ipTGOmDHWGV7d3GhmLFQqwqlr6j6jrCJ1n5G5KQ8vjXHEvHAh\n",
              "XIdYGrjCrtPr27+7QlV9Cw7+VoR9aTJNmwEAiF0H49VgZzzrO8zovk/vCkoV4Wj2TXwuycWNMvU/\n",
              "WFmYm2B6kDPiJ7hj+MD+Bq6w67ERoh1srfiYFy5E/Hh3JEsrsTetEKeulSO9oBrpBdUYbNkPfw90\n",
              "xAyxM1xse/6nZatChR8uFeGLM7koqFJ/AFjxzRAb4oLZYW4YYqA+I31ggXgKJiY8TPAaigleQ1Fa\n",
              "04wDF2U4kC5HaW0ztp/Nw/azeRjvOQQzg13wF287oz359ChNrUocuKjuMyqpuddnNHucG2JDDd9n\n",
              "pA9sl6mTFEoVTl8vx940Gc7lVGi+erS34WN6kDOmi53gIDDuXYu65jbsuVCIhOR8VNar+4zsrPmI\n",
              "n+COV8TOsOT3nc9NFoguJKtqxL50GQ5myFF1p4HNhAf8xcces8e5IURoXN/L32poRWJKPnadL0Dt\n",
              "nT4jx0H3+owszHvfcdGTsEB0gxaFEieulGHvhULN15MAEDlyKJZN9jH4t1Pltc34MikPe9NkaGxV\n",
              "9xkJh1piQYQHokXDYd7DdvW6Ut8ZC/WIb2aKaG44ornhkJbXYdf5AhxIl0NyowJn/6xATJAzlkz0\n",
              "hJ21fv8bTF7diO3ncvFdRhFaFff6jBZGeuDZHtBnpA9shNCTvIp6fHL8Bo5fKQUADOhnirkThPjH\n",
              "BLduP9GXW1Gv7jPKLIbiTp9RgMsgLIr0QMTIntNnpA9shNAT96FW2PZaAC4WVOPjY9eQKb+NT0/9\n",
              "ib1phXhn0ki8FOAI0y7+hL5yswafS3Lxyx8lOn1GCyM9MNZtMAvCQ7ARwgCICMcul2Dd8euQV6uv\n",
              "Pes9zBrLJvsg3Gtop7f/W+EtbJVIcfp6uWbaxDt9RqIe3GekD2yEMAAej4cp/sMxcZQ99qQWYvNp\n",
              "Ka6X1uH1hHSM9xyC9yf7wMfh6W6kTkRIkVZhiyQHF/Lu9RlN8R+OBZFCeA9jN2ZvDzZCGIHbja3Y\n",
              "clqKr1ML0KYk8HjAy2Mc8fakkU+8DAsR4dS1cmyRSJElvw1A3Wc09RlHzI/oXX1G+mAUgcjJycHr\n",
              "r7+OyspKCAQC7Nq1C6NHj27Xur0hEHfJqhrxyYnrOJpdAkDdNxQ/3h3x4UJY3XdyTKlS73Z9LlGP\n",
              "LgDANzPBK+Le22ekD0YRiKioKMTGxiIuLg7ff/891q1bh4sXL7Zr3d4UiLt+l93C6mPXkFF4CwAw\n",
              "xIqPJRM9ERPoBBUBP14qxhdnc5Ffqb7MvxXfDK+FuGBOL+8z0geDB6K8vBweHh6orq6GmZkZiAgO\n",
              "Dg5ITk5+7KXx7+qNgQDUu0InrpRi7X+vaxrsPOys0NiiwM07fUYD7/QZvR7iCsGA3t9npA8GP6h+\n",
              "3C257g/Ew26ppVQq9VarPvF4PDzr64Aob3vsSyvEZ//LgbRcfanHodZ8xN+5nlFf6jPShx7101yz\n",
              "Zg1WrlypMy04ONhA1ehHPzMTxI1zw9/GOOKbC4UYNKAfpo4Z0Sf7jPShR+0yPWyEiI2Nhbu7u840\n",
              "pVKJ9PR0iMXih95hSN9YPYavx8XFBW+99daTF+zyW7B0QHh4uM79qgMCAjq1vZqaGgJANTXGcccg\n",
              "Vs/jGVM9RrHLtH37dsTFxWH16tWwsbFBYmKioUti+iijCMTIkSORmppq6DIYpmfdp5phuluvDASf\n",
              "z8e//vUv8PnGcZKK1fN4xlSPwb9lYhhj0itHCIbpKBYIhtHCAsEwWlgg7ti0aRNKS0u7dJsFBQXY\n",
              "tm3bY5cJDAzEmTNnOv1azc3NePHFF+Hl5QWO4zBx4kRIpVIAQEREBNzc3CASiSASifDpp59q1ps7\n",
              "dy78/PwQFRWFmhr1dVuJCM899xxyc3M7XE9VVZXm9UQiEby8vGBmZobq6mqD1NNuhj0vaDxcXFzo\n",
              "0qVLXbpNiURCHMc9dpmAgACSSCSdfq2mpiY6duwYqVQqIiLavHkzhYeHE5G6E+CHH354YJ3Lly9T\n",
              "ZGQkERGtXLmSNm/eTEREO3bsoHXr1nW6Jm3r16+nKVOmGE09j2L0I0RqairCwsLAcRz8/f1x5MgR\n",
              "ZGRkIDQ0FP7+/hCLxUhJSQGg/kQeOHCgZt36+nqdf6Tn8XhYvXo1xGIx3NzcNGfEV61ahZs3byIm\n",
              "JgYikQiZmZlPXWdTUxNiYmIwatQocByHSZMmYd68ebhx4wZEIhGio6MBAOfPn4dIJIKvry9mzZoF\n",
              "hULR8R+OFgsLC0yePFnzfoODg1FQUPDYdczNzdHS0gKVSoWGhgb069cPJSUl2L9/P5YuXdoldd21\n",
              "c+dOzJkzx2jqeSS9xK6DqqqqyM7Ojs6dO0dEREqlksrKysjJyYmOHz9ORERJSUlkb29PdXV1lJ+f\n",
              "TwKBQLN+XV0dab9FALRhwwYiIrp27RpZWVlRW1sbEXV+hDh8+DBNmjRJp/b7R4iWlhZydHSkkydP\n",
              "EhHRiRMnCECXjBD3mzlzJi1evJiI1J/II0eOJF9fX5o2bRrl5uZqllu+fDlxHEcvv/wyNTQ0UExM\n",
              "DGVkZHRpLSkpKWRvb6/5WRu6nscx6kAcPXqUxo8frzMtOzubXFxcdKb5+/tTUlJSuwJRUlKieT5w\n",
              "4ECSy+VE1PlA5ObmkpOTE82fP58OHDhAtbW1DwQiKyuLXF1dddZzd3fv8kB8/PHHFBwcTA0NDURE\n",
              "JJPJiIhIpVLR5s2bycfH56Hr/fjjj/TOO+9QZWUlxcXF0dSpU+nAgQOdrmf27Nn07rvvap4bup7H\n",
              "6RWB4DiOkpKSSC6Xk5WVlWZ6RUXFA4G4deuW5rmtrS3l5+cTUdccQ9TV1dGRI0fozTffJGdnZzp8\n",
              "+PATAyEUCrs0EOvXr6eAgACd93k/Pp9PlZWVOtNqamooLCyMGhoaaMWKFZSYmEhtbW00atQoamxs\n",
              "7HA9dXV1ZGVlRdeuXTOKep7EqI8hQkNDkZOTg6SkJACASqWCvb09VCoVTp48CUC9T15aWgqRSIRh\n",
              "w4aBiHD16lUAwO7du9v9WjY2NppvNTqiqKgIPB4P0dHR2LBhA4gItra2Otv09vaGQqGARCIBAJw6\n",
              "dapLvznZuHEj9u/fj5MnT2qOpRQKBcrKyjTLHDp0CPb29rC11b3w8nvvvYcPP/wQAwYMQENDA3g8\n",
              "Hng8Htra2tDa2trhmr799ltwHAdvb2+jqOeJui1qXSQ1NZVCQ0PJz8+POI6jn376iS5evEghISHk\n",
              "5+dHQUFBlJSUpFk+ISGB3NzcKDAwkNauXdvuEeLLL78kT09P4jiuQyPFL7/8QhzHkb+/P40aNYre\n",
              "f/99amtro+eff55Gjx5NL7zwAhGp96c5jiNfX1+aNWsWcRzXJSOEXC4nAOTu7k4cxxHHcSQWi6m+\n",
              "vp4CAgLI19eX/P39KSoqijIzM3XWTU5Opri4OM1zqVRKQUFB5OPjQ6tWrepUXSEhIZSQkKB5buh6\n",
              "noT1MjGMFqPeZWIYfWOBYBgtLBAMo4UFgmG0sEAwjBYWCIbRwgLBMFpYIBhGCwsEw2hhgWAYLSwQ\n",
              "DKPl/wFNqh/7ei5ByQAAAABJRU5ErkJggg==\n",
              "\">\n",
              "        \n",
              "      </div>\n",
              "      <script></script>\n",
              "      <script type=\"text/javascript\">\n",
              "        (() => {\n",
              "          const chartElement = document.getElementById(\"chart-bc0b8233-af40-47b8-8e7f-173417a8bc9b\");\n",
              "          async function getCodeForChartHandler(event) {\n",
              "            const chartCodeResponse =  await google.colab.kernel.invokeFunction(\n",
              "                'getCodeForChart', [\"chart-bc0b8233-af40-47b8-8e7f-173417a8bc9b\"], {});\n",
              "            const responseJson = chartCodeResponse.data['application/json'];\n",
              "            await google.colab.notebook.addCell(responseJson.code, 'code');\n",
              "          }\n",
              "          chartElement.onclick = getCodeForChartHandler;\n",
              "        })();\n",
              "      </script>\n",
              "      <style>\n",
              "        .colab-quickchart-chart-with-code  {\n",
              "            display: block;\n",
              "            float: left;\n",
              "            border: 1px solid transparent;\n",
              "        }\n",
              "\n",
              "        .colab-quickchart-chart-with-code:hover {\n",
              "            cursor: pointer;\n",
              "            border: 1px solid #aaa;\n",
              "        }\n",
              "      </style>"
            ]
          },
          "metadata": {}
        },
        {
          "output_type": "display_data",
          "data": {
            "text/plain": [
              "import numpy as np\n",
              "from google.colab import autoviz\n",
              "\n",
              "def value_plot(df, y, figscale=1):\n",
              "  from matplotlib import pyplot as plt\n",
              "  df[y].plot(kind='line', figsize=(8 * figscale, 4 * figscale), title=y)\n",
              "  plt.gca().spines[['top', 'right']].set_visible(False)\n",
              "  plt.tight_layout()\n",
              "  return autoviz.MplChart.from_current_mpl_state()\n",
              "\n",
              "chart = value_plot(_df_10, *['이탈여부'], **{})\n",
              "chart"
            ],
            "text/html": [
              "      <div class=\"colab-quickchart-chart-with-code\" id=\"chart-65626c0f-cd8a-47dc-b500-8645a1439a32\">\n",
              "        <img src=\"data:image/png;base64,iVBORw0KGgoAAAANSUhEUgAAAMQAAABgCAYAAABCK92TAAAAOXRFWHRTb2Z0d2FyZQBNYXRwbG90\n",
              "bGliIHZlcnNpb24zLjcuMSwgaHR0cHM6Ly9tYXRwbG90bGliLm9yZy/bCgiHAAAACXBIWXMAAA9h\n",
              "AAAPYQGoP6dpAAAMAUlEQVR4nO3dfVATZx4H8O8CiloEKpXIyfurIGRzBnJI9RRP6dRWp9Oz5ebG\n",
              "6UA7g3XuiifVse8d7VTbwapT7uZ8mYpnO6dOB1t72qnFFhWRHtoT6VlfAKHEE0HAiyFCSMjv/kBy\n",
              "G0AQkroL+X1m8sc++zyb3zJ882ySza5ARATGGADAQ+4CGFMSDgRjEhwIxiQ4EIxJcCAYk+BAMCbB\n",
              "gWBMggPBmAQHgjEJDgRjEl5yF8D627NnD9555x1MnTrVof3mzZt48803B10HwKn1WVlZLt6b0UXg\n",
              "c5mUZ8+ePQDQ75+zt32odc6sd/dA8CETYxIcCMYkOBCMSXAgGJPgQDAmwYFgTIIDwZgEB4IxCf5i\n",
              "ToH4m2r5cCAYk+BDJsYkOBCMSXAgGJMYViByc3MRHh4OQRBQWVlpb6+urkZaWhpiY2ORkpKCCxcu\n",
              "OL2OMVnQMJw4cYL0ej2FhYXRuXPn7O3p6elUWFhIRESffvopJScnO72OMTkMKxC9pIFoamqiyZMn\n",
              "k8ViISIim81GKpWKqqurR7xuOLZt29avzWLtpvqW9pHsGnNzTv9iTq/XIygoCF5ePZsSBAGhoaFo\n",
              "aGiAn5/fiNZFR0cP+Fxmsxlms9mh7erVqw7LNc1G5Hz8PbqsNnz78nyM9+K3Sez+jar/lk2bNsHP\n",
              "z8/hUVFR4dBnuv8kGDutuHarAwfO6mWqlI1WTgciJCQEjY2NsFqtAAAiQkNDA0JDQ0e87l5effVV\n",
              "GAwGh4dOp3PoM3G8J/6Y3jPDFHxTjU5Lt7O7yNyI04EIDAzErFmz8MknnwAAioqKEBwcjOjo6BGv\n",
              "uxdvb2/4+vo6PDw9Pfv1+50uBNP9J6LZaMbe8npnd5G5k+G84cjJyaHp06eTp6cnBQYGUlRUFBER\n",
              "Xbp0iVJTUykmJoa0Wi1VVVXZx4x03f1avXr1gO0HzjRQ2LrDpFl/lG53dA17u8w9jfpzmfLy8rBl\n",
              "y5Z+7dZuGzK2ncTVmyasXhiLVQtjZKiOjTaj6k31cHh5eiBvUSwAYFfpVdwydclcERsNxmwgAGBx\n",
              "YhDig3zRbrZi+8lauctho8CYDoSHh4A1GT2zxN9O16P5dqfMFTGlG9OBAIAFMwIxK9QfnRYb/lxS\n",
              "I3c5TOHGfCAEQcCax+IAAPsqGqBvuyNzRUzJxnwgACAt6hE8Gh0ASzfhw2+q5S6HKZhbBAIA1mT0\n",
              "zBJF/7qGmuZ2mathSuU2gfhl6MNYGK+CjYCtx67IXQ5TKLcJBAC8nBELQQCOVDXiwnWD3OUwBXKr\n",
              "QMQH+WKJ+hcAgA++5lmC9edWgQCA1Yti4ekh4NtLzfj+p1tyl8MUxu0CEfHIQ1g2KxgAkH/0Ekb5\n",
              "qVzMxdwuEACQuzAG4z098N3VNpTVtMpdDlMQtwzEdP+J+P2ven6IlP/1ZZ4lmJ1bBgIA/pAejYnj\n",
              "PHFe/18cu9gsdzlMIdw2EFMneyP70XAAwAdfX4bNxrMEc+NAAMCKX0dh8gQvXLphxD+qrstdDlMA\n",
              "tw6E36RxyJkbCQDYWnwFlm6bzBUxubl1IAAge04EAh4aj/rWOyj6/prc5TCZuX0gfLy9sHJ+FADg\n",
              "w2+qYbbyZWvcmdsHAgCWp4Zhmu8EXDd04u//bJC7HCYjDgSACeM8kfubnqty/KWkBne6rDJXxOTC\n",
              "gbjrmeRghAVMQkt7FwrL6uUuh8mEA3HXOE8P/OnutZt2nKiFocMic0VMDhwIiaXidMSqfHC704pd\n",
              "J68OPYCNORwICU8PAXmLen5qurusDi3t5iFGsLFGEYFQ0q21HpupgjrYD3e6uvHX43xxM3ejiECs\n",
              "WLECOTk5uHLlCtatWyfrzcMFQbBfkODj735Co6FDtlrYgyf7xY6bm5sRHR2NtrY2eHl5gYgQFBSE\n",
              "U6dODXpp/F73utixM4gImTu/Q0VdGx6NDoA2bIpLt99L6LvctwGA0KfXQH3k0vufQ6A+y44daIj+\n",
              "rhT88CT7qf0j4fQttZw12C25+gZioFtqdXe7/ptlQRCw9rE4PLO9HGU1rfwjolFEFz5ldAdiODZt\n",
              "2oT169c7tKWmpv4sz5USPgXv/zYJ//7P7SH7juRVu++rI6H/y2X/PsrTu+u9f4PeGe3/y73rB57p\n",
              "+s6AzgqdMtGp8aPqkGmgGeK5555DZGSkQ1t3dzcqKiqg0+kGvMPQg8b1yF9PWFgYVq1aNXRHmW7U\n",
              "4mDevHkO96vWarVObc9gMBAAMhgMLqjOeVzP4JRUjyIOmXbs2IGsrCxs3LgRvr6+KCwslLsk5qYU\n",
              "EYi4uDiUl5fLXQZjyvgegjGlGJOB8Pb2xttvvw1vb2+5SwHA9QxFSfXI/ikTY0oyJmcIxkaKA8GY\n",
              "BAeCMQkOxF3btm3DjRs3XLrN+vp6bN++fdA+ycnJOH78uNPP1dnZiaeeegqxsbEQRRGLFi1CTU3P\n",
              "XVfnz5+PiIgIaDQaaDQabN261T5uxYoVSEpKwoIFC2Aw9NxEhojw+OOPo7Z25Ke/t7a22p9Po9Eg\n",
              "NjYWXl5eaGtrk6We+ybv94LKERYWRufOnXPpNktKSkgUxUH7aLVaKikpcfq5Ojo66MiRI2Sz2YiI\n",
              "qKCggObNm0dEPWcCfPbZZ/3G/PDDD5Senk5EROvXr6eCggIiItq5cye9//77TtcklZ+fT08++aRi\n",
              "6rkXxc8Q5eXlmDNnDkRRhFqtxqFDh3D27FmkpaVBrVZDp9OhrKwMQM8rsr+/v31se3u7w0llgiBg\n",
              "48aN0Ol0iIiIsH8jvmHDBly/fh2ZmZnQaDSorKwcdp0dHR3IzMxEQkICRFFERkYGXnzxRVy+fBka\n",
              "jQZLly4FAJw+fRoajQaJiYnIzs6G1eqaK3xMmDABixcvtu9vamoq6uvrBx0zbtw4mM1m2Gw2mEwm\n",
              "jB8/Ho2Njdi3bx/y8vJcUlevjz76CC+88IJi6rmnBxK7EWptbaXAwEA6efIkERF1d3dTU1MThYSE\n",
              "0FdffUVERKWlpaRSqchoNFJdXR35+fnZxxuNRpLuIgDavHkzERFdvHiRfHx8yGKxEJHzM8TBgwcp\n",
              "IyPDofa+M4TZbKbg4GAqLi4mIqKjR48SAJfMEH0tX76ccnNziajnFTkuLo4SExPp2WefpdraWnu/\n",
              "119/nURRpGXLlpHJZKLMzEw6e/asS2spKysjlUpl/1vLXc9gFB2Iw4cP09y5cx3aqqqqKCwszKFN\n",
              "rVZTaWnpfQWisbHRvuzv7096vZ6InA9EbW0thYSE0MqVK2n//v10+/btfoE4f/48hYeHO4yLjIx0\n",
              "eSDeffddSk1NJZPJREREDQ0NRERks9mooKCA4uPjBxz3+eef05o1a6ilpYWysrLo6aefpv379ztd\n",
              "z/PPP09r1661L8tdz2DGRCBEUaTS0lLS6/Xk4+Njb79582a/QNy6dcu+HBAQQHV1dUTkmvcQRqOR\n",
              "Dh06RC+99BKFhobSwYMHhwxEVFSUSwORn59PWq3WYT/78vb2ppaWFoc2g8FAc+bMIZPJRG+88QYV\n",
              "FhaSxWKhhIQEunPnzojrMRqN5OPjQxcvXlREPUNR9HuItLQ0VFdXo7S0FABgs9mgUqlgs9lQXFwM\n",
              "oOeY/MaNG9BoNJg2bRqICD/++CMAYO/evff9XL6+vvZPNUbi2rVrEAQBS5cuxebNm0FECAgIcNjm\n",
              "jBkzYLVaUVJSAgA4duyYSz852bJlC/bt24fi4mL7eymr1YqmpiZ7n6KiIqhUKgQEBDiMfeWVV/DW\n",
              "W29h0qRJMJlMEAQBgiDAYrGgq6trxDUdOHAAoihixowZiqhnSD9b1FykvLyc0tLSKCkpiURRpC++\n",
              "+ILOnDlDs2fPpqSkJEpJSaHS0lJ7/927d1NERAQlJyfTe++9d98zxK5duygmJoZEURzRTPHll1+S\n",
              "KIqkVqspISGBXnvtNbJYLPTEE0/QzJkzacmSJUTUczwtiiIlJiZSdnY2iaLokhlCr9cTAIqMjCRR\n",
              "FEkURdLpdNTe3k5arZYSExNJrVbTggULqLKy0mHsqVOnKCsry75cU1NDKSkpFB8fTxs2bHCqrtmz\n",
              "Z9Pu3bvty3LXMxQ+l4kxCUUfMjH2oHEgGJPgQDAmwYFgTIIDwZgEB4IxCQ4EYxIcCMYkOBCMSXAg\n",
              "GJPgQDAm8T9hobx9gW4gkAAAAABJRU5ErkJggg==\n",
              "\">\n",
              "        \n",
              "      </div>\n",
              "      <script></script>\n",
              "      <script type=\"text/javascript\">\n",
              "        (() => {\n",
              "          const chartElement = document.getElementById(\"chart-65626c0f-cd8a-47dc-b500-8645a1439a32\");\n",
              "          async function getCodeForChartHandler(event) {\n",
              "            const chartCodeResponse =  await google.colab.kernel.invokeFunction(\n",
              "                'getCodeForChart', [\"chart-65626c0f-cd8a-47dc-b500-8645a1439a32\"], {});\n",
              "            const responseJson = chartCodeResponse.data['application/json'];\n",
              "            await google.colab.notebook.addCell(responseJson.code, 'code');\n",
              "          }\n",
              "          chartElement.onclick = getCodeForChartHandler;\n",
              "        })();\n",
              "      </script>\n",
              "      <style>\n",
              "        .colab-quickchart-chart-with-code  {\n",
              "            display: block;\n",
              "            float: left;\n",
              "            border: 1px solid transparent;\n",
              "        }\n",
              "\n",
              "        .colab-quickchart-chart-with-code:hover {\n",
              "            cursor: pointer;\n",
              "            border: 1px solid #aaa;\n",
              "        }\n",
              "      </style>"
            ]
          },
          "metadata": {}
        },
        {
          "output_type": "display_data",
          "data": {
            "text/plain": [
              "import numpy as np\n",
              "from google.colab import autoviz\n",
              "\n",
              "def value_plot(df, y, figscale=1):\n",
              "  from matplotlib import pyplot as plt\n",
              "  df[y].plot(kind='line', figsize=(8 * figscale, 4 * figscale), title=y)\n",
              "  plt.gca().spines[['top', 'right']].set_visible(False)\n",
              "  plt.tight_layout()\n",
              "  return autoviz.MplChart.from_current_mpl_state()\n",
              "\n",
              "chart = value_plot(_df_11, *['총매출액'], **{})\n",
              "chart"
            ],
            "text/html": [
              "      <div class=\"colab-quickchart-chart-with-code\" id=\"chart-8b94885c-176f-403c-bbd2-9cb25022182a\">\n",
              "        <img src=\"data:image/png;base64,iVBORw0KGgoAAAANSUhEUgAAALkAAABgCAYAAABBnNO7AAAAOXRFWHRTb2Z0d2FyZQBNYXRwbG90\n",
              "bGliIHZlcnNpb24zLjcuMSwgaHR0cHM6Ly9tYXRwbG90bGliLm9yZy/bCgiHAAAACXBIWXMAAA9h\n",
              "AAAPYQGoP6dpAAAOpElEQVR4nO3dfXBTdboH8O/JS5PSNkFb+qLQl1AKlLYnWOiFWuXlXthFFFll\n",
              "ZHZ1oMgO4L2Kcxl0HQG9wLXgwEWdztxBXF6GGQYY3r2AeutuXQrUBaRIV5FLX4CytqUtkKahSZOc\n",
              "5/6RNjaWWtKcpOHs85npNOd33p7qNz9Ozjm/E4GICIwpmGqgC2As2DjkTPE45EzxOORM8TjkTPE4\n",
              "5EzxOORM8TjkTPE45EzxOORM8TQDXYBS7dixA2vXrsWQIUN82puamrBq1apfnAcgoPmFhYUy/zUP\n",
              "NoHvXQmOHTt2AECPwHW19zUvkPkccl98uMIUj0POFI9DzhQv5CFfunQpUlNTIQgCLly40OfylZWV\n",
              "MJvN3p/U1FQ8/PDDwS+UKUbIz67MmTMHb775JgoKCu5r+ezsbJ83w6uvvgpBEIJUHVOikPfkTz75\n",
              "JIYOHdqj/ezZs5g6dSrGjRuHsWPHYt++fT2Wsdvt2LVrFxYuXBiKUplChMV58jt37mDRokU4fvw4\n",
              "kpKS0NzcjMceewz5+fl49NFHvcsdPHgQJpMJZrN54IplD5ywCPnp06dRU1ODGTNm+LRfvnzZJ+Rb\n",
              "t27lXpz5LSxCTkQYM2YMTp8+3esytbW1+Prrr3HgwIEQVhaYtWvXYvPmzT5t3a949javr3XvZz7r\n",
              "hgZISkoKVVRUEBHRrVu3KDExkUpKSrzzKyoqyOFweKdXrlxJL774YqjLZAoQ8sv6ixcvxrFjx9DQ\n",
              "0IDY2FjExMSgqqoK58+fx/Lly9HS0gKn04nk5GQcPnwYer0ekiQhJSUFO3fuxJQpU0JZLlMAvneF\n",
              "KR5f8WSKxyFnischZ4oX0pB/9NFHodwde8BJEqHqZlvA2wlpyK9duxbK3bEH3P5vbuBXH57Apv+9\n",
              "HNB2+HCFhaWWNgeKPrsEt0SI1gd2zZJDzsLSus9+wJ27ToxKjMGCx9MC2haHnIWdr2tasP+bGxAE\n",
              "oOi5bGjVgcWUQ87CSodLwopDlQCA3+Yl47HkhwLeJoechZUtJ6pR3WRDXHQE/vCrUbJs0++Qp6am\n",
              "YuTIkd7haHv37pWlEMautdhQ/OcqAMDKmZkwDtLKst1+fWzdu3cvD1xgsiIirDryHRwuCY+nx+JZ\n",
              "8yOybZsPV1hYOHqxHif+rwkRahXWPpsl6zjefvXk8+bNAxEhLy8P69ev7/G4MgBwOBxwOBw+bW63\n",
              "u39VMkVrtTux5uj3AIB/nTIcpiHRsm7f7578xIkTuHjxIs6fP4+4uDjMnz//nsutW7cORqPR5+fM\n",
              "mTMBF8yUZ+MXl9FkdSAtLgpLJg2XffsB3U9eX1+PjIwMWK3WHvPu1ZOvWrWK719hPr6tu4PZ/30K\n",
              "RMCu3/8THk+Pk30ffh2u2Gw2OJ1ODB48GACwe/dujB079p7L6nQ66HQ6nza1Wt2/KpkiudwS3j5U\n",
              "CSJgtvmRoAQc8DPkjY2NeP755+F2u0FEMJlM2LlzZ1AKY8q3s/wavvuxFQa9BitmZgZtP36F3GQy\n",
              "oaKiIli1sH8g9ZZ2/Ffn3YV/mDEKQ2J0fazRf3wKkQ2INf/zPWwdboxNHozfjk8O6r445Czk/vxD\n",
              "Iz77WwPUKgFFv8mGShXcZ1tyyFlItXe4serwdwCAhQVpGJ1kCPo+OeQspD760xX8/U47HjHq8fo/\n",
              "jwjJPjnkLGQuN1jxx7IaAMDqZ7MQpQvNUwo55CwkJImw4lAlXBJhWmYCpmUmhGzfHHIWEvu+qcO5\n",
              "a7cxKEKN/5g1JqT75pCzoGtpc2DdZz8AAP79XzLw6ODIkO6fQ86Crui4Z1Dy6CQDFjyeGvL9c8hZ\n",
              "UJVXt+DA+c5Byb/JgibAQcn9wSFnQeNwubHisGdQ8u/ykjFWhkHJ/cEhZ0Gz5S81qOkclPzmr+UZ\n",
              "lNwfHHIWFFebbSgu9QxKXvV0JoyR8gxK7g8OOZOdZ1Dy39DhklCQHodZonyDkvuDQ85kd/RiPcqu\n",
              "NCNCo8La2fIOSu4PDjmTlaX9p0HJ/zY5HWlxUQNcUZh8xWGgXG4JN263o7qpDbXNNjhcUq/Ldu9U\n",
              "BAi9tP9kUIQa8QY9Egx6JBr0iIuOGJDTYAPFLRFa252wtDvRavf8trQ70druukebEzdut6PJ6oAp\n",
              "LgpLJpsGunwA/Qj5lStXMH/+fDQ3N8NoNGLHjh0YMyY0l2lb7U7UNNlQfbMN1U1tntdNbbjaYoPT\n",
              "HZrv91IJQFy0DolGPeJj9Eg06pBo0CO+803Q9WYwRGpC8s80EaHDLcHhkmB3uuFwSnC43LB3+213\n",
              "ur3z7b3MtzlcP4XV7vIGu83h8rsmQQD+c3YWdJrwGNPrd8gXL16MRYsWobCwEPv370dhYSHOnj0r\n",
              "W0GSRPj7HU+vXN0Z4prO101WR6/r6TQqmIZEwzQkCjHd7m7r/iwCAvXSjl6XtzlcaGh1oNFiR1Ob\n",
              "A26JcNPqwE2rA4Cl13r0WhUSOkPvCb4OD0VFwO0mON0SOtyEDpcEp1vqnJa6TXvmdXTN66W9K7yh\n",
              "+P6+qAg1DJFaGCO1MOi1MERqYYjUwNitzRjpaU+NHYQRCTHBL+o++fVIips3byI9PR23bt2CRqMB\n",
              "ESEpKQknT55Eenp6n+svW7YMmzZt8mk7VdWMv9a0eAPd1+FGfIwOw4dEY3h8FExx0RgeH43hQ6Lw\n",
              "iDEy6CNM3BKhpc2BxlYHGlrtaGi142arHQ0WOxqtnjdCQ6sdlnZnUOvojSAAeo0aOq0Keo0aeq0K\n",
              "uq7fWjV0GhX0WjX03tc/zY/SaXqE1TOtgSFSG/DjkweSXz15XV0dkpKSoNF4VhMEAcnJybh+/XqP\n",
              "kN/vE7SOV9Zj11+v+7RFqFVIjRvkCXNn79z1O0Y/cOdb1SoB8Z2HJtkw9rqc3elGY6vd+2ZotNjR\n",
              "2GrH7btORGgEaNUq70+ERoUIteB9rVWrENHttVYtdC6jgrbrt1qFCI0AXVegO0MboVYN+JmMcBS0\n",
              "D57r1q3D6tWrfdomTJjQY7mC9DhIRD5hHvrQIKiD3CsHk16rRkpsFFJiB/7MAgvi4cq9evJ58+bB\n",
              "ZPL9xO12u3HmzBnk5eWF3cOHuDb/hbKulJQUvP76630vSH6aNGkSbd++nYiI9u3bR7m5uf5uwofF\n",
              "YiEAZLFYAtpOMHBt/gvHuvw+XPn4449RWFiIoqIiGAwGbN++3d9NMBZSfod85MiRKC8vD0YtjAXF\n",
              "g3teiLH7NOAh1+l0ePfdd3s8ATcccG3+C8e6Ano+OWMPggHvyRkLNg45UzwOOVO8BzLkH374IRoa\n",
              "GoK2/atXr2Lz5s2/uMy4cePw1Vdfybpfu92O2bNnIyMjA6IoYtq0aaiq8oyTnDx5MtLS0rxfEvzB\n",
              "Bx9411u8eDGys7MxdepUWCyeOyOJCDNmzEB1dbUstbW0tHj3bTabkZGRAY1Gg1u3bg14bX0a2GtR\n",
              "/ZOSkkIVFRVB235paSmJoviLy+Tm5lJpaams+21vb6djx46RJElERFRcXEyTJk0iIs+V5kOHDvVY\n",
              "p7KykqZMmUJERKtXr6bi4mIiItqyZQu9//77stbX3YYNG+jpp58Oy9p+TtaevLy8HAUFBRBFETk5\n",
              "OThy5AjOnTuH/Px85OTkIC8vD6dOnQLg6S27vmALANra2nzuoBMEAUVFRcjLy0NaWpr3yuqaNWvw\n",
              "448/Yu7cuTCbzbhw4UJANbe3t2Pu3LnIzMyEKIqYPn06lixZgsuXL8NsNmPWrFkAgNOnT8NsNiMr\n",
              "KwsLFiyAy+X/YIK+6PV6PPXUU97/DhMmTMDVq1d/cR2tVguHwwFJkmCz2RAREYH6+nrs3r0by5Yt\n",
              "k73GLlu3bsXChQvDsrYe5Hq3tLS0UHx8PJ04cYKIiNxuNzU2NtKwYcPo888/JyKisrIySkhIIKvV\n",
              "SrW1tWQ0Gr3rW61W6l4OANq4cSMREV26dImio6PJ6XQSkbw9+cGDB2n69Ok+f8fPe3KHw0FDhw6l\n",
              "kpISIiL64osvCIDsPfnPvfTSS7R06VIi8vSWI0eOpKysLHrhhReourrau9yKFStIFEWaM2cO2Ww2\n",
              "mjt3Lp07dy5odZ06dYoSEhK8/z/CqbZ7kS3kR48epSeeeMKn7eLFi5SSkuLTlpOTQ2VlZfcV8vr6\n",
              "eu/04MGDqa6ujojkDXl1dTUNGzaMXnnlFdqzZw+1trb2CPm3335LqampPuuZTKaghvy9996jCRMm\n",
              "kM1mIyKi69evExGRJElUXFxMo0ePvud6hw8fpuXLl1NzczMVFhbSc889R3v27JG1tpdffpneeOMN\n",
              "73Q41XYvIQ+5KIpUVlZGdXV1FB0d7W1vamrqEfLbt297p2NjY6m2tpaI5D8mt1qtdOTIEXrttdco\n",
              "OTmZDh482GfIhw8fHrSQb9iwgXJzc33+/p/T6XTU3Nzs02axWKigoIBsNhutXLmStm/fTk6nkzIz\n",
              "M+nu3buy1Ga1Wik6OpouXboUdrX1RrZj8vz8fFy5cgVlZWUAAEmSkJCQAEmSUFJSAsBzXNvQ0ACz\n",
              "2YzExEQQEb7/3vP4An++D9RgMHg/qQfqxo0bEAQBs2bNwsaNG0FEiI2N9dn+qFGj4HK5UFpaCgD4\n",
              "8ssvg3ZmYNOmTdi9ezdKSkq8n1lcLhcaGxu9yxw4cAAJCQmIjY31Wfett97CO++8g0GDBsFms0EQ\n",
              "BAiCAKfTiY6ODlnq27t3L0RRxKhRo8Kutl7J+Y4pLy+n/Px8ys7OJlEU6dNPP6WzZ8/SxIkTKTs7\n",
              "m8aPH09lZWXe5bdt20ZpaWk0btw4Wr9+/X335J988gmNGDGCRFEMuEc/fvw4iaJIOTk5lJmZSW+/\n",
              "/TY5nU6aOXMmjRkzhp555hki8hyHiqJIWVlZtGDBAhJFUfaevK6ujgCQyWQiURRJFEXKy8ujtrY2\n",
              "ys3NpaysLMrJyaGpU6fShQsXfNY9efIkFRYWeqerqqpo/PjxNHr0aFqzZo1sNU6cOJG2bdvmnQ6n\n",
              "2nrD964wxXsgLwYx5g8OOVM8DjlTPA45UzwOOVM8DjlTPA45UzwOOVM8DjlTPA45UzwOOVO8/wdU\n",
              "ezpvRwoEBQAAAABJRU5ErkJggg==\n",
              "\">\n",
              "        \n",
              "      </div>\n",
              "      <script></script>\n",
              "      <script type=\"text/javascript\">\n",
              "        (() => {\n",
              "          const chartElement = document.getElementById(\"chart-8b94885c-176f-403c-bbd2-9cb25022182a\");\n",
              "          async function getCodeForChartHandler(event) {\n",
              "            const chartCodeResponse =  await google.colab.kernel.invokeFunction(\n",
              "                'getCodeForChart', [\"chart-8b94885c-176f-403c-bbd2-9cb25022182a\"], {});\n",
              "            const responseJson = chartCodeResponse.data['application/json'];\n",
              "            await google.colab.notebook.addCell(responseJson.code, 'code');\n",
              "          }\n",
              "          chartElement.onclick = getCodeForChartHandler;\n",
              "        })();\n",
              "      </script>\n",
              "      <style>\n",
              "        .colab-quickchart-chart-with-code  {\n",
              "            display: block;\n",
              "            float: left;\n",
              "            border: 1px solid transparent;\n",
              "        }\n",
              "\n",
              "        .colab-quickchart-chart-with-code:hover {\n",
              "            cursor: pointer;\n",
              "            border: 1px solid #aaa;\n",
              "        }\n",
              "      </style>"
            ]
          },
          "metadata": {}
        },
        {
          "output_type": "display_data",
          "data": {
            "text/plain": [
              "import numpy as np\n",
              "from google.colab import autoviz\n",
              "\n",
              "def value_plot(df, y, figscale=1):\n",
              "  from matplotlib import pyplot as plt\n",
              "  df[y].plot(kind='line', figsize=(8 * figscale, 4 * figscale), title=y)\n",
              "  plt.gca().spines[['top', 'right']].set_visible(False)\n",
              "  plt.tight_layout()\n",
              "  return autoviz.MplChart.from_current_mpl_state()\n",
              "\n",
              "chart = value_plot(_df_12, *['구매금액대'], **{})\n",
              "chart"
            ],
            "text/html": [
              "      <div class=\"colab-quickchart-chart-with-code\" id=\"chart-5797a44d-fe9f-41b9-8421-a834fc31131b\">\n",
              "        <img src=\"data:image/png;base64,iVBORw0KGgoAAAANSUhEUgAAAMQAAABgCAYAAABCK92TAAAAOXRFWHRTb2Z0d2FyZQBNYXRwbG90\n",
              "bGliIHZlcnNpb24zLjcuMSwgaHR0cHM6Ly9tYXRwbG90bGliLm9yZy/bCgiHAAAACXBIWXMAAA9h\n",
              "AAAPYQGoP6dpAAAMGElEQVR4nO3dfVATZx4H8O8CilIEWiqRCoR3lEI2YyCHHD3FVjq11en0bLmb\n",
              "dnpoZ7DtnLZSHfve0U61HTz1jnuxehWv7Z06PW3taKcebVEj4qk9Ua++8SJHPBEQvBgihIT87g80\n",
              "3fAOie5Cfp8ZRvd59tn8ovnm2bCbXYGICIwxAICP3AUwpiQcCMYkOBCMSXAgGJPgQDAmwYFgTIID\n",
              "wZgEB4IxCQ4EYxIcCMYk/OQugAFbt27Fu+++i4kTJ7q0NzU14a233uq3D8Bt7c/Ly3P7+Y0kAp/L\n",
              "JL+tW7cCQI8X3632gfpuZ7+3BYJ3mRiT4EAwJsGBYEyCA8GYBAeCMQkOBGMSHAjGJDgQjEnwgTkF\n",
              "4CPVysGBYEyCd5kYk+BAMCbBgWBMYkiBWLJkCaKjoyEIAioqKpztlZWVyMzMRGJiItLT0/HDDz+4\n",
              "3ceYLGgIDhw4QEajkdRqNZ04ccLZnp2dTcXFxURE9Nlnn1FaWprbfYzJYUiBuEUaiIaGBpowYQLZ\n",
              "bDYiInI4HKRSqaiysnLYfUOxYcOGHm02eyfVXm0dzlNjXs7tb8wZjUaEh4fDz69rU4IgICoqCnV1\n",
              "dQgODh5WX3x8fK+PZbVaYbVaXdpqampclqsazcj/5Ht02B347pWZGOvHH5PY4I2oV8uaNWsQHBzs\n",
              "8nP06FGXdSaHBMDcbsela23YcdwoU6VspHI7EJGRkaivr4fdbgcAEBHq6uoQFRU17L6+vPbaazCZ\n",
              "TC4/er3eZZ3xY33x6+yuGabo20q0dXS6+xSZF3E7EGFhYZg2bRo+/fRTAMDOnTsRERGB+Pj4Yff1\n",
              "xd/fH0FBQS4/vr6+Pdb7hT4Sk0PGo9FsxSdHat19isybDOUDR35+Pk2ePJl8fX0pLCyM4uLiiIjo\n",
              "3LlzlJGRQQkJCaTT6ejUqVPOMcPtG6ylS5f22r7jWB2pV+wh7cp9dL2tY8jbZd5pxJ/LVFBQgHXr\n",
              "1vVot3c6kLPhIGqaLHj5oQS8/FCiDNWxkWZEfageCj9fHxTM7grBnw0Xcc3SIXNFbCQYtYEAgDkp\n",
              "4ZgaHoRWqx0bD1bLXQ4bAUZ1IHx8BCx/uGuW+MvhWjReb5e5IqZ0ozoQAJCdFIZpUSFotznw+9Iq\n",
              "ucthCjfqAyEIApY9nAQA2Ha0DsaWGzJXxJRs1AcCADLj7kVW/L2wdRJ++22l3OUwBfOKQABwzhK7\n",
              "/nUJVY2tMlfDlMprAqGNDMHsZBUcBKwvuSB3OUyhvCYQAPBKTiIEAdh7uh7//q9J7nKYAnlVIKZM\n",
              "CsJczX0AgHU8S7BeeFUgAGDp7ET4+gj47lwjvv9Pi9zlMIXxukDE3HsXntRFAAAK953HCD+Vi3mY\n",
              "1wUCABY/mICxvj44UtOCsqpmucthCuKVgZgcMh5PZ3R9Ealw3zmeJZiTVwYCAF6cGY/xY3xx8pIJ\n",
              "JWca5C6HKYTXBmLiBH8szIoGAPzmHxfQ6eBZgnlxIAAg/4E4TBjnh/MNZuw5dVnucpgCeHUgggPG\n",
              "YNHPYgF0Hb22dTpkrojJzasDAQALfhqD0LvGorb5Bv7+/SW5y2Ey8/pA3OXvhxdvXrbmd99Wot3G\n",
              "l63xZl4fCAB4+idRCA8eh3pTO/72zzq5y2Ey4kAAGDfGF0seTAAA/KG0CharXeaKmFw4EDfN10VA\n",
              "HRqAZksHth6ulbscJhMOxE1jJJet2XigGqYbNpkrYnLgQEjM1dyHJNUEmNvt2GTgy9Z4Iw6EhI+P\n",
              "gIKcrlmiuKwWTWbrACPYaKOIQCjp1lo5ySqIEcG40dGJP+7ny9Z4G0UEYtGiRcjPz8eFCxewYsUK\n",
              "WW8WLr1szV+P1OHy/9pkq4XdebJf7LixsRHx8fFoaWmBn58fiAjh4eE4dOhQv5fGv6Wvix27g4jw\n",
              "y81HcKSmBdNjQ6FT3+3R7QuC5O+9NAq9rif0aBuu7v/jBOqzv8eLQ9LZ2wtnoG33vo5ru8sY6r4O\n",
              "dVvXdaw6NAC/yozupbLBcfuWWu7q75Zc3QPR2y21Ojs9f2RZEAQsfzgJP/9TOcprmlFew18iGin0\n",
              "MfeM7EAMxZo1a7By5UqXtoyMjNvyWDr1PVj7pHhbr87hfLdzabv5p6S1+7uhJ/Q20XSffYRe1uq5\n",
              "Tvf+vqew/rZ/q6/X2fHmwo+zqet46diIuwP6fPzBGFG7TL3NEM8++yxiY2Nd2jo7O3H06FHo9fpe\n",
              "7zB0p3E98tejVqvx0ksvDbyiLLdp6WbGjBku96vW6XRubc9kMhEAMplMHqjOfVxP/5RUjyJ2mT78\n",
              "8EPk5eVh9erVCAoKQnFxsdwlMS+liEAkJSWhvLxc7jIYU8ZxCMaUYlQGwt/fH++88w78/f3lLgUA\n",
              "1zMQJdUj+2+ZGFOSUTlDMDZcHAjGJDgQjElwIG7asGEDrly54tFt1tbWYuPGjf2uk5aWhv3797v9\n",
              "WO3t7Xj88ceRmJgIURQxe/ZsVFV1nb4+c+ZMxMTEQKvVQqvVYv369c5xixYtQmpqKmbNmgWTqes0\n",
              "FSLCI488gurq4X9Jqrm52fl4Wq0WiYmJ8PPzQ0tLiyz1DJq8xwWVQ61W04kTJzy6zdLSUhJFsd91\n",
              "dDodlZaWuv1YbW1ttHfvXnI4HEREVFRURDNmzCCirjMBPv/88x5jTp8+TdnZ2UREtHLlSioqKiIi\n",
              "ok2bNtEHH3zgdk1ShYWF9Nhjjymmnr4ofoYoLy9HVlYWRFGERqPB7t27cfz4cWRmZkKj0UCv16Os\n",
              "rAxA1ztySEiIc2xra6vLyWaCIGD16tXQ6/WIiYlxHhFftWoVLl++jNzcXGi1WlRUVAy5zra2NuTm\n",
              "5iI5ORmiKCInJwfPP/88zp8/D61Wi3nz5gEADh8+DK1Wi5SUFCxYsAB2u2eu8DFu3DjMmTPH+Xwz\n",
              "MjJQW1vb75gxY8bAarXC4XDAYrFg7NixqK+vx7Zt21BQUOCRum756KOP8Nxzzymmnj7dkdgNU3Nz\n",
              "M4WFhdHBgweJiKizs5MaGhooMjKSvv76ayIiMhgMpFKpyGw208WLFyk4ONg53mw2k/QpAqC1a9cS\n",
              "EdHZs2cpMDCQbDYbEbk/Q+zatYtycnJcau8+Q1itVoqIiKCSkhIiItq3bx8B8MgM0d0zzzxDS5Ys\n",
              "IaKud+SkpCRKSUmhp556iqqrq53rvfHGGySKIs2fP58sFgvl5ubS8ePHPVpLWVkZqVQq57+13PX0\n",
              "R9GB2LNnDz3wwAMubadOnSK1Wu3SptFoyGAwDCoQ9fX1zuWQkBAyGo1E5H4gqqurKTIykl544QXa\n",
              "vn07Xb9+vUcgTp48SdHR0S7jYmNjPR6I9957jzIyMshisRARUV1dHRERORwOKioqoqlTp/Y67osv\n",
              "vqBly5bR1atXKS8vj5544gnavn272/UsXLiQli9f7lyWu57+jIpAiKJIBoOBjEYjBQYGOtubmpp6\n",
              "BOLatWvO5dDQULp48SIReeYzhNlspt27d9PixYspKiqKdu3aNWAg4uLiPBqIwsJC0ul0Ls+zO39/\n",
              "f7p69apLm8lkoqysLLJYLPTmm29ScXEx2Ww2Sk5Ophs3bgy7HrPZTIGBgXT27FlF1DMQRX+GyMzM\n",
              "RGVlJQwGAwDA4XBApVLB4XCgpKQEQNc++ZUrV6DVajFp0iQQEc6cOQMA+Pjjjwf9WEFBQc7fagzH\n",
              "pUuXIAgC5s2bh7Vr14KIEBoa6rLNKVOmwG63o7S0FADwzTffePQ3J+vWrcO2bdtQUlLi/Cxlt9vR\n",
              "0PDjDWF27twJlUqF0NBQl7Gvvvoq3n77bQQEBMBisUAQBAiCAJvNho6OjmHXtGPHDoiiiClTpiii\n",
              "ngHdtqh5SHl5OWVmZlJqaiqJokhffvklHTt2jKZPn06pqamUnp5OBoPBuf6WLVsoJiaG0tLS6P33\n",
              "3x/0DLF582ZKSEggURSHNVN89dVXJIoiaTQaSk5Optdff51sNhs9+uijdP/999PcuXOJqGt/WhRF\n",
              "SklJoQULFpAoih6ZIYxGIwGg2NhYEkWRRFEkvV5Pra2tpNPpKCUlhTQaDc2aNYsqKipcxh46dIjy\n",
              "8vKcy1VVVZSenk5Tp06lVatWuVXX9OnTacuWLc5luesZCJ/LxJiEoneZGLvTOBCMSXAgGJPgQDAm\n",
              "wYFgTIIDwZgEB4IxCQ4EYxIcCMYkOBCMSXAgGJP4P92q3phtBVCzAAAAAElFTkSuQmCC\n",
              "\">\n",
              "        \n",
              "      </div>\n",
              "      <script></script>\n",
              "      <script type=\"text/javascript\">\n",
              "        (() => {\n",
              "          const chartElement = document.getElementById(\"chart-5797a44d-fe9f-41b9-8421-a834fc31131b\");\n",
              "          async function getCodeForChartHandler(event) {\n",
              "            const chartCodeResponse =  await google.colab.kernel.invokeFunction(\n",
              "                'getCodeForChart', [\"chart-5797a44d-fe9f-41b9-8421-a834fc31131b\"], {});\n",
              "            const responseJson = chartCodeResponse.data['application/json'];\n",
              "            await google.colab.notebook.addCell(responseJson.code, 'code');\n",
              "          }\n",
              "          chartElement.onclick = getCodeForChartHandler;\n",
              "        })();\n",
              "      </script>\n",
              "      <style>\n",
              "        .colab-quickchart-chart-with-code  {\n",
              "            display: block;\n",
              "            float: left;\n",
              "            border: 1px solid transparent;\n",
              "        }\n",
              "\n",
              "        .colab-quickchart-chart-with-code:hover {\n",
              "            cursor: pointer;\n",
              "            border: 1px solid #aaa;\n",
              "        }\n",
              "      </style>"
            ]
          },
          "metadata": {}
        },
        {
          "output_type": "display_data",
          "data": {
            "text/plain": [
              "<google.colab._quickchart_helpers.SectionTitle at 0x7d9617af3040>"
            ],
            "text/html": [
              "<h4 class=\"colab-quickchart-section-title\">Distributions</h4>\n",
              "<style>\n",
              "  .colab-quickchart-section-title {\n",
              "      clear: both;\n",
              "  }\n",
              "</style>"
            ]
          },
          "metadata": {}
        },
        {
          "output_type": "display_data",
          "data": {
            "text/plain": [
              "import numpy as np\n",
              "from google.colab import autoviz\n",
              "\n",
              "def histogram(df, colname, num_bins=20, figscale=1):\n",
              "  from matplotlib import pyplot as plt\n",
              "  df[colname].plot(kind='hist', bins=num_bins, title=colname, figsize=(8*figscale, 4*figscale))\n",
              "  plt.gca().spines[['top', 'right',]].set_visible(False)\n",
              "  plt.tight_layout()\n",
              "  return autoviz.MplChart.from_current_mpl_state()\n",
              "\n",
              "chart = histogram(_df_13, *['고객ID'], **{})\n",
              "chart"
            ],
            "text/html": [
              "      <div class=\"colab-quickchart-chart-with-code\" id=\"chart-be4ed420-44a1-4c1b-9646-8fd31b1b9d1e\">\n",
              "        <img src=\"data:image/png;base64,iVBORw0KGgoAAAANSUhEUgAAAMQAAABgCAYAAABCK92TAAAAOXRFWHRTb2Z0d2FyZQBNYXRwbG90\n",
              "bGliIHZlcnNpb24zLjcuMSwgaHR0cHM6Ly9tYXRwbG90bGliLm9yZy/bCgiHAAAACXBIWXMAAA9h\n",
              "AAAPYQGoP6dpAAAKN0lEQVR4nO3dbVBM7xsH8O8qeqAtNpmQTenBsDbCbPVGrwz/mUre0BgKUyPE\n",
              "1Ax/E+Nx8MIYmQbDC3kaIRkzTMxEmEn6pSQ0lTyVUCltedhou/8vTPs/+9st3ds+OKfrM7Mz7Tmn\n",
              "9rru2avzcN/n3DLGGAMhBAAwwtEBEPI3oYIgRIAKghABKghCBKggCBGggiBEgAqCEAEqCEIEqCAI\n",
              "EaCCIESACsJBcnJyEBgYCI1GY/QKDAz84zoAWLBgAbZv3274e/7+/nB1dYWHhwc8PT0REBCAhIQE\n",
              "FBcXOyhDcXJ2dADD2Y4dO5CYmGi0rO8LP9C6/mRnZ2Pt2rUAgMbGRpw9exbR0dHIzs5GcnKylaKW\n",
              "NioIifLz80NmZiZ0Oh0yMjKwbNkyyOVyR4f116NDJolbsWIFvn79ipKSEkeHIgpUEBI3ZcoUAEBb\n",
              "W5uDIxEHKgiJa2hoAAAoFAoHRyIOVBASd+HCBYwePRoRERGODkUU6KRaopqamnDu3DkcPHgQWVlZ\n",
              "dEI9SLSHkJANGzbAw8MDcrkcUVFRqKysRGFhIdatW+fo0ESD9hAide/ePaP3b9++dUgcUsNdELdv\n",
              "38bChQttEcuws3fvXpw4ccJoWWtrK3bs2DHgOmI7Mt6nbkRFReHz589ITU1FUlISHZsSSeE+hygu\n",
              "LkZubi6eP3+O4OBgpKamorq62haxEWJ33HsIocrKSsTExODDhw+Ijo7G4cOHoVKprBkfIXZl0VWm\n",
              "wsJCxMbGIj4+HuvXr8enT5+QkpKCJUuWWDs+QuyKew8xffp0eHt7Iy0tDfHx8XBycjKsW7RoEQoK\n",
              "CgAAOp0Oy5YtQ3V1Ndzc3ODj44Pjx49j2rRp1s2AECviLojy8nKEh4f/cTudToe7d+9i0aJFkMlk\n",
              "yM7ORl5ensnlQkL+JtyHTOXl5Whvbze8b2trw6lTp0y2c3V1xeLFiyGTyQAAGo2G61p5VlYWb2iE\n",
              "DBl3QRw7dgzjxo0zvFcoFDh27Ngffy8rKwuxsbFm13V3d6Ozs9Po9fr1a97QCBky7o45c0dYer1+\n",
              "wN/Zv38/6uvrcefOHbPrDxw4gN27dxst02g0vKHZjf9/b5pd/vbgf4bF59tDfzkCts2Tew/h6+uL\n",
              "y5cvG95funQJvr6+/W5/6NAh5Ofno6CgAO7u7ma32bZtG7RardFr/vz5vKERMmTce4gjR44gNjYW\n",
              "W7ZsAQC4u7vj+vXrZrc9fPgwLl68iMLCQnh5efX7N11cXODi4mK0THj1ihB74S6I0NBQVFdXo7a2\n",
              "FgAQEhJi9sv7/v17ZGRkICAgANHR0QB+f/FLS0uHGDIhtmPRaFeZTAYvLy/09PSgqakJwP9vVewz\n",
              "efJks+cbhPzNuAsiJycHaWlpGDlyJEaM+H0KIpPJ0NLSYvXgCLE37oLYu3cvysrKEBISYot4CHEo\n",
              "7qtM3t7eVAxEsrgLIi4uDkeOHEFLS4tRRxohUsB9yJSZmQkASE9Ph0wmA2MMMpnsj51zhIgBd0H0\n",
              "9vbaIg5C/goW3Q9RXl6Oc+fOAQA6Ojrw8eNHqwZFiKNYNLhv9erV2LVrF4Dfo10TEhKsHRchDsFd\n",
              "ECdPnsSjR48MDxcIDAxEa2ur1QMjxBG4C8LFxQVubm5Gy5yd6fFORBq4C2L8+PGoq6sz3PiTk5Nj\n",
              "MmyDELGyaLTr8uXLUVNTAz8/P8jlcty4ccMWsRFid9wFMW3aNJSWlqK2thaMsX5HuxIiRtwF0Tff\n",
              "wOjRowGg39GutjQc7hj7m0m5/bkLIjw83NBDrdPp8P37dygUChrtSiSBuyD+fYk1Pz8fT58+tVpA\n",
              "hDjSkOeHiI+Px82b/d8QToiYcO8hhCNb9Xo9SktLabQrkQzugvDy8jKcQzg5OSEoKAhHjx61RWyE\n",
              "2B2NdiVEgOaYI0SAew8xYsQIw7ANIbpRiEgBd0Hs2bMHP378MMxseeLECbi5uWHz5s3Wjo0Qu+Mu\n",
              "iGvXrqG8vNzwft++fQgPDzfcWkqImHGfQ3R1dRn1Sre0tKCrq8uqQRHiKNx7iIyMDKjVaixevBgA\n",
              "cOvWLcPdc4SIHXdBpKSkICoqCkVFRQB+P31jxowZVg+MEEew6LKrQqGASqXCxo0bERISgp8/f5rd\n",
              "7uXLl4iMjERwcDDmzZuHFy9eDClYQmyNuyDy8vKg0WiQlJQEAHjx4gXi4uLMbpuSkoLk5GTU1dVh\n",
              "69atSExMHEqshNgcd0EcOHAAFRUVhvke1Go13r17Z7JdS0sLHj9+jBUrVgAAli5disbGRtTX1w8t\n",
              "YkJsiPscwsnJCQqFwmjZqFGjTLZrbGyEr6+v4QEEMpkMU6ZMQUNDg8nUvN3d3eju7jZaRh18xBG4\n",
              "C8LDwwPNzc2G3uo7d+4YTcJoCXNzzIWGhiI9Pd1kW71eD99//sH8+fNNbl1NTzc/h521xfez3B6f\n",
              "P1zy7+8z9Ho9IiL2mc1fqVRi06ZNQ/tgxqmsrIzNnj2beXp6sqioKDZx4kT25MkTk+2am5uZh4cH\n",
              "+/XrF2OMsd7eXjZhwgT28uVLk211Oh3TarVGL51OZ/bztVotA8C0Wi1v6JJA+ds2f649RG9vL/R6\n",
              "PYqKivDw4UMwxhAZGWl2/jgfHx/MmTMH58+fR2JiIq5evYrJkyebHC4B5ueYI8QRZIzxzXulVqsH\n",
              "fctobW0tEhMT0dbWBrlcjtOnT0OlUlkUaJ/Ozk54enpCq9Uanh44nFD+ts2f+xwiKCgI9fX1Zv/T\n",
              "/1tISAhKSkosCowQR+AuiPb2doSFhSEyMhJjxowxLM/Pz7dqYP1xcXHBzp07h+0hFuVv2/wHfciU\n",
              "nJyMkydP4syZM/jy5QvGjh1rtH7VqlU2CZAQexp0QcyZMwcVFRUmPxMiJRaNZeI8DydENAZ9DvHj\n",
              "xw88e/bM8MS+vp/7zJo1yyYBEmJXg+2wUCqVzN/f3+xr6tSp1u8hMaOuro5FRESwoKAgNnfuXPb8\n",
              "+XO7fK49KZVKFhwczNRqNVOr1Sw3N5cxNnDuYm6XjRs3MqVSyQAYdfBamu9Q24K7p9qRoqOj2enT\n",
              "pxljjF25coXNnTvXsQHZgFKpNNvzP1DuYm6X+/fvs8bGRpO8Lc13qG0hmoLgGQoiZuYKYqDcpdIu\n",
              "wrwtzdcabSGa5zINNHpWalauXAmVSoU1a9agtbV1wNyl2C6W5muNthBNQQwXDx48QFVVFSoqKuDt\n",
              "7U39O3YmmtkS/fz88PHjR/T09MDZ2RmMMTQ0NEhufru+fEaOHInNmzcjODh4wNzlcrnk2sXSfK3R\n",
              "FqLZQwhHzwIYcPSsWH379g0dHR2G9xcvXsTs2bMHzF2K7WJpvlZpC2udFNlDTU0N02g0LCgoiIWH\n",
              "h7OqqipHh2RVr169YmFhYUylUrGZM2eymJgY9ubNG8bYwLmLuV2Sk5PZpEmTmJOTE/Px8WGBgYGM\n",
              "McvzHWpbcA//JkTKRHPIRIg9UEEQIkAFQYgAFQQhAlQQhAhQQRAiQAVBiAAVBCECVBCECFBBECJA\n",
              "BUGIwP8AZAGVy3ApikoAAAAASUVORK5CYII=\n",
              "\">\n",
              "        \n",
              "      </div>\n",
              "      <script></script>\n",
              "      <script type=\"text/javascript\">\n",
              "        (() => {\n",
              "          const chartElement = document.getElementById(\"chart-be4ed420-44a1-4c1b-9646-8fd31b1b9d1e\");\n",
              "          async function getCodeForChartHandler(event) {\n",
              "            const chartCodeResponse =  await google.colab.kernel.invokeFunction(\n",
              "                'getCodeForChart', [\"chart-be4ed420-44a1-4c1b-9646-8fd31b1b9d1e\"], {});\n",
              "            const responseJson = chartCodeResponse.data['application/json'];\n",
              "            await google.colab.notebook.addCell(responseJson.code, 'code');\n",
              "          }\n",
              "          chartElement.onclick = getCodeForChartHandler;\n",
              "        })();\n",
              "      </script>\n",
              "      <style>\n",
              "        .colab-quickchart-chart-with-code  {\n",
              "            display: block;\n",
              "            float: left;\n",
              "            border: 1px solid transparent;\n",
              "        }\n",
              "\n",
              "        .colab-quickchart-chart-with-code:hover {\n",
              "            cursor: pointer;\n",
              "            border: 1px solid #aaa;\n",
              "        }\n",
              "      </style>"
            ]
          },
          "metadata": {}
        },
        {
          "output_type": "display_data",
          "data": {
            "text/plain": [
              "import numpy as np\n",
              "from google.colab import autoviz\n",
              "\n",
              "def histogram(df, colname, num_bins=20, figscale=1):\n",
              "  from matplotlib import pyplot as plt\n",
              "  df[colname].plot(kind='hist', bins=num_bins, title=colname, figsize=(8*figscale, 4*figscale))\n",
              "  plt.gca().spines[['top', 'right',]].set_visible(False)\n",
              "  plt.tight_layout()\n",
              "  return autoviz.MplChart.from_current_mpl_state()\n",
              "\n",
              "chart = histogram(_df_14, *['이탈여부'], **{})\n",
              "chart"
            ],
            "text/html": [
              "      <div class=\"colab-quickchart-chart-with-code\" id=\"chart-df2e84ec-af5d-49ef-aa09-2b0644e60d4d\">\n",
              "        <img src=\"data:image/png;base64,iVBORw0KGgoAAAANSUhEUgAAALoAAABgCAYAAACqq2i4AAAAOXRFWHRTb2Z0d2FyZQBNYXRwbG90\n",
              "bGliIHZlcnNpb24zLjcuMSwgaHR0cHM6Ly9tYXRwbG90bGliLm9yZy/bCgiHAAAACXBIWXMAAA9h\n",
              "AAAPYQGoP6dpAAAJLUlEQVR4nO3dW0gUbx8H8O+2+V+sXK1Vw0rXPOwata2nxPTKq6gX1PQiijAt\n",
              "UDI0MahXIjoY2FVYFxJ2oR0g7WAERQWFVHRQWy1T8RT9U8pc09yk1HJ93gtxX7fdzGd3Nh3n94Eh\n",
              "d3ZYf7/l2/A488yMjDHGQMg8t2C2CyDkb6CgE0mgoBNJoKATSaCgE0mgoBNJoKATSaCgE0mgoBNJ\n",
              "oKATSVg42wXMd+Xl5SgsLISPj4/V+r6+Phw5cmTa9wA49X56errA3YiXjOa6uFZ5eTkA2IRucv2f\n",
              "3nPmfQr6/9HQhUgCBZ1IAgWdSAIFnUgCBZ1IAgWdSAIFnUgCBZ1IAvcJo/v372PTpk2uqmfeoTOj\n",
              "cwN30OPj4/H582dkZ2cjIyMDSqXSVbURIhjuocvTp09RUVGBpqYmaDQaZGdno6WlxRW1ESIYp+a6\n",
              "vHr1ComJifj48SMSEhJw+vRp6HQ6IesjRBAO/TH64MEDJCUlISUlBfv27cOnT5+QlZWFrVu3Cl0f\n",
              "IYLg3qOvWbMG3t7eyM3NRUpKCuRyueW9zZs34+7du4IXSYizuINuMBgQFRXlqnoIcQnuoYvBYMDA\n",
              "wIDldX9/P86fPy9oUQBw5swZwT+TSBd30EtKSrBs2TLLa5VKhZKSEkGLAoD3798L/plEurgvpbM3\n",
              "0jGbzYIUMxOB/71jd/2/p/7z12og4sO9R/fz88PVq1ctrysrK+Hn5ydoUYQIjXuPXlxcjKSkJBw8\n",
              "eBAAsGjRIty6dUvwwggREnfQw8LC0NLSgra2NgCAVqu1OsRIyFzk0O0uZDIZvLy8MDY2hg8fPgAA\n",
              "AgICBC2MECFxB728vBy5ublwc3PDggUTQ3yZTAaj0Sh4cYQIhTvohYWFqKurg1ar/eO2gYGBUCgU\n",
              "cHd3BwAUFBRg27Zt/FUS4iTuoHt7e88o5JMqKysRHh7O+2sIERT34cXk5GQUFxfDaDTi69evloWQ\n",
              "uYx7j3748GEAQH5+PmQyGRhjkMlkvz1plJaWBsYYYmJicOrUKZurYQBgdHQUo6OjVuv+5kkoMv9x\n",
              "79HHx8cti9lstvxrz+PHj9HY2Ij6+np4e3tj165ddrcrKiqCp6en1VJbW8tbGiG/5dB8dIPBgEuX\n",
              "LgEABgcH0dPTY3e7yUOObm5uyMvLw5MnT+xuV1BQAJPJZLXExMQ4Uhohdjk0qWv37t04duwYgInZ\n",
              "izt27LDZ7tu3bxgcHLS8vnLlCiIiIux+pkKhgFKptFroJBQREvcYvbS0FC9evEBcXBwAIDg4GH19\n",
              "fTbb9fb2IjU1FWazGYwxBAUF4eLFi85XTIgDuIM+9bi45UMW2n5MUFAQGhoaHK+MEAFxD118fHzQ\n",
              "3t4OmUwGYOJMKZ3+J3OdQ7MXt2/fjtbWVvj7+0OpVOL27duuqI0QwXAHPSQkBDU1NWhrawNjjGYv\n",
              "ElHgDnpXVxcAYPHixQBAsxeJKHAHPSoqynJGdGRkBN+/f4dKpaLZi2RO4w76r4cSq6qq8Pr1a8EK\n",
              "IsQVnL5tdEpKCu7csX/BMiFzBfcefepMRbPZjJqaGpq9SOY87qB7eXlZxuhyuRyhoaE4e/asK2oj\n",
              "RDDcQR8fH3dFHYS4FD3ahUgC9x59wYIFltP/U/3pAgxCZhN30E+cOIHh4WHs3bsXAHDu3Dm4u7sj\n",
              "Ly9P6NoIEQx30G/evAmDwWB5ffLkSURFRVkusSNkLuIeow8NDVmdBTUajRgaGhK0KEKExr1HP3Dg\n",
              "APR6PbZs2QIAuHfvnuVqI0LmKu6gZ2VlIT4+HtXV1QAm7gawdu1awQsj89Ns3fbbocOLKpUKOp0O\n",
              "OTk50Gq1+PHjh93tOjo6EBcXB41Ggw0bNqC5udmpYglxFHfQr1+/jtjYWGRkZAAAmpubkZycbHfb\n",
              "rKwsZGZmor29HYcOHaInGZNZwx30oqIi1NfXw8vLCwCg1+vtPobFaDTi5cuX2LlzJwAgNTUV3d3d\n",
              "6OzsdK5iQhzAPUaXy+VQqVRW6/755x+b7bq7u+Hn52e5cFomkyEgIABdXV0ICQmx2pbu1EVcjTvo\n",
              "Hh4e6O3ttZwdffjwodXDuxxRVFSE48ePW60LCwtDfn6+1Tqz2Qy/2lrExMTYXL6Xn//QqRrmGrPZ\n",
              "jNrf9CpmKXbWmc1mbNx40m6varUa+/fvd/4XM051dXUsIiKCeXp6svj4eLZixQrW0NBgs11vby/z\n",
              "8PBgP3/+ZIwxNj4+zpYvX846Ojpsth0ZGWEmk8lqGRkZsdnOZDIxAMxkMvGWLTrUq7C49uiT91ms\n",
              "rq7Gs2fPwBhDXFycZbw+la+vLyIjI3H58mWkp6fjxo0bWLVqlc2wBZi4V4xCoXDsfyohM8D95Gi9\n",
              "Xj/jS+fa2tqQnp6O/v5+KJVKlJWVQafTOVQoMHHRh6enJ0wmE5RKpcOfIwbUq7C4x+ihoaHo7Oy0\n",
              "u2f+lVarxfPnzx0qjBAhcQd9YGAA4eHhiIuLw5IlSyzrq6qqBC3MHoVCgaNHj0pimEO9CmvGQ5fM\n",
              "zEyUlpbiwoUL+PLlC5YuXWr1/u/ufU7IXDDjoEdGRqK+vt7mZ0LEwKG5Lpx/vxIy62Y8Rh8eHsab\n",
              "N28sd+ia/HnS+vXrXVIgIYKY6QF3tVrNAgMD7S6rV68W/gj/L9rb29nGjRtZaGgoi46OZk1NTS7/\n",
              "na6mVquZRqNher2e6fV6VlFRwRibvlexfA85OTlMrVYzAFYnFB3tzdm+uc+MzpaEhARWVlbGGGPs\n",
              "2rVrLDo6enYLEoBarbZ7Vnm6XsXyPTx69Ih1d3fb9Ohob872LYqg80wnEBN7QZ+uVzF+D1N7dLQ3\n",
              "IfoWxX1dppsJKXZpaWnQ6XTYs2cP+vr6pu1V7N+Do70J0bcogj5fzfQ5rMR53GdGZ4O/vz96enow\n",
              "NjaGhQsXgjGGrq4u0T984NfnsGo0mml7VSqVov4eHO1NiL5FsUefOhMSwLQzIcXid89hna5XsX8P\n",
              "jvYmSN9C/dHhaq2trSw2NpaFhoayqKgo1tjYONslOeXt27csPDyc6XQ6tm7dOpaYmMjevXvHGJu+\n",
              "V7F8D5mZmWzlypVMLpczX19fFhwczBhzvDdn++aepkuIGIli6EKIsyjoRBIo6EQSKOhEEijoRBIo\n",
              "6EQSKOhEEijoRBIo6EQSKOhEEijoRBL+B9mbrcpdxjtZAAAAAElFTkSuQmCC\n",
              "\">\n",
              "        \n",
              "      </div>\n",
              "      <script></script>\n",
              "      <script type=\"text/javascript\">\n",
              "        (() => {\n",
              "          const chartElement = document.getElementById(\"chart-df2e84ec-af5d-49ef-aa09-2b0644e60d4d\");\n",
              "          async function getCodeForChartHandler(event) {\n",
              "            const chartCodeResponse =  await google.colab.kernel.invokeFunction(\n",
              "                'getCodeForChart', [\"chart-df2e84ec-af5d-49ef-aa09-2b0644e60d4d\"], {});\n",
              "            const responseJson = chartCodeResponse.data['application/json'];\n",
              "            await google.colab.notebook.addCell(responseJson.code, 'code');\n",
              "          }\n",
              "          chartElement.onclick = getCodeForChartHandler;\n",
              "        })();\n",
              "      </script>\n",
              "      <style>\n",
              "        .colab-quickchart-chart-with-code  {\n",
              "            display: block;\n",
              "            float: left;\n",
              "            border: 1px solid transparent;\n",
              "        }\n",
              "\n",
              "        .colab-quickchart-chart-with-code:hover {\n",
              "            cursor: pointer;\n",
              "            border: 1px solid #aaa;\n",
              "        }\n",
              "      </style>"
            ]
          },
          "metadata": {}
        },
        {
          "output_type": "display_data",
          "data": {
            "text/plain": [
              "import numpy as np\n",
              "from google.colab import autoviz\n",
              "\n",
              "def histogram(df, colname, num_bins=20, figscale=1):\n",
              "  from matplotlib import pyplot as plt\n",
              "  df[colname].plot(kind='hist', bins=num_bins, title=colname, figsize=(8*figscale, 4*figscale))\n",
              "  plt.gca().spines[['top', 'right',]].set_visible(False)\n",
              "  plt.tight_layout()\n",
              "  return autoviz.MplChart.from_current_mpl_state()\n",
              "\n",
              "chart = histogram(_df_15, *['총매출액'], **{})\n",
              "chart"
            ],
            "text/html": [
              "      <div class=\"colab-quickchart-chart-with-code\" id=\"chart-a792a6af-ab2a-4f09-b99e-596280c83e2f\">\n",
              "        <img src=\"data:image/png;base64,iVBORw0KGgoAAAANSUhEUgAAAM4AAABgCAYAAABVCU1aAAAAOXRFWHRTb2Z0d2FyZQBNYXRwbG90\n",
              "bGliIHZlcnNpb24zLjcuMSwgaHR0cHM6Ly9tYXRwbG90bGliLm9yZy/bCgiHAAAACXBIWXMAAA9h\n",
              "AAAPYQGoP6dpAAAMdUlEQVR4nO3de0xT5xsH8G+pS72kiOCtjtuqBXdhAkXCcBlD0z/wlwgU/lji\n",
              "Fg1o6zbiDFs2jZFtuojZppFtWVwXBtlc3OaouqxzlxqWsRG5iCi6gGILqKNUWUTc1grt+/uDcLZa\n",
              "bueUtgd5PslJ7Dmv7bfI47k9fSthjDEQQngJCXYAQqYiKhxCBKDCIUQAKhxCBKDCIUQAKhxCBKDC\n",
              "IUQAKhxCBKDCIUQAKhxCBJgR7ABk4iorK7Fnzx4sWLDAY/2NGzewa9euMbcB8Gn7xo0bJ/ndTG0S\n",
              "6lWbOiorKwHA65d4eP1423zZToXjiQ7VCBGAd+H88MMP/shByJTCu3B2796N+Ph4lJWV4fbt2/7I\n",
              "RIjo8S6c3377DV988QUuXLiAuLg4vPDCC/j999/9kY0Q0RJ0jpOUlISPP/4Y33//Pb799ls8/vjj\n",
              "0Gg0aGlpmex8hIiSoMIxm83Izs6GVqvFiy++CJvNBr1ej9zc3MnOR4go8b6P8/DDD2P+/PnYunUr\n",
              "tFotpFIpACA/Px/l5eWTHpAQMeJdOIcPH4ZarR5x28mTJ30ORMhUwPsGqMFgQH5+PsLDwwEAvb29\n",
              "MBqN2Lx5s18Ckn9R54B48C6cxMRENDc3e6xLSkrC2bNnJzMXIaLG++LASHXmcrkmJQwhUwXvwlEo\n",
              "FPjqq6+4x19++SUUCsWkhiJE7HgfqrW2tiI7OxtOpxMAMHv2bJw4cQIqlcovAQkRI0Hd0S6XC21t\n",
              "bQCA+Ph47pI0IdOFoMJxu92w2WwYHBzk1kVHR09qMELEjPc5TmVlJcLCwpCQkAC1Wg21Wo2UlBR/\n",
              "ZJuwsrKyoL4+mX543wDds2cPGhoaEB8f7488gnR2dvL+O7HbTaNu69j3P1/ikGmA9x5n/vz5oioa\n",
              "QoKBd+Hk5OTg4MGDsNvtuH37NrcQMp3wPlTbuXMnAKC4uBgSiQSMMUgkEroJSqYV3oXjdrv9kYOQ\n",
              "KUXQ53HOnDmDzz77DABw69YtdHd3e41xOBzIyclBXFwcVqxYAY1Gg/b2dq9xHR0dkEqlSExM5JYr\n",
              "V64IiUVIwPDe43z44Yf46KOPcOfOHTz33HPo7e3Fpk2bUF1d7TVWp9MhKysLEokEH3zwATZt2oSf\n",
              "f/7Za5xcLvdqHJ0sY109I0Qo3nscg8GA06dPIzQ0FACwdOlS3Lhxw2vczJkzsXbtWkgkEgBAWloa\n",
              "Ojo6fEtLiEjw3uPIZDLMmjXL80lmjP80ZWVlyM7OHnHbX3/9hZUrV8LlciEnJwc7d+4ctY3H6XRy\n",
              "fXLD6MIECTTee5wFCxbg0qVL3J6ksrJy3HabvXv3or29HaWlpV7bFAoFrl+/joaGBpjNZtTU1GD/\n",
              "/v2jPldpaSnmzp3rsdTX1/N9G4T4hHfhHDx4EOvXr0drayuioqLwzjvvjNny8u6778JoNOLkyZOY\n",
              "PXu213aZTIaFCxcCAMLDw1FQUICamppRn2/Hjh3o6+vzWFJTU/m+DUJ8wvtQbdmyZairq0NbWxsY\n",
              "Y2N2Rx84cABHjhyB2WxGWFjYiGPsdjvmzZuHBx54AE6nE0ajEUlJSaO+vkwmg0wm81hH3dkk0HgX\n",
              "TldXFwBgzpw5AIDr168D8O6OvnbtGl5++WUolUpkZmYCGPqlr6urQ0lJCZYsWYItW7bg119/RUlJ\n",
              "CaRSKQYHB7F69WruJishYsW7cNRqNdcx4HA48PfffyMiIgJ2u91jXGRk5IgfswaGptEdptVqodVq\n",
              "+cYgJKh4F869l56NRiPOnTs3aYEImQp8/poPrVYLk4luMpLphfce57+d0C6XC3V1ddQdTaYd3oUT\n",
              "FhbGneNIpVKoVCq89957/shGiE/8+WFF6o4mRAC/fpXh5cuXkZ6ejri4OKxcuRIXL14ccVx5eTlU\n",
              "KhWWLl2KzZs3Y2BgwJ+xCPEZ78IJCQmBVCr1WobX/5der4dOp8OlS5fw2muvjTj/sNVqxa5du1BT\n",
              "U4P29nb09PTAYDAIfkOEBIKgrzLcvn07Ojs70dnZiR07dmD37t3o7+/3uEhgt9vR2NiIZ599FgCQ\n",
              "l5eHq1even0m5+uvv8a6deuwePFiSCQSbNmyBUeOHPHxbRHiX7zPcY4dO4YzZ85wj9966y2o1Wqv\n",
              "u/1Xr16FQqHgOqclEgmio6PR1dWFZcuWceO6uroQExPDPY6NjeW6E0ZC3dFEDHgXTn9/P+x2O9eY\n",
              "abfb0d/fP+nBRlNaWoo333zTY93y5ctRXFzsNdblckFRX4/U1FRe/WzFxad8zjkel8uFegHZAuV+\n",
              "yDdWP8pY/8YxMTF46aWXxg7AeDp06BBbvHgxKygoYAUFBWzJkiXMYDB4jevp6WFyuZwNDAwwxhhz\n",
              "u91s0aJF7PLlyx7j3n77babX67nHJpOJrVq1atTXdzgcrK+vz2NxOBwjju3r62MAWF9fH9+36Xdi\n",
              "zsYY5RsP73McvV6Pn376iZsf4McffxzxS6UWLlyI5ORkHD58GABQVVWFyMhIj8M0YOjc55tvvoHN\n",
              "ZgNjDIcOHcIzzzwz6uvLZDKEhoZ6LPd2SxPid0Kq7Y8//mDV1dWMMcYGBgaY0+kccVxraytLS0tj\n",
              "KpWKqdVqdv78ecYYY4WFhezEiRPcOIPBwJRKJVMqlaygoIDdvXtXSCwvwf5faSxizsYY5RsP78I5\n",
              "evQoi46OZrGxsYwxxpqbm1lWVtakB5sMwf7hjkXM2RijfOPhfahWWlqKpqYm7oNpK1asEDR3cyDI\n",
              "ZDK8/vrrojyUE3M2gPKNh/fXfKSmpqK+vt7jez/pO0DJdMN7jyOXy9HT08NN1nHq1CnuG6gJmS54\n",
              "73EaGxuh0+lgsVjw2GOPwWq1wmQyITEx0U8RCREfXjdA3W43XC4XqqurUVtbC8YY0tPTR52Ig5D7\n",
              "Fa9DtZCQEOh0OsydOxdZWVlYu3ataItmop3ZwTDRebWDraKiAhKJBMePHw92FA9OpxNFRUVQqVRI\n",
              "SEjg+iEDiu9luLy8PK+7/2KUmZnJKioqGGNDl9BTUlKCG+g//vnnH2YymZjb7WaMMfb++++zjIyM\n",
              "4Ia6h9VqZU888QRLS0tjx44dC3YcD9u2bWNFRUXcz6+7uzvgGXgXTmZmJpszZw7TaDQsNzeXW8Rk\n",
              "ou0+YtHQ0MBiYmKCHYPjcrnYmjVrWGNjI8vIyBBV4dy5c4fJ5fKg31+a8DmOTqeDwWDAhg0bsG7d\n",
              "OsybN8+fO0KfTLQzWyzGmlc7GA4cOIBVq1ZBrVYHO4qXK1euIDw8HHv37oXZbMasWbPwxhtvYM2a\n",
              "NQHNMeHCaWxsBABs2LABycnJaGpq8luo6WR4Xu1Tp/zfkT0RFy5cQFVVFX755ZdgRxnR4OAgOjs7\n",
              "8cgjj2Dfvn04e/YsNBoNLl68iEWLFgUsB++PFQAYdaJBsYiKikJ3dzcGBwcxY8YMMMbQ1dU17uTw\n",
              "gTY8r7bZbB5xXu1gqKmpQUdHB1QqFQDAZrNBp9Ohu7sbzz//fJDTDc0YGxISgvXr1wMYuvn+0EMP\n",
              "oaWlJaCFM+FznOXLl7Pz58+zc+fOefx5eBGbjIwMj4sDarU6uIHusX//fpacnMz+/PPPYEcZk9jO\n",
              "cRhjTKPRMJPJxBhjzGKxsIiICHbt2rWAZpjwDdDY2FiuW+BeEokEFotlUgvaV21tbdi4cSN6e3sR\n",
              "GhqKiooKJCQkBDsWgKF5taOioqBUKiGXywH8O6+22Dz99NPYtm0bcnJygh2FY7FYUFhYiJs3byIk\n",
              "JAQlJSXIy8sLaAbenQOEED9PD0XI/YoKhxABqHAIEYAKhxABqHAIEYAKh0x5W7du5W6XNDc3jzu+\n",
              "paWFm6UpMTERsbGxvD+MKahzgBAxyc/Px6uvvoonn3xyQuMTEhI8CqyoqGjUe5SjoT0OmfKeeuop\n",
              "REZGeq1vaGjA6tWrkZKSgqSkJBw9etRrjMPhwOeff47CwkJer0l7HHJfunXrFnQ6Hb777jsoFArc\n",
              "vHkTycnJSE9Px4MPPsiNMxqNUCqVvD/6T4VD7ku1tbWwWCzIysryWN/W1uZROOXl5bz3NgAVDrlP\n",
              "Mcbw6KOPora2dtQxVqsVp0+fRlVVFe/np3Mccl9KT0+H1WqF2Wzm1jU3N+Pu3bvc408++QS5ubmC\n",
              "5s2gJk8y5en1ephMJthsNkREREAul6O9vR1NTU145ZVX0Nvbi4GBAURHR+P48eOYOXMm3G43YmJi\n",
              "8OmnnyIzM5P3a1LhECIAHaoRIgAVDiECUOEQIgAVDiECUOEQIgAVDiECUOEQIgAVDiECUOEQIgAV\n",
              "DiECUOEQIsD/ATzLcXKL3hq4AAAAAElFTkSuQmCC\n",
              "\">\n",
              "        \n",
              "      </div>\n",
              "      <script></script>\n",
              "      <script type=\"text/javascript\">\n",
              "        (() => {\n",
              "          const chartElement = document.getElementById(\"chart-a792a6af-ab2a-4f09-b99e-596280c83e2f\");\n",
              "          async function getCodeForChartHandler(event) {\n",
              "            const chartCodeResponse =  await google.colab.kernel.invokeFunction(\n",
              "                'getCodeForChart', [\"chart-a792a6af-ab2a-4f09-b99e-596280c83e2f\"], {});\n",
              "            const responseJson = chartCodeResponse.data['application/json'];\n",
              "            await google.colab.notebook.addCell(responseJson.code, 'code');\n",
              "          }\n",
              "          chartElement.onclick = getCodeForChartHandler;\n",
              "        })();\n",
              "      </script>\n",
              "      <style>\n",
              "        .colab-quickchart-chart-with-code  {\n",
              "            display: block;\n",
              "            float: left;\n",
              "            border: 1px solid transparent;\n",
              "        }\n",
              "\n",
              "        .colab-quickchart-chart-with-code:hover {\n",
              "            cursor: pointer;\n",
              "            border: 1px solid #aaa;\n",
              "        }\n",
              "      </style>"
            ]
          },
          "metadata": {}
        },
        {
          "output_type": "display_data",
          "data": {
            "text/plain": [
              "import numpy as np\n",
              "from google.colab import autoviz\n",
              "\n",
              "def histogram(df, colname, num_bins=20, figscale=1):\n",
              "  from matplotlib import pyplot as plt\n",
              "  df[colname].plot(kind='hist', bins=num_bins, title=colname, figsize=(8*figscale, 4*figscale))\n",
              "  plt.gca().spines[['top', 'right',]].set_visible(False)\n",
              "  plt.tight_layout()\n",
              "  return autoviz.MplChart.from_current_mpl_state()\n",
              "\n",
              "chart = histogram(_df_16, *['구매금액대'], **{})\n",
              "chart"
            ],
            "text/html": [
              "      <div class=\"colab-quickchart-chart-with-code\" id=\"chart-5cc98d6f-22bc-41e6-bec6-41fba439a043\">\n",
              "        <img src=\"data:image/png;base64,iVBORw0KGgoAAAANSUhEUgAAALoAAABgCAYAAACqq2i4AAAAOXRFWHRTb2Z0d2FyZQBNYXRwbG90\n",
              "bGliIHZlcnNpb24zLjcuMSwgaHR0cHM6Ly9tYXRwbG90bGliLm9yZy/bCgiHAAAACXBIWXMAAA9h\n",
              "AAAPYQGoP6dpAAAJK0lEQVR4nO3dXUhTcR8H8O9cNqyc1tSw0pm6zag13xLTK6+iHlDTiyjCtEDJ\n",
              "0MSgHonoxcCuwrqQsAvtBdJejKCooJCKXtSmZSq+RU9KmZrmklLL+X8uxOHaMv/bWXo6vw8ccmeH\n",
              "+fuNb4e/5/zPOTLGGAMh/zi3uS6AkL+Bgk4kgYJOJIGCTiSBgk4kgYJOJIGCTiSBgk4kgYJOJIGC\n",
              "TiRhwVwX8K8pLy9HYWEhfH19rdb39/fjyJEjM74HwKXvp6enO92fWMlorouwysvLAcAmVFPr//Se\n",
              "K9+XctBp6EIkgYJOJIGCTiSBgk4kgYJOJIGCTiSBgk4kgYJOJIH7hNH9+/exadMmV9UjenRmdH7i\n",
              "Dnp8fDw+f/6M7OxsZGRkQKlUuqo2QgTDPXR5+vQpKioq0NTUBK1Wi+zsbLS0tLiiNkIE49Rcl1ev\n",
              "XiExMREfP35EQkICTp8+Db1eL2R9hAjCoT9GHzx4gKSkJKSkpGDfvn349OkTsrKysHXrVqHrI0QQ\n",
              "3Hv0NWvWwMfHB7m5uUhJSYFcLre8t3nzZty9e1fwIglxFnfQjUYjoqKiXFUPIS7BPXQxGo0YHBy0\n",
              "vB4YGMD58+cFLQoAzpw5I/hnEuniDnpJSQmWLVtmea1SqVBSUiJoUQDw/v17wT+TSBf3pXT2Rjpm\n",
              "s1mQYmYj6L937K7/36n//LUaiPhw79H9/f1x9epVy+vKykr4+/sLWhQhQuPeoxcXFyMpKQkHDx4E\n",
              "ACxatAi3bt0SvDBChMQd9LCwMLS0tKCtrQ0AoNPprA4xEjIfOXS7C5lMBm9vb4yPj+PDhw8AgMDA\n",
              "QEELI0RI3EEvLy9Hbm4u3N3d4eY2OcSXyWTo6+sTvDhChMId9MLCQtTV1UGn0/1x26CgICgUCnh4\n",
              "eAAACgoKsG3bNv4qCXESd9B9fHxmFfIplZWVCA8P5/01hAiK+/BicnIyiouL0dfXh69fv1oWQuYz\n",
              "7j364cOHAQD5+fmQyWRgjEEmk/32pFFaWhoYY4iJicGpU6dsrn4BgLGxMYyNjVmt+5snoci/j3uP\n",
              "PjExYVnMZrPlX3seP36MxsZG1NfXw8fHB7t27bK7XVFREby8vKyW2tpa3tII+S2H5qMbjUZcunQJ\n",
              "ADA0NISenh67200dcnR3d0deXh6ePHlid7uCggKYTCarJSYmxpHSCLHLoUldu3fvxrFjxwBMzl7c\n",
              "sWOHzXbfvn3D0NCQ5fWVK1cQERFh9zMVCgWUSqXVQiehiJC4x+ilpaV48eIF4uLiAAAhISHo7++3\n",
              "2a63txepqakwm81gjCE4OBgXL150vmJCHMAd9OnHxS0fssD2Y4KDg9HQ0OB4ZYQIiHvo4uvri/b2\n",
              "dshkMgCTZ0rp9D+Z7xyavbh9+3a0trYiICAASqUSt2/fdkVthAiGO+ihoaGoqalBW1sbGGM0e5GI\n",
              "AnfQu7q6AACLFy8GAJq9SESBO+hRUVGWM6Kjo6P4/v07VCoVzV4k8xp30H89lFhVVYXXr18LVhAh\n",
              "ruD0baNTUlJw5479C5YJmS+49+jTZyqazWbU1NTQ7EUy73EH3dvb2zJGl8vl0Gg0OHv2rCtqI0Qw\n",
              "3EGfmJhwRR2EuBQ92oVIAvce3c3NzXL6f7o/XYBByFziDvqJEycwMjKCvXv3AgDOnTsHDw8P5OXl\n",
              "CV0bIYLhDvrNmzdhNBotr0+ePImoqCjLJXaEzEfcY/Th4WGrs6B9fX0YHh4WtChChMa9Rz9w4AAM\n",
              "BgO2bNkCALh3757laiNC5ivuoGdlZSE+Ph7V1dUAJu8GsHbtWsELI/+mubrtt0OHF1UqFfR6PXJy\n",
              "cqDT6fDjxw+723V0dCAuLg5arRYbNmxAc3OzU8US4ijuoF+/fh2xsbHIyMgAADQ3NyM5OdnutllZ\n",
              "WcjMzER7ezsOHTok6ScXk7nFHfSioiLU19fD29sbAGAwGOw+hqWvrw8vX77Ezp07AQCpqano7u5G\n",
              "Z2encxUT4gDuMbpcLodKpbJat3DhQpvturu74e/vb7lwWiaTITAwEF1dXQgNDbXalu7URVyNO+ie\n",
              "np7o7e21nB19+PCh1cO7HFFUVITjx49brQsLC0N+fr7VOrPZDP/aWsTExNhcvpef/9CpGuYbs9mM\n",
              "2t/0KmYpdtaZzWZs3HjSbq9qtRr79+93/hczTnV1dSwiIoJ5eXmx+Ph4tmLFCtbQ0GCzXW9vL/P0\n",
              "9GQ/f/5kjDE2MTHBli9fzjo6Omy2HR0dZSaTyWoZHR212c5kMjEAzGQy8ZYtOtSrsLj26FP3Wayu\n",
              "rsazZ8/AGENcXJxlvD6dn58fIiMjcfnyZaSnp+PGjRtYtWqVzbAFmLxXjEKhcOx/KiGzwP3kaIPB\n",
              "MOtL59ra2pCeno6BgQEolUqUlZVBr9c7VCgwedGHl5cXTCYTlEqlw58jBtSrsLjH6BqNBp2dnXb3\n",
              "zL/S6XR4/vy5Q4URIiTuoA8ODiI8PBxxcXFYsmSJZX1VVZWghdmjUChw9OhRSQxzqFdhzXrokpmZ\n",
              "idLSUly4cAFfvnzB0qVLrd7/3b3PCZkPZh30yMhI1NfX2/xMiBg4NNeF8+9XQubcrMfoIyMjePPm\n",
              "jeUOXVM/T1m/fr1LCiREELM94K5Wq1lQUJDdZfXq1cIf4f9Fe3s727hxI9NoNCw6Opo1NTW5/He6\n",
              "mlqtZlqtlhkMBmYwGFhFRQVjbOZexfI95OTkMLVazQBYnVB0tDdn++Y+MzpXEhISWFlZGWOMsWvX\n",
              "rrHo6Oi5LUgAarXa7lnlmXoVy/fw6NEj1t3dbdOjo70527cogs4znUBM7AV9pl7F+D1M79HR3oTo\n",
              "WxT3dZlpJqTYpaWlQa/XY8+ePejv75+xV7F/D472JkTfogj6v2q2z2ElzuM+MzoXAgIC0NPTg/Hx\n",
              "cSxYsACMMXR1dYn+4QO/PodVq9XO2KtSqRT19+Bob0L0LYo9+vSZkABmnAkpFr97DutMvYr9e3C0\n",
              "N0H6FuqPDldrbW1lsbGxTKPRsKioKNbY2DjXJTnl7du3LDw8nOn1erZu3TqWmJjI3r17xxibuVex\n",
              "fA+ZmZls5cqVTC6XMz8/PxYSEsIYc7w3Z/vmnqZLiBiJYuhCiLMo6EQSKOhEEijoRBIo6EQSKOhE\n",
              "EijoRBIo6EQSKOhEEijoRBIo6EQS/g94e7zKHHsPogAAAABJRU5ErkJggg==\n",
              "\">\n",
              "        \n",
              "      </div>\n",
              "      <script></script>\n",
              "      <script type=\"text/javascript\">\n",
              "        (() => {\n",
              "          const chartElement = document.getElementById(\"chart-5cc98d6f-22bc-41e6-bec6-41fba439a043\");\n",
              "          async function getCodeForChartHandler(event) {\n",
              "            const chartCodeResponse =  await google.colab.kernel.invokeFunction(\n",
              "                'getCodeForChart', [\"chart-5cc98d6f-22bc-41e6-bec6-41fba439a043\"], {});\n",
              "            const responseJson = chartCodeResponse.data['application/json'];\n",
              "            await google.colab.notebook.addCell(responseJson.code, 'code');\n",
              "          }\n",
              "          chartElement.onclick = getCodeForChartHandler;\n",
              "        })();\n",
              "      </script>\n",
              "      <style>\n",
              "        .colab-quickchart-chart-with-code  {\n",
              "            display: block;\n",
              "            float: left;\n",
              "            border: 1px solid transparent;\n",
              "        }\n",
              "\n",
              "        .colab-quickchart-chart-with-code:hover {\n",
              "            cursor: pointer;\n",
              "            border: 1px solid #aaa;\n",
              "        }\n",
              "      </style>"
            ]
          },
          "metadata": {}
        },
        {
          "output_type": "display_data",
          "data": {
            "text/plain": [
              "<google.colab._quickchart_helpers.SectionTitle at 0x7d9617b2bb20>"
            ],
            "text/html": [
              "<h4 class=\"colab-quickchart-section-title\">2-d distributions</h4>\n",
              "<style>\n",
              "  .colab-quickchart-section-title {\n",
              "      clear: both;\n",
              "  }\n",
              "</style>"
            ]
          },
          "metadata": {}
        },
        {
          "output_type": "display_data",
          "data": {
            "text/plain": [
              "import numpy as np\n",
              "from google.colab import autoviz\n",
              "\n",
              "def scatter_plots(df, colname_pairs, figscale=1, alpha=.8):\n",
              "  from matplotlib import pyplot as plt\n",
              "  plt.figure(figsize=(len(colname_pairs) * 10 * figscale, 10 * figscale))\n",
              "  for plot_i, (x_colname, y_colname) in enumerate(colname_pairs, start=1):\n",
              "    ax = plt.subplot(1, len(colname_pairs), plot_i)\n",
              "    df.plot(kind='scatter', x=x_colname, y=y_colname, s=(32 * figscale), alpha=alpha, ax=ax)\n",
              "    ax.spines[['top', 'right',]].set_visible(False)\n",
              "  plt.tight_layout()\n",
              "  return autoviz.MplChart.from_current_mpl_state()\n",
              "\n",
              "chart = scatter_plots(_df_17, *[[['고객ID', '이탈여부'], ['이탈여부', '총매출액'], ['총매출액', '구매금액대'], ['구매금액대', '방문빈도']]], **{})\n",
              "chart"
            ],
            "text/html": [
              "      <div class=\"colab-quickchart-chart-with-code\" id=\"chart-efa301bd-880f-445b-a312-88ab3d4c653b\">\n",
              "        <img src=\"data:image/png;base64,iVBORw0KGgoAAAANSUhEUgAAA+MAAAD2CAYAAAC9d1ZlAAAAOXRFWHRTb2Z0d2FyZQBNYXRwbG90\n",
              "bGliIHZlcnNpb24zLjcuMSwgaHR0cHM6Ly9tYXRwbG90bGliLm9yZy/bCgiHAAAACXBIWXMAAA9h\n",
              "AAAPYQGoP6dpAAArrUlEQVR4nO3dfXBUVZ7/8U+nO+lAIIkJ8hiSmEnA4UHCUyqigojugmUJODBU\n",
              "zSBmgAnyW4pRtIRUaYm7W2StsTKrblnoFDC6TLGgIEuNjs8gUqiBdSKaHYFAQoIQkQDBBNJJd87v\n",
              "DyRLSxICdN97u/N+Vd1S7jmdfO/pfO/p731qlzHGCAAAAAAAWCbG7gAAAAAAAOhuKMYBAAAAALAY\n",
              "xTgAAAAAABajGAcAAAAAwGIU4wAAAAAAWIxiHAAAAAAAi1GMAwAAAABgMYpxAAAAAAAsRjEOAAAA\n",
              "AIDFKMYBRIWlS5cqMzNTLpdLZWVlV+z/1VdfKTc3t23JzMxUSkpK+AMFAAAAJHnsDgAAQmHWrFl6\n",
              "4okndPvtt3ep/8iRI4OK9iVLlsjlcoUpOgAAACAYZ8YBRIWJEycqLS3tsvV79uzRXXfdpXHjxmn0\n",
              "6NF6/fXXL+vT1NSkP//5z1qwYIEVoQIAAACcGQcQvc6cOaPCwkK9/fbbGjBggE6ePKkxY8ZowoQJ\n",
              "GjRoUFu/LVu2KCsrS7m5ufYFCwAAgG6FYhxA1Nq9e7cOHz6sadOmBa3fv39/UDG+Zs0azooDAADA\n",
              "UhTjAKKWMUbDhw/X7t27O+xTWVmpzz77TJs3b7YwMgAAAHR33DMOIGpNmDBBlZWV+uCDD9rWlZWV\n",
              "qbm5ue3fa9eu1cyZM5WcnGxDhAAAAOiuXMYYY3cQAHC9Fi1apLfeeku1tbVKTU1V7969VVFRoS++\n",
              "+EKPP/646urq1NLSovT0dG3dulXx8fFqbW1VRkaGXnvtNU2ePNnuTQAAAEA3QjEOAAAAAIDFuEwd\n",
              "AAAAAACLUYwDAAAAAGAxnqYOwHZ1dXWaMmVK27/PnTunw4cP68SJE0pJSbExMgAAACA8utWZ8eef\n",
              "f97uEAC0IzU1VWVlZW1LYWGhpk2b1uVCnNwGohO5DUQnchu4oFsV40eOHLE7BABdsGbNGi1YsKDL\n",
              "/cltIDqR20B0IreBC7hMHYCj7N69W6dPn9Z9993XbrvP55PP5wtaFwgErAgNAAAACJludWYcgPOt\n",
              "WbNG8+bNk8fT/rHC4uJiJSUlBS2lpaUWRwkAAABcn7AW40uXLlVmZqZcLpfKysra1h88eFATJkzQ\n",
              "kCFDNH78eJWXl193G4DI19DQoE2bNmn+/Pkd9ikqKlJ9fX3QkpeXZ2GUQPRi3gaiE7kNOFNYi/FZ\n",
              "s2Zp165dysjICFq/aNEiFRYW6sCBA1q+fLkKCgquuw2IFs3+VtXWN6nZ32p3KJbbuHGjRo0apZtv\n",
              "vrnDPl6vV4mJiUGL2+3usH93Hk/gakXSvE1uA10XSbkNOIUV84zLGGPC9tN/lJmZqa1btyo3N1cn\n",
              "TpxQdna2Tp06JY/HI2OMBgwYoF27dikxMfGa2rKzs7sUx7Jly1RSUhLmrQWuXVnNGa3cVq66Rp9S\n",
              "E7xaef9w5Q5Otjssy0yYMEG//e1v9Zvf/OaqXtdRbnf38QSuldPnbXIbuDZOz23AKayaZyy/Z7ym\n",
              "pkYDBgxoux/U5XIpPT1d1dXV19zWHp/Pp7NnzwYtPOQJTtbsb9XKbeU6evqc4twxOnr6nFZuK+9W\n",
              "Z31279591YV4RxhPIDScNm+T20BoOC23Aaewcp6J2ge48ZAnRJpTjc2qa/QpqUesesZ5lNQjVnWN\n",
              "Pp1qbLY7tIjEeAKRpavzNrkNRBY+kyPSWDnPWF6MDx48WMePH5ff75ckGWNUXV2t9PT0a25rDw95\n",
              "QqRJSYhTaoJX9edbdK7Zr/rzLUpN8ColIc7u0CIS4wmEhtPmbXIbCA2n5TbgFFbOM5YX43379tWY\n",
              "MWO0fv16SdLmzZuVlpam7Ozsa25rz9U+5AmwW5wnRivvH660G3qqOdCqtBt6auX9wxXnidoLWMKK\n",
              "8QRCw2nzNrkNhIbTchtwCkvnGRNGhYWFZtCgQcbtdpu+ffuan/3sZ8YYY7755huTn59vcnJyzNix\n",
              "Y82+ffvaXnOtbV3x6KOPhmbDgDDytQTM8TPnja8lYHcoEaOz3GY8ga6LpHmb3Aa6LpJyG3AKK+YZ\n",
              "S56m7hQ8uRGITuQ2EJ3IbSA6kdvABVzTBQAAAACAxSjGAQAAAACwGMU4AAAAAAAWoxgHAAAAAMBi\n",
              "FOMAAAAAAFiMYhwAAAAAAItRjAMAAAAAYDGKcQAAAAAALEYxDgAAAACAxSjGAQAAAACwGMU4AEfw\n",
              "+XxasmSJcnJyNHLkSM2dO9fukAAAAICw8dgdAABI0ooVK+RyuXTgwAG5XC7V1tbaHRIAAAAQNhTj\n",
              "AGzX2NioNWvW6OjRo3K5XJKk/v372xwVAAAAED5cpg7AdocOHVJKSopWrVqlcePG6Y477tCHH37Y\n",
              "bl+fz6ezZ88GLYFAwOKIAQAAgOtDMQ7Adn6/X0eOHNGwYcO0d+9evfDCC5ozZ46+++67y/oWFxcr\n",
              "KSkpaCktLbUhagAAAODaUYwDsF16erpiYmL061//WpI0evRo3XTTTfrqq68u61tUVKT6+vqgJS8v\n",
              "z+qQAQAAgOtCMQ7Adn369NGUKVP07rvvSpIqKytVWVmpn//855f19Xq9SkxMDFrcbrfVIQMAAADX\n",
              "hQe4AXCE1atXa8GCBVq+fLliYmL08ssva9CgQXaHBQAAAIQFxTgAR8jKytL27dvtDgMAAACwBJep\n",
              "AwAAAABgMYpxAAAAAAAsRjEOAAAAAIDFKMYBAAAAALAYxTgAAAAAABazrRh/++23NWbMGOXm5mrE\n",
              "iBF69dVXJUknTpzQ1KlTlZOToxEjRmjnzp1tr+msDQAAhA/zNhCdyG3APrZ8tZkxRnPnztWOHTt0\n",
              "yy23qKqqSjfffLMeeOABrVixQvn5+XrnnXe0Z88ezZw5U5WVlYqNje20DQAAhAfzNhCdyG3AXrad\n",
              "GXe5XDpz5owk6ezZs0pNTZXX69WmTZv08MMPS5LGjx+vgQMH6uOPP5akTtsAAED4MG8D0YncBuxj\n",
              "y5lxl8uljRs36oEHHlBCQoJOnz6tLVu26IcfflBLS4v69+/f1jczM1PV1dWqq6vrsK09Pp9PPp8v\n",
              "aF0gEAjPBgEAEMWYt4HoRG4D9rLlzLjf79e//uu/asuWLTpy5Ig+/PBDPfjgg/L7/SH7HcXFxUpK\n",
              "SgpaSktLQ/bzAQDoLpi3gehEbgP2sqUYLysr07FjxzRx4kRJFy5vSUtL0759++TxeFRbW9vWt6qq\n",
              "Sunp6UpNTe2wrT1FRUWqr68PWvLy8sK7YQAARCHmbSA6kduAvWwpxgcPHqzjx4/r73//uySpoqJC\n",
              "hw4d0tChQzV79mytXr1akrRnzx59++23mjRpkiR12vZTXq9XiYmJQYvb7bZg6wAAiC7M20B0IrcB\n",
              "e9lyz3i/fv30yiuv6Je//KViYmLU2tqq//iP/1B6erqeffZZPfjgg8rJyVFcXJzWr1/f9mTGztoA\n",
              "AEB4MG8D0YncBuzlMsYYu4OwyrJly1RSUmJ3GABCjNwGohO5DUQnchu4wLavNgMAAAAAoLuiGAfg\n",
              "CJmZmRo6dKhyc3OVm5urjRs32h0SAAAAEDa23DMOAO3ZuHGjcnNz7Q4DAAAACDvOjAMAAAAAYDHO\n",
              "jANwjHnz5skYo7y8PP3bv/2bbrzxxsv6+Hw++Xy+oHWBQMCqEAEAAICQ4Mw4AEfYuXOn9u3bpy++\n",
              "+EJ9+vTRQw891G6/4uJiJSUlBS2lpaUWRwsAAABcH4pxAI6Qnp4uSYqNjdUjjzyiTz75pN1+RUVF\n",
              "qq+vD1ry8vKsDBUAAAC4blymDsB2jY2NamlpUXJysiRpw4YNGj16dLt9vV6vvF5v0Dq32x3uEAEA\n",
              "AICQohgHYLvvvvtOv/jFLxQIBGSMUVZWll577TW7wwIAAADChmIcgO2ysrL0t7/9ze4wAAAAAMtw\n",
              "zzgAAAAAABajGAcAAAAAwGIU4wAAAAAAWIxiHAAAAAAAi1GMAwAAAABgMYpxAAAAAAAsRjEOAAAA\n",
              "AIDFKMYBAAAAALAYxTgAAAAAABajGAcAAAAAwGIU4wAAAAAAWIxiHAAAAAAAi1GMAwAAAABgMYpx\n",
              "AAAAAAAsZlsx7vP5tGTJEuXk5GjkyJGaO3euJOngwYOaMGGChgwZovHjx6u8vLztNZ21AQCA8GHe\n",
              "BqITuQ3Yx7ZifMWKFXK5XDpw4IC++uorPffcc5KkRYsWqbCwUAcOHNDy5ctVUFDQ9prO2gBEh3Xr\n",
              "1snlcmnr1q12hwLgEszbQHQitwH7uIwxxupf2tjYqAEDBujo0aNKTExsW3/ixAllZ2fr1KlT8ng8\n",
              "MsZowIAB2rVrlxITEztsy87O7tLvXbZsmUpKSsK1WQCuU1VVlX71q1/JGKPly5drxowZXXoduQ2E\n",
              "F/M2EJ3IbcBetpwZP3TokFJSUrRq1SqNGzdOd9xxhz788EPV1NRowIAB8ng8kiSXy6X09HRVV1d3\n",
              "2tYen8+ns2fPBi2BQMCybQRwdVpbW7Vw4UK9+OKL8nq9docD4BLM20B0IrcBe9lSjPv9fh05ckTD\n",
              "hg3T3r179cILL2jOnDny+/0h+x3FxcVKSkoKWkpLS0P28wGEVklJiW677TaNHTu2035M6oD1mLeB\n",
              "6ERuA/aypRhPT09XTEyMfv3rX0uSRo8erZtuuklHjhzR8ePH23YAxhhVV1crPT1dgwcP7rCtPUVF\n",
              "Raqvrw9a8vLyrNlAAFfl66+/1ubNm/Xkk09esS+TOmA95m0gOpHbgL08dvzSPn36aMqUKXr33Xd1\n",
              "7733qrKyUpWVlbrttts0ZswYrV+/XgUFBdq8ebPS0tLa7j/prO2nvF7vZZe6ut3usG8bgKv3ySef\n",
              "qKqqSjk5OZKk2tpaFRYW6vjx41q8eHFQ36KiIi1btixo3VNPPWVZrEAk+Jd/+RdVVlZ22G6Mkcfj\n",
              "0R//+Mcu/TzmbSA6kduAzYxNDh06ZO68804zYsQIc8stt5g33njDGGPMN998Y/Lz801OTo4ZO3as\n",
              "2bdvX9trOmvrikcffTSk2wAgPCZNmmTefPPNLvcnt4Fg06ZNu2KfqVOnXtXPZN4GohO5DdjHljPj\n",
              "kpSVlaXt27dftn7o0KH69NNP231NZ20AAOAC04UvSnG5XFf1M5m3gehEbgP26VIxPnHixE6/qsAY\n",
              "o+3bt6uqqipUcQGIUKHYX+zYsSP0gQHdyNUW2gAiA5/JgejSpWI8ISFBa9eu7bTPtGnTQhIQgMjG\n",
              "/gIAgPBgjgWiS5eK8a4cYecoPACJ/QXgBD/88IPmz5/f7uXqLpdLxhiVl5fbEBmA68EcC0QX2+4Z\n",
              "BwAA4fHJJ5/YHQIAALiCLhXjXXkQTFf6AIh+7C8A+3XlvtIdO3Z0+vVnAJyHORaILl0qxm+99VbN\n",
              "nz+/0z5paWkhCQhAZGN/AdiP+0qB6MQcC0SXLhXjY8eOVUZGRqd93G53SAICENnYXwD2475SIDox\n",
              "xwLRpUvF+L//+7/rqaee6vSylxUrVmju3LkhCwxAZGJ/AQBAeDDHAtGlS8W4x+PRxIkTO+2TnJwc\n",
              "ingARDj2F4D9uK8UiE7MsUB04avNAIQU+wvAftxXCkQn5lgguvDVZgAARBnuKwUAwPm6VIw3NTXp\n",
              "tdde67DdGKNjx46FLCgAkYv9BWA/7isFohNzLBBdulSMP/fcc2poaOi0z4svvhiSgABENvYXgP24\n",
              "rxSITsyxQHTpUjG+du1aNTY2dtqnrq5Od9xxR0iCAhC52F8A9uO+UiA6MccC0aVLxfjhw4f19ttv\n",
              "d9pn2rRpIQkIQGRjfwEAQHgwxwLRJWQPcOMIO4CuYn8BhBf3lQLdF3MsEDl4mjoAR/iHf/gH1dbW\n",
              "KiYmRr1799YLL7yg0aNH2x0WEJG4rxQAAOejGAfgCJs2bWp7oNSbb76pgoICffnll/YGBUQo7isF\n",
              "AMD5ulSMNzc3a/78+Z322b9/f0gCAhDZrnV/cemTnevr67nMDrgO3FcKRCc+kwPRpUvFeEtLizIy\n",
              "MjrtExsbG5KAAES269lfzJs3T9u3b5ekDgsJn88nn88XtC4QCFxDpED3xgEvIPLwmRyILl0qxnv2\n",
              "7Kmnn3660z6fffZZSAICENmuZ39x8YFTr776qpYvX95uQV5cXKxnnnkmaF1+fv41RgsAQOTgMzkQ\n",
              "XWK60onvKwXQVaHYXzz00EPavn276urqLmsrKipSfX190JKXl3fN8QIAECn4TA5EFx7gBsB2Z86c\n",
              "0blz5zRw4EBJ0tatW5WamqqUlJTL+nq9Xnm93qB1brfbkjiBSMF9pQAAOF+XivFAIKDq6uoO240x\n",
              "ampquqYA1q1bp/nz5+vNN9/UjBkzdOLECc2bN0+HDh2S1+vVSy+9pIkTJ0pSp20AnOFa9hf19fWa\n",
              "PXu2zp8/r5iYGN144436y1/+wtF94BqF875S5m3APuH8TA7Ael0qxmfNmqV169Z12mfy5MlX/cur\n",
              "qqr0xz/+Meh+zxUrVig/P1/vvPOO9uzZo5kzZ6qyslKxsbGdtgFwhmvZX2RkZKi0tDScYQHdSrju\n",
              "K2XeBuwVrs/kEgfaADt0qRj/7W9/G/Jf3NraqoULF+rFF1/UY4891rZ+06ZNqqiokCSNHz9eAwcO\n",
              "1Mcff6y777670zYAzhCO/QWAqxOO+0qZtwH7hWuO5UAbYI8uPcAtHEpKSnTbbbdp7Nixbevq6urU\n",
              "0tKi/v37t63LzMxUdXV1p23t8fl8Onv2bNDC1x8BAHBtmLeB6HTpgbZLn8myadMmPfzww5KCD6Zd\n",
              "qQ1A19nyALevv/5amzdv1s6dO8P2O/j6IwBAdxXq+0qZt4HoZcWBNp/PF7SOA23ABbYU45988omq\n",
              "qqqUk5MjSaqtrVVhYaGeeeYZeTwe1dbWtiV4VVWV0tPTlZqa2mFbe4qKirRs2bKgdU899VQYtwoA\n",
              "AGcI9X2lzNtAdOJAG2AvW4rxxYsXa/HixW3/vvPOO/XII49oxowZ+vzzz7V69WqtXLlSe/bs0bff\n",
              "fqtJkyZJkmbPnt1h20/x9UcAgO4q1PeVMm8D0YkDbYC9HPc9488++6wefPBB5eTkKC4uTuvXr297\n",
              "GERnbQAAwHrM20Dk4kAbYC9HFOM7duxo+/9+/frpvffea7dfZ20AAMAazNtA9ONAGxB+jijGAQAA\n",
              "ANiLA22AtWz7ajMAAAAAALorinEAAAAAACxGMQ4AAAAAgMUoxgEAAAAAsBjFOAAAAAAAFqMYBwAA\n",
              "AADAYhTjAAAAAABYjGIcAAAAAACLUYwDsF1TU5NmzJihIUOGaNSoUbrnnntUUVFhd1gAAABA2FCM\n",
              "A3CEwsJC7d+/X19++aWmT5+uhQsX2h0SAAAAEDYU4wBsFx8fr3vvvVcul0uSlJ+fr6qqKnuDAgAA\n",
              "AMLIY3cAAPBTzz//vKZPn95um8/nk8/nC1oXCASsCAsAAAAIGc6MA3CUVatWqaKiQsXFxe22FxcX\n",
              "KykpKWgpLS21OEoAAADg+lCMA3CM5557Tlu2bNFf//pX9ezZs90+RUVFqq+vD1ry8vIsjhQAAAC4\n",
              "PlymDsARSkpKtGHDBn3wwQdKTk7usJ/X65XX6w1a53a7wxwdAAAAEFoU4wBsd/ToUT322GPKysrS\n",
              "5MmTJV0ouj///HObIwMAAADCg2IcgO3S0tJkjLE7DAAAAMAy3DMOAAAAAIDFKMYBAAAAALAYxTgA\n",
              "AAAAABajGAcAAAAAwGIU4wAAAAAAWIxiHAAAAAAAi9lSjDc1NWnGjBkaMmSIRo0apXvuuUcVFRWS\n",
              "pBMnTmjq1KnKycnRiBEjtHPnzrbXddYGAADCg3kbiE7kNmAv286MFxYWav/+/fryyy81ffp0LVy4\n",
              "UJK0YsUK5efn6+DBg1q3bp1+9atfqaWl5YptAAAgfJi3gehEbgP2saUYj4+P17333iuXyyVJys/P\n",
              "V1VVlSRp06ZNevjhhyVJ48eP18CBA/Xxxx9fsQ0AAIQH8zYQnchtwF4euwOQpOeff17Tp09XXV2d\n",
              "Wlpa1L9//7a2zMxMVVdXd9rWHp/PJ5/PF7QuEAiEZwMAAOhGmLeB6ERuA9ay/QFuq1atUkVFhYqL\n",
              "i0P6c4uLi5WUlBS0lJaWhvR3AADQ3TBvA9GJ3AasZ2sx/txzz2nLli3661//qp49eyo1NVUej0e1\n",
              "tbVtfaqqqpSent5pW3uKiopUX18ftOTl5YV9mwAAiFbM20B0IrcBe9hWjJeUlGjDhg16//33lZyc\n",
              "3LZ+9uzZWr16tSRpz549+vbbbzVp0qQrtv2U1+tVYmJi0OJ2u8O7UQAARCnmbSA6kduAfWy5Z/zo\n",
              "0aN67LHHlJWVpcmTJ0u6kKiff/65nn32WT344IPKyclRXFyc1q9fr9jYWEnqtA0AAIQH8zYQncht\n",
              "wF62FONpaWkyxrTb1q9fP7333ntX3QYAAMKDeRuITuQ2YC/bH+AGAJK0dOlSZWZmyuVyqayszO5w\n",
              "AACATZr9raqtb1Kzv9XuUICwohgH4AizZs3Srl27lJGRYXcoAADAJmU1Z/TLlz/V7Jd365cvf6qy\n",
              "mjN2hwSEDcU4AEeYOHGi0tLS7A4DAADYpNnfqpXbynX09DnFuWN09PQ5rdxWzhlyRC1b7hkHgGvl\n",
              "8/nk8/mC1gUCAZuiAQAAoXKqsVl1jT4l9YhVz7gLZUpdo0+nGpvVPyne5uiA0OPMOICIUlxcrKSk\n",
              "pKCltLTU7rAAAMB1SkmIU2qCV/XnW3Su2a/68y1KTfAqJSHO7tCAsKAYBxBRioqKVF9fH7Tk5eXZ\n",
              "HRYAALhOcZ4Yrbx/uNJu6KnmQKvSbuiplfcPV5yHkgXRicvUAUQUr9crr9cbtM7tdtsUDQAACKXc\n",
              "wcnatOhWnWpsVkpCHIU4ohp/3QAcYdGiRUpLS9PRo0f1j//4j8rOzrY7JAAAYIM4T4z6J8VTiCPq\n",
              "cWYcgCO8/PLLdocAAAAAWIbDTQCiWrO/VbX1TXwtCgAAAByFM+MAolZZzRmt3FauukafUhO8Wnn/\n",
              "cOUOTrY7LAAAAIAz4wCiU7O/VSu3lavm1DmZVqOaU+e0cls5Z8gBAADgCJwZBxCVTjU2q/rUOZ1u\n",
              "bJaR5JJkflzfPyne5ugAAADQ3XFmHEBU8rpjdObchUJculCInznXLK+b3R4AAADsx6dSAFGp5sw5\n",
              "SRfOiF9cLl0PAAAA2IliHEBUyurTS/GxbhlJMa4LZ8bjY93K6tPL7tAAAAAAinEA0alXvEfzb79J\n",
              "MS4pYC4U5PNvv0m94nlUBgAAAOxHMQ4gKjX7W7Xr4End0DNOacnxuqFnnHYdPMnT1AEAAOAIFOMA\n",
              "otKpxmbVNfqU1MOjXvGxSurhUV2jT6cam+0ODQAAAOCrzQBEp5SEOPWIdevw940yMnLJpawbE5SS\n",
              "EGd3aAAAAABnxgFEL/Pj95q5fnyW+sV/AwAAAHajGAcQlU41NutsU8uPOzmjGElnm1q4TB0AAAdr\n",
              "aPJr39Ezamjy2x0KEHZcpg4gKvXyevRDk18trUYet0stAaMfmvzq5WW3BwCAE23aW6On//tr+fyt\n",
              "8npi9Mz0EfrluMF2hwWEDWfGAUSlBp9fveI9ivNc2M3FeWLUK96jBh9H2gEAcJqGJr+efPMrnW9p\n",
              "VauRzre06sk3v+IMOaJaxBXjBw8e1IQJEzRkyBCNHz9e5eXldocEIARCndspCXEamNRDvbxuDUyK\n",
              "//G/PXiAG2Ax5m0gOoU6t8uP1as5EPxwl+aAUfmx+uv6uYCTRVwxvmjRIhUWFurAgQNavny5CgoK\n",
              "QvJzm/2tqq1vcvR3EHcUo5Nij4T7fJw0Xu1xenzhEurcjvPEaOX9wzU4JUGtkganJGjl/cPbzpQD\n",
              "ViO3Qztvt+fiGDc0+dvG+qfjfnGeOt3Q3C3fD4QeuR2a3G4JtD9+Ha0HokFE3Tx54sQJ7d27V++9\n",
              "954k6Re/+IWWLFmiiooKZWdnX/PPLas5o5XbylXX6FNqglcr7x+u3MHJIYo6NDqK0Umxb9pbo5Xb\n",
              "ytvu81l5/3DH3efjpPFqj9PjC5dw5Xbu4GRtWnSrTjU2KyUhjkIctiG3Q5vb7bk4xsfqz6uhya/e\n",
              "8R4lxsfK5ZLOtwSUmuDV7Tl9tHZXpZpaApKk5J5xSk/p2W3eD4QeuR263B6Q3OOq1gPRIKI+mdbU\n",
              "1GjAgAHyeC4cQ3C5XEpPT1d1dfVlfX0+n86ePRu0BAKBy/o1+1u1clu5jp4+pzh3jI6ePqeV28od\n",
              "dXSzoxgbmvyOif1iLOebA4pxSeebA20xOoXT32unxxdO4cjti+I8MeqfFE8hDtuQ2+HJ7UtdHOOa\n",
              "U42qP9ei880BnW5oVuXJRh3+vlGxMS7VnDqnl7ZX6FxzQMZIrUY63dismlPd5/1AaJHboc3tfr3j\n",
              "Fed2Ba2Lc7vUr3d8eDYCcICo/XRaXFyspKSkoKW0tPSyfqcam1XX6FNSj1j1jPMoqUes6hp9jvr6\n",
              "o45iPHyywTGxHz7ZIJ+/VR63S56YGHncLvn8rTp8ssHyWDri9Pfa6fE5RVdzG3AKcrtrrie3L45x\n",
              "L69HrebCNyi06sK9p0ZGcR63esTGqNVIl37WN5J6xMbwfuCakNtd09XcbvD5lZwQpzi3S56YC4V4\n",
              "ckIcD15FVIuoYnzw4ME6fvy4/P4LSWmMUXV1tdLT0y/rW1RUpPr6+qAlLy/vsn4pCXFKTfCq/nyL\n",
              "zjX7VX++RakJXkc95KmjGLP69HJM7Fl9esnriZE/YORvbZU/YOT1xCirTy/LY+mI099rp8cXTuHI\n",
              "bcApyO3w5/bFMW7w+RXjcskfMIrRharbJZea/QGdb2lVjEu69PlQLl14YnN3eT8QWuR26D+TD0zq\n",
              "od7xHg1KvvBfHryKaBdRxXjfvn01ZswYrV+/XpK0efNmpaWltXtvitfrVWJiYtDidrsv63fxIU9p\n",
              "N/RUc6BVaTf0dNxDnjqKsVe8xzGxX4ylR5xbrUbqEedui9EpnP5eOz2+cApHbgNOQW6HP7cvfWBj\n",
              "Us9Y9Yhz64ZecbqpT4KybkxQS6vR4JSe+n+Ts9Uzzi2XS4pxSTckxGlwSvd5PxBa5HZ4PpPz4FV0\n",
              "Jy5jjLlyN+fYv3+/CgoKVFdXp8TERK1bt04jR47s0muXLVumkpKSdtua/a2Of8hTRzE6KfaGJr8O\n",
              "n2xQVp9ejirEL+Wk8WqP0+MLl3DlNuAU5Hb4c/viGPfyetTg87edUbt03C/OU4OTe8oXaO127wdC\n",
              "j9zufp/JgVBxZrXUiaFDh+rTTz8N+c+9+JAnJ+soRifF3iveo1vSku0Oo1NOGq/2OD2+cAlXbgNO\n",
              "QW6H36VjfOkB4UvHPRLmKUQWcju0uut4onvicBMAAAAAABajGAcAAAAAwGIU4wAAAAAAWCziHuB2\n",
              "PR544AFlZma22xYIBFRaWqq8vDzHPpmZGEPD6TF2Nb6MjAz97ne/szAy5yK3w48Yrx+5ffUiPbev\n",
              "JNK3gfivDrn9fyI9t4kxNJweoxXzdrcqxjtz9uxZJSUlqb6+XomJiXaH0y5iDA2nx+j0+CJNJIwn\n",
              "MYaG02N0enyRJhrGM9K3gfgRDpHwvhBjaDg9Rivi4zJ1AAAAAAAsRjEOAAAAAIDFKMYBAAAAALAY\n",
              "xfiPvF6vnn76aXm9XrtD6RAxhobTY3R6fJEmEsaTGEPD6TE6Pb5IEw3jGenbQPwIh0h4X4gxNJwe\n",
              "oxXx8QA3AAAAAAAsxplxAAAAAAAsRjEOAAAAAIDFKMYBAAAAALAYxbikgwcPasKECRoyZIjGjx+v\n",
              "8vJyy2NoamrSjBkzNGTIEI0aNUr33HOPKioqJEl33nmnbrrpJuXm5io3N1d/+MMf2l534sQJTZ06\n",
              "VTk5ORoxYoR27twZ1jgzMzM1dOjQtlg2btwoqfMxtHJ86+rq2mLLzc3VkCFD5PF4dOrUKVvHcenS\n",
              "pcrMzJTL5VJZWVnb+msdNyf8zUYKu8eK3A4Nchs/Fclj1dl+IdKsW7dOLpdLW7dutTuUq+Lz+bRk\n",
              "yRLl5ORo5MiRmjt3rt0h4Ud25zbzdmgwb3eRgZk8ebJZt26dMcaY119/3YwbN87yGM6fP2/eeust\n",
              "09raaowx5sUXXzSTJk0yxhgzadIk8+abb7b7ut/85jfm6aefNsYYU1paagYNGmSam5vDFmdGRob5\n",
              "29/+dtn6zsbQzvH9/e9/b+677z5jjL3j+PHHH5uamprLxu9ax80Jf7ORwu6xIrfDg9xGJI9VZ/uF\n",
              "SFJZWWluvfVWk5+f32EOOtUjjzxilixZ0vYeHD9+3OaIcJHduc28HR7M2+3r9sX4d999Z3r37m1a\n",
              "WlqMMca0traafv36mYMHD9oa1549e0xGRoYxpvM/2ISEhKAJZPz48eb9998PW1ztJX5nY2j3+N58\n",
              "881tY+eEcbx0/K513Owe00jixLEit0OD3O7eom2sLt0vRIpAIGCmTJli9u7d22kOOlFDQ4Pp3bu3\n",
              "qa+vtzsU/IQTc5t5OzSYt9vX7S9Tr6mp0YABA+TxeCRJLpdL6enpqq6utjWu559/XtOnT2/794oV\n",
              "KzRy5EjNmTNHhw8flnTh8o+Wlhb179+/rV9mZmbYY583b55GjhypBQsW6Pvvv+90DO0c3927d+v0\n",
              "6dO677772tY5aRyvddyc+jfrRE4cK3L7+pHbiLax+ul+IRKUlJTotttu09ixY+0O5aodOnRIKSkp\n",
              "WrVqlcaNG6c77rhDH374od1hQc7Mbebt68e83bFuX4w70apVq1RRUaHi4mJJ0n/+53/qm2++0b59\n",
              "+3THHXcE/SFbbefOndq3b5+++OIL9enTRw899JBtsVzJmjVrNG/evLYEcdI4onsit0OD3EY0+el+\n",
              "IRJ8/fXX2rx5s5588km7Q7kmfr9fR44c0bBhw7R371698MILmjNnjr777ju7Q4PDMG+HBvN2J0J7\n",
              "wj/y2H3Jxk/9/ve/N2PHjjWnT5/usI/X6zUnT540xhjTs2dPSy+JudSxY8dMr169HHlJzA8//GB6\n",
              "9epl/v73v3fYx45xdMolMd2Fk8aK3A4NchvGOCu3r0dX9gtO9NJLL5n+/fubjIwMk5GRYbxer7nx\n",
              "xhvNSy+9ZHdoXfL999+bmJgY4/f729aNGzfOsn0sOuak3GbeDg3m7c51+zPjffv21ZgxY7R+/XpJ\n",
              "0ubNm5WWlqbs7GzLYykpKdGGDRv0/vvvKzk5WdKFo7eXHqndvHmz+vXrp9TUVEnS7NmztXr1aknS\n",
              "nj179O2332rSpElhia+xsVFnzpxp+/eGDRs0evToTsfQrvHduHGjRo0apZtvvlmSs8bxomsdNyf9\n",
              "zTqdU8aK3A4dchuSc3L7erS3X4gUixcv1vHjx1VVVaWqqirl5+frlVde0eLFi+0OrUv69OmjKVOm\n",
              "6N1335UkVVZWqrKyUj//+c9tjgxOyW3m7dBh3r6C0B5jiEzffPONyc/PNzk5OWbs2LFm3759lsdQ\n",
              "U1NjJJmsrCwzatQoM2rUKJOXl2caGhrM2LFjzYgRI8wtt9xi7rrrLlNWVtb2utraWnPPPfeY7Oxs\n",
              "M2zYMPPRRx+FLcZDhw6Z3NxcM3LkSDNixAhz//33m8rKSmNM52Nox/jeeuutZu3atW3/tnscCwsL\n",
              "zaBBg4zb7TZ9+/Y1P/vZz4wx1z5uTvibjRR2jxW5HVrkNi6K5LHqaL8QqSLtAW7GXNjv3XnnnW37\n",
              "jjfeeMPukPAju3ObeTu0mLc75zLGmJAeWgAAAAAAAJ3q9pepAwAAAABgNYpxAAAAAAAs5rE7AACA\n",
              "9V555RW98cYbion5v2Oy586dU2xsrGJjY4P6ZmVlacGCBXr88cfl9Xrb1re0tOjRRx/V//zP/+jT\n",
              "Tz8Nek1DQ4N27doV3o0AcBlyG4geVuXz7bffrl69egW13XrrrXr66afDsFW4FMU4ruhqdwQvvfSS\n",
              "CgoKlJubq0ceeUR/+tOf9Lvf/U5ZWVlqampSXFycHnjgAT3xxBPq0aOH1ZsDQNKxY8f0yiuvKDMz\n",
              "s23dypUrVVVVpT/96U9BfQsKCvTDDz/ooYceUkFBQdv6HTt2qKqqSpWVlXrnnXcuew0A65HbQPSw\n",
              "Kp+zs7Pb/XkIP4pxXNHV7gjaM3nyZG3dulWSdOLECS1cuFBz5szRtm3bwhM0AAAAADgY94zDcn37\n",
              "9tWrr76qDz74QOXl5XaHAwAAcJmlS5cqMzNTLpdLZWVlV+z/1VdfKTc3t23JzMxUSkpK+AMFELE4\n",
              "Mw5b3HDDDcrJyVF5ebmGDx9udzgAAABBZs2apSeeeEK33357l/qPHDkyqGhfsmSJXC5XmKIDEA04\n",
              "Mw7b8BX3AADAqSZOnKi0tLTL1u/Zs0d33XWXxo0bp9GjR+v111+/rE9TU5P+/Oc/a8GCBVaECiBC\n",
              "cWYctjh9+rQqKio0YsQIu0MBAADokjNnzqiwsFBvv/22BgwYoJMnT2rMmDGaMGGCBg0a1NZvy5Yt\n",
              "ysrKUm5urn3BAnA8inFY7vvvv1dhYaHuvvtuDRs2zO5wAAAAumT37t06fPiwpk2bFrR+//79QcX4\n",
              "mjVrOCsO4IooxmGJ7du3a/To0Tp//ry8Xq9mzpyp5cuX2x0WAABAlxljNHz4cO3evbvDPpWVlfrs\n",
              "s8+0efNmCyMDEIkoxhEWl37lWUFBAd9VCDhMTEyMCgoKFB8f37bu8OHDamlp0dSpU4P6ejweuVwu\n",
              "/eEPf9B//dd/ta0/ffq0/umf/klut/uy1/zv//5veDcAQLvI7fCaMGGCKisr9cEHH+juu++WJJWV\n",
              "lWnYsGGKi4uTJK1du1YzZ85UcnKyjZEiGliVzx999NFlbZde6YHwcRmeooUr+Od//md99NFH7e4I\n",
              "hg4dGtTX4/HoL3/5i9UhAgAAhNSiRYv01ltvqba2Vqmpqerdu7cqKir0xRdf6PHHH1ddXZ1aWlqU\n",
              "np6urVu3Kj4+Xq2trcrIyNBrr72myZMn270JAByOYhwAAAAAAIvx1WYAAAAAAFiMYhwAAAAAAItR\n",
              "jAMAAAAAYDGKcQAAAAAALEYxDgAAAACAxSjGAQAAAACwGMU4AAAAAAAWoxgHAAAAAMBiFOMAAAAA\n",
              "AFiMYhwAAAAAAItRjAMAAAAAYLH/D31/X6CwfEghAAAAAElFTkSuQmCC\n",
              "\">\n",
              "        \n",
              "      </div>\n",
              "      <script></script>\n",
              "      <script type=\"text/javascript\">\n",
              "        (() => {\n",
              "          const chartElement = document.getElementById(\"chart-efa301bd-880f-445b-a312-88ab3d4c653b\");\n",
              "          async function getCodeForChartHandler(event) {\n",
              "            const chartCodeResponse =  await google.colab.kernel.invokeFunction(\n",
              "                'getCodeForChart', [\"chart-efa301bd-880f-445b-a312-88ab3d4c653b\"], {});\n",
              "            const responseJson = chartCodeResponse.data['application/json'];\n",
              "            await google.colab.notebook.addCell(responseJson.code, 'code');\n",
              "          }\n",
              "          chartElement.onclick = getCodeForChartHandler;\n",
              "        })();\n",
              "      </script>\n",
              "      <style>\n",
              "        .colab-quickchart-chart-with-code  {\n",
              "            display: block;\n",
              "            float: left;\n",
              "            border: 1px solid transparent;\n",
              "        }\n",
              "\n",
              "        .colab-quickchart-chart-with-code:hover {\n",
              "            cursor: pointer;\n",
              "            border: 1px solid #aaa;\n",
              "        }\n",
              "      </style>"
            ]
          },
          "metadata": {}
        },
        {
          "output_type": "stream",
          "name": "stdout",
          "text": [
            "Error: Runtime no longer has a reference to this dataframe, please re-run this cell and try again.\n",
            "Error: Runtime no longer has a reference to this dataframe, please re-run this cell and try again.\n",
            "Error: Runtime no longer has a reference to this dataframe, please re-run this cell and try again.\n",
            "Error: Runtime no longer has a reference to this dataframe, please re-run this cell and try again.\n",
            "Error: Runtime no longer has a reference to this dataframe, please re-run this cell and try again.\n"
          ]
        }
      ]
    },
    {
      "cell_type": "code",
      "source": [
        "df.isnull().sum() #결측값확인"
      ],
      "metadata": {
        "colab": {
          "base_uri": "https://localhost:8080/"
        },
        "id": "YAWuRbf-P34x",
        "outputId": "65c55156-0099-40ad-9c89-834e5d1a91f0"
      },
      "execution_count": 226,
      "outputs": [
        {
          "output_type": "execute_result",
          "data": {
            "text/plain": [
              "고객ID         0\n",
              "이탈여부         0\n",
              "총매출액         0\n",
              "구매금액대        0\n",
              "방문빈도         0\n",
              "1회 평균매출액     0\n",
              "할인권 사용 횟수    0\n",
              "총 할인 금액      0\n",
              "고객등급         0\n",
              "구매유형         0\n",
              "클레임접수여부      0\n",
              "구매카테고리수      0\n",
              "거주지역         0\n",
              "성별           0\n",
              "고객 나이대       0\n",
              "거래기간         0\n",
              "할인민감여부       0\n",
              "Recency      0\n",
              "Frequency    0\n",
              "Monetary     0\n",
              "평균 구매주기      0\n",
              "dtype: int64"
            ]
          },
          "metadata": {},
          "execution_count": 226
        }
      ]
    },
    {
      "cell_type": "code",
      "source": [
        "df.dropna(axis=1) #결측치제거"
      ],
      "metadata": {
        "id": "3XMrnUNCRQUC"
      },
      "execution_count": null,
      "outputs": []
    },
    {
      "cell_type": "code",
      "source": [
        "df.boxplot(column=\"총매출액\") #이상치"
      ],
      "metadata": {
        "colab": {
          "base_uri": "https://localhost:8080/",
          "height": 769
        },
        "id": "B7iVcp8pP-1t",
        "outputId": "089c7070-fad0-465b-b8f6-b984c53e468a"
      },
      "execution_count": 228,
      "outputs": [
        {
          "output_type": "execute_result",
          "data": {
            "text/plain": [
              "<Axes: >"
            ]
          },
          "metadata": {},
          "execution_count": 228
        },
        {
          "output_type": "stream",
          "name": "stderr",
          "text": [
            "/usr/local/lib/python3.10/dist-packages/IPython/core/events.py:89: UserWarning: Glyph 52509 (\\N{HANGUL SYLLABLE CONG}) missing from current font.\n",
            "  func(*args, **kwargs)\n",
            "/usr/local/lib/python3.10/dist-packages/IPython/core/events.py:89: UserWarning: Glyph 47588 (\\N{HANGUL SYLLABLE MAE}) missing from current font.\n",
            "  func(*args, **kwargs)\n",
            "/usr/local/lib/python3.10/dist-packages/IPython/core/events.py:89: UserWarning: Glyph 52636 (\\N{HANGUL SYLLABLE CUL}) missing from current font.\n",
            "  func(*args, **kwargs)\n",
            "/usr/local/lib/python3.10/dist-packages/IPython/core/events.py:89: UserWarning: Glyph 50529 (\\N{HANGUL SYLLABLE AEG}) missing from current font.\n",
            "  func(*args, **kwargs)\n",
            "/usr/local/lib/python3.10/dist-packages/IPython/core/pylabtools.py:151: UserWarning: Glyph 52509 (\\N{HANGUL SYLLABLE CONG}) missing from current font.\n",
            "  fig.canvas.print_figure(bytes_io, **kw)\n",
            "/usr/local/lib/python3.10/dist-packages/IPython/core/pylabtools.py:151: UserWarning: Glyph 47588 (\\N{HANGUL SYLLABLE MAE}) missing from current font.\n",
            "  fig.canvas.print_figure(bytes_io, **kw)\n",
            "/usr/local/lib/python3.10/dist-packages/IPython/core/pylabtools.py:151: UserWarning: Glyph 52636 (\\N{HANGUL SYLLABLE CUL}) missing from current font.\n",
            "  fig.canvas.print_figure(bytes_io, **kw)\n",
            "/usr/local/lib/python3.10/dist-packages/IPython/core/pylabtools.py:151: UserWarning: Glyph 50529 (\\N{HANGUL SYLLABLE AEG}) missing from current font.\n",
            "  fig.canvas.print_figure(bytes_io, **kw)\n"
          ]
        },
        {
          "output_type": "display_data",
          "data": {
            "text/plain": [
              "<Figure size 640x480 with 1 Axes>"
            ],
            "image/png": "[encoded data removed]"
          },
          "metadata": {}
        }
      ]
    },
    {
      "cell_type": "code",
      "source": [
        "df.hist(column=\"총매출액\") #분포확인"
      ],
      "metadata": {
        "colab": {
          "base_uri": "https://localhost:8080/",
          "height": 794
        },
        "id": "__JvEt7kQd-r",
        "outputId": "6c738113-e66d-4a38-884c-ea345e19a4d9"
      },
      "execution_count": 229,
      "outputs": [
        {
          "output_type": "execute_result",
          "data": {
            "text/plain": [
              "array([[<Axes: title={'center': '총매출액'}>]], dtype=object)"
            ]
          },
          "metadata": {},
          "execution_count": 229
        },
        {
          "output_type": "stream",
          "name": "stderr",
          "text": [
            "/usr/local/lib/python3.10/dist-packages/IPython/core/events.py:89: UserWarning: Glyph 52509 (\\N{HANGUL SYLLABLE CONG}) missing from current font.\n",
            "  func(*args, **kwargs)\n",
            "/usr/local/lib/python3.10/dist-packages/IPython/core/events.py:89: UserWarning: Glyph 47588 (\\N{HANGUL SYLLABLE MAE}) missing from current font.\n",
            "  func(*args, **kwargs)\n",
            "/usr/local/lib/python3.10/dist-packages/IPython/core/events.py:89: UserWarning: Glyph 52636 (\\N{HANGUL SYLLABLE CUL}) missing from current font.\n",
            "  func(*args, **kwargs)\n",
            "/usr/local/lib/python3.10/dist-packages/IPython/core/events.py:89: UserWarning: Glyph 50529 (\\N{HANGUL SYLLABLE AEG}) missing from current font.\n",
            "  func(*args, **kwargs)\n",
            "/usr/local/lib/python3.10/dist-packages/IPython/core/pylabtools.py:151: UserWarning: Glyph 52509 (\\N{HANGUL SYLLABLE CONG}) missing from current font.\n",
            "  fig.canvas.print_figure(bytes_io, **kw)\n",
            "/usr/local/lib/python3.10/dist-packages/IPython/core/pylabtools.py:151: UserWarning: Glyph 47588 (\\N{HANGUL SYLLABLE MAE}) missing from current font.\n",
            "  fig.canvas.print_figure(bytes_io, **kw)\n",
            "/usr/local/lib/python3.10/dist-packages/IPython/core/pylabtools.py:151: UserWarning: Glyph 52636 (\\N{HANGUL SYLLABLE CUL}) missing from current font.\n",
            "  fig.canvas.print_figure(bytes_io, **kw)\n",
            "/usr/local/lib/python3.10/dist-packages/IPython/core/pylabtools.py:151: UserWarning: Glyph 50529 (\\N{HANGUL SYLLABLE AEG}) missing from current font.\n",
            "  fig.canvas.print_figure(bytes_io, **kw)\n"
          ]
        },
        {
          "output_type": "display_data",
          "data": {
            "text/plain": [
              "<Figure size 640x480 with 1 Axes>"
            ],
            "image/png": "[encoded data removed]"
          },
          "metadata": {}
        }
      ]
    },
    {
      "cell_type": "code",
      "source": [
        "df[\"총매출액\"].hist() #분포확인"
      ],
      "metadata": {
        "colab": {
          "base_uri": "https://localhost:8080/",
          "height": 466
        },
        "id": "Wbx9pe9lQu_Q",
        "outputId": "137e2693-8518-416a-b5cc-fce72e1ab2b6"
      },
      "execution_count": 230,
      "outputs": [
        {
          "output_type": "execute_result",
          "data": {
            "text/plain": [
              "<Axes: >"
            ]
          },
          "metadata": {},
          "execution_count": 230
        },
        {
          "output_type": "display_data",
          "data": {
            "text/plain": [
              "<Figure size 640x480 with 1 Axes>"
            ],
            "image/png": "[encoded data removed]"
          },
          "metadata": {}
        }
      ]
    },
    {
      "cell_type": "markdown",
      "source": [
        "IQR(Interquartile Range)은 데이터의 분포를 요약하고 데이터의 중앙 50% 범위를 나타내는 통계적 지표입니다. 주로 데이터의 변동성과 이상치 탐지에 사용됩니다. IQR을 계산하는 이유와 활용하는 몇 가지 이유는 다음과 같습니다:\n",
        "\n",
        "이상치 탐지: IQR은 데이터의 중간 50% 범위를 나타내므로 데이터의 이상치를 식별하는 데 유용합니다. 일반적으로 IQR의 범위를 벗어나는 값들은 이상치로 간주될 수 있습니다.\n",
        "\n",
        "데이터 분포 이해: IQR은 데이터의 중앙 50% 범위를 요약하므로 데이터 분포의 중앙 부분을 나타내는 지표입니다. 데이터 분포의 형태와 중심 경향성을 이해하는 데 도움을 줍니다.\n",
        "\n",
        "박스 플롯 생성: IQR은 박스 플롯(Box Plot)에서 사용되는 중요한 정보입니다. 박스 플롯은 데이터의 중앙값과 이상치를 시각화하는데 사용되는 그래프입니다.\n",
        "\n",
        "이상치 처리: IQR은 이상치를 식별하는 데 사용될 수 있으며, 이상치를 제거하거나 다른 방식으로 처리하는 데 도움을 줄 수 있습니다.\n",
        "\n",
        "IQR은 데이터의 중앙 50% 범위를 보다 안정적으로 측정하는 방법 중 하나로, 데이터 분석 및 통계적 처리에 유용한 지표입니다."
      ],
      "metadata": {
        "id": "7ks-FaildghZ"
      }
    },
    {
      "cell_type": "code",
      "source": [
        "Q1 = df[\"총매출액\"].quantile(q=0.25)"
      ],
      "metadata": {
        "id": "cOKnSba3Q0G6"
      },
      "execution_count": 232,
      "outputs": []
    },
    {
      "cell_type": "code",
      "source": [
        "Q3 = df[\"총매출액\"].quantile(q=0.75)"
      ],
      "metadata": {
        "id": "mM4mN8RWRrnP"
      },
      "execution_count": 233,
      "outputs": []
    },
    {
      "cell_type": "code",
      "source": [
        "iqr = Q3-Q1  #이상치 제거한 애들\n",
        "iqr"
      ],
      "metadata": {
        "colab": {
          "base_uri": "https://localhost:8080/"
        },
        "id": "PRSqETn_R0U0",
        "outputId": "c30cbbc2-2837-4ce6-ecc0-84f6d89c60af"
      },
      "execution_count": 234,
      "outputs": [
        {
          "output_type": "execute_result",
          "data": {
            "text/plain": [
              "3729487.5"
            ]
          },
          "metadata": {},
          "execution_count": 234
        }
      ]
    },
    {
      "cell_type": "code",
      "source": [
        "df_iqr = df[(df[\"총매출액\"]< Q3 +iqr *1.5) & (df[\"총매출액\"]> Q1 -iqr *1.5)]\n",
        "df_iqr"
      ],
      "metadata": {
        "colab": {
          "base_uri": "https://localhost:8080/",
          "height": 572
        },
        "id": "JbE6XZaMR7OC",
        "outputId": "6c013605-5885-47cc-e2c1-be43eb1a7fcd"
      },
      "execution_count": 239,
      "outputs": [
        {
          "output_type": "execute_result",
          "data": {
            "text/plain": [
              "     고객ID  이탈여부     총매출액  구매금액대  방문빈도  1회 평균매출액  할인권 사용 횟수  총 할인 금액  고객등급  \\\n",
              "0       1     1  4963160      1    22    225598          1     5445     1   \n",
              "1       2     1  2271520      0    38     59777         22   350995     1   \n",
              "2       3     1  2484250      0     2   1242125          6   186045     1   \n",
              "3       4     1  2778850      0     9    308761          1     5195     2   \n",
              "4       5     1  4437610      1    10    443761          9   246350     2   \n",
              "..    ...   ...      ...    ...   ...       ...        ...      ...   ...   \n",
              "993   994     0  9118590      2    15    607906         20   348145     2   \n",
              "996   997     0  3419010      0     6    569835          6   186545     1   \n",
              "997   998     0  4612100      1    13    354777          8   260700     2   \n",
              "998   999     0  5165360      1    28    184477         20   347700     1   \n",
              "999  1000     0  4323050      1    16    270191         19   367045     2   \n",
              "\n",
              "     구매유형  ...  구매카테고리수  거주지역  성별  고객 나이대  거래기간  할인민감여부  Recency  Frequency  \\\n",
              "0       3  ...        7     6   1       6  3303       0        3          2   \n",
              "1       1  ...        5     4   0       2  3129       0        5          3   \n",
              "2       2  ...        4     6   0       3  3636       0        4          1   \n",
              "3       4  ...        4     5   0       4  3637       0        7          4   \n",
              "4       4  ...        6     6   0       4  3638       0        5          1   \n",
              "..    ...  ...      ...   ...  ..     ...   ...     ...      ...        ...   \n",
              "993     3  ...        2     7   0       3  2826       1        2          1   \n",
              "996     2  ...        9     6   0       4  4630       1        7          3   \n",
              "997     1  ...        1     4   1       6  4631       1        2          1   \n",
              "998     3  ...        7     5   1       6  3907       0        7          2   \n",
              "999     4  ...        6     5   1       6  2118       0        5          1   \n",
              "\n",
              "     Monetary      평균 구매주기  \n",
              "0           1   149.136364  \n",
              "1           4    81.342105  \n",
              "2           4  1817.000000  \n",
              "3           6   403.111111  \n",
              "4           4   362.800000  \n",
              "..        ...          ...  \n",
              "993         2   187.400000  \n",
              "996         6   770.666667  \n",
              "997         2   355.230769  \n",
              "998         6   138.535714  \n",
              "999         4   131.375000  \n",
              "\n",
              "[922 rows x 21 columns]"
            ],
            "text/html": [
              "\n",
              "\n",
              "  <div id=\"df-604c91db-196b-42b1-a37e-f091999903e2\">\n",
              "    <div class=\"colab-df-container\">\n",
              "      <div>\n",
              "<style scoped>\n",
              "    .dataframe tbody tr th:only-of-type {\n",
              "        vertical-align: middle;\n",
              "    }\n",
              "\n",
              "    .dataframe tbody tr th {\n",
              "        vertical-align: top;\n",
              "    }\n",
              "\n",
              "    .dataframe thead th {\n",
              "        text-align: right;\n",
              "    }\n",
              "</style>\n",
              "<table border=\"1\" class=\"dataframe\">\n",
              "  <thead>\n",
              "    <tr style=\"text-align: right;\">\n",
              "      <th></th>\n",
              "      <th>고객ID</th>\n",
              "      <th>이탈여부</th>\n",
              "      <th>총매출액</th>\n",
              "      <th>구매금액대</th>\n",
              "      <th>방문빈도</th>\n",
              "      <th>1회 평균매출액</th>\n",
              "      <th>할인권 사용 횟수</th>\n",
              "      <th>총 할인 금액</th>\n",
              "      <th>고객등급</th>\n",
              "      <th>구매유형</th>\n",
              "      <th>...</th>\n",
              "      <th>구매카테고리수</th>\n",
              "      <th>거주지역</th>\n",
              "      <th>성별</th>\n",
              "      <th>고객 나이대</th>\n",
              "      <th>거래기간</th>\n",
              "      <th>할인민감여부</th>\n",
              "      <th>Recency</th>\n",
              "      <th>Frequency</th>\n",
              "      <th>Monetary</th>\n",
              "      <th>평균 구매주기</th>\n",
              "    </tr>\n",
              "  </thead>\n",
              "  <tbody>\n",
              "    <tr>\n",
              "      <th>0</th>\n",
              "      <td>1</td>\n",
              "      <td>1</td>\n",
              "      <td>4963160</td>\n",
              "      <td>1</td>\n",
              "      <td>22</td>\n",
              "      <td>225598</td>\n",
              "      <td>1</td>\n",
              "      <td>5445</td>\n",
              "      <td>1</td>\n",
              "      <td>3</td>\n",
              "      <td>...</td>\n",
              "      <td>7</td>\n",
              "      <td>6</td>\n",
              "      <td>1</td>\n",
              "      <td>6</td>\n",
              "      <td>3303</td>\n",
              "      <td>0</td>\n",
              "      <td>3</td>\n",
              "      <td>2</td>\n",
              "      <td>1</td>\n",
              "      <td>149.136364</td>\n",
              "    </tr>\n",
              "    <tr>\n",
              "      <th>1</th>\n",
              "      <td>2</td>\n",
              "      <td>1</td>\n",
              "      <td>2271520</td>\n",
              "      <td>0</td>\n",
              "      <td>38</td>\n",
              "      <td>59777</td>\n",
              "      <td>22</td>\n",
              "      <td>350995</td>\n",
              "      <td>1</td>\n",
              "      <td>1</td>\n",
              "      <td>...</td>\n",
              "      <td>5</td>\n",
              "      <td>4</td>\n",
              "      <td>0</td>\n",
              "      <td>2</td>\n",
              "      <td>3129</td>\n",
              "      <td>0</td>\n",
              "      <td>5</td>\n",
              "      <td>3</td>\n",
              "      <td>4</td>\n",
              "      <td>81.342105</td>\n",
              "    </tr>\n",
              "    <tr>\n",
              "      <th>2</th>\n",
              "      <td>3</td>\n",
              "      <td>1</td>\n",
              "      <td>2484250</td>\n",
              "      <td>0</td>\n",
              "      <td>2</td>\n",
              "      <td>1242125</td>\n",
              "      <td>6</td>\n",
              "      <td>186045</td>\n",
              "      <td>1</td>\n",
              "      <td>2</td>\n",
              "      <td>...</td>\n",
              "      <td>4</td>\n",
              "      <td>6</td>\n",
              "      <td>0</td>\n",
              "      <td>3</td>\n",
              "      <td>3636</td>\n",
              "      <td>0</td>\n",
              "      <td>4</td>\n",
              "      <td>1</td>\n",
              "      <td>4</td>\n",
              "      <td>1817.000000</td>\n",
              "    </tr>\n",
              "    <tr>\n",
              "      <th>3</th>\n",
              "      <td>4</td>\n",
              "      <td>1</td>\n",
              "      <td>2778850</td>\n",
              "      <td>0</td>\n",
              "      <td>9</td>\n",
              "      <td>308761</td>\n",
              "      <td>1</td>\n",
              "      <td>5195</td>\n",
              "      <td>2</td>\n",
              "      <td>4</td>\n",
              "      <td>...</td>\n",
              "      <td>4</td>\n",
              "      <td>5</td>\n",
              "      <td>0</td>\n",
              "      <td>4</td>\n",
              "      <td>3637</td>\n",
              "      <td>0</td>\n",
              "      <td>7</td>\n",
              "      <td>4</td>\n",
              "      <td>6</td>\n",
              "      <td>403.111111</td>\n",
              "    </tr>\n",
              "    <tr>\n",
              "      <th>4</th>\n",
              "      <td>5</td>\n",
              "      <td>1</td>\n",
              "      <td>4437610</td>\n",
              "      <td>1</td>\n",
              "      <td>10</td>\n",
              "      <td>443761</td>\n",
              "      <td>9</td>\n",
              "      <td>246350</td>\n",
              "      <td>2</td>\n",
              "      <td>4</td>\n",
              "      <td>...</td>\n",
              "      <td>6</td>\n",
              "      <td>6</td>\n",
              "      <td>0</td>\n",
              "      <td>4</td>\n",
              "      <td>3638</td>\n",
              "      <td>0</td>\n",
              "      <td>5</td>\n",
              "      <td>1</td>\n",
              "      <td>4</td>\n",
              "      <td>362.800000</td>\n",
              "    </tr>\n",
              "    <tr>\n",
              "      <th>...</th>\n",
              "      <td>...</td>\n",
              "      <td>...</td>\n",
              "      <td>...</td>\n",
              "      <td>...</td>\n",
              "      <td>...</td>\n",
              "      <td>...</td>\n",
              "      <td>...</td>\n",
              "      <td>...</td>\n",
              "      <td>...</td>\n",
              "      <td>...</td>\n",
              "      <td>...</td>\n",
              "      <td>...</td>\n",
              "      <td>...</td>\n",
              "      <td>...</td>\n",
              "      <td>...</td>\n",
              "      <td>...</td>\n",
              "      <td>...</td>\n",
              "      <td>...</td>\n",
              "      <td>...</td>\n",
              "      <td>...</td>\n",
              "      <td>...</td>\n",
              "    </tr>\n",
              "    <tr>\n",
              "      <th>993</th>\n",
              "      <td>994</td>\n",
              "      <td>0</td>\n",
              "      <td>9118590</td>\n",
              "      <td>2</td>\n",
              "      <td>15</td>\n",
              "      <td>607906</td>\n",
              "      <td>20</td>\n",
              "      <td>348145</td>\n",
              "      <td>2</td>\n",
              "      <td>3</td>\n",
              "      <td>...</td>\n",
              "      <td>2</td>\n",
              "      <td>7</td>\n",
              "      <td>0</td>\n",
              "      <td>3</td>\n",
              "      <td>2826</td>\n",
              "      <td>1</td>\n",
              "      <td>2</td>\n",
              "      <td>1</td>\n",
              "      <td>2</td>\n",
              "      <td>187.400000</td>\n",
              "    </tr>\n",
              "    <tr>\n",
              "      <th>996</th>\n",
              "      <td>997</td>\n",
              "      <td>0</td>\n",
              "      <td>3419010</td>\n",
              "      <td>0</td>\n",
              "      <td>6</td>\n",
              "      <td>569835</td>\n",
              "      <td>6</td>\n",
              "      <td>186545</td>\n",
              "      <td>1</td>\n",
              "      <td>2</td>\n",
              "      <td>...</td>\n",
              "      <td>9</td>\n",
              "      <td>6</td>\n",
              "      <td>0</td>\n",
              "      <td>4</td>\n",
              "      <td>4630</td>\n",
              "      <td>1</td>\n",
              "      <td>7</td>\n",
              "      <td>3</td>\n",
              "      <td>6</td>\n",
              "      <td>770.666667</td>\n",
              "    </tr>\n",
              "    <tr>\n",
              "      <th>997</th>\n",
              "      <td>998</td>\n",
              "      <td>0</td>\n",
              "      <td>4612100</td>\n",
              "      <td>1</td>\n",
              "      <td>13</td>\n",
              "      <td>354777</td>\n",
              "      <td>8</td>\n",
              "      <td>260700</td>\n",
              "      <td>2</td>\n",
              "      <td>1</td>\n",
              "      <td>...</td>\n",
              "      <td>1</td>\n",
              "      <td>4</td>\n",
              "      <td>1</td>\n",
              "      <td>6</td>\n",
              "      <td>4631</td>\n",
              "      <td>1</td>\n",
              "      <td>2</td>\n",
              "      <td>1</td>\n",
              "      <td>2</td>\n",
              "      <td>355.230769</td>\n",
              "    </tr>\n",
              "    <tr>\n",
              "      <th>998</th>\n",
              "      <td>999</td>\n",
              "      <td>0</td>\n",
              "      <td>5165360</td>\n",
              "      <td>1</td>\n",
              "      <td>28</td>\n",
              "      <td>184477</td>\n",
              "      <td>20</td>\n",
              "      <td>347700</td>\n",
              "      <td>1</td>\n",
              "      <td>3</td>\n",
              "      <td>...</td>\n",
              "      <td>7</td>\n",
              "      <td>5</td>\n",
              "      <td>1</td>\n",
              "      <td>6</td>\n",
              "      <td>3907</td>\n",
              "      <td>0</td>\n",
              "      <td>7</td>\n",
              "      <td>2</td>\n",
              "      <td>6</td>\n",
              "      <td>138.535714</td>\n",
              "    </tr>\n",
              "    <tr>\n",
              "      <th>999</th>\n",
              "      <td>1000</td>\n",
              "      <td>0</td>\n",
              "      <td>4323050</td>\n",
              "      <td>1</td>\n",
              "      <td>16</td>\n",
              "      <td>270191</td>\n",
              "      <td>19</td>\n",
              "      <td>367045</td>\n",
              "      <td>2</td>\n",
              "      <td>4</td>\n",
              "      <td>...</td>\n",
              "      <td>6</td>\n",
              "      <td>5</td>\n",
              "      <td>1</td>\n",
              "      <td>6</td>\n",
              "      <td>2118</td>\n",
              "      <td>0</td>\n",
              "      <td>5</td>\n",
              "      <td>1</td>\n",
              "      <td>4</td>\n",
              "      <td>131.375000</td>\n",
              "    </tr>\n",
              "  </tbody>\n",
              "</table>\n",
              "<p>922 rows × 21 columns</p>\n",
              "</div>\n",
              "      <button class=\"colab-df-convert\" onclick=\"convertToInteractive('df-604c91db-196b-42b1-a37e-f091999903e2')\"\n",
              "              title=\"Convert this dataframe to an interactive table.\"\n",
              "              style=\"display:none;\">\n",
              "\n",
              "  <svg xmlns=\"http://www.w3.org/2000/svg\" height=\"24px\"viewBox=\"0 0 24 24\"\n",
              "       width=\"24px\">\n",
              "    <path d=\"M0 0h24v24H0V0z\" fill=\"none\"/>\n",
              "    <path d=\"M18.56 5.44l.94 2.06.94-2.06 2.06-.94-2.06-.94-.94-2.06-.94 2.06-2.06.94zm-11 1L8.5 8.5l.94-2.06 2.06-.94-2.06-.94L8.5 2.5l-.94 2.06-2.06.94zm10 10l.94 2.06.94-2.06 2.06-.94-2.06-.94-.94-2.06-.94 2.06-2.06.94z\"/><path d=\"M17.41 7.96l-1.37-1.37c-.4-.4-.92-.59-1.43-.59-.52 0-1.04.2-1.43.59L10.3 9.45l-7.72 7.72c-.78.78-.78 2.05 0 2.83L4 21.41c.39.39.9.59 1.41.59.51 0 1.02-.2 1.41-.59l7.78-7.78 2.81-2.81c.8-.78.8-2.07 0-2.86zM5.41 20L4 18.59l7.72-7.72 1.47 1.35L5.41 20z\"/>\n",
              "  </svg>\n",
              "      </button>\n",
              "\n",
              "\n",
              "\n",
              "    <div id=\"df-2523cc9d-e67c-4914-97d5-3d49760cc1df\">\n",
              "      <button class=\"colab-df-quickchart\" onclick=\"quickchart('df-2523cc9d-e67c-4914-97d5-3d49760cc1df')\"\n",
              "              title=\"Suggest charts.\"\n",
              "              style=\"display:none;\">\n",
              "\n",
              "<svg xmlns=\"http://www.w3.org/2000/svg\" height=\"24px\"viewBox=\"0 0 24 24\"\n",
              "     width=\"24px\">\n",
              "    <g>\n",
              "        <path d=\"M19 3H5c-1.1 0-2 .9-2 2v14c0 1.1.9 2 2 2h14c1.1 0 2-.9 2-2V5c0-1.1-.9-2-2-2zM9 17H7v-7h2v7zm4 0h-2V7h2v10zm4 0h-2v-4h2v4z\"/>\n",
              "    </g>\n",
              "</svg>\n",
              "      </button>\n",
              "    </div>\n",
              "\n",
              "<style>\n",
              "  .colab-df-quickchart {\n",
              "    background-color: #E8F0FE;\n",
              "    border: none;\n",
              "    border-radius: 50%;\n",
              "    cursor: pointer;\n",
              "    display: none;\n",
              "    fill: #1967D2;\n",
              "    height: 32px;\n",
              "    padding: 0 0 0 0;\n",
              "    width: 32px;\n",
              "  }\n",
              "\n",
              "  .colab-df-quickchart:hover {\n",
              "    background-color: #E2EBFA;\n",
              "    box-shadow: 0px 1px 2px rgba(60, 64, 67, 0.3), 0px 1px 3px 1px rgba(60, 64, 67, 0.15);\n",
              "    fill: #174EA6;\n",
              "  }\n",
              "\n",
              "  [theme=dark] .colab-df-quickchart {\n",
              "    background-color: #3B4455;\n",
              "    fill: #D2E3FC;\n",
              "  }\n",
              "\n",
              "  [theme=dark] .colab-df-quickchart:hover {\n",
              "    background-color: #434B5C;\n",
              "    box-shadow: 0px 1px 3px 1px rgba(0, 0, 0, 0.15);\n",
              "    filter: drop-shadow(0px 1px 2px rgba(0, 0, 0, 0.3));\n",
              "    fill: #FFFFFF;\n",
              "  }\n",
              "</style>\n",
              "\n",
              "    <script>\n",
              "      async function quickchart(key) {\n",
              "        const containerElement = document.querySelector('#' + key);\n",
              "        const charts = await google.colab.kernel.invokeFunction(\n",
              "            'suggestCharts', [key], {});\n",
              "      }\n",
              "    </script>\n",
              "\n",
              "      <script>\n",
              "\n",
              "function displayQuickchartButton(domScope) {\n",
              "  let quickchartButtonEl =\n",
              "    domScope.querySelector('#df-2523cc9d-e67c-4914-97d5-3d49760cc1df button.colab-df-quickchart');\n",
              "  quickchartButtonEl.style.display =\n",
              "    google.colab.kernel.accessAllowed ? 'block' : 'none';\n",
              "}\n",
              "\n",
              "        displayQuickchartButton(document);\n",
              "      </script>\n",
              "      <style>\n",
              "    .colab-df-container {\n",
              "      display:flex;\n",
              "      flex-wrap:wrap;\n",
              "      gap: 12px;\n",
              "    }\n",
              "\n",
              "    .colab-df-convert {\n",
              "      background-color: #E8F0FE;\n",
              "      border: none;\n",
              "      border-radius: 50%;\n",
              "      cursor: pointer;\n",
              "      display: none;\n",
              "      fill: #1967D2;\n",
              "      height: 32px;\n",
              "      padding: 0 0 0 0;\n",
              "      width: 32px;\n",
              "    }\n",
              "\n",
              "    .colab-df-convert:hover {\n",
              "      background-color: #E2EBFA;\n",
              "      box-shadow: 0px 1px 2px rgba(60, 64, 67, 0.3), 0px 1px 3px 1px rgba(60, 64, 67, 0.15);\n",
              "      fill: #174EA6;\n",
              "    }\n",
              "\n",
              "    [theme=dark] .colab-df-convert {\n",
              "      background-color: #3B4455;\n",
              "      fill: #D2E3FC;\n",
              "    }\n",
              "\n",
              "    [theme=dark] .colab-df-convert:hover {\n",
              "      background-color: #434B5C;\n",
              "      box-shadow: 0px 1px 3px 1px rgba(0, 0, 0, 0.15);\n",
              "      filter: drop-shadow(0px 1px 2px rgba(0, 0, 0, 0.3));\n",
              "      fill: #FFFFFF;\n",
              "    }\n",
              "  </style>\n",
              "\n",
              "      <script>\n",
              "        const buttonEl =\n",
              "          document.querySelector('#df-604c91db-196b-42b1-a37e-f091999903e2 button.colab-df-convert');\n",
              "        buttonEl.style.display =\n",
              "          google.colab.kernel.accessAllowed ? 'block' : 'none';\n",
              "\n",
              "        async function convertToInteractive(key) {\n",
              "          const element = document.querySelector('#df-604c91db-196b-42b1-a37e-f091999903e2');\n",
              "          const dataTable =\n",
              "            await google.colab.kernel.invokeFunction('convertToInteractive',\n",
              "                                                     [key], {});\n",
              "          if (!dataTable) return;\n",
              "\n",
              "          const docLinkHtml = 'Like what you see? Visit the ' +\n",
              "            '<a target=\"_blank\" href=https://colab.research.google.com/notebooks/data_table.ipynb>data table notebook</a>'\n",
              "            + ' to learn more about interactive tables.';\n",
              "          element.innerHTML = '';\n",
              "          dataTable['output_type'] = 'display_data';\n",
              "          await google.colab.output.renderOutput(dataTable, element);\n",
              "          const docLink = document.createElement('div');\n",
              "          docLink.innerHTML = docLinkHtml;\n",
              "          element.appendChild(docLink);\n",
              "        }\n",
              "      </script>\n",
              "    </div>\n",
              "  </div>\n"
            ]
          },
          "metadata": {},
          "execution_count": 239
        }
      ]
    },
    {
      "cell_type": "code",
      "source": [
        "df_iqr.describe()"
      ],
      "metadata": {
        "colab": {
          "base_uri": "https://localhost:8080/",
          "height": 411
        },
        "id": "Tcpb0hJATPBe",
        "outputId": "9a157e3f-4d06-4ddf-e45d-31399def2109"
      },
      "execution_count": 240,
      "outputs": [
        {
          "output_type": "execute_result",
          "data": {
            "text/plain": [
              "              고객ID        이탈여부          총매출액       구매금액대        방문빈도  \\\n",
              "count   922.000000  922.000000  9.220000e+02  922.000000  922.000000   \n",
              "mean    492.599783    0.311280  4.560658e+06    0.590022   20.874187   \n",
              "std     289.545860    0.463268  2.318624e+06    0.712101   16.730910   \n",
              "min       1.000000    0.000000  1.886100e+06    0.000000    1.000000   \n",
              "25%     239.250000    0.000000  2.748988e+06    0.000000   10.000000   \n",
              "50%     492.500000    0.000000  3.820210e+06    0.000000   17.000000   \n",
              "75%     745.750000    1.000000  5.639892e+06    1.000000   26.000000   \n",
              "max    1000.000000    1.000000  1.213076e+07    2.000000  155.000000   \n",
              "\n",
              "           1회 평균매출액   할인권 사용 횟수        총 할인 금액        고객등급        구매유형  ...  \\\n",
              "count  9.220000e+02  922.000000     922.000000  922.000000  922.000000  ...   \n",
              "mean   3.307668e+05   15.979393  291781.030369    1.511931    2.665944  ...   \n",
              "std    2.889061e+05    8.351052  112612.384511    0.500129    1.046742  ...   \n",
              "min    2.708200e+04    1.000000    3750.000000    1.000000    1.000000  ...   \n",
              "25%    1.579618e+05    9.000000  261645.000000    1.000000    2.000000  ...   \n",
              "50%    2.471265e+05   17.000000  347475.000000    2.000000    2.000000  ...   \n",
              "75%    3.940702e+05   23.000000  365546.250000    2.000000    4.000000  ...   \n",
              "max    2.798500e+06   30.000000  400600.000000    2.000000    4.000000  ...   \n",
              "\n",
              "          구매카테고리수        거주지역          성별      고객 나이대         거래기간  \\\n",
              "count  922.000000  922.000000  922.000000  922.000000   922.000000   \n",
              "mean     5.164859    5.145336    0.186551    3.938178  3477.676790   \n",
              "std      2.218504    1.174524    0.389762    1.072546   965.261379   \n",
              "min      1.000000    1.000000    0.000000    2.000000  1000.000000   \n",
              "25%      3.000000    4.000000    0.000000    3.000000  2823.750000   \n",
              "50%      5.000000    5.000000    0.000000    4.000000  3823.500000   \n",
              "75%      7.000000    6.000000    0.000000    5.000000  4191.750000   \n",
              "max      9.000000    7.000000    1.000000    7.000000  5334.000000   \n",
              "\n",
              "           할인민감여부     Recency   Frequency    Monetary      평균 구매주기  \n",
              "count  922.000000  922.000000  922.000000  922.000000   922.000000  \n",
              "mean     0.349241    4.885033    2.139913    4.082430   280.368089  \n",
              "std      0.476989    1.723508    1.540954    1.541935   259.413119  \n",
              "min      0.000000    1.000000    1.000000    1.000000    13.980645  \n",
              "25%      0.000000    4.000000    1.000000    3.000000   122.358456  \n",
              "50%      0.000000    5.000000    1.000000    4.000000   202.554545  \n",
              "75%      1.000000    7.000000    3.000000    6.000000   336.208333  \n",
              "max      1.000000    7.000000    7.000000    7.000000  1956.000000  \n",
              "\n",
              "[8 rows x 21 columns]"
            ],
            "text/html": [
              "\n",
              "\n",
              "  <div id=\"df-7e977317-70f7-4c10-96b3-e2fe387164da\">\n",
              "    <div class=\"colab-df-container\">\n",
              "      <div>\n",
              "<style scoped>\n",
              "    .dataframe tbody tr th:only-of-type {\n",
              "        vertical-align: middle;\n",
              "    }\n",
              "\n",
              "    .dataframe tbody tr th {\n",
              "        vertical-align: top;\n",
              "    }\n",
              "\n",
              "    .dataframe thead th {\n",
              "        text-align: right;\n",
              "    }\n",
              "</style>\n",
              "<table border=\"1\" class=\"dataframe\">\n",
              "  <thead>\n",
              "    <tr style=\"text-align: right;\">\n",
              "      <th></th>\n",
              "      <th>고객ID</th>\n",
              "      <th>이탈여부</th>\n",
              "      <th>총매출액</th>\n",
              "      <th>구매금액대</th>\n",
              "      <th>방문빈도</th>\n",
              "      <th>1회 평균매출액</th>\n",
              "      <th>할인권 사용 횟수</th>\n",
              "      <th>총 할인 금액</th>\n",
              "      <th>고객등급</th>\n",
              "      <th>구매유형</th>\n",
              "      <th>...</th>\n",
              "      <th>구매카테고리수</th>\n",
              "      <th>거주지역</th>\n",
              "      <th>성별</th>\n",
              "      <th>고객 나이대</th>\n",
              "      <th>거래기간</th>\n",
              "      <th>할인민감여부</th>\n",
              "      <th>Recency</th>\n",
              "      <th>Frequency</th>\n",
              "      <th>Monetary</th>\n",
              "      <th>평균 구매주기</th>\n",
              "    </tr>\n",
              "  </thead>\n",
              "  <tbody>\n",
              "    <tr>\n",
              "      <th>count</th>\n",
              "      <td>922.000000</td>\n",
              "      <td>922.000000</td>\n",
              "      <td>9.220000e+02</td>\n",
              "      <td>922.000000</td>\n",
              "      <td>922.000000</td>\n",
              "      <td>9.220000e+02</td>\n",
              "      <td>922.000000</td>\n",
              "      <td>922.000000</td>\n",
              "      <td>922.000000</td>\n",
              "      <td>922.000000</td>\n",
              "      <td>...</td>\n",
              "      <td>922.000000</td>\n",
              "      <td>922.000000</td>\n",
              "      <td>922.000000</td>\n",
              "      <td>922.000000</td>\n",
              "      <td>922.000000</td>\n",
              "      <td>922.000000</td>\n",
              "      <td>922.000000</td>\n",
              "      <td>922.000000</td>\n",
              "      <td>922.000000</td>\n",
              "      <td>922.000000</td>\n",
              "    </tr>\n",
              "    <tr>\n",
              "      <th>mean</th>\n",
              "      <td>492.599783</td>\n",
              "      <td>0.311280</td>\n",
              "      <td>4.560658e+06</td>\n",
              "      <td>0.590022</td>\n",
              "      <td>20.874187</td>\n",
              "      <td>3.307668e+05</td>\n",
              "      <td>15.979393</td>\n",
              "      <td>291781.030369</td>\n",
              "      <td>1.511931</td>\n",
              "      <td>2.665944</td>\n",
              "      <td>...</td>\n",
              "      <td>5.164859</td>\n",
              "      <td>5.145336</td>\n",
              "      <td>0.186551</td>\n",
              "      <td>3.938178</td>\n",
              "      <td>3477.676790</td>\n",
              "      <td>0.349241</td>\n",
              "      <td>4.885033</td>\n",
              "      <td>2.139913</td>\n",
              "      <td>4.082430</td>\n",
              "      <td>280.368089</td>\n",
              "    </tr>\n",
              "    <tr>\n",
              "      <th>std</th>\n",
              "      <td>289.545860</td>\n",
              "      <td>0.463268</td>\n",
              "      <td>2.318624e+06</td>\n",
              "      <td>0.712101</td>\n",
              "      <td>16.730910</td>\n",
              "      <td>2.889061e+05</td>\n",
              "      <td>8.351052</td>\n",
              "      <td>112612.384511</td>\n",
              "      <td>0.500129</td>\n",
              "      <td>1.046742</td>\n",
              "      <td>...</td>\n",
              "      <td>2.218504</td>\n",
              "      <td>1.174524</td>\n",
              "      <td>0.389762</td>\n",
              "      <td>1.072546</td>\n",
              "      <td>965.261379</td>\n",
              "      <td>0.476989</td>\n",
              "      <td>1.723508</td>\n",
              "      <td>1.540954</td>\n",
              "      <td>1.541935</td>\n",
              "      <td>259.413119</td>\n",
              "    </tr>\n",
              "    <tr>\n",
              "      <th>min</th>\n",
              "      <td>1.000000</td>\n",
              "      <td>0.000000</td>\n",
              "      <td>1.886100e+06</td>\n",
              "      <td>0.000000</td>\n",
              "      <td>1.000000</td>\n",
              "      <td>2.708200e+04</td>\n",
              "      <td>1.000000</td>\n",
              "      <td>3750.000000</td>\n",
              "      <td>1.000000</td>\n",
              "      <td>1.000000</td>\n",
              "      <td>...</td>\n",
              "      <td>1.000000</td>\n",
              "      <td>1.000000</td>\n",
              "      <td>0.000000</td>\n",
              "      <td>2.000000</td>\n",
              "      <td>1000.000000</td>\n",
              "      <td>0.000000</td>\n",
              "      <td>1.000000</td>\n",
              "      <td>1.000000</td>\n",
              "      <td>1.000000</td>\n",
              "      <td>13.980645</td>\n",
              "    </tr>\n",
              "    <tr>\n",
              "      <th>25%</th>\n",
              "      <td>239.250000</td>\n",
              "      <td>0.000000</td>\n",
              "      <td>2.748988e+06</td>\n",
              "      <td>0.000000</td>\n",
              "      <td>10.000000</td>\n",
              "      <td>1.579618e+05</td>\n",
              "      <td>9.000000</td>\n",
              "      <td>261645.000000</td>\n",
              "      <td>1.000000</td>\n",
              "      <td>2.000000</td>\n",
              "      <td>...</td>\n",
              "      <td>3.000000</td>\n",
              "      <td>4.000000</td>\n",
              "      <td>0.000000</td>\n",
              "      <td>3.000000</td>\n",
              "      <td>2823.750000</td>\n",
              "      <td>0.000000</td>\n",
              "      <td>4.000000</td>\n",
              "      <td>1.000000</td>\n",
              "      <td>3.000000</td>\n",
              "      <td>122.358456</td>\n",
              "    </tr>\n",
              "    <tr>\n",
              "      <th>50%</th>\n",
              "      <td>492.500000</td>\n",
              "      <td>0.000000</td>\n",
              "      <td>3.820210e+06</td>\n",
              "      <td>0.000000</td>\n",
              "      <td>17.000000</td>\n",
              "      <td>2.471265e+05</td>\n",
              "      <td>17.000000</td>\n",
              "      <td>347475.000000</td>\n",
              "      <td>2.000000</td>\n",
              "      <td>2.000000</td>\n",
              "      <td>...</td>\n",
              "      <td>5.000000</td>\n",
              "      <td>5.000000</td>\n",
              "      <td>0.000000</td>\n",
              "      <td>4.000000</td>\n",
              "      <td>3823.500000</td>\n",
              "      <td>0.000000</td>\n",
              "      <td>5.000000</td>\n",
              "      <td>1.000000</td>\n",
              "      <td>4.000000</td>\n",
              "      <td>202.554545</td>\n",
              "    </tr>\n",
              "    <tr>\n",
              "      <th>75%</th>\n",
              "      <td>745.750000</td>\n",
              "      <td>1.000000</td>\n",
              "      <td>5.639892e+06</td>\n",
              "      <td>1.000000</td>\n",
              "      <td>26.000000</td>\n",
              "      <td>3.940702e+05</td>\n",
              "      <td>23.000000</td>\n",
              "      <td>365546.250000</td>\n",
              "      <td>2.000000</td>\n",
              "      <td>4.000000</td>\n",
              "      <td>...</td>\n",
              "      <td>7.000000</td>\n",
              "      <td>6.000000</td>\n",
              "      <td>0.000000</td>\n",
              "      <td>5.000000</td>\n",
              "      <td>4191.750000</td>\n",
              "      <td>1.000000</td>\n",
              "      <td>7.000000</td>\n",
              "      <td>3.000000</td>\n",
              "      <td>6.000000</td>\n",
              "      <td>336.208333</td>\n",
              "    </tr>\n",
              "    <tr>\n",
              "      <th>max</th>\n",
              "      <td>1000.000000</td>\n",
              "      <td>1.000000</td>\n",
              "      <td>1.213076e+07</td>\n",
              "      <td>2.000000</td>\n",
              "      <td>155.000000</td>\n",
              "      <td>2.798500e+06</td>\n",
              "      <td>30.000000</td>\n",
              "      <td>400600.000000</td>\n",
              "      <td>2.000000</td>\n",
              "      <td>4.000000</td>\n",
              "      <td>...</td>\n",
              "      <td>9.000000</td>\n",
              "      <td>7.000000</td>\n",
              "      <td>1.000000</td>\n",
              "      <td>7.000000</td>\n",
              "      <td>5334.000000</td>\n",
              "      <td>1.000000</td>\n",
              "      <td>7.000000</td>\n",
              "      <td>7.000000</td>\n",
              "      <td>7.000000</td>\n",
              "      <td>1956.000000</td>\n",
              "    </tr>\n",
              "  </tbody>\n",
              "</table>\n",
              "<p>8 rows × 21 columns</p>\n",
              "</div>\n",
              "      <button class=\"colab-df-convert\" onclick=\"convertToInteractive('df-7e977317-70f7-4c10-96b3-e2fe387164da')\"\n",
              "              title=\"Convert this dataframe to an interactive table.\"\n",
              "              style=\"display:none;\">\n",
              "\n",
              "  <svg xmlns=\"http://www.w3.org/2000/svg\" height=\"24px\"viewBox=\"0 0 24 24\"\n",
              "       width=\"24px\">\n",
              "    <path d=\"M0 0h24v24H0V0z\" fill=\"none\"/>\n",
              "    <path d=\"M18.56 5.44l.94 2.06.94-2.06 2.06-.94-2.06-.94-.94-2.06-.94 2.06-2.06.94zm-11 1L8.5 8.5l.94-2.06 2.06-.94-2.06-.94L8.5 2.5l-.94 2.06-2.06.94zm10 10l.94 2.06.94-2.06 2.06-.94-2.06-.94-.94-2.06-.94 2.06-2.06.94z\"/><path d=\"M17.41 7.96l-1.37-1.37c-.4-.4-.92-.59-1.43-.59-.52 0-1.04.2-1.43.59L10.3 9.45l-7.72 7.72c-.78.78-.78 2.05 0 2.83L4 21.41c.39.39.9.59 1.41.59.51 0 1.02-.2 1.41-.59l7.78-7.78 2.81-2.81c.8-.78.8-2.07 0-2.86zM5.41 20L4 18.59l7.72-7.72 1.47 1.35L5.41 20z\"/>\n",
              "  </svg>\n",
              "      </button>\n",
              "\n",
              "\n",
              "\n",
              "    <div id=\"df-30ea644a-d125-4092-8f2a-8317bc9cee96\">\n",
              "      <button class=\"colab-df-quickchart\" onclick=\"quickchart('df-30ea644a-d125-4092-8f2a-8317bc9cee96')\"\n",
              "              title=\"Suggest charts.\"\n",
              "              style=\"display:none;\">\n",
              "\n",
              "<svg xmlns=\"http://www.w3.org/2000/svg\" height=\"24px\"viewBox=\"0 0 24 24\"\n",
              "     width=\"24px\">\n",
              "    <g>\n",
              "        <path d=\"M19 3H5c-1.1 0-2 .9-2 2v14c0 1.1.9 2 2 2h14c1.1 0 2-.9 2-2V5c0-1.1-.9-2-2-2zM9 17H7v-7h2v7zm4 0h-2V7h2v10zm4 0h-2v-4h2v4z\"/>\n",
              "    </g>\n",
              "</svg>\n",
              "      </button>\n",
              "    </div>\n",
              "\n",
              "<style>\n",
              "  .colab-df-quickchart {\n",
              "    background-color: #E8F0FE;\n",
              "    border: none;\n",
              "    border-radius: 50%;\n",
              "    cursor: pointer;\n",
              "    display: none;\n",
              "    fill: #1967D2;\n",
              "    height: 32px;\n",
              "    padding: 0 0 0 0;\n",
              "    width: 32px;\n",
              "  }\n",
              "\n",
              "  .colab-df-quickchart:hover {\n",
              "    background-color: #E2EBFA;\n",
              "    box-shadow: 0px 1px 2px rgba(60, 64, 67, 0.3), 0px 1px 3px 1px rgba(60, 64, 67, 0.15);\n",
              "    fill: #174EA6;\n",
              "  }\n",
              "\n",
              "  [theme=dark] .colab-df-quickchart {\n",
              "    background-color: #3B4455;\n",
              "    fill: #D2E3FC;\n",
              "  }\n",
              "\n",
              "  [theme=dark] .colab-df-quickchart:hover {\n",
              "    background-color: #434B5C;\n",
              "    box-shadow: 0px 1px 3px 1px rgba(0, 0, 0, 0.15);\n",
              "    filter: drop-shadow(0px 1px 2px rgba(0, 0, 0, 0.3));\n",
              "    fill: #FFFFFF;\n",
              "  }\n",
              "</style>\n",
              "\n",
              "    <script>\n",
              "      async function quickchart(key) {\n",
              "        const containerElement = document.querySelector('#' + key);\n",
              "        const charts = await google.colab.kernel.invokeFunction(\n",
              "            'suggestCharts', [key], {});\n",
              "      }\n",
              "    </script>\n",
              "\n",
              "      <script>\n",
              "\n",
              "function displayQuickchartButton(domScope) {\n",
              "  let quickchartButtonEl =\n",
              "    domScope.querySelector('#df-30ea644a-d125-4092-8f2a-8317bc9cee96 button.colab-df-quickchart');\n",
              "  quickchartButtonEl.style.display =\n",
              "    google.colab.kernel.accessAllowed ? 'block' : 'none';\n",
              "}\n",
              "\n",
              "        displayQuickchartButton(document);\n",
              "      </script>\n",
              "      <style>\n",
              "    .colab-df-container {\n",
              "      display:flex;\n",
              "      flex-wrap:wrap;\n",
              "      gap: 12px;\n",
              "    }\n",
              "\n",
              "    .colab-df-convert {\n",
              "      background-color: #E8F0FE;\n",
              "      border: none;\n",
              "      border-radius: 50%;\n",
              "      cursor: pointer;\n",
              "      display: none;\n",
              "      fill: #1967D2;\n",
              "      height: 32px;\n",
              "      padding: 0 0 0 0;\n",
              "      width: 32px;\n",
              "    }\n",
              "\n",
              "    .colab-df-convert:hover {\n",
              "      background-color: #E2EBFA;\n",
              "      box-shadow: 0px 1px 2px rgba(60, 64, 67, 0.3), 0px 1px 3px 1px rgba(60, 64, 67, 0.15);\n",
              "      fill: #174EA6;\n",
              "    }\n",
              "\n",
              "    [theme=dark] .colab-df-convert {\n",
              "      background-color: #3B4455;\n",
              "      fill: #D2E3FC;\n",
              "    }\n",
              "\n",
              "    [theme=dark] .colab-df-convert:hover {\n",
              "      background-color: #434B5C;\n",
              "      box-shadow: 0px 1px 3px 1px rgba(0, 0, 0, 0.15);\n",
              "      filter: drop-shadow(0px 1px 2px rgba(0, 0, 0, 0.3));\n",
              "      fill: #FFFFFF;\n",
              "    }\n",
              "  </style>\n",
              "\n",
              "      <script>\n",
              "        const buttonEl =\n",
              "          document.querySelector('#df-7e977317-70f7-4c10-96b3-e2fe387164da button.colab-df-convert');\n",
              "        buttonEl.style.display =\n",
              "          google.colab.kernel.accessAllowed ? 'block' : 'none';\n",
              "\n",
              "        async function convertToInteractive(key) {\n",
              "          const element = document.querySelector('#df-7e977317-70f7-4c10-96b3-e2fe387164da');\n",
              "          const dataTable =\n",
              "            await google.colab.kernel.invokeFunction('convertToInteractive',\n",
              "                                                     [key], {});\n",
              "          if (!dataTable) return;\n",
              "\n",
              "          const docLinkHtml = 'Like what you see? Visit the ' +\n",
              "            '<a target=\"_blank\" href=https://colab.research.google.com/notebooks/data_table.ipynb>data table notebook</a>'\n",
              "            + ' to learn more about interactive tables.';\n",
              "          element.innerHTML = '';\n",
              "          dataTable['output_type'] = 'display_data';\n",
              "          await google.colab.output.renderOutput(dataTable, element);\n",
              "          const docLink = document.createElement('div');\n",
              "          docLink.innerHTML = docLinkHtml;\n",
              "          element.appendChild(docLink);\n",
              "        }\n",
              "      </script>\n",
              "    </div>\n",
              "  </div>\n"
            ]
          },
          "metadata": {},
          "execution_count": 240
        }
      ]
    },
    {
      "cell_type": "code",
      "source": [
        "df_iqr.boxplot(column=\"총매출액\")"
      ],
      "metadata": {
        "colab": {
          "base_uri": "https://localhost:8080/",
          "height": 769
        },
        "id": "qLmmS_SsTWm4",
        "outputId": "384f4b91-3670-44af-cca9-4ad80b3a0bb7"
      },
      "execution_count": 241,
      "outputs": [
        {
          "output_type": "execute_result",
          "data": {
            "text/plain": [
              "<Axes: >"
            ]
          },
          "metadata": {},
          "execution_count": 241
        },
        {
          "output_type": "stream",
          "name": "stderr",
          "text": [
            "/usr/local/lib/python3.10/dist-packages/IPython/core/events.py:89: UserWarning: Glyph 52509 (\\N{HANGUL SYLLABLE CONG}) missing from current font.\n",
            "  func(*args, **kwargs)\n",
            "/usr/local/lib/python3.10/dist-packages/IPython/core/events.py:89: UserWarning: Glyph 47588 (\\N{HANGUL SYLLABLE MAE}) missing from current font.\n",
            "  func(*args, **kwargs)\n",
            "/usr/local/lib/python3.10/dist-packages/IPython/core/events.py:89: UserWarning: Glyph 52636 (\\N{HANGUL SYLLABLE CUL}) missing from current font.\n",
            "  func(*args, **kwargs)\n",
            "/usr/local/lib/python3.10/dist-packages/IPython/core/events.py:89: UserWarning: Glyph 50529 (\\N{HANGUL SYLLABLE AEG}) missing from current font.\n",
            "  func(*args, **kwargs)\n",
            "/usr/local/lib/python3.10/dist-packages/IPython/core/pylabtools.py:151: UserWarning: Glyph 52509 (\\N{HANGUL SYLLABLE CONG}) missing from current font.\n",
            "  fig.canvas.print_figure(bytes_io, **kw)\n",
            "/usr/local/lib/python3.10/dist-packages/IPython/core/pylabtools.py:151: UserWarning: Glyph 47588 (\\N{HANGUL SYLLABLE MAE}) missing from current font.\n",
            "  fig.canvas.print_figure(bytes_io, **kw)\n",
            "/usr/local/lib/python3.10/dist-packages/IPython/core/pylabtools.py:151: UserWarning: Glyph 52636 (\\N{HANGUL SYLLABLE CUL}) missing from current font.\n",
            "  fig.canvas.print_figure(bytes_io, **kw)\n",
            "/usr/local/lib/python3.10/dist-packages/IPython/core/pylabtools.py:151: UserWarning: Glyph 50529 (\\N{HANGUL SYLLABLE AEG}) missing from current font.\n",
            "  fig.canvas.print_figure(bytes_io, **kw)\n"
          ]
        },
        {
          "output_type": "display_data",
          "data": {
            "text/plain": [
              "<Figure size 640x480 with 1 Axes>"
            ],
            "image/png": "[encoded data removed]"
          },
          "metadata": {}
        }
      ]
    },
    {
      "cell_type": "code",
      "source": [
        "df[\"총매출액\"].hist()"
      ],
      "metadata": {
        "colab": {
          "base_uri": "https://localhost:8080/",
          "height": 466
        },
        "id": "zNfGbr4oTzEz",
        "outputId": "f4a5322f-e381-4be4-f7f3-38feac25e103"
      },
      "execution_count": 242,
      "outputs": [
        {
          "output_type": "execute_result",
          "data": {
            "text/plain": [
              "<Axes: >"
            ]
          },
          "metadata": {},
          "execution_count": 242
        },
        {
          "output_type": "display_data",
          "data": {
            "text/plain": [
              "<Figure size 640x480 with 1 Axes>"
            ],
            "image/png": "[encoded data removed]"
          },
          "metadata": {}
        }
      ]
    },
    {
      "cell_type": "code",
      "source": [
        "df_iqr.head(10)"
      ],
      "metadata": {
        "colab": {
          "base_uri": "https://localhost:8080/",
          "height": 540
        },
        "id": "1q4SV2ExUKUE",
        "outputId": "5e1f5615-5c03-45ce-f541-7231b3d7a7cb"
      },
      "execution_count": 243,
      "outputs": [
        {
          "output_type": "execute_result",
          "data": {
            "text/plain": [
              "   고객ID  이탈여부      총매출액  구매금액대  방문빈도  1회 평균매출액  할인권 사용 횟수  총 할인 금액  고객등급  \\\n",
              "0     1     1   4963160      1    22    225598          1     5445     1   \n",
              "1     2     1   2271520      0    38     59777         22   350995     1   \n",
              "2     3     1   2484250      0     2   1242125          6   186045     1   \n",
              "3     4     1   2778850      0     9    308761          1     5195     2   \n",
              "4     5     1   4437610      1    10    443761          9   246350     2   \n",
              "5     6     1  10720400      2     4   2680100         20   348145     2   \n",
              "6     7     1   7228460      1    11    657133         30   380945     2   \n",
              "7     8     1   8790450      2    34    258543          4   354735     2   \n",
              "8     9     1   9759800      2     6   1626633         17   364895     2   \n",
              "9    10     1   4077660      0    95     42923         27   357645     1   \n",
              "\n",
              "   구매유형  ...  구매카테고리수  거주지역  성별  고객 나이대  거래기간  할인민감여부  Recency  Frequency  \\\n",
              "0     3  ...        7     6   1       6  3303       0        3          2   \n",
              "1     1  ...        5     4   0       2  3129       0        5          3   \n",
              "2     2  ...        4     6   0       3  3636       0        4          1   \n",
              "3     4  ...        4     5   0       4  3637       0        7          4   \n",
              "4     4  ...        6     6   0       4  3638       0        5          1   \n",
              "5     4  ...        9     5   0       3  3639       1        7          4   \n",
              "6     1  ...        3     6   1       4  3244       0        4          1   \n",
              "7     2  ...        7     6   0       3  1940       0        6          3   \n",
              "8     4  ...        9     6   0       4  1940       1        7          4   \n",
              "9     4  ...        9     5   0       2  3643       0        7          7   \n",
              "\n",
              "   Monetary      평균 구매주기  \n",
              "0         1   149.136364  \n",
              "1         4    81.342105  \n",
              "2         4  1817.000000  \n",
              "3         6   403.111111  \n",
              "4         4   362.800000  \n",
              "5         1   908.750000  \n",
              "6         2   293.909091  \n",
              "7         6    56.058824  \n",
              "8         6   322.333333  \n",
              "9         6    37.347368  \n",
              "\n",
              "[10 rows x 21 columns]"
            ],
            "text/html": [
              "\n",
              "\n",
              "  <div id=\"df-926e1c35-ac60-43ae-8a69-b5601e94a861\">\n",
              "    <div class=\"colab-df-container\">\n",
              "      <div>\n",
              "<style scoped>\n",
              "    .dataframe tbody tr th:only-of-type {\n",
              "        vertical-align: middle;\n",
              "    }\n",
              "\n",
              "    .dataframe tbody tr th {\n",
              "        vertical-align: top;\n",
              "    }\n",
              "\n",
              "    .dataframe thead th {\n",
              "        text-align: right;\n",
              "    }\n",
              "</style>\n",
              "<table border=\"1\" class=\"dataframe\">\n",
              "  <thead>\n",
              "    <tr style=\"text-align: right;\">\n",
              "      <th></th>\n",
              "      <th>고객ID</th>\n",
              "      <th>이탈여부</th>\n",
              "      <th>총매출액</th>\n",
              "      <th>구매금액대</th>\n",
              "      <th>방문빈도</th>\n",
              "      <th>1회 평균매출액</th>\n",
              "      <th>할인권 사용 횟수</th>\n",
              "      <th>총 할인 금액</th>\n",
              "      <th>고객등급</th>\n",
              "      <th>구매유형</th>\n",
              "      <th>...</th>\n",
              "      <th>구매카테고리수</th>\n",
              "      <th>거주지역</th>\n",
              "      <th>성별</th>\n",
              "      <th>고객 나이대</th>\n",
              "      <th>거래기간</th>\n",
              "      <th>할인민감여부</th>\n",
              "      <th>Recency</th>\n",
              "      <th>Frequency</th>\n",
              "      <th>Monetary</th>\n",
              "      <th>평균 구매주기</th>\n",
              "    </tr>\n",
              "  </thead>\n",
              "  <tbody>\n",
              "    <tr>\n",
              "      <th>0</th>\n",
              "      <td>1</td>\n",
              "      <td>1</td>\n",
              "      <td>4963160</td>\n",
              "      <td>1</td>\n",
              "      <td>22</td>\n",
              "      <td>225598</td>\n",
              "      <td>1</td>\n",
              "      <td>5445</td>\n",
              "      <td>1</td>\n",
              "      <td>3</td>\n",
              "      <td>...</td>\n",
              "      <td>7</td>\n",
              "      <td>6</td>\n",
              "      <td>1</td>\n",
              "      <td>6</td>\n",
              "      <td>3303</td>\n",
              "      <td>0</td>\n",
              "      <td>3</td>\n",
              "      <td>2</td>\n",
              "      <td>1</td>\n",
              "      <td>149.136364</td>\n",
              "    </tr>\n",
              "    <tr>\n",
              "      <th>1</th>\n",
              "      <td>2</td>\n",
              "      <td>1</td>\n",
              "      <td>2271520</td>\n",
              "      <td>0</td>\n",
              "      <td>38</td>\n",
              "      <td>59777</td>\n",
              "      <td>22</td>\n",
              "      <td>350995</td>\n",
              "      <td>1</td>\n",
              "      <td>1</td>\n",
              "      <td>...</td>\n",
              "      <td>5</td>\n",
              "      <td>4</td>\n",
              "      <td>0</td>\n",
              "      <td>2</td>\n",
              "      <td>3129</td>\n",
              "      <td>0</td>\n",
              "      <td>5</td>\n",
              "      <td>3</td>\n",
              "      <td>4</td>\n",
              "      <td>81.342105</td>\n",
              "    </tr>\n",
              "    <tr>\n",
              "      <th>2</th>\n",
              "      <td>3</td>\n",
              "      <td>1</td>\n",
              "      <td>2484250</td>\n",
              "      <td>0</td>\n",
              "      <td>2</td>\n",
              "      <td>1242125</td>\n",
              "      <td>6</td>\n",
              "      <td>186045</td>\n",
              "      <td>1</td>\n",
              "      <td>2</td>\n",
              "      <td>...</td>\n",
              "      <td>4</td>\n",
              "      <td>6</td>\n",
              "      <td>0</td>\n",
              "      <td>3</td>\n",
              "      <td>3636</td>\n",
              "      <td>0</td>\n",
              "      <td>4</td>\n",
              "      <td>1</td>\n",
              "      <td>4</td>\n",
              "      <td>1817.000000</td>\n",
              "    </tr>\n",
              "    <tr>\n",
              "      <th>3</th>\n",
              "      <td>4</td>\n",
              "      <td>1</td>\n",
              "      <td>2778850</td>\n",
              "      <td>0</td>\n",
              "      <td>9</td>\n",
              "      <td>308761</td>\n",
              "      <td>1</td>\n",
              "      <td>5195</td>\n",
              "      <td>2</td>\n",
              "      <td>4</td>\n",
              "      <td>...</td>\n",
              "      <td>4</td>\n",
              "      <td>5</td>\n",
              "      <td>0</td>\n",
              "      <td>4</td>\n",
              "      <td>3637</td>\n",
              "      <td>0</td>\n",
              "      <td>7</td>\n",
              "      <td>4</td>\n",
              "      <td>6</td>\n",
              "      <td>403.111111</td>\n",
              "    </tr>\n",
              "    <tr>\n",
              "      <th>4</th>\n",
              "      <td>5</td>\n",
              "      <td>1</td>\n",
              "      <td>4437610</td>\n",
              "      <td>1</td>\n",
              "      <td>10</td>\n",
              "      <td>443761</td>\n",
              "      <td>9</td>\n",
              "      <td>246350</td>\n",
              "      <td>2</td>\n",
              "      <td>4</td>\n",
              "      <td>...</td>\n",
              "      <td>6</td>\n",
              "      <td>6</td>\n",
              "      <td>0</td>\n",
              "      <td>4</td>\n",
              "      <td>3638</td>\n",
              "      <td>0</td>\n",
              "      <td>5</td>\n",
              "      <td>1</td>\n",
              "      <td>4</td>\n",
              "      <td>362.800000</td>\n",
              "    </tr>\n",
              "    <tr>\n",
              "      <th>5</th>\n",
              "      <td>6</td>\n",
              "      <td>1</td>\n",
              "      <td>10720400</td>\n",
              "      <td>2</td>\n",
              "      <td>4</td>\n",
              "      <td>2680100</td>\n",
              "      <td>20</td>\n",
              "      <td>348145</td>\n",
              "      <td>2</td>\n",
              "      <td>4</td>\n",
              "      <td>...</td>\n",
              "      <td>9</td>\n",
              "      <td>5</td>\n",
              "      <td>0</td>\n",
              "      <td>3</td>\n",
              "      <td>3639</td>\n",
              "      <td>1</td>\n",
              "      <td>7</td>\n",
              "      <td>4</td>\n",
              "      <td>1</td>\n",
              "      <td>908.750000</td>\n",
              "    </tr>\n",
              "    <tr>\n",
              "      <th>6</th>\n",
              "      <td>7</td>\n",
              "      <td>1</td>\n",
              "      <td>7228460</td>\n",
              "      <td>1</td>\n",
              "      <td>11</td>\n",
              "      <td>657133</td>\n",
              "      <td>30</td>\n",
              "      <td>380945</td>\n",
              "      <td>2</td>\n",
              "      <td>1</td>\n",
              "      <td>...</td>\n",
              "      <td>3</td>\n",
              "      <td>6</td>\n",
              "      <td>1</td>\n",
              "      <td>4</td>\n",
              "      <td>3244</td>\n",
              "      <td>0</td>\n",
              "      <td>4</td>\n",
              "      <td>1</td>\n",
              "      <td>2</td>\n",
              "      <td>293.909091</td>\n",
              "    </tr>\n",
              "    <tr>\n",
              "      <th>7</th>\n",
              "      <td>8</td>\n",
              "      <td>1</td>\n",
              "      <td>8790450</td>\n",
              "      <td>2</td>\n",
              "      <td>34</td>\n",
              "      <td>258543</td>\n",
              "      <td>4</td>\n",
              "      <td>354735</td>\n",
              "      <td>2</td>\n",
              "      <td>2</td>\n",
              "      <td>...</td>\n",
              "      <td>7</td>\n",
              "      <td>6</td>\n",
              "      <td>0</td>\n",
              "      <td>3</td>\n",
              "      <td>1940</td>\n",
              "      <td>0</td>\n",
              "      <td>6</td>\n",
              "      <td>3</td>\n",
              "      <td>6</td>\n",
              "      <td>56.058824</td>\n",
              "    </tr>\n",
              "    <tr>\n",
              "      <th>8</th>\n",
              "      <td>9</td>\n",
              "      <td>1</td>\n",
              "      <td>9759800</td>\n",
              "      <td>2</td>\n",
              "      <td>6</td>\n",
              "      <td>1626633</td>\n",
              "      <td>17</td>\n",
              "      <td>364895</td>\n",
              "      <td>2</td>\n",
              "      <td>4</td>\n",
              "      <td>...</td>\n",
              "      <td>9</td>\n",
              "      <td>6</td>\n",
              "      <td>0</td>\n",
              "      <td>4</td>\n",
              "      <td>1940</td>\n",
              "      <td>1</td>\n",
              "      <td>7</td>\n",
              "      <td>4</td>\n",
              "      <td>6</td>\n",
              "      <td>322.333333</td>\n",
              "    </tr>\n",
              "    <tr>\n",
              "      <th>9</th>\n",
              "      <td>10</td>\n",
              "      <td>1</td>\n",
              "      <td>4077660</td>\n",
              "      <td>0</td>\n",
              "      <td>95</td>\n",
              "      <td>42923</td>\n",
              "      <td>27</td>\n",
              "      <td>357645</td>\n",
              "      <td>1</td>\n",
              "      <td>4</td>\n",
              "      <td>...</td>\n",
              "      <td>9</td>\n",
              "      <td>5</td>\n",
              "      <td>0</td>\n",
              "      <td>2</td>\n",
              "      <td>3643</td>\n",
              "      <td>0</td>\n",
              "      <td>7</td>\n",
              "      <td>7</td>\n",
              "      <td>6</td>\n",
              "      <td>37.347368</td>\n",
              "    </tr>\n",
              "  </tbody>\n",
              "</table>\n",
              "<p>10 rows × 21 columns</p>\n",
              "</div>\n",
              "      <button class=\"colab-df-convert\" onclick=\"convertToInteractive('df-926e1c35-ac60-43ae-8a69-b5601e94a861')\"\n",
              "              title=\"Convert this dataframe to an interactive table.\"\n",
              "              style=\"display:none;\">\n",
              "\n",
              "  <svg xmlns=\"http://www.w3.org/2000/svg\" height=\"24px\"viewBox=\"0 0 24 24\"\n",
              "       width=\"24px\">\n",
              "    <path d=\"M0 0h24v24H0V0z\" fill=\"none\"/>\n",
              "    <path d=\"M18.56 5.44l.94 2.06.94-2.06 2.06-.94-2.06-.94-.94-2.06-.94 2.06-2.06.94zm-11 1L8.5 8.5l.94-2.06 2.06-.94-2.06-.94L8.5 2.5l-.94 2.06-2.06.94zm10 10l.94 2.06.94-2.06 2.06-.94-2.06-.94-.94-2.06-.94 2.06-2.06.94z\"/><path d=\"M17.41 7.96l-1.37-1.37c-.4-.4-.92-.59-1.43-.59-.52 0-1.04.2-1.43.59L10.3 9.45l-7.72 7.72c-.78.78-.78 2.05 0 2.83L4 21.41c.39.39.9.59 1.41.59.51 0 1.02-.2 1.41-.59l7.78-7.78 2.81-2.81c.8-.78.8-2.07 0-2.86zM5.41 20L4 18.59l7.72-7.72 1.47 1.35L5.41 20z\"/>\n",
              "  </svg>\n",
              "      </button>\n",
              "\n",
              "\n",
              "\n",
              "    <div id=\"df-cb9451b5-6249-43b5-ab9c-6507bbf11abb\">\n",
              "      <button class=\"colab-df-quickchart\" onclick=\"quickchart('df-cb9451b5-6249-43b5-ab9c-6507bbf11abb')\"\n",
              "              title=\"Suggest charts.\"\n",
              "              style=\"display:none;\">\n",
              "\n",
              "<svg xmlns=\"http://www.w3.org/2000/svg\" height=\"24px\"viewBox=\"0 0 24 24\"\n",
              "     width=\"24px\">\n",
              "    <g>\n",
              "        <path d=\"M19 3H5c-1.1 0-2 .9-2 2v14c0 1.1.9 2 2 2h14c1.1 0 2-.9 2-2V5c0-1.1-.9-2-2-2zM9 17H7v-7h2v7zm4 0h-2V7h2v10zm4 0h-2v-4h2v4z\"/>\n",
              "    </g>\n",
              "</svg>\n",
              "      </button>\n",
              "    </div>\n",
              "\n",
              "<style>\n",
              "  .colab-df-quickchart {\n",
              "    background-color: #E8F0FE;\n",
              "    border: none;\n",
              "    border-radius: 50%;\n",
              "    cursor: pointer;\n",
              "    display: none;\n",
              "    fill: #1967D2;\n",
              "    height: 32px;\n",
              "    padding: 0 0 0 0;\n",
              "    width: 32px;\n",
              "  }\n",
              "\n",
              "  .colab-df-quickchart:hover {\n",
              "    background-color: #E2EBFA;\n",
              "    box-shadow: 0px 1px 2px rgba(60, 64, 67, 0.3), 0px 1px 3px 1px rgba(60, 64, 67, 0.15);\n",
              "    fill: #174EA6;\n",
              "  }\n",
              "\n",
              "  [theme=dark] .colab-df-quickchart {\n",
              "    background-color: #3B4455;\n",
              "    fill: #D2E3FC;\n",
              "  }\n",
              "\n",
              "  [theme=dark] .colab-df-quickchart:hover {\n",
              "    background-color: #434B5C;\n",
              "    box-shadow: 0px 1px 3px 1px rgba(0, 0, 0, 0.15);\n",
              "    filter: drop-shadow(0px 1px 2px rgba(0, 0, 0, 0.3));\n",
              "    fill: #FFFFFF;\n",
              "  }\n",
              "</style>\n",
              "\n",
              "    <script>\n",
              "      async function quickchart(key) {\n",
              "        const containerElement = document.querySelector('#' + key);\n",
              "        const charts = await google.colab.kernel.invokeFunction(\n",
              "            'suggestCharts', [key], {});\n",
              "      }\n",
              "    </script>\n",
              "\n",
              "      <script>\n",
              "\n",
              "function displayQuickchartButton(domScope) {\n",
              "  let quickchartButtonEl =\n",
              "    domScope.querySelector('#df-cb9451b5-6249-43b5-ab9c-6507bbf11abb button.colab-df-quickchart');\n",
              "  quickchartButtonEl.style.display =\n",
              "    google.colab.kernel.accessAllowed ? 'block' : 'none';\n",
              "}\n",
              "\n",
              "        displayQuickchartButton(document);\n",
              "      </script>\n",
              "      <style>\n",
              "    .colab-df-container {\n",
              "      display:flex;\n",
              "      flex-wrap:wrap;\n",
              "      gap: 12px;\n",
              "    }\n",
              "\n",
              "    .colab-df-convert {\n",
              "      background-color: #E8F0FE;\n",
              "      border: none;\n",
              "      border-radius: 50%;\n",
              "      cursor: pointer;\n",
              "      display: none;\n",
              "      fill: #1967D2;\n",
              "      height: 32px;\n",
              "      padding: 0 0 0 0;\n",
              "      width: 32px;\n",
              "    }\n",
              "\n",
              "    .colab-df-convert:hover {\n",
              "      background-color: #E2EBFA;\n",
              "      box-shadow: 0px 1px 2px rgba(60, 64, 67, 0.3), 0px 1px 3px 1px rgba(60, 64, 67, 0.15);\n",
              "      fill: #174EA6;\n",
              "    }\n",
              "\n",
              "    [theme=dark] .colab-df-convert {\n",
              "      background-color: #3B4455;\n",
              "      fill: #D2E3FC;\n",
              "    }\n",
              "\n",
              "    [theme=dark] .colab-df-convert:hover {\n",
              "      background-color: #434B5C;\n",
              "      box-shadow: 0px 1px 3px 1px rgba(0, 0, 0, 0.15);\n",
              "      filter: drop-shadow(0px 1px 2px rgba(0, 0, 0, 0.3));\n",
              "      fill: #FFFFFF;\n",
              "    }\n",
              "  </style>\n",
              "\n",
              "      <script>\n",
              "        const buttonEl =\n",
              "          document.querySelector('#df-926e1c35-ac60-43ae-8a69-b5601e94a861 button.colab-df-convert');\n",
              "        buttonEl.style.display =\n",
              "          google.colab.kernel.accessAllowed ? 'block' : 'none';\n",
              "\n",
              "        async function convertToInteractive(key) {\n",
              "          const element = document.querySelector('#df-926e1c35-ac60-43ae-8a69-b5601e94a861');\n",
              "          const dataTable =\n",
              "            await google.colab.kernel.invokeFunction('convertToInteractive',\n",
              "                                                     [key], {});\n",
              "          if (!dataTable) return;\n",
              "\n",
              "          const docLinkHtml = 'Like what you see? Visit the ' +\n",
              "            '<a target=\"_blank\" href=https://colab.research.google.com/notebooks/data_table.ipynb>data table notebook</a>'\n",
              "            + ' to learn more about interactive tables.';\n",
              "          element.innerHTML = '';\n",
              "          dataTable['output_type'] = 'display_data';\n",
              "          await google.colab.output.renderOutput(dataTable, element);\n",
              "          const docLink = document.createElement('div');\n",
              "          docLink.innerHTML = docLinkHtml;\n",
              "          element.appendChild(docLink);\n",
              "        }\n",
              "      </script>\n",
              "    </div>\n",
              "  </div>\n"
            ]
          },
          "metadata": {},
          "execution_count": 243
        }
      ]
    },
    {
      "cell_type": "code",
      "source": [],
      "metadata": {
        "id": "nEgahdD0VDEW"
      },
      "execution_count": null,
      "outputs": []
    }
  ]
}